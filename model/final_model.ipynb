{
 "cells": [
  {
   "cell_type": "code",
   "execution_count": 1,
   "metadata": {
    "collapsed": true
   },
   "outputs": [],
   "source": [
    "import pandas as pd\n",
    "import numpy as np\n",
    "from matplotlib import pyplot as plt"
   ]
  },
  {
   "cell_type": "markdown",
   "metadata": {},
   "source": [
    "### Load in data"
   ]
  },
  {
   "cell_type": "code",
   "execution_count": 2,
   "metadata": {
    "collapsed": true
   },
   "outputs": [],
   "source": [
    "matrix = pd.read_csv('final_data/final_matrix_1209.csv')"
   ]
  },
  {
   "cell_type": "code",
   "execution_count": 3,
   "metadata": {},
   "outputs": [
    {
     "data": {
      "text/plain": [
       "(14157, 65)"
      ]
     },
     "execution_count": 3,
     "metadata": {},
     "output_type": "execute_result"
    }
   ],
   "source": [
    "matrix.shape"
   ]
  },
  {
   "cell_type": "code",
   "execution_count": 4,
   "metadata": {},
   "outputs": [
    {
     "data": {
      "text/html": [
       "<div>\n",
       "<style>\n",
       "    .dataframe thead tr:only-child th {\n",
       "        text-align: right;\n",
       "    }\n",
       "\n",
       "    .dataframe thead th {\n",
       "        text-align: left;\n",
       "    }\n",
       "\n",
       "    .dataframe tbody tr th {\n",
       "        vertical-align: top;\n",
       "    }\n",
       "</style>\n",
       "<table border=\"1\" class=\"dataframe\">\n",
       "  <thead>\n",
       "    <tr style=\"text-align: right;\">\n",
       "      <th></th>\n",
       "      <th>ARTIST</th>\n",
       "      <th>ISRC</th>\n",
       "      <th>SPOTIFY_ID</th>\n",
       "      <th>TITLE</th>\n",
       "      <th>lyrics</th>\n",
       "      <th>song_id</th>\n",
       "      <th>producer</th>\n",
       "      <th>number_of_tracks</th>\n",
       "      <th>number_of_albums</th>\n",
       "      <th>number_of_playlists</th>\n",
       "      <th>...</th>\n",
       "      <th>ACOUSTIC</th>\n",
       "      <th>MODE</th>\n",
       "      <th>missing_producer</th>\n",
       "      <th>producer_count</th>\n",
       "      <th>a_producer</th>\n",
       "      <th>a_producer_count</th>\n",
       "      <th>missing_writer</th>\n",
       "      <th>writer_count</th>\n",
       "      <th>a_writer</th>\n",
       "      <th>a_writer_count</th>\n",
       "    </tr>\n",
       "  </thead>\n",
       "  <tbody>\n",
       "    <tr>\n",
       "      <th>0</th>\n",
       "      <td>Yo La Tengo</td>\n",
       "      <td>USMTD0985602</td>\n",
       "      <td>158mw0CsuSHxTVWpMwN2Lp</td>\n",
       "      <td>Avalon or Someone Very Similar</td>\n",
       "      <td>\\n\\nAvalon, how did these things happen? Avalo...</td>\n",
       "      <td>1369717</td>\n",
       "      <td>['Roger Moutenot']</td>\n",
       "      <td>143</td>\n",
       "      <td>40</td>\n",
       "      <td>649</td>\n",
       "      <td>...</td>\n",
       "      <td>0.2280</td>\n",
       "      <td>1</td>\n",
       "      <td>0</td>\n",
       "      <td>1</td>\n",
       "      <td>0</td>\n",
       "      <td>0</td>\n",
       "      <td>1</td>\n",
       "      <td>0</td>\n",
       "      <td>0</td>\n",
       "      <td>0</td>\n",
       "    </tr>\n",
       "    <tr>\n",
       "      <th>1</th>\n",
       "      <td>Yo La Tengo</td>\n",
       "      <td>USGKX9802104</td>\n",
       "      <td>7iX2vtYJlemPod7080OxTG</td>\n",
       "      <td>Swing For Life</td>\n",
       "      <td>\\n\\nOh, true rider, fasten me\\nI saw a mystery...</td>\n",
       "      <td>1063052</td>\n",
       "      <td>[]</td>\n",
       "      <td>143</td>\n",
       "      <td>40</td>\n",
       "      <td>649</td>\n",
       "      <td>...</td>\n",
       "      <td>0.0796</td>\n",
       "      <td>1</td>\n",
       "      <td>1</td>\n",
       "      <td>0</td>\n",
       "      <td>0</td>\n",
       "      <td>0</td>\n",
       "      <td>1</td>\n",
       "      <td>0</td>\n",
       "      <td>0</td>\n",
       "      <td>0</td>\n",
       "    </tr>\n",
       "    <tr>\n",
       "      <th>2</th>\n",
       "      <td>Yo La Tengo</td>\n",
       "      <td>USMTD1810576</td>\n",
       "      <td>2YmjVaikl30rmZZzlGTwPE</td>\n",
       "      <td>Ashes</td>\n",
       "      <td>\\n\\nI put spots on a bird of paradise, snake e...</td>\n",
       "      <td>3596137</td>\n",
       "      <td>['Yo La Tengo']</td>\n",
       "      <td>143</td>\n",
       "      <td>40</td>\n",
       "      <td>649</td>\n",
       "      <td>...</td>\n",
       "      <td>0.9030</td>\n",
       "      <td>1</td>\n",
       "      <td>0</td>\n",
       "      <td>1</td>\n",
       "      <td>0</td>\n",
       "      <td>0</td>\n",
       "      <td>0</td>\n",
       "      <td>3</td>\n",
       "      <td>0</td>\n",
       "      <td>0</td>\n",
       "    </tr>\n",
       "    <tr>\n",
       "      <th>3</th>\n",
       "      <td>Smrtdeath</td>\n",
       "      <td>QZANL1773974</td>\n",
       "      <td>4sBj3qUIPBkIMcRVlh6iXI</td>\n",
       "      <td>Let It Bleed</td>\n",
       "      <td>\\n\\n[Intro]\\nSethany, Sethany, Sethany\\nYeah, ...</td>\n",
       "      <td>3150542</td>\n",
       "      <td>['Taxpurposes']</td>\n",
       "      <td>10</td>\n",
       "      <td>10</td>\n",
       "      <td>30</td>\n",
       "      <td>...</td>\n",
       "      <td>0.0960</td>\n",
       "      <td>1</td>\n",
       "      <td>0</td>\n",
       "      <td>1</td>\n",
       "      <td>0</td>\n",
       "      <td>0</td>\n",
       "      <td>0</td>\n",
       "      <td>1</td>\n",
       "      <td>0</td>\n",
       "      <td>0</td>\n",
       "    </tr>\n",
       "    <tr>\n",
       "      <th>4</th>\n",
       "      <td>Smrtdeath</td>\n",
       "      <td>QZANL1773973</td>\n",
       "      <td>3gjrflTTriqZ9d30uSF4hP</td>\n",
       "      <td>Went &amp; Got Some More</td>\n",
       "      <td>\\n\\n[Hook: Smrtdeath]\\nI just lost some drugs,...</td>\n",
       "      <td>3256462</td>\n",
       "      <td>['Eternal Night', 'Sorry If I Waste Your Time']</td>\n",
       "      <td>10</td>\n",
       "      <td>10</td>\n",
       "      <td>30</td>\n",
       "      <td>...</td>\n",
       "      <td>0.2870</td>\n",
       "      <td>1</td>\n",
       "      <td>0</td>\n",
       "      <td>2</td>\n",
       "      <td>0</td>\n",
       "      <td>0</td>\n",
       "      <td>0</td>\n",
       "      <td>2</td>\n",
       "      <td>0</td>\n",
       "      <td>0</td>\n",
       "    </tr>\n",
       "  </tbody>\n",
       "</table>\n",
       "<p>5 rows × 65 columns</p>\n",
       "</div>"
      ],
      "text/plain": [
       "        ARTIST          ISRC              SPOTIFY_ID  \\\n",
       "0  Yo La Tengo  USMTD0985602  158mw0CsuSHxTVWpMwN2Lp   \n",
       "1  Yo La Tengo  USGKX9802104  7iX2vtYJlemPod7080OxTG   \n",
       "2  Yo La Tengo  USMTD1810576  2YmjVaikl30rmZZzlGTwPE   \n",
       "3    Smrtdeath  QZANL1773974  4sBj3qUIPBkIMcRVlh6iXI   \n",
       "4    Smrtdeath  QZANL1773973  3gjrflTTriqZ9d30uSF4hP   \n",
       "\n",
       "                            TITLE  \\\n",
       "0  Avalon or Someone Very Similar   \n",
       "1                  Swing For Life   \n",
       "2                           Ashes   \n",
       "3                    Let It Bleed   \n",
       "4            Went & Got Some More   \n",
       "\n",
       "                                              lyrics  song_id  \\\n",
       "0  \\n\\nAvalon, how did these things happen? Avalo...  1369717   \n",
       "1  \\n\\nOh, true rider, fasten me\\nI saw a mystery...  1063052   \n",
       "2  \\n\\nI put spots on a bird of paradise, snake e...  3596137   \n",
       "3  \\n\\n[Intro]\\nSethany, Sethany, Sethany\\nYeah, ...  3150542   \n",
       "4  \\n\\n[Hook: Smrtdeath]\\nI just lost some drugs,...  3256462   \n",
       "\n",
       "                                          producer  number_of_tracks  \\\n",
       "0                               ['Roger Moutenot']               143   \n",
       "1                                               []               143   \n",
       "2                                  ['Yo La Tengo']               143   \n",
       "3                                  ['Taxpurposes']                10   \n",
       "4  ['Eternal Night', 'Sorry If I Waste Your Time']                10   \n",
       "\n",
       "   number_of_albums  number_of_playlists       ...        ACOUSTIC  MODE  \\\n",
       "0                40                  649       ...          0.2280     1   \n",
       "1                40                  649       ...          0.0796     1   \n",
       "2                40                  649       ...          0.9030     1   \n",
       "3                10                   30       ...          0.0960     1   \n",
       "4                10                   30       ...          0.2870     1   \n",
       "\n",
       "   missing_producer  producer_count  a_producer  a_producer_count  \\\n",
       "0                 0               1           0                 0   \n",
       "1                 1               0           0                 0   \n",
       "2                 0               1           0                 0   \n",
       "3                 0               1           0                 0   \n",
       "4                 0               2           0                 0   \n",
       "\n",
       "   missing_writer  writer_count  a_writer  a_writer_count  \n",
       "0               1             0         0               0  \n",
       "1               1             0         0               0  \n",
       "2               0             3         0               0  \n",
       "3               0             1         0               0  \n",
       "4               0             2         0               0  \n",
       "\n",
       "[5 rows x 65 columns]"
      ]
     },
     "execution_count": 4,
     "metadata": {},
     "output_type": "execute_result"
    }
   ],
   "source": [
    "matrix.head()"
   ]
  },
  {
   "cell_type": "code",
   "execution_count": 5,
   "metadata": {},
   "outputs": [
    {
     "data": {
      "text/plain": [
       "array(['ARTIST', 'ISRC', 'SPOTIFY_ID', 'TITLE', 'lyrics', 'song_id',\n",
       "       'producer', 'number_of_tracks', 'number_of_albums',\n",
       "       'number_of_playlists', 'playlist_followers',\n",
       "       'highest_song_popularity', 'average_song_popularity',\n",
       "       'A_Level_Artist?', 'B_Level Artist?', 'max_popularity', 'Blues',\n",
       "       'Christian/Gospel', 'Country', 'Dance/Electro', 'Disco',\n",
       "       'Dutch-House', 'Folk', 'Hip-Hop', 'Indie', 'Jazz', 'Latin',\n",
       "       'Metal', 'Other', 'Pop', 'R&B', 'Reggae', 'Rock/Alt',\n",
       "       'Rock/Alt/Pop', 'Singer-Songwriter', 'genre_missing', 'Explicit',\n",
       "       'genres', 'adjusted_label', 'sentiment', 'word_count',\n",
       "       'repetition_share', 'Lean-Back', 'POP', 'TIME_SIGNATURE', 'KEY',\n",
       "       'TEMPO', 'Seconds', 'LOUD', 'LIVENESS', 'SPEECHINESS',\n",
       "       'INSTRUMENTALNESS', 'VALENCE', 'DANCE', 'ENERGY', 'ACOUSTIC',\n",
       "       'MODE', 'missing_producer', 'producer_count', 'a_producer',\n",
       "       'a_producer_count', 'missing_writer', 'writer_count', 'a_writer',\n",
       "       'a_writer_count'], dtype=object)"
      ]
     },
     "execution_count": 5,
     "metadata": {},
     "output_type": "execute_result"
    }
   ],
   "source": [
    "matrix.columns.values"
   ]
  },
  {
   "cell_type": "code",
   "execution_count": 6,
   "metadata": {
    "collapsed": true
   },
   "outputs": [],
   "source": [
    "features = [\n",
    "       'Blues',\n",
    "       'Christian/Gospel', 'Dance/Electro', 'Disco',\n",
    "       'Dutch-House', 'Folk', 'Hip-Hop', 'Indie', 'Jazz', 'Latin', 'Metal',\n",
    "       'Other', 'Pop', 'R&B', 'Reggae', 'Rock/Alt', 'Rock/Alt/Pop',\n",
    "       'Singer-Songwriter', 'genre_missing', 'Explicit', \n",
    "       'sentiment', 'word_count', 'repetition_share',\n",
    "       'Lean-Back', 'TIME_SIGNATURE', 'KEY', 'TEMPO', 'Seconds',\n",
    "       'LOUD', 'LIVENESS', 'SPEECHINESS', 'INSTRUMENTALNESS', 'VALENCE',\n",
    "       'DANCE', 'ENERGY', 'ACOUSTIC', 'MODE', 'missing_producer',\n",
    "       'producer_count', 'a_producer', 'a_producer_count',\n",
    "       'missing_writer', 'writer_count', 'a_writer', 'a_writer_count']"
   ]
  },
  {
   "cell_type": "code",
   "execution_count": 7,
   "metadata": {
    "collapsed": true
   },
   "outputs": [],
   "source": [
    "alt_target = ['adjusted_label']"
   ]
  },
  {
   "cell_type": "code",
   "execution_count": 8,
   "metadata": {
    "collapsed": true
   },
   "outputs": [],
   "source": [
    "target = [ 'max_popularity']"
   ]
  },
  {
   "cell_type": "markdown",
   "metadata": {},
   "source": [
    "### Train test split"
   ]
  },
  {
   "cell_type": "code",
   "execution_count": 9,
   "metadata": {
    "collapsed": true
   },
   "outputs": [],
   "source": [
    "threshold = 70"
   ]
  },
  {
   "cell_type": "code",
   "execution_count": 10,
   "metadata": {
    "collapsed": true
   },
   "outputs": [],
   "source": [
    "train_id = np.load('id_train.npy')\n",
    "test_id = np.load('id_test.npy')"
   ]
  },
  {
   "cell_type": "code",
   "execution_count": 11,
   "metadata": {
    "collapsed": true
   },
   "outputs": [],
   "source": [
    "train = matrix[matrix.ISRC.isin(train_id)]\n",
    "test = matrix[matrix.ISRC.isin(test_id)]"
   ]
  },
  {
   "cell_type": "code",
   "execution_count": 12,
   "metadata": {
    "collapsed": true
   },
   "outputs": [],
   "source": [
    "train_x = train[features]\n",
    "test_x = test[features]\n",
    "\n",
    "train_y = (train[target] >= threshold)*1\n",
    "test_y = (test[target] >= threshold)*1"
   ]
  },
  {
   "cell_type": "code",
   "execution_count": 13,
   "metadata": {
    "collapsed": true
   },
   "outputs": [],
   "source": [
    "all_1=test[test.max_popularity>=70]\n",
    "all_1_inp = all_1[features]"
   ]
  },
  {
   "cell_type": "code",
   "execution_count": 14,
   "metadata": {},
   "outputs": [
    {
     "name": "stdout",
     "output_type": "stream",
     "text": [
      "Class distribution in test set 0.08559201141226819\n"
     ]
    }
   ],
   "source": [
    "print('Class distribution in test set', test_y.values.sum()/len(test_y))"
   ]
  },
  {
   "cell_type": "code",
   "execution_count": 15,
   "metadata": {},
   "outputs": [
    {
     "name": "stdout",
     "output_type": "stream",
     "text": [
      "Class distribution in train set 0.06947734091267961\n"
     ]
    }
   ],
   "source": [
    "print('Class distribution in train set', train_y.values.sum()/len(train_y))"
   ]
  },
  {
   "cell_type": "code",
   "execution_count": 16,
   "metadata": {},
   "outputs": [
    {
     "name": "stdout",
     "output_type": "stream",
     "text": [
      "Train size (12666, 45)\n",
      "Test size (1402, 45)\n"
     ]
    }
   ],
   "source": [
    "print('Train size', train_x.shape)\n",
    "print('Test size', test_x.shape)"
   ]
  },
  {
   "cell_type": "code",
   "execution_count": 28,
   "metadata": {
    "collapsed": true
   },
   "outputs": [],
   "source": [
    "def plot_roc(actual,forecast,name):\n",
    "    \n",
    "    #ROC\n",
    "    fpr, tpr, thresholds = metrics.roc_curve(actual, forecast)\n",
    "\n",
    "    #AUC\n",
    "    aucc = roc_auc_score(test_y.astype('int'),predict_prob[:,1])\n",
    "\n",
    "    plt.plot(fpr, tpr, label = name + ' AUC: '+str(round(aucc, 4)))\n",
    "    plt.xlabel('False Positive Rate')\n",
    "    plt.ylabel('True Positive Rate')\n",
    "    plt.title('Best Decision Tree ROC Curve')\n",
    "    plt.grid(True)\n",
    "    plt.legend(loc = 'lower right', title='AUC')"
   ]
  },
  {
   "cell_type": "markdown",
   "metadata": {},
   "source": [
    "### Baseline"
   ]
  },
  {
   "cell_type": "code",
   "execution_count": 17,
   "metadata": {},
   "outputs": [
    {
     "data": {
      "text/plain": [
       "DecisionTreeClassifier(class_weight=None, criterion='gini', max_depth=20,\n",
       "            max_features=None, max_leaf_nodes=None,\n",
       "            min_impurity_decrease=0.0, min_impurity_split=None,\n",
       "            min_samples_leaf=1, min_samples_split=5,\n",
       "            min_weight_fraction_leaf=0.0, presort=False, random_state=5,\n",
       "            splitter='best')"
      ]
     },
     "execution_count": 17,
     "metadata": {},
     "output_type": "execute_result"
    }
   ],
   "source": [
    "from sklearn.tree import DecisionTreeClassifier\n",
    "\n",
    "tree1 = DecisionTreeClassifier(random_state=5, criterion='gini', \n",
    "                             max_depth=20, min_samples_split=5)\n",
    "\n",
    "tree1.fit(train_x, train_y.astype('int'))"
   ]
  },
  {
   "cell_type": "code",
   "execution_count": 18,
   "metadata": {
    "collapsed": true
   },
   "outputs": [],
   "source": [
    "prediction = tree1.predict(test_x)\n",
    "predict_prob = tree1.predict_proba(test_x)"
   ]
  },
  {
   "cell_type": "code",
   "execution_count": 27,
   "metadata": {},
   "outputs": [
    {
     "name": "stdout",
     "output_type": "stream",
     "text": [
      "F1 score 0.3829787234042554\n",
      "Recall score 0.375\n",
      "AUC 0.6710348413936558\n"
     ]
    }
   ],
   "source": [
    "from sklearn.metrics import f1_score, recall_score, roc_auc_score\n",
    "\n",
    "print('F1 score', f1_score(test_y.astype('int'), prediction))\n",
    "print('Recall score', recall_score(test_y.astype('int'), prediction))\n",
    "print('AUC', roc_auc_score(test_y.astype('int'),predict_prob[:,1]))"
   ]
  },
  {
   "cell_type": "code",
   "execution_count": 29,
   "metadata": {},
   "outputs": [
    {
     "data": {
      "image/png": "[encoded data removed]",
      "text/plain": [
       "<matplotlib.figure.Figure at 0x1a29720fd0>"
      ]
     },
     "metadata": {},
     "output_type": "display_data"
    }
   ],
   "source": [
    "from sklearn import metrics\n",
    "plot_roc(test_y, prediction, 'AUC')\n",
    "plt.show()"
   ]
  },
  {
   "cell_type": "code",
   "execution_count": 32,
   "metadata": {
    "collapsed": true
   },
   "outputs": [],
   "source": [
    "from sklearn import tree\n",
    "tree.export_graphviz(tree1, out_file='tree.dot', max_depth=2, feature_names = train_x.columns.values) \n"
   ]
  },
  {
   "cell_type": "code",
   "execution_count": 33,
   "metadata": {
    "collapsed": true
   },
   "outputs": [],
   "source": [
    "!dot -Tpng tree.dot -o tree.png -Gdpi=100"
   ]
  },
  {
   "cell_type": "code",
   "execution_count": 425,
   "metadata": {},
   "outputs": [
    {
     "name": "stderr",
     "output_type": "stream",
     "text": [
      "IOPub data rate exceeded.\n",
      "The notebook server will temporarily stop sending output\n",
      "to the client in order to avoid crashing it.\n",
      "To change this limit, set the config variable\n",
      "`--NotebookApp.iopub_data_rate_limit`.\n"
     ]
    }
   ],
   "source": [
    "#from IPython.display import Image\n",
    "#Image(filename = 'tree.png')"
   ]
  },
  {
   "cell_type": "code",
   "execution_count": 403,
   "metadata": {},
   "outputs": [
    {
     "data": {
      "text/plain": [
       "Index(['Blues', 'Christian/Gospel', 'Dance/Electro', 'Disco', 'Dutch-House',\n",
       "       'Folk', 'Hip-Hop', 'Indie', 'Jazz', 'Latin', 'Metal', 'Other', 'Pop',\n",
       "       'R&B', 'Reggae', 'Rock/Alt', 'Rock/Alt/Pop', 'Singer-Songwriter',\n",
       "       'genre_missing', 'Explicit', 'sentiment', 'word_count',\n",
       "       'repetition_share', 'Lean-Back', 'TIME_SIGNATURE', 'KEY', 'TEMPO',\n",
       "       'Seconds', 'LOUD', 'LIVENESS', 'SPEECHINESS', 'INSTRUMENTALNESS',\n",
       "       'VALENCE', 'DANCE', 'ENERGY', 'ACOUSTIC', 'MODE', 'missing_producer',\n",
       "       'producer_count', 'a_producer', 'a_producer_count', 'missing_writer',\n",
       "       'writer_count', 'a_writer', 'a_writer_count'],\n",
       "      dtype='object')"
      ]
     },
     "execution_count": 403,
     "metadata": {},
     "output_type": "execute_result"
    }
   ],
   "source": [
    "train_x.columns"
   ]
  },
  {
   "cell_type": "code",
   "execution_count": 35,
   "metadata": {},
   "outputs": [
    {
     "name": "stdout",
     "output_type": "stream",
     "text": [
      "\t\tPopular\n",
      "\t0.1381\twriter_count   \n",
      "\t0.0772\trepetition_share\n",
      "\t0.0666\tSeconds        \n",
      "\t0.0593\tsentiment      \n",
      "\t0.0524\tACOUSTIC       \n",
      "\t0.0523\tENERGY         \n",
      "\t0.0484\tPop            \n",
      "\t0.0477\tExplicit       \n",
      "\t0.0465\tLIVENESS       \n",
      "\t0.0459\tLOUD           \n"
     ]
    }
   ],
   "source": [
    "def show_most_informative_features(names, clf, n=20):\n",
    "    feature_names = names\n",
    "    coefs_with_fns = sorted(zip(clf.feature_importances_, feature_names))\n",
    "    top = zip(coefs_with_fns[:n], coefs_with_fns[:-(n + 1):-1])\n",
    "    print(\"\\t\\tPopular\")\n",
    "    for (coef_1, fn_1), (coef_2, fn_2) in top:\n",
    "        \n",
    "        print(\"\\t%.4f\\t%-15s\" % (coef_2, fn_2))\n",
    "\n",
    "\n",
    "show_most_informative_features(train_x.columns, tree1, 10)"
   ]
  },
  {
   "cell_type": "markdown",
   "metadata": {},
   "source": [
    "### Logistic Regression"
   ]
  },
  {
   "cell_type": "code",
   "execution_count": 47,
   "metadata": {},
   "outputs": [
    {
     "name": "stderr",
     "output_type": "stream",
     "text": [
      "/Users/ksenia/anaconda/envs/py36/lib/python3.6/site-packages/sklearn/utils/validation.py:578: DataConversionWarning: A column-vector y was passed when a 1d array was expected. Please change the shape of y to (n_samples, ), for example using ravel().\n",
      "  y = column_or_1d(y, warn=True)\n"
     ]
    },
    {
     "data": {
      "text/plain": [
       "LogisticRegression(C=0.5, class_weight=None, dual=False, fit_intercept=True,\n",
       "          intercept_scaling=1, max_iter=100, multi_class='ovr', n_jobs=1,\n",
       "          penalty='l2', random_state=None, solver='liblinear', tol=0.0001,\n",
       "          verbose=0, warm_start=False)"
      ]
     },
     "execution_count": 47,
     "metadata": {},
     "output_type": "execute_result"
    }
   ],
   "source": [
    "from sklearn.linear_model import LogisticRegression\n",
    "\n",
    "lr = LogisticRegression(penalty='l2',  C=0.5)\n",
    "lr.fit(train_x, train_y.astype('int'))"
   ]
  },
  {
   "cell_type": "code",
   "execution_count": 219,
   "metadata": {
    "collapsed": true
   },
   "outputs": [],
   "source": [
    "prediction_lr = lr.predict(test_x)\n",
    "predict_prob_lr = lr.predict_proba(test_x)"
   ]
  },
  {
   "cell_type": "code",
   "execution_count": 220,
   "metadata": {},
   "outputs": [
    {
     "name": "stdout",
     "output_type": "stream",
     "text": [
      "F1 score 0.0\n",
      "Recall score 0.0\n",
      "AUC 0.776534061362\n"
     ]
    }
   ],
   "source": [
    "print('F1 score', f1_score(test_y.astype('int'), prediction_lr))\n",
    "print('Recall score', recall_score(test_y.astype('int'), prediction_lr))\n",
    "print('AUC', roc_auc_score(test_y.astype('int'),predict_prob_lr[:,1]))"
   ]
  },
  {
   "cell_type": "markdown",
   "metadata": {},
   "source": [
    "### Random Forest"
   ]
  },
  {
   "cell_type": "code",
   "execution_count": 251,
   "metadata": {},
   "outputs": [
    {
     "name": "stderr",
     "output_type": "stream",
     "text": [
      "/Users/ksenia/anaconda/envs/nlp/lib/python3.6/site-packages/ipykernel_launcher.py:6: DataConversionWarning: A column-vector y was passed when a 1d array was expected. Please change the shape of y to (n_samples,), for example using ravel().\n",
      "  \n"
     ]
    },
    {
     "data": {
      "text/plain": [
       "RandomForestClassifier(bootstrap=True, class_weight=None, criterion='gini',\n",
       "            max_depth=20, max_features='auto', max_leaf_nodes=None,\n",
       "            min_impurity_decrease=0.0, min_impurity_split=None,\n",
       "            min_samples_leaf=1, min_samples_split=5,\n",
       "            min_weight_fraction_leaf=0.0, n_estimators=20, n_jobs=1,\n",
       "            oob_score=False, random_state=5, verbose=0, warm_start=False)"
      ]
     },
     "execution_count": 251,
     "metadata": {},
     "output_type": "execute_result"
    }
   ],
   "source": [
    "from sklearn.ensemble import RandomForestClassifier\n",
    "\n",
    "rf = RandomForestClassifier(n_estimators=20, max_depth=20,\n",
    "                             random_state=5, min_samples_split=5)\n",
    "\n",
    "rf.fit(train_x, train_y.astype('int'))"
   ]
  },
  {
   "cell_type": "code",
   "execution_count": 252,
   "metadata": {
    "collapsed": true
   },
   "outputs": [],
   "source": [
    "prediction_rf = rf.predict(test_x)\n",
    "predict_prob_rf = rf.predict_proba(test_x)"
   ]
  },
  {
   "cell_type": "code",
   "execution_count": 253,
   "metadata": {},
   "outputs": [
    {
     "name": "stdout",
     "output_type": "stream",
     "text": [
      "F1 score 0.266666666667\n",
      "Recall score 0.166666666667\n",
      "AUC 0.886427457098\n"
     ]
    }
   ],
   "source": [
    "print('F1 score', f1_score(test_y.astype('int'), prediction_rf))\n",
    "print('Recall score', recall_score(test_y.astype('int'), prediction_rf))\n",
    "print('AUC', roc_auc_score(test_y.astype('int'),predict_prob_rf[:,1]))"
   ]
  },
  {
   "cell_type": "markdown",
   "metadata": {},
   "source": [
    "### Combined Model"
   ]
  },
  {
   "cell_type": "code",
   "execution_count": 36,
   "metadata": {
    "collapsed": true
   },
   "outputs": [],
   "source": [
    "lyrics_prediction = pd.read_csv('final_data/CNN_prediction.csv')['0']"
   ]
  },
  {
   "cell_type": "code",
   "execution_count": 37,
   "metadata": {
    "collapsed": true
   },
   "outputs": [],
   "source": [
    "audio_prediction = pd.read_csv('final_data/predicted_rank23_bi.csv')"
   ]
  },
  {
   "cell_type": "code",
   "execution_count": 38,
   "metadata": {
    "collapsed": true
   },
   "outputs": [],
   "source": [
    "audio_prediction = [audio_prediction[audio_prediction.ISRC == x]['predicted rank'].values[0] for x in test_id]"
   ]
  },
  {
   "cell_type": "code",
   "execution_count": 39,
   "metadata": {
    "collapsed": true
   },
   "outputs": [],
   "source": [
    "base_prediction = pd.DataFrame(prediction)[0]"
   ]
  },
  {
   "cell_type": "code",
   "execution_count": 40,
   "metadata": {
    "collapsed": true
   },
   "outputs": [],
   "source": [
    "base_prediction.to_csv('base_prediction.csv')"
   ]
  },
  {
   "cell_type": "markdown",
   "metadata": {},
   "source": [
    "### Optimistic stacking"
   ]
  },
  {
   "cell_type": "code",
   "execution_count": 51,
   "metadata": {
    "collapsed": true
   },
   "outputs": [],
   "source": [
    "optimistic = []\n",
    "for i in range(len(base_prediction)):\n",
    "    if audio_prediction[i] == 1 or base_prediction[i] == 1 or lyrics_prediction[i] == 1:\n",
    "        optimistic.append(1)\n",
    "    else:\n",
    "        optimistic.append(0)"
   ]
  },
  {
   "cell_type": "code",
   "execution_count": 52,
   "metadata": {},
   "outputs": [
    {
     "name": "stdout",
     "output_type": "stream",
     "text": [
      "F1 score 0.257372654155496\n",
      "Recall score 0.4\n"
     ]
    }
   ],
   "source": [
    "## take any 1\n",
    "\n",
    "print('F1 score', f1_score(test_y.astype('int'), optimistic))\n",
    "print('Recall score', recall_score(test_y.astype('int'), optimistic))\n",
    "#print('AUC', roc_auc_score(test_y.astype('int'),predict_prob_rf[:,1]))"
   ]
  },
  {
   "cell_type": "code",
   "execution_count": 58,
   "metadata": {},
   "outputs": [
    {
     "data": {
      "text/plain": [
       "array(['ARTIST', 'ISRC', 'SPOTIFY_ID', 'TITLE', 'lyrics', 'song_id',\n",
       "       'producer', 'number_of_tracks', 'number_of_albums',\n",
       "       'number_of_playlists', 'playlist_followers',\n",
       "       'highest_song_popularity', 'average_song_popularity',\n",
       "       'A_Level_Artist?', 'B_Level Artist?', 'max_popularity', 'Blues',\n",
       "       'Christian/Gospel', 'Country', 'Dance/Electro', 'Disco',\n",
       "       'Dutch-House', 'Folk', 'Hip-Hop', 'Indie', 'Jazz', 'Latin',\n",
       "       'Metal', 'Other', 'Pop', 'R&B', 'Reggae', 'Rock/Alt',\n",
       "       'Rock/Alt/Pop', 'Singer-Songwriter', 'genre_missing', 'Explicit',\n",
       "       'genres', 'adjusted_label', 'sentiment', 'word_count',\n",
       "       'repetition_share', 'Lean-Back', 'POP', 'TIME_SIGNATURE', 'KEY',\n",
       "       'TEMPO', 'Seconds', 'LOUD', 'LIVENESS', 'SPEECHINESS',\n",
       "       'INSTRUMENTALNESS', 'VALENCE', 'DANCE', 'ENERGY', 'ACOUSTIC',\n",
       "       'MODE', 'missing_producer', 'producer_count', 'a_producer',\n",
       "       'a_producer_count', 'missing_writer', 'writer_count', 'a_writer',\n",
       "       'a_writer_count'], dtype=object)"
      ]
     },
     "execution_count": 58,
     "metadata": {},
     "output_type": "execute_result"
    }
   ],
   "source": [
    "test.columns.values"
   ]
  },
  {
   "cell_type": "code",
   "execution_count": 79,
   "metadata": {},
   "outputs": [],
   "source": [
    "predictions_df = pd.DataFrame()\n",
    "predictions_df['Forecast'] = optimistic\n",
    "predictions_df['Actual'] = test_y.values\n",
    "predictions_df['Title'] = test.TITLE.values\n",
    "predictions_df['Artist'] = test.ARTIST.values\n",
    "predictions_df['Difference'] = predictions_df.Forecast - predictions_df.Actual\n",
    "predictions_df['ISRC'] = test.ISRC.values\n",
    "predictions_df['max_popularity'] = test.max_popularity.values"
   ]
  },
  {
   "cell_type": "code",
   "execution_count": 82,
   "metadata": {
    "collapsed": true
   },
   "outputs": [],
   "source": [
    "predictions_df.to_csv('predictions.csv', index=False)"
   ]
  },
  {
   "cell_type": "markdown",
   "metadata": {},
   "source": [
    "### Check predictions"
   ]
  },
  {
   "cell_type": "code",
   "execution_count": 83,
   "metadata": {},
   "outputs": [
    {
     "data": {
      "text/html": [
       "<div>\n",
       "<style>\n",
       "    .dataframe thead tr:only-child th {\n",
       "        text-align: right;\n",
       "    }\n",
       "\n",
       "    .dataframe thead th {\n",
       "        text-align: left;\n",
       "    }\n",
       "\n",
       "    .dataframe tbody tr th {\n",
       "        vertical-align: top;\n",
       "    }\n",
       "</style>\n",
       "<table border=\"1\" class=\"dataframe\">\n",
       "  <thead>\n",
       "    <tr style=\"text-align: right;\">\n",
       "      <th></th>\n",
       "      <th>Forecast</th>\n",
       "      <th>Actual</th>\n",
       "      <th>Title</th>\n",
       "      <th>Artist</th>\n",
       "      <th>Difference</th>\n",
       "      <th>ISRC</th>\n",
       "      <th>max_popularity</th>\n",
       "    </tr>\n",
       "  </thead>\n",
       "  <tbody>\n",
       "    <tr>\n",
       "      <th>11</th>\n",
       "      <td>1</td>\n",
       "      <td>0</td>\n",
       "      <td>Darlin'</td>\n",
       "      <td>Jackie Cohen</td>\n",
       "      <td>1</td>\n",
       "      <td>QMDN21800047</td>\n",
       "      <td>20</td>\n",
       "    </tr>\n",
       "    <tr>\n",
       "      <th>25</th>\n",
       "      <td>1</td>\n",
       "      <td>0</td>\n",
       "      <td>Colors</td>\n",
       "      <td>Freddie Gibbs</td>\n",
       "      <td>1</td>\n",
       "      <td>USUYG1193423</td>\n",
       "      <td>56</td>\n",
       "    </tr>\n",
       "    <tr>\n",
       "      <th>28</th>\n",
       "      <td>1</td>\n",
       "      <td>0</td>\n",
       "      <td>Reggie Song</td>\n",
       "      <td>Public Image Ltd.</td>\n",
       "      <td>1</td>\n",
       "      <td>GBBN31200011</td>\n",
       "      <td>15</td>\n",
       "    </tr>\n",
       "    <tr>\n",
       "      <th>34</th>\n",
       "      <td>1</td>\n",
       "      <td>0</td>\n",
       "      <td>Flu Flamming</td>\n",
       "      <td>Drakeo the Ruler</td>\n",
       "      <td>1</td>\n",
       "      <td>USUYG1174421</td>\n",
       "      <td>52</td>\n",
       "    </tr>\n",
       "    <tr>\n",
       "      <th>38</th>\n",
       "      <td>1</td>\n",
       "      <td>0</td>\n",
       "      <td>Ransom</td>\n",
       "      <td>Taysav</td>\n",
       "      <td>1</td>\n",
       "      <td>TCADN1813844</td>\n",
       "      <td>30</td>\n",
       "    </tr>\n",
       "    <tr>\n",
       "      <th>51</th>\n",
       "      <td>1</td>\n",
       "      <td>0</td>\n",
       "      <td>I'm Gonna Make You Love Me</td>\n",
       "      <td>Play</td>\n",
       "      <td>1</td>\n",
       "      <td>USSM10203929</td>\n",
       "      <td>30</td>\n",
       "    </tr>\n",
       "    <tr>\n",
       "      <th>55</th>\n",
       "      <td>1</td>\n",
       "      <td>0</td>\n",
       "      <td>5 Minutes Alone</td>\n",
       "      <td>Nonpoint</td>\n",
       "      <td>1</td>\n",
       "      <td>USAHB1000312</td>\n",
       "      <td>21</td>\n",
       "    </tr>\n",
       "    <tr>\n",
       "      <th>75</th>\n",
       "      <td>1</td>\n",
       "      <td>0</td>\n",
       "      <td>How Do I Live - Re-Imagined</td>\n",
       "      <td>LeAnn Rimes</td>\n",
       "      <td>1</td>\n",
       "      <td>QZBV91800002</td>\n",
       "      <td>18</td>\n",
       "    </tr>\n",
       "    <tr>\n",
       "      <th>81</th>\n",
       "      <td>1</td>\n",
       "      <td>0</td>\n",
       "      <td>The Weight Is Gone - KC Lights Remix</td>\n",
       "      <td>Albin Lee Meldau</td>\n",
       "      <td>1</td>\n",
       "      <td>USUM71803359</td>\n",
       "      <td>25</td>\n",
       "    </tr>\n",
       "    <tr>\n",
       "      <th>90</th>\n",
       "      <td>1</td>\n",
       "      <td>0</td>\n",
       "      <td>Seafarer</td>\n",
       "      <td>Tennis</td>\n",
       "      <td>1</td>\n",
       "      <td>USFP71023608</td>\n",
       "      <td>28</td>\n",
       "    </tr>\n",
       "    <tr>\n",
       "      <th>97</th>\n",
       "      <td>1</td>\n",
       "      <td>0</td>\n",
       "      <td>Leaves Scar</td>\n",
       "      <td>Amorphis</td>\n",
       "      <td>1</td>\n",
       "      <td>DED830588703</td>\n",
       "      <td>24</td>\n",
       "    </tr>\n",
       "    <tr>\n",
       "      <th>110</th>\n",
       "      <td>1</td>\n",
       "      <td>0</td>\n",
       "      <td>I Want To Live</td>\n",
       "      <td>John Maus</td>\n",
       "      <td>1</td>\n",
       "      <td>GBCEL1700578</td>\n",
       "      <td>30</td>\n",
       "    </tr>\n",
       "    <tr>\n",
       "      <th>116</th>\n",
       "      <td>1</td>\n",
       "      <td>0</td>\n",
       "      <td>Ginnals</td>\n",
       "      <td>Zone 2</td>\n",
       "      <td>1</td>\n",
       "      <td>GBLFP1797265</td>\n",
       "      <td>29</td>\n",
       "    </tr>\n",
       "    <tr>\n",
       "      <th>118</th>\n",
       "      <td>1</td>\n",
       "      <td>0</td>\n",
       "      <td>Gravy Train</td>\n",
       "      <td>Del The Funky Homosapien</td>\n",
       "      <td>1</td>\n",
       "      <td>TCADO1800781</td>\n",
       "      <td>30</td>\n",
       "    </tr>\n",
       "    <tr>\n",
       "      <th>124</th>\n",
       "      <td>1</td>\n",
       "      <td>0</td>\n",
       "      <td>Slipping Away</td>\n",
       "      <td>TRUSTcompany</td>\n",
       "      <td>1</td>\n",
       "      <td>USIR10211175</td>\n",
       "      <td>30</td>\n",
       "    </tr>\n",
       "    <tr>\n",
       "      <th>127</th>\n",
       "      <td>1</td>\n",
       "      <td>0</td>\n",
       "      <td>Replay</td>\n",
       "      <td>Case</td>\n",
       "      <td>1</td>\n",
       "      <td>USKO11500144</td>\n",
       "      <td>18</td>\n",
       "    </tr>\n",
       "    <tr>\n",
       "      <th>130</th>\n",
       "      <td>1</td>\n",
       "      <td>0</td>\n",
       "      <td>Mobbin'</td>\n",
       "      <td>Lil Dude</td>\n",
       "      <td>1</td>\n",
       "      <td>USUYG1180089</td>\n",
       "      <td>24</td>\n",
       "    </tr>\n",
       "    <tr>\n",
       "      <th>136</th>\n",
       "      <td>1</td>\n",
       "      <td>0</td>\n",
       "      <td>Why Walk When You Can Fly</td>\n",
       "      <td>Mary Chapin Carpenter</td>\n",
       "      <td>1</td>\n",
       "      <td>USSM19400285</td>\n",
       "      <td>30</td>\n",
       "    </tr>\n",
       "    <tr>\n",
       "      <th>138</th>\n",
       "      <td>1</td>\n",
       "      <td>0</td>\n",
       "      <td>Tender When I Want To Be</td>\n",
       "      <td>Mary Chapin Carpenter</td>\n",
       "      <td>1</td>\n",
       "      <td>USSM19503787</td>\n",
       "      <td>20</td>\n",
       "    </tr>\n",
       "    <tr>\n",
       "      <th>150</th>\n",
       "      <td>1</td>\n",
       "      <td>0</td>\n",
       "      <td>The Storm Will Pass</td>\n",
       "      <td>Convictions</td>\n",
       "      <td>1</td>\n",
       "      <td>QM4TW1820522</td>\n",
       "      <td>25</td>\n",
       "    </tr>\n",
       "    <tr>\n",
       "      <th>154</th>\n",
       "      <td>1</td>\n",
       "      <td>0</td>\n",
       "      <td>Strangers In A Car</td>\n",
       "      <td>Marc Cohn</td>\n",
       "      <td>1</td>\n",
       "      <td>USAT29100034</td>\n",
       "      <td>30</td>\n",
       "    </tr>\n",
       "    <tr>\n",
       "      <th>158</th>\n",
       "      <td>1</td>\n",
       "      <td>0</td>\n",
       "      <td>The Free Design</td>\n",
       "      <td>Stereolab</td>\n",
       "      <td>1</td>\n",
       "      <td>USEE19900388</td>\n",
       "      <td>6</td>\n",
       "    </tr>\n",
       "    <tr>\n",
       "      <th>159</th>\n",
       "      <td>1</td>\n",
       "      <td>0</td>\n",
       "      <td>My Testimony</td>\n",
       "      <td>Purpxse</td>\n",
       "      <td>1</td>\n",
       "      <td>QZBRF1865076</td>\n",
       "      <td>30</td>\n",
       "    </tr>\n",
       "    <tr>\n",
       "      <th>160</th>\n",
       "      <td>1</td>\n",
       "      <td>0</td>\n",
       "      <td>Foreign Window</td>\n",
       "      <td>Van Morrison</td>\n",
       "      <td>1</td>\n",
       "      <td>USQX91501261</td>\n",
       "      <td>27</td>\n",
       "    </tr>\n",
       "    <tr>\n",
       "      <th>183</th>\n",
       "      <td>1</td>\n",
       "      <td>0</td>\n",
       "      <td>Time Bomb</td>\n",
       "      <td>Annihilator</td>\n",
       "      <td>1</td>\n",
       "      <td>DENV61000680</td>\n",
       "      <td>25</td>\n",
       "    </tr>\n",
       "    <tr>\n",
       "      <th>221</th>\n",
       "      <td>1</td>\n",
       "      <td>0</td>\n",
       "      <td>Bless the Cracks</td>\n",
       "      <td>Less Than Jake</td>\n",
       "      <td>1</td>\n",
       "      <td>USFW41391606</td>\n",
       "      <td>29</td>\n",
       "    </tr>\n",
       "    <tr>\n",
       "      <th>229</th>\n",
       "      <td>1</td>\n",
       "      <td>0</td>\n",
       "      <td>Supernova</td>\n",
       "      <td>Candlebox</td>\n",
       "      <td>1</td>\n",
       "      <td>QMKEL1600134</td>\n",
       "      <td>30</td>\n",
       "    </tr>\n",
       "    <tr>\n",
       "      <th>235</th>\n",
       "      <td>1</td>\n",
       "      <td>0</td>\n",
       "      <td>Hagatna Bay</td>\n",
       "      <td>Hale</td>\n",
       "      <td>1</td>\n",
       "      <td>PHO010800131</td>\n",
       "      <td>26</td>\n",
       "    </tr>\n",
       "    <tr>\n",
       "      <th>243</th>\n",
       "      <td>1</td>\n",
       "      <td>0</td>\n",
       "      <td>Capeesh</td>\n",
       "      <td>Maxo Kream</td>\n",
       "      <td>1</td>\n",
       "      <td>USUYG1173534</td>\n",
       "      <td>66</td>\n",
       "    </tr>\n",
       "    <tr>\n",
       "      <th>245</th>\n",
       "      <td>1</td>\n",
       "      <td>0</td>\n",
       "      <td>Going, Going, Gone!</td>\n",
       "      <td>Shapes &amp; Colors</td>\n",
       "      <td>1</td>\n",
       "      <td>TCADQ1823252</td>\n",
       "      <td>29</td>\n",
       "    </tr>\n",
       "    <tr>\n",
       "      <th>...</th>\n",
       "      <td>...</td>\n",
       "      <td>...</td>\n",
       "      <td>...</td>\n",
       "      <td>...</td>\n",
       "      <td>...</td>\n",
       "      <td>...</td>\n",
       "      <td>...</td>\n",
       "    </tr>\n",
       "    <tr>\n",
       "      <th>1197</th>\n",
       "      <td>1</td>\n",
       "      <td>0</td>\n",
       "      <td>Eighteen</td>\n",
       "      <td>Tep No</td>\n",
       "      <td>1</td>\n",
       "      <td>USUS11700248</td>\n",
       "      <td>20</td>\n",
       "    </tr>\n",
       "    <tr>\n",
       "      <th>1202</th>\n",
       "      <td>1</td>\n",
       "      <td>0</td>\n",
       "      <td>Kool Aid and Frozen Pizza</td>\n",
       "      <td>Mac Miller</td>\n",
       "      <td>1</td>\n",
       "      <td>USQY51782508</td>\n",
       "      <td>68</td>\n",
       "    </tr>\n",
       "    <tr>\n",
       "      <th>1205</th>\n",
       "      <td>1</td>\n",
       "      <td>0</td>\n",
       "      <td>Up All Night</td>\n",
       "      <td>Beck</td>\n",
       "      <td>1</td>\n",
       "      <td>US3841600117</td>\n",
       "      <td>41</td>\n",
       "    </tr>\n",
       "    <tr>\n",
       "      <th>1208</th>\n",
       "      <td>1</td>\n",
       "      <td>0</td>\n",
       "      <td>Ghost</td>\n",
       "      <td>Badflower</td>\n",
       "      <td>1</td>\n",
       "      <td>USCJY1854001</td>\n",
       "      <td>69</td>\n",
       "    </tr>\n",
       "    <tr>\n",
       "      <th>1213</th>\n",
       "      <td>1</td>\n",
       "      <td>0</td>\n",
       "      <td>Lost in Paris</td>\n",
       "      <td>Tom Misch</td>\n",
       "      <td>1</td>\n",
       "      <td>GBKPL1791000</td>\n",
       "      <td>45</td>\n",
       "    </tr>\n",
       "    <tr>\n",
       "      <th>1215</th>\n",
       "      <td>1</td>\n",
       "      <td>0</td>\n",
       "      <td>Dollar Pound Cake</td>\n",
       "      <td>T MULLA</td>\n",
       "      <td>1</td>\n",
       "      <td>GBLFP1789560</td>\n",
       "      <td>65</td>\n",
       "    </tr>\n",
       "    <tr>\n",
       "      <th>1222</th>\n",
       "      <td>1</td>\n",
       "      <td>0</td>\n",
       "      <td>Beg - Acoustic</td>\n",
       "      <td>Jack &amp; Jack</td>\n",
       "      <td>1</td>\n",
       "      <td>USUM71800300</td>\n",
       "      <td>52</td>\n",
       "    </tr>\n",
       "    <tr>\n",
       "      <th>1223</th>\n",
       "      <td>1</td>\n",
       "      <td>0</td>\n",
       "      <td>Perf</td>\n",
       "      <td>Baby Ariel</td>\n",
       "      <td>1</td>\n",
       "      <td>USAT21705404</td>\n",
       "      <td>67</td>\n",
       "    </tr>\n",
       "    <tr>\n",
       "      <th>1227</th>\n",
       "      <td>1</td>\n",
       "      <td>0</td>\n",
       "      <td>Friends Don't</td>\n",
       "      <td>Maddie &amp; Tae</td>\n",
       "      <td>1</td>\n",
       "      <td>USUM71803748</td>\n",
       "      <td>67</td>\n",
       "    </tr>\n",
       "    <tr>\n",
       "      <th>1229</th>\n",
       "      <td>1</td>\n",
       "      <td>0</td>\n",
       "      <td>It's Complicated</td>\n",
       "      <td>Wale</td>\n",
       "      <td>1</td>\n",
       "      <td>USUYG1188141</td>\n",
       "      <td>59</td>\n",
       "    </tr>\n",
       "    <tr>\n",
       "      <th>1230</th>\n",
       "      <td>1</td>\n",
       "      <td>0</td>\n",
       "      <td>Fight Back</td>\n",
       "      <td>Neffex</td>\n",
       "      <td>1</td>\n",
       "      <td>TCADI1704435</td>\n",
       "      <td>67</td>\n",
       "    </tr>\n",
       "    <tr>\n",
       "      <th>1231</th>\n",
       "      <td>1</td>\n",
       "      <td>0</td>\n",
       "      <td>2006</td>\n",
       "      <td>Skizzy Mars</td>\n",
       "      <td>1</td>\n",
       "      <td>USAT21705356</td>\n",
       "      <td>67</td>\n",
       "    </tr>\n",
       "    <tr>\n",
       "      <th>1232</th>\n",
       "      <td>1</td>\n",
       "      <td>0</td>\n",
       "      <td>Mosh Pit</td>\n",
       "      <td>Myles Parrish</td>\n",
       "      <td>1</td>\n",
       "      <td>QZAPG1812215</td>\n",
       "      <td>67</td>\n",
       "    </tr>\n",
       "    <tr>\n",
       "      <th>1233</th>\n",
       "      <td>1</td>\n",
       "      <td>0</td>\n",
       "      <td>Joan of Arc</td>\n",
       "      <td>Night Lovell</td>\n",
       "      <td>1</td>\n",
       "      <td>QZDA41880034</td>\n",
       "      <td>67</td>\n",
       "    </tr>\n",
       "    <tr>\n",
       "      <th>1237</th>\n",
       "      <td>1</td>\n",
       "      <td>0</td>\n",
       "      <td>Cut My Hair</td>\n",
       "      <td>Mounika.</td>\n",
       "      <td>1</td>\n",
       "      <td>CH6541722273</td>\n",
       "      <td>53</td>\n",
       "    </tr>\n",
       "    <tr>\n",
       "      <th>1239</th>\n",
       "      <td>1</td>\n",
       "      <td>0</td>\n",
       "      <td>Killing My Time</td>\n",
       "      <td>G Flip</td>\n",
       "      <td>1</td>\n",
       "      <td>AUFF01800032</td>\n",
       "      <td>66</td>\n",
       "    </tr>\n",
       "    <tr>\n",
       "      <th>1242</th>\n",
       "      <td>1</td>\n",
       "      <td>0</td>\n",
       "      <td>Scott Street</td>\n",
       "      <td>Phoebe Bridgers</td>\n",
       "      <td>1</td>\n",
       "      <td>USJ5G1714205</td>\n",
       "      <td>66</td>\n",
       "    </tr>\n",
       "    <tr>\n",
       "      <th>1244</th>\n",
       "      <td>1</td>\n",
       "      <td>0</td>\n",
       "      <td>Run The World</td>\n",
       "      <td>CAZZETTE</td>\n",
       "      <td>1</td>\n",
       "      <td>CHB701700090</td>\n",
       "      <td>66</td>\n",
       "    </tr>\n",
       "    <tr>\n",
       "      <th>1247</th>\n",
       "      <td>1</td>\n",
       "      <td>0</td>\n",
       "      <td>Austin</td>\n",
       "      <td>Koe Wetzel</td>\n",
       "      <td>1</td>\n",
       "      <td>QZAPG1734258</td>\n",
       "      <td>62</td>\n",
       "    </tr>\n",
       "    <tr>\n",
       "      <th>1256</th>\n",
       "      <td>1</td>\n",
       "      <td>0</td>\n",
       "      <td>Deep Water</td>\n",
       "      <td>Drew Vision</td>\n",
       "      <td>1</td>\n",
       "      <td>TCADD1735584</td>\n",
       "      <td>55</td>\n",
       "    </tr>\n",
       "    <tr>\n",
       "      <th>1257</th>\n",
       "      <td>1</td>\n",
       "      <td>0</td>\n",
       "      <td>What You Think</td>\n",
       "      <td>Zaytoven</td>\n",
       "      <td>1</td>\n",
       "      <td>USUM71712482</td>\n",
       "      <td>54</td>\n",
       "    </tr>\n",
       "    <tr>\n",
       "      <th>1290</th>\n",
       "      <td>1</td>\n",
       "      <td>0</td>\n",
       "      <td>Go to Hell</td>\n",
       "      <td>Empress Of</td>\n",
       "      <td>1</td>\n",
       "      <td>USUG11700984</td>\n",
       "      <td>52</td>\n",
       "    </tr>\n",
       "    <tr>\n",
       "      <th>1303</th>\n",
       "      <td>1</td>\n",
       "      <td>0</td>\n",
       "      <td>Cherry Hearts - Flipped</td>\n",
       "      <td>The Shins</td>\n",
       "      <td>1</td>\n",
       "      <td>USSM11703398</td>\n",
       "      <td>52</td>\n",
       "    </tr>\n",
       "    <tr>\n",
       "      <th>1309</th>\n",
       "      <td>1</td>\n",
       "      <td>0</td>\n",
       "      <td>Doomsday</td>\n",
       "      <td>LODATO</td>\n",
       "      <td>1</td>\n",
       "      <td>QM6MZ1824421</td>\n",
       "      <td>52</td>\n",
       "    </tr>\n",
       "    <tr>\n",
       "      <th>1325</th>\n",
       "      <td>1</td>\n",
       "      <td>0</td>\n",
       "      <td>Kevin Is a Snake</td>\n",
       "      <td>LostNUnbound</td>\n",
       "      <td>1</td>\n",
       "      <td>TCADE1749365</td>\n",
       "      <td>52</td>\n",
       "    </tr>\n",
       "    <tr>\n",
       "      <th>1330</th>\n",
       "      <td>1</td>\n",
       "      <td>0</td>\n",
       "      <td>Episode</td>\n",
       "      <td>Goldwash</td>\n",
       "      <td>1</td>\n",
       "      <td>FR59R1763862</td>\n",
       "      <td>52</td>\n",
       "    </tr>\n",
       "    <tr>\n",
       "      <th>1346</th>\n",
       "      <td>1</td>\n",
       "      <td>0</td>\n",
       "      <td>What I Already Know</td>\n",
       "      <td>Kyle Lionhart</td>\n",
       "      <td>1</td>\n",
       "      <td>AULI01710720</td>\n",
       "      <td>30</td>\n",
       "    </tr>\n",
       "    <tr>\n",
       "      <th>1354</th>\n",
       "      <td>1</td>\n",
       "      <td>0</td>\n",
       "      <td>Somos El Barco</td>\n",
       "      <td>Raffi</td>\n",
       "      <td>1</td>\n",
       "      <td>CAT161500298</td>\n",
       "      <td>27</td>\n",
       "    </tr>\n",
       "    <tr>\n",
       "      <th>1379</th>\n",
       "      <td>1</td>\n",
       "      <td>0</td>\n",
       "      <td>Never Been</td>\n",
       "      <td>Younggu</td>\n",
       "      <td>1</td>\n",
       "      <td>FR10S1844461</td>\n",
       "      <td>30</td>\n",
       "    </tr>\n",
       "    <tr>\n",
       "      <th>1383</th>\n",
       "      <td>1</td>\n",
       "      <td>0</td>\n",
       "      <td>Michelle</td>\n",
       "      <td>Mayra Andrade</td>\n",
       "      <td>1</td>\n",
       "      <td>FRZ081001128</td>\n",
       "      <td>30</td>\n",
       "    </tr>\n",
       "  </tbody>\n",
       "</table>\n",
       "<p>205 rows × 7 columns</p>\n",
       "</div>"
      ],
      "text/plain": [
       "      Forecast  Actual                                 Title  \\\n",
       "11           1       0                               Darlin'   \n",
       "25           1       0                                Colors   \n",
       "28           1       0                           Reggie Song   \n",
       "34           1       0                          Flu Flamming   \n",
       "38           1       0                                Ransom   \n",
       "51           1       0            I'm Gonna Make You Love Me   \n",
       "55           1       0                       5 Minutes Alone   \n",
       "75           1       0           How Do I Live - Re-Imagined   \n",
       "81           1       0  The Weight Is Gone - KC Lights Remix   \n",
       "90           1       0                              Seafarer   \n",
       "97           1       0                           Leaves Scar   \n",
       "110          1       0                        I Want To Live   \n",
       "116          1       0                               Ginnals   \n",
       "118          1       0                           Gravy Train   \n",
       "124          1       0                         Slipping Away   \n",
       "127          1       0                                Replay   \n",
       "130          1       0                               Mobbin'   \n",
       "136          1       0             Why Walk When You Can Fly   \n",
       "138          1       0              Tender When I Want To Be   \n",
       "150          1       0                   The Storm Will Pass   \n",
       "154          1       0                    Strangers In A Car   \n",
       "158          1       0                       The Free Design   \n",
       "159          1       0                          My Testimony   \n",
       "160          1       0                        Foreign Window   \n",
       "183          1       0                             Time Bomb   \n",
       "221          1       0                      Bless the Cracks   \n",
       "229          1       0                             Supernova   \n",
       "235          1       0                           Hagatna Bay   \n",
       "243          1       0                               Capeesh   \n",
       "245          1       0                   Going, Going, Gone!   \n",
       "...        ...     ...                                   ...   \n",
       "1197         1       0                              Eighteen   \n",
       "1202         1       0             Kool Aid and Frozen Pizza   \n",
       "1205         1       0                          Up All Night   \n",
       "1208         1       0                                 Ghost   \n",
       "1213         1       0                         Lost in Paris   \n",
       "1215         1       0                     Dollar Pound Cake   \n",
       "1222         1       0                        Beg - Acoustic   \n",
       "1223         1       0                                  Perf   \n",
       "1227         1       0                         Friends Don't   \n",
       "1229         1       0                      It's Complicated   \n",
       "1230         1       0                            Fight Back   \n",
       "1231         1       0                                  2006   \n",
       "1232         1       0                              Mosh Pit   \n",
       "1233         1       0                           Joan of Arc   \n",
       "1237         1       0                           Cut My Hair   \n",
       "1239         1       0                       Killing My Time   \n",
       "1242         1       0                          Scott Street   \n",
       "1244         1       0                         Run The World   \n",
       "1247         1       0                                Austin   \n",
       "1256         1       0                            Deep Water   \n",
       "1257         1       0                        What You Think   \n",
       "1290         1       0                            Go to Hell   \n",
       "1303         1       0               Cherry Hearts - Flipped   \n",
       "1309         1       0                              Doomsday   \n",
       "1325         1       0                      Kevin Is a Snake   \n",
       "1330         1       0                               Episode   \n",
       "1346         1       0                   What I Already Know   \n",
       "1354         1       0                        Somos El Barco   \n",
       "1379         1       0                            Never Been   \n",
       "1383         1       0                              Michelle   \n",
       "\n",
       "                        Artist  Difference          ISRC  max_popularity  \n",
       "11                Jackie Cohen           1  QMDN21800047              20  \n",
       "25               Freddie Gibbs           1  USUYG1193423              56  \n",
       "28           Public Image Ltd.           1  GBBN31200011              15  \n",
       "34            Drakeo the Ruler           1  USUYG1174421              52  \n",
       "38                      Taysav           1  TCADN1813844              30  \n",
       "51                        Play           1  USSM10203929              30  \n",
       "55                    Nonpoint           1  USAHB1000312              21  \n",
       "75                 LeAnn Rimes           1  QZBV91800002              18  \n",
       "81            Albin Lee Meldau           1  USUM71803359              25  \n",
       "90                      Tennis           1  USFP71023608              28  \n",
       "97                    Amorphis           1  DED830588703              24  \n",
       "110                  John Maus           1  GBCEL1700578              30  \n",
       "116                     Zone 2           1  GBLFP1797265              29  \n",
       "118   Del The Funky Homosapien           1  TCADO1800781              30  \n",
       "124               TRUSTcompany           1  USIR10211175              30  \n",
       "127                       Case           1  USKO11500144              18  \n",
       "130                   Lil Dude           1  USUYG1180089              24  \n",
       "136      Mary Chapin Carpenter           1  USSM19400285              30  \n",
       "138      Mary Chapin Carpenter           1  USSM19503787              20  \n",
       "150                Convictions           1  QM4TW1820522              25  \n",
       "154                  Marc Cohn           1  USAT29100034              30  \n",
       "158                  Stereolab           1  USEE19900388               6  \n",
       "159                    Purpxse           1  QZBRF1865076              30  \n",
       "160               Van Morrison           1  USQX91501261              27  \n",
       "183                Annihilator           1  DENV61000680              25  \n",
       "221             Less Than Jake           1  USFW41391606              29  \n",
       "229                  Candlebox           1  QMKEL1600134              30  \n",
       "235                       Hale           1  PHO010800131              26  \n",
       "243                 Maxo Kream           1  USUYG1173534              66  \n",
       "245            Shapes & Colors           1  TCADQ1823252              29  \n",
       "...                        ...         ...           ...             ...  \n",
       "1197                    Tep No           1  USUS11700248              20  \n",
       "1202                Mac Miller           1  USQY51782508              68  \n",
       "1205                      Beck           1  US3841600117              41  \n",
       "1208                 Badflower           1  USCJY1854001              69  \n",
       "1213                 Tom Misch           1  GBKPL1791000              45  \n",
       "1215                   T MULLA           1  GBLFP1789560              65  \n",
       "1222               Jack & Jack           1  USUM71800300              52  \n",
       "1223                Baby Ariel           1  USAT21705404              67  \n",
       "1227              Maddie & Tae           1  USUM71803748              67  \n",
       "1229                      Wale           1  USUYG1188141              59  \n",
       "1230                    Neffex           1  TCADI1704435              67  \n",
       "1231               Skizzy Mars           1  USAT21705356              67  \n",
       "1232             Myles Parrish           1  QZAPG1812215              67  \n",
       "1233              Night Lovell           1  QZDA41880034              67  \n",
       "1237                  Mounika.           1  CH6541722273              53  \n",
       "1239                    G Flip           1  AUFF01800032              66  \n",
       "1242           Phoebe Bridgers           1  USJ5G1714205              66  \n",
       "1244                  CAZZETTE           1  CHB701700090              66  \n",
       "1247                Koe Wetzel           1  QZAPG1734258              62  \n",
       "1256               Drew Vision           1  TCADD1735584              55  \n",
       "1257                  Zaytoven           1  USUM71712482              54  \n",
       "1290                Empress Of           1  USUG11700984              52  \n",
       "1303                 The Shins           1  USSM11703398              52  \n",
       "1309                    LODATO           1  QM6MZ1824421              52  \n",
       "1325              LostNUnbound           1  TCADE1749365              52  \n",
       "1330                  Goldwash           1  FR59R1763862              52  \n",
       "1346             Kyle Lionhart           1  AULI01710720              30  \n",
       "1354                     Raffi           1  CAT161500298              27  \n",
       "1379                   Younggu           1  FR10S1844461              30  \n",
       "1383             Mayra Andrade           1  FRZ081001128              30  \n",
       "\n",
       "[205 rows x 7 columns]"
      ]
     },
     "execution_count": 83,
     "metadata": {},
     "output_type": "execute_result"
    }
   ],
   "source": [
    "predictions_df[predictions_df.Difference==1]"
   ]
  },
  {
   "cell_type": "markdown",
   "metadata": {},
   "source": [
    "### Experiments with other combination approaches"
   ]
  },
  {
   "cell_type": "code",
   "execution_count": 43,
   "metadata": {
    "collapsed": true
   },
   "outputs": [],
   "source": [
    "# Majority Vote\n",
    "from scipy import stats\n",
    "\n",
    "majority = []\n",
    "for i in range(len(base_prediction)):\n",
    "    \n",
    "    vote = stats.mode([audio_prediction[i], base_prediction[i], lyrics_prediction[i]])[0][0]\n",
    "    majority.append(vote)\n"
   ]
  },
  {
   "cell_type": "code",
   "execution_count": 44,
   "metadata": {},
   "outputs": [
    {
     "name": "stdout",
     "output_type": "stream",
     "text": [
      "F1 score 0.030534351145038167\n",
      "Recall score 0.016666666666666666\n"
     ]
    }
   ],
   "source": [
    "## take majority\n",
    "\n",
    "print('F1 score', f1_score(test_y.astype('int'), majority))\n",
    "print('Recall score', recall_score(test_y.astype('int'), majority))"
   ]
  },
  {
   "cell_type": "code",
   "execution_count": 45,
   "metadata": {
    "collapsed": true
   },
   "outputs": [],
   "source": [
    "inputs = pd.DataFrame()\n",
    "inputs['audio'] = audio_prediction\n",
    "inputs['lyrics'] = lyrics_prediction\n",
    "inputs['base'] = base_prediction"
   ]
  },
  {
   "cell_type": "code",
   "execution_count": 48,
   "metadata": {},
   "outputs": [
    {
     "name": "stderr",
     "output_type": "stream",
     "text": [
      "/Users/ksenia/anaconda/envs/py36/lib/python3.6/site-packages/sklearn/utils/validation.py:578: DataConversionWarning: A column-vector y was passed when a 1d array was expected. Please change the shape of y to (n_samples, ), for example using ravel().\n",
      "  y = column_or_1d(y, warn=True)\n"
     ]
    },
    {
     "data": {
      "text/plain": [
       "LogisticRegression(C=1, class_weight=None, dual=False, fit_intercept=True,\n",
       "          intercept_scaling=1, max_iter=100, multi_class='ovr', n_jobs=1,\n",
       "          penalty='l2', random_state=None, solver='liblinear', tol=0.0001,\n",
       "          verbose=0, warm_start=False)"
      ]
     },
     "execution_count": 48,
     "metadata": {},
     "output_type": "execute_result"
    }
   ],
   "source": [
    "## Logistic Regression\n",
    "\n",
    "lr_final = LogisticRegression(penalty='l2',  C=1)\n",
    "lr_final.fit(inputs, test_y.astype('int'))"
   ]
  },
  {
   "cell_type": "code",
   "execution_count": 49,
   "metadata": {
    "collapsed": true
   },
   "outputs": [],
   "source": [
    "prediction_lr_final = lr_final.predict(inputs)\n",
    "#predict_prob_lr_final = lr_final.predict_proba(test_x)"
   ]
  },
  {
   "cell_type": "code",
   "execution_count": 50,
   "metadata": {},
   "outputs": [
    {
     "name": "stdout",
     "output_type": "stream",
     "text": [
      "F1 score 0.0\n",
      "Recall score 0.0\n"
     ]
    },
    {
     "name": "stderr",
     "output_type": "stream",
     "text": [
      "/Users/ksenia/anaconda/envs/py36/lib/python3.6/site-packages/sklearn/metrics/classification.py:1135: UndefinedMetricWarning: F-score is ill-defined and being set to 0.0 due to no predicted samples.\n",
      "  'precision', 'predicted', average, warn_for)\n"
     ]
    }
   ],
   "source": [
    "## Logistic fit\n",
    "\n",
    "print('F1 score', f1_score(test_y.astype('int'), prediction_lr_final))\n",
    "print('Recall score', recall_score(test_y.astype('int'), prediction_lr_final))"
   ]
  }
 ],
 "metadata": {
  "kernelspec": {
   "display_name": "Python 3",
   "language": "python",
   "name": "python3"
  },
  "language_info": {
   "codemirror_mode": {
    "name": "ipython",
    "version": 3
   },
   "file_extension": ".py",
   "mimetype": "text/x-python",
   "name": "python",
   "nbconvert_exporter": "python",
   "pygments_lexer": "ipython3",
   "version": "3.6.1"
  }
 },
 "nbformat": 4,
 "nbformat_minor": 2
}
