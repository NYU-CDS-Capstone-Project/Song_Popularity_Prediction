{
 "cells": [
  {
   "cell_type": "markdown",
   "metadata": {},
   "source": [
    "### Merge Spotify genre and explitic marker to the main dataframe"
   ]
  },
  {
   "cell_type": "code",
   "execution_count": 1,
   "metadata": {
    "collapsed": true
   },
   "outputs": [],
   "source": [
    "import pandas as pd"
   ]
  },
  {
   "cell_type": "code",
   "execution_count": 11,
   "metadata": {},
   "outputs": [
    {
     "name": "stdout",
     "output_type": "stream",
     "text": [
      "\u001b[34marchive\u001b[m\u001b[m                         spotify_data.csv\r\n",
      "explicit_spotifyid.csv          spotify_genre_by_artist.csv\r\n",
      "merged_eng_lyrics_with_isrc.csv\r\n"
     ]
    }
   ],
   "source": [
    "!ls working_data.nosync/"
   ]
  },
  {
   "cell_type": "code",
   "execution_count": 5,
   "metadata": {},
   "outputs": [],
   "source": [
    "main = pd.read_csv('working_data.nosync/merged_eng_lyrics_with_isrc.csv')"
   ]
  },
  {
   "cell_type": "code",
   "execution_count": 6,
   "metadata": {},
   "outputs": [
    {
     "data": {
      "text/plain": [
       "(97358, 6)"
      ]
     },
     "execution_count": 6,
     "metadata": {},
     "output_type": "execute_result"
    }
   ],
   "source": [
    "main.shape"
   ]
  },
  {
   "cell_type": "code",
   "execution_count": 7,
   "metadata": {},
   "outputs": [
    {
     "data": {
      "text/html": [
       "<div>\n",
       "<style scoped>\n",
       "    .dataframe tbody tr th:only-of-type {\n",
       "        vertical-align: middle;\n",
       "    }\n",
       "\n",
       "    .dataframe tbody tr th {\n",
       "        vertical-align: top;\n",
       "    }\n",
       "\n",
       "    .dataframe thead th {\n",
       "        text-align: right;\n",
       "    }\n",
       "</style>\n",
       "<table border=\"1\" class=\"dataframe\">\n",
       "  <thead>\n",
       "    <tr style=\"text-align: right;\">\n",
       "      <th></th>\n",
       "      <th>song_id</th>\n",
       "      <th>lyrics</th>\n",
       "      <th>ISRC</th>\n",
       "      <th>SPOTIFY_ID</th>\n",
       "      <th>TITLE</th>\n",
       "      <th>ARTIST</th>\n",
       "    </tr>\n",
       "  </thead>\n",
       "  <tbody>\n",
       "    <tr>\n",
       "      <th>0</th>\n",
       "      <td>3727054</td>\n",
       "      <td>\\n\\n(It's Frankie! Frankie! Frankie!)\\n\\nHenry...</td>\n",
       "      <td>TCADQ1846573</td>\n",
       "      <td>2iZBfDVGWjnQDDOdeddmSB</td>\n",
       "      <td>Lets Meet Outro</td>\n",
       "      <td>Lil B</td>\n",
       "    </tr>\n",
       "    <tr>\n",
       "      <th>1</th>\n",
       "      <td>883686</td>\n",
       "      <td>\\n\\nDon't stop out too late at night\\nStop! It...</td>\n",
       "      <td>GB01A0800810</td>\n",
       "      <td>52NxZVmduCrB2ey20vdaTn</td>\n",
       "      <td>Life, It's A Shame</td>\n",
       "      <td>Gang Of Four</td>\n",
       "    </tr>\n",
       "    <tr>\n",
       "      <th>2</th>\n",
       "      <td>1263032</td>\n",
       "      <td>\\n\\nGround below, just save me from it all\\nGr...</td>\n",
       "      <td>US4E41285908</td>\n",
       "      <td>3dD1qlpcQxGGJNzY9ciQaw</td>\n",
       "      <td>Tragic Idol</td>\n",
       "      <td>Paradise Lost</td>\n",
       "    </tr>\n",
       "    <tr>\n",
       "      <th>3</th>\n",
       "      <td>1943453</td>\n",
       "      <td>\\n\\nIntro:\\nFuckin stressing, Im stressed the ...</td>\n",
       "      <td>USZEG1500031</td>\n",
       "      <td>00Io9zMXfe1HJxNFdJUXZj</td>\n",
       "      <td>Can't Get Out the Game</td>\n",
       "      <td>Krayzie Bone</td>\n",
       "    </tr>\n",
       "    <tr>\n",
       "      <th>4</th>\n",
       "      <td>3601141</td>\n",
       "      <td>\\n\\nI'm out coz this president don't represent...</td>\n",
       "      <td>USAE81140530</td>\n",
       "      <td>1ODnQdUhjGoQOkpOOMz4LS</td>\n",
       "      <td>I Am - Remix</td>\n",
       "      <td>BIG CAZ PRESENTS</td>\n",
       "    </tr>\n",
       "  </tbody>\n",
       "</table>\n",
       "</div>"
      ],
      "text/plain": [
       "   song_id                                             lyrics          ISRC  \\\n",
       "0  3727054  \\n\\n(It's Frankie! Frankie! Frankie!)\\n\\nHenry...  TCADQ1846573   \n",
       "1   883686  \\n\\nDon't stop out too late at night\\nStop! It...  GB01A0800810   \n",
       "2  1263032  \\n\\nGround below, just save me from it all\\nGr...  US4E41285908   \n",
       "3  1943453  \\n\\nIntro:\\nFuckin stressing, Im stressed the ...  USZEG1500031   \n",
       "4  3601141  \\n\\nI'm out coz this president don't represent...  USAE81140530   \n",
       "\n",
       "               SPOTIFY_ID                   TITLE            ARTIST  \n",
       "0  2iZBfDVGWjnQDDOdeddmSB         Lets Meet Outro             Lil B  \n",
       "1  52NxZVmduCrB2ey20vdaTn      Life, It's A Shame      Gang Of Four  \n",
       "2  3dD1qlpcQxGGJNzY9ciQaw             Tragic Idol     Paradise Lost  \n",
       "3  00Io9zMXfe1HJxNFdJUXZj  Can't Get Out the Game      Krayzie Bone  \n",
       "4  1ODnQdUhjGoQOkpOOMz4LS            I Am - Remix  BIG CAZ PRESENTS  "
      ]
     },
     "execution_count": 7,
     "metadata": {},
     "output_type": "execute_result"
    }
   ],
   "source": [
    "main.head()"
   ]
  },
  {
   "cell_type": "code",
   "execution_count": 8,
   "metadata": {},
   "outputs": [
    {
     "data": {
      "text/plain": [
       "False"
      ]
     },
     "execution_count": 8,
     "metadata": {},
     "output_type": "execute_result"
    }
   ],
   "source": [
    "main.song_id.duplicated().any()"
   ]
  },
  {
   "cell_type": "code",
   "execution_count": 9,
   "metadata": {},
   "outputs": [
    {
     "data": {
      "text/plain": [
       "False"
      ]
     },
     "execution_count": 9,
     "metadata": {},
     "output_type": "execute_result"
    }
   ],
   "source": [
    "main.ISRC.duplicated().any()"
   ]
  },
  {
   "cell_type": "code",
   "execution_count": 10,
   "metadata": {},
   "outputs": [
    {
     "data": {
      "text/plain": [
       "False"
      ]
     },
     "execution_count": 10,
     "metadata": {},
     "output_type": "execute_result"
    }
   ],
   "source": [
    "main.SPOTIFY_ID.duplicated().any()"
   ]
  },
  {
   "cell_type": "markdown",
   "metadata": {},
   "source": [
    "No duplicates in the main frame"
   ]
  },
  {
   "cell_type": "markdown",
   "metadata": {},
   "source": [
    "### Genre"
   ]
  },
  {
   "cell_type": "code",
   "execution_count": 12,
   "metadata": {
    "collapsed": true
   },
   "outputs": [],
   "source": [
    "genre = pd.read_csv('working_data.nosync/spotify_genre_by_artist.csv')"
   ]
  },
  {
   "cell_type": "code",
   "execution_count": 13,
   "metadata": {},
   "outputs": [
    {
     "data": {
      "text/plain": [
       "(180574, 26)"
      ]
     },
     "execution_count": 13,
     "metadata": {},
     "output_type": "execute_result"
    }
   ],
   "source": [
    "genre.shape"
   ]
  },
  {
   "cell_type": "code",
   "execution_count": 14,
   "metadata": {},
   "outputs": [
    {
     "data": {
      "text/html": [
       "<div>\n",
       "<style scoped>\n",
       "    .dataframe tbody tr th:only-of-type {\n",
       "        vertical-align: middle;\n",
       "    }\n",
       "\n",
       "    .dataframe tbody tr th {\n",
       "        vertical-align: top;\n",
       "    }\n",
       "\n",
       "    .dataframe thead th {\n",
       "        text-align: right;\n",
       "    }\n",
       "</style>\n",
       "<table border=\"1\" class=\"dataframe\">\n",
       "  <thead>\n",
       "    <tr style=\"text-align: right;\">\n",
       "      <th></th>\n",
       "      <th>Unnamed: 0</th>\n",
       "      <th>ARTIST</th>\n",
       "      <th>Blues</th>\n",
       "      <th>Christian/Gospel</th>\n",
       "      <th>Classical</th>\n",
       "      <th>Country</th>\n",
       "      <th>Dance/Electro</th>\n",
       "      <th>Disco</th>\n",
       "      <th>Dutch-House</th>\n",
       "      <th>Folk</th>\n",
       "      <th>...</th>\n",
       "      <th>Other</th>\n",
       "      <th>Pop</th>\n",
       "      <th>R&amp;B</th>\n",
       "      <th>Reggae</th>\n",
       "      <th>Rock/Alt</th>\n",
       "      <th>Rock/Alt/Pop</th>\n",
       "      <th>Sertanejo</th>\n",
       "      <th>Singer-Songwriter</th>\n",
       "      <th>Sleep</th>\n",
       "      <th>missing</th>\n",
       "    </tr>\n",
       "  </thead>\n",
       "  <tbody>\n",
       "    <tr>\n",
       "      <th>0</th>\n",
       "      <td>0</td>\n",
       "      <td>Duki Y Neo Pistea</td>\n",
       "      <td>0</td>\n",
       "      <td>0</td>\n",
       "      <td>0</td>\n",
       "      <td>0</td>\n",
       "      <td>0</td>\n",
       "      <td>0</td>\n",
       "      <td>0</td>\n",
       "      <td>0</td>\n",
       "      <td>...</td>\n",
       "      <td>0</td>\n",
       "      <td>0</td>\n",
       "      <td>0</td>\n",
       "      <td>0</td>\n",
       "      <td>0</td>\n",
       "      <td>0</td>\n",
       "      <td>0</td>\n",
       "      <td>0</td>\n",
       "      <td>0</td>\n",
       "      <td>0</td>\n",
       "    </tr>\n",
       "    <tr>\n",
       "      <th>1</th>\n",
       "      <td>1</td>\n",
       "      <td>Otra Onda</td>\n",
       "      <td>0</td>\n",
       "      <td>0</td>\n",
       "      <td>0</td>\n",
       "      <td>0</td>\n",
       "      <td>0</td>\n",
       "      <td>0</td>\n",
       "      <td>0</td>\n",
       "      <td>0</td>\n",
       "      <td>...</td>\n",
       "      <td>0</td>\n",
       "      <td>0</td>\n",
       "      <td>0</td>\n",
       "      <td>0</td>\n",
       "      <td>0</td>\n",
       "      <td>0</td>\n",
       "      <td>0</td>\n",
       "      <td>0</td>\n",
       "      <td>0</td>\n",
       "      <td>1</td>\n",
       "    </tr>\n",
       "    <tr>\n",
       "      <th>2</th>\n",
       "      <td>2</td>\n",
       "      <td>Zona De Arranque</td>\n",
       "      <td>0</td>\n",
       "      <td>0</td>\n",
       "      <td>0</td>\n",
       "      <td>0</td>\n",
       "      <td>0</td>\n",
       "      <td>0</td>\n",
       "      <td>0</td>\n",
       "      <td>0</td>\n",
       "      <td>...</td>\n",
       "      <td>0</td>\n",
       "      <td>0</td>\n",
       "      <td>0</td>\n",
       "      <td>0</td>\n",
       "      <td>0</td>\n",
       "      <td>0</td>\n",
       "      <td>0</td>\n",
       "      <td>0</td>\n",
       "      <td>0</td>\n",
       "      <td>1</td>\n",
       "    </tr>\n",
       "    <tr>\n",
       "      <th>3</th>\n",
       "      <td>3</td>\n",
       "      <td>Duzz</td>\n",
       "      <td>0</td>\n",
       "      <td>0</td>\n",
       "      <td>0</td>\n",
       "      <td>0</td>\n",
       "      <td>0</td>\n",
       "      <td>0</td>\n",
       "      <td>0</td>\n",
       "      <td>0</td>\n",
       "      <td>...</td>\n",
       "      <td>0</td>\n",
       "      <td>0</td>\n",
       "      <td>0</td>\n",
       "      <td>0</td>\n",
       "      <td>0</td>\n",
       "      <td>0</td>\n",
       "      <td>0</td>\n",
       "      <td>0</td>\n",
       "      <td>0</td>\n",
       "      <td>0</td>\n",
       "    </tr>\n",
       "    <tr>\n",
       "      <th>4</th>\n",
       "      <td>4</td>\n",
       "      <td>Inefable</td>\n",
       "      <td>0</td>\n",
       "      <td>0</td>\n",
       "      <td>0</td>\n",
       "      <td>0</td>\n",
       "      <td>0</td>\n",
       "      <td>0</td>\n",
       "      <td>0</td>\n",
       "      <td>0</td>\n",
       "      <td>...</td>\n",
       "      <td>0</td>\n",
       "      <td>0</td>\n",
       "      <td>0</td>\n",
       "      <td>0</td>\n",
       "      <td>0</td>\n",
       "      <td>0</td>\n",
       "      <td>0</td>\n",
       "      <td>0</td>\n",
       "      <td>0</td>\n",
       "      <td>1</td>\n",
       "    </tr>\n",
       "  </tbody>\n",
       "</table>\n",
       "<p>5 rows × 26 columns</p>\n",
       "</div>"
      ],
      "text/plain": [
       "   Unnamed: 0             ARTIST  Blues  Christian/Gospel  Classical  Country  \\\n",
       "0           0  Duki Y Neo Pistea      0                 0          0        0   \n",
       "1           1          Otra Onda      0                 0          0        0   \n",
       "2           2   Zona De Arranque      0                 0          0        0   \n",
       "3           3               Duzz      0                 0          0        0   \n",
       "4           4           Inefable      0                 0          0        0   \n",
       "\n",
       "   Dance/Electro  Disco  Dutch-House  Folk   ...     Other  Pop  R&B  Reggae  \\\n",
       "0              0      0            0     0   ...         0    0    0       0   \n",
       "1              0      0            0     0   ...         0    0    0       0   \n",
       "2              0      0            0     0   ...         0    0    0       0   \n",
       "3              0      0            0     0   ...         0    0    0       0   \n",
       "4              0      0            0     0   ...         0    0    0       0   \n",
       "\n",
       "   Rock/Alt  Rock/Alt/Pop  Sertanejo  Singer-Songwriter  Sleep  missing  \n",
       "0         0             0          0                  0      0        0  \n",
       "1         0             0          0                  0      0        1  \n",
       "2         0             0          0                  0      0        1  \n",
       "3         0             0          0                  0      0        0  \n",
       "4         0             0          0                  0      0        1  \n",
       "\n",
       "[5 rows x 26 columns]"
      ]
     },
     "execution_count": 14,
     "metadata": {},
     "output_type": "execute_result"
    }
   ],
   "source": [
    "genre.head()"
   ]
  },
  {
   "cell_type": "code",
   "execution_count": 19,
   "metadata": {},
   "outputs": [],
   "source": [
    "genre.drop('Unnamed: 0', axis=1, inplace=True)"
   ]
  },
  {
   "cell_type": "code",
   "execution_count": 20,
   "metadata": {
    "collapsed": true
   },
   "outputs": [],
   "source": [
    "merged_genre = main.merge(genre, on='ARTIST', how='inner')"
   ]
  },
  {
   "cell_type": "code",
   "execution_count": 21,
   "metadata": {},
   "outputs": [
    {
     "data": {
      "text/plain": [
       "(97356, 30)"
      ]
     },
     "execution_count": 21,
     "metadata": {},
     "output_type": "execute_result"
    }
   ],
   "source": [
    "merged_genre.shape"
   ]
  },
  {
   "cell_type": "code",
   "execution_count": 22,
   "metadata": {},
   "outputs": [
    {
     "data": {
      "text/html": [
       "<div>\n",
       "<style scoped>\n",
       "    .dataframe tbody tr th:only-of-type {\n",
       "        vertical-align: middle;\n",
       "    }\n",
       "\n",
       "    .dataframe tbody tr th {\n",
       "        vertical-align: top;\n",
       "    }\n",
       "\n",
       "    .dataframe thead th {\n",
       "        text-align: right;\n",
       "    }\n",
       "</style>\n",
       "<table border=\"1\" class=\"dataframe\">\n",
       "  <thead>\n",
       "    <tr style=\"text-align: right;\">\n",
       "      <th></th>\n",
       "      <th>song_id</th>\n",
       "      <th>lyrics</th>\n",
       "      <th>ISRC</th>\n",
       "      <th>SPOTIFY_ID</th>\n",
       "      <th>TITLE</th>\n",
       "      <th>ARTIST</th>\n",
       "      <th>Blues</th>\n",
       "      <th>Christian/Gospel</th>\n",
       "      <th>Classical</th>\n",
       "      <th>Country</th>\n",
       "      <th>...</th>\n",
       "      <th>Other</th>\n",
       "      <th>Pop</th>\n",
       "      <th>R&amp;B</th>\n",
       "      <th>Reggae</th>\n",
       "      <th>Rock/Alt</th>\n",
       "      <th>Rock/Alt/Pop</th>\n",
       "      <th>Sertanejo</th>\n",
       "      <th>Singer-Songwriter</th>\n",
       "      <th>Sleep</th>\n",
       "      <th>missing</th>\n",
       "    </tr>\n",
       "  </thead>\n",
       "  <tbody>\n",
       "    <tr>\n",
       "      <th>0</th>\n",
       "      <td>3727054</td>\n",
       "      <td>\\n\\n(It's Frankie! Frankie! Frankie!)\\n\\nHenry...</td>\n",
       "      <td>TCADQ1846573</td>\n",
       "      <td>2iZBfDVGWjnQDDOdeddmSB</td>\n",
       "      <td>Lets Meet Outro</td>\n",
       "      <td>Lil B</td>\n",
       "      <td>0</td>\n",
       "      <td>0</td>\n",
       "      <td>0</td>\n",
       "      <td>0</td>\n",
       "      <td>...</td>\n",
       "      <td>1</td>\n",
       "      <td>0</td>\n",
       "      <td>0</td>\n",
       "      <td>0</td>\n",
       "      <td>0</td>\n",
       "      <td>0</td>\n",
       "      <td>0</td>\n",
       "      <td>0</td>\n",
       "      <td>0</td>\n",
       "      <td>0</td>\n",
       "    </tr>\n",
       "    <tr>\n",
       "      <th>1</th>\n",
       "      <td>3727036</td>\n",
       "      <td>\\n\\n[Intro]\\nAye, going, going, going\\nAye, sh...</td>\n",
       "      <td>TCADQ1846536</td>\n",
       "      <td>7E9ebOZGFfKIu9iIcS2PVh</td>\n",
       "      <td>Still Going</td>\n",
       "      <td>Lil B</td>\n",
       "      <td>0</td>\n",
       "      <td>0</td>\n",
       "      <td>0</td>\n",
       "      <td>0</td>\n",
       "      <td>...</td>\n",
       "      <td>1</td>\n",
       "      <td>0</td>\n",
       "      <td>0</td>\n",
       "      <td>0</td>\n",
       "      <td>0</td>\n",
       "      <td>0</td>\n",
       "      <td>0</td>\n",
       "      <td>0</td>\n",
       "      <td>0</td>\n",
       "      <td>0</td>\n",
       "    </tr>\n",
       "    <tr>\n",
       "      <th>2</th>\n",
       "      <td>63907</td>\n",
       "      <td>\\n\\nIntro:\\n\\nWhite flame, you fuck with me im...</td>\n",
       "      <td>TCADP1826505</td>\n",
       "      <td>13bHrmEQDArwEPb84maY8R</td>\n",
       "      <td>Tiny Pants Bitch</td>\n",
       "      <td>Lil B</td>\n",
       "      <td>0</td>\n",
       "      <td>0</td>\n",
       "      <td>0</td>\n",
       "      <td>0</td>\n",
       "      <td>...</td>\n",
       "      <td>1</td>\n",
       "      <td>0</td>\n",
       "      <td>0</td>\n",
       "      <td>0</td>\n",
       "      <td>0</td>\n",
       "      <td>0</td>\n",
       "      <td>0</td>\n",
       "      <td>0</td>\n",
       "      <td>0</td>\n",
       "      <td>0</td>\n",
       "    </tr>\n",
       "    <tr>\n",
       "      <th>3</th>\n",
       "      <td>3727044</td>\n",
       "      <td>\\n\\n[Intro]\\nThis that sound\\nThis that pop sh...</td>\n",
       "      <td>TCADQ1846558</td>\n",
       "      <td>6rapmfw88wWE65sJVPVA6E</td>\n",
       "      <td>Riding Skating Rolling Painting</td>\n",
       "      <td>Lil B</td>\n",
       "      <td>0</td>\n",
       "      <td>0</td>\n",
       "      <td>0</td>\n",
       "      <td>0</td>\n",
       "      <td>...</td>\n",
       "      <td>1</td>\n",
       "      <td>0</td>\n",
       "      <td>0</td>\n",
       "      <td>0</td>\n",
       "      <td>0</td>\n",
       "      <td>0</td>\n",
       "      <td>0</td>\n",
       "      <td>0</td>\n",
       "      <td>0</td>\n",
       "      <td>0</td>\n",
       "    </tr>\n",
       "    <tr>\n",
       "      <th>4</th>\n",
       "      <td>3727032</td>\n",
       "      <td>\\n\\nFrankie Joseph: [knocking on door]\\nGodfat...</td>\n",
       "      <td>TCADQ1846529</td>\n",
       "      <td>5LlmpZACRuFeIKjt8xnqjB</td>\n",
       "      <td>Made Man Skit</td>\n",
       "      <td>Lil B</td>\n",
       "      <td>0</td>\n",
       "      <td>0</td>\n",
       "      <td>0</td>\n",
       "      <td>0</td>\n",
       "      <td>...</td>\n",
       "      <td>1</td>\n",
       "      <td>0</td>\n",
       "      <td>0</td>\n",
       "      <td>0</td>\n",
       "      <td>0</td>\n",
       "      <td>0</td>\n",
       "      <td>0</td>\n",
       "      <td>0</td>\n",
       "      <td>0</td>\n",
       "      <td>0</td>\n",
       "    </tr>\n",
       "  </tbody>\n",
       "</table>\n",
       "<p>5 rows × 30 columns</p>\n",
       "</div>"
      ],
      "text/plain": [
       "   song_id                                             lyrics          ISRC  \\\n",
       "0  3727054  \\n\\n(It's Frankie! Frankie! Frankie!)\\n\\nHenry...  TCADQ1846573   \n",
       "1  3727036  \\n\\n[Intro]\\nAye, going, going, going\\nAye, sh...  TCADQ1846536   \n",
       "2    63907  \\n\\nIntro:\\n\\nWhite flame, you fuck with me im...  TCADP1826505   \n",
       "3  3727044  \\n\\n[Intro]\\nThis that sound\\nThis that pop sh...  TCADQ1846558   \n",
       "4  3727032  \\n\\nFrankie Joseph: [knocking on door]\\nGodfat...  TCADQ1846529   \n",
       "\n",
       "               SPOTIFY_ID                            TITLE ARTIST  Blues  \\\n",
       "0  2iZBfDVGWjnQDDOdeddmSB                  Lets Meet Outro  Lil B      0   \n",
       "1  7E9ebOZGFfKIu9iIcS2PVh                      Still Going  Lil B      0   \n",
       "2  13bHrmEQDArwEPb84maY8R                 Tiny Pants Bitch  Lil B      0   \n",
       "3  6rapmfw88wWE65sJVPVA6E  Riding Skating Rolling Painting  Lil B      0   \n",
       "4  5LlmpZACRuFeIKjt8xnqjB                    Made Man Skit  Lil B      0   \n",
       "\n",
       "   Christian/Gospel  Classical  Country   ...     Other  Pop  R&B  Reggae  \\\n",
       "0                 0          0        0   ...         1    0    0       0   \n",
       "1                 0          0        0   ...         1    0    0       0   \n",
       "2                 0          0        0   ...         1    0    0       0   \n",
       "3                 0          0        0   ...         1    0    0       0   \n",
       "4                 0          0        0   ...         1    0    0       0   \n",
       "\n",
       "   Rock/Alt  Rock/Alt/Pop  Sertanejo  Singer-Songwriter  Sleep  missing  \n",
       "0         0             0          0                  0      0        0  \n",
       "1         0             0          0                  0      0        0  \n",
       "2         0             0          0                  0      0        0  \n",
       "3         0             0          0                  0      0        0  \n",
       "4         0             0          0                  0      0        0  \n",
       "\n",
       "[5 rows x 30 columns]"
      ]
     },
     "execution_count": 22,
     "metadata": {},
     "output_type": "execute_result"
    }
   ],
   "source": [
    "merged_genre.head()"
   ]
  },
  {
   "cell_type": "code",
   "execution_count": 23,
   "metadata": {},
   "outputs": [
    {
     "data": {
      "text/plain": [
       "Index(['song_id', 'lyrics', 'ISRC', 'SPOTIFY_ID', 'TITLE', 'ARTIST', 'Blues',\n",
       "       'Christian/Gospel', 'Classical', 'Country', 'Dance/Electro', 'Disco',\n",
       "       'Dutch-House', 'Folk', 'Funk', 'Hip-Hop', 'Indie', 'Jazz', 'Latin',\n",
       "       'Metal', 'Other', 'Pop', 'R&B', 'Reggae', 'Rock/Alt', 'Rock/Alt/Pop',\n",
       "       'Sertanejo', 'Singer-Songwriter', 'Sleep', 'missing'],\n",
       "      dtype='object')"
      ]
     },
     "execution_count": 23,
     "metadata": {},
     "output_type": "execute_result"
    }
   ],
   "source": [
    "merged_genre.columns"
   ]
  },
  {
   "cell_type": "code",
   "execution_count": 34,
   "metadata": {},
   "outputs": [
    {
     "data": {
      "text/html": [
       "<div>\n",
       "<style scoped>\n",
       "    .dataframe tbody tr th:only-of-type {\n",
       "        vertical-align: middle;\n",
       "    }\n",
       "\n",
       "    .dataframe tbody tr th {\n",
       "        vertical-align: top;\n",
       "    }\n",
       "\n",
       "    .dataframe thead th {\n",
       "        text-align: right;\n",
       "    }\n",
       "</style>\n",
       "<table border=\"1\" class=\"dataframe\">\n",
       "  <thead>\n",
       "    <tr style=\"text-align: right;\">\n",
       "      <th></th>\n",
       "      <th>song_id</th>\n",
       "      <th>lyrics</th>\n",
       "      <th>ISRC</th>\n",
       "      <th>SPOTIFY_ID</th>\n",
       "      <th>TITLE</th>\n",
       "      <th>ARTIST</th>\n",
       "    </tr>\n",
       "  </thead>\n",
       "  <tbody>\n",
       "    <tr>\n",
       "      <th>32099</th>\n",
       "      <td>2840336</td>\n",
       "      <td>\\n\\n(Notorious B.I.G.) Intro: (0:00:01 – 0:00:...</td>\n",
       "      <td>TCACI1590002</td>\n",
       "      <td>5CdINMXGvGDZRWHaRPar9v</td>\n",
       "      <td>B.F.F.</td>\n",
       "      <td>12:00:00</td>\n",
       "    </tr>\n",
       "    <tr>\n",
       "      <th>82976</th>\n",
       "      <td>617109</td>\n",
       "      <td>\\n\\n[Hook: J Cole] (00:22)\\nNigga why you acti...</td>\n",
       "      <td>PHUM71100113</td>\n",
       "      <td>2IOA0efmP1P90xFwkCitd4</td>\n",
       "      <td>Time For Love</td>\n",
       "      <td>01:43:00</td>\n",
       "    </tr>\n",
       "  </tbody>\n",
       "</table>\n",
       "</div>"
      ],
      "text/plain": [
       "       song_id                                             lyrics  \\\n",
       "32099  2840336  \\n\\n(Notorious B.I.G.) Intro: (0:00:01 – 0:00:...   \n",
       "82976   617109  \\n\\n[Hook: J Cole] (00:22)\\nNigga why you acti...   \n",
       "\n",
       "               ISRC              SPOTIFY_ID          TITLE    ARTIST  \n",
       "32099  TCACI1590002  5CdINMXGvGDZRWHaRPar9v         B.F.F.  12:00:00  \n",
       "82976  PHUM71100113  2IOA0efmP1P90xFwkCitd4  Time For Love  01:43:00  "
      ]
     },
     "execution_count": 34,
     "metadata": {},
     "output_type": "execute_result"
    }
   ],
   "source": [
    "#Artists that weren't found in genre/hence weren't merged\n",
    "main[~main.ARTIST.isin(merged_genre.ARTIST)]"
   ]
  },
  {
   "cell_type": "markdown",
   "metadata": {},
   "source": [
    "### Explicit tag"
   ]
  },
  {
   "cell_type": "code",
   "execution_count": 26,
   "metadata": {},
   "outputs": [],
   "source": [
    "explicit = pd.read_csv('working_data.nosync/explicit_spotifyid.csv', low_memory=False)"
   ]
  },
  {
   "cell_type": "code",
   "execution_count": 27,
   "metadata": {},
   "outputs": [
    {
     "data": {
      "text/plain": [
       "(612405, 2)"
      ]
     },
     "execution_count": 27,
     "metadata": {},
     "output_type": "execute_result"
    }
   ],
   "source": [
    "explicit.shape"
   ]
  },
  {
   "cell_type": "code",
   "execution_count": 28,
   "metadata": {},
   "outputs": [
    {
     "data": {
      "text/html": [
       "<div>\n",
       "<style scoped>\n",
       "    .dataframe tbody tr th:only-of-type {\n",
       "        vertical-align: middle;\n",
       "    }\n",
       "\n",
       "    .dataframe tbody tr th {\n",
       "        vertical-align: top;\n",
       "    }\n",
       "\n",
       "    .dataframe thead th {\n",
       "        text-align: right;\n",
       "    }\n",
       "</style>\n",
       "<table border=\"1\" class=\"dataframe\">\n",
       "  <thead>\n",
       "    <tr style=\"text-align: right;\">\n",
       "      <th></th>\n",
       "      <th>SPOTIFY_ID</th>\n",
       "      <th>Explicit</th>\n",
       "    </tr>\n",
       "  </thead>\n",
       "  <tbody>\n",
       "    <tr>\n",
       "      <th>0</th>\n",
       "      <td>0Z4CsIA2WIyLPuoKlSLBvW</td>\n",
       "      <td>False</td>\n",
       "    </tr>\n",
       "    <tr>\n",
       "      <th>1</th>\n",
       "      <td>4zEBMipqCInhD3xl9Pzcuo</td>\n",
       "      <td>False</td>\n",
       "    </tr>\n",
       "    <tr>\n",
       "      <th>2</th>\n",
       "      <td>3SH6v9OCnyJVywo14HqVR8</td>\n",
       "      <td>False</td>\n",
       "    </tr>\n",
       "    <tr>\n",
       "      <th>3</th>\n",
       "      <td>0PQMqjrVIH3f1bhILdiaRZ</td>\n",
       "      <td>False</td>\n",
       "    </tr>\n",
       "    <tr>\n",
       "      <th>4</th>\n",
       "      <td>1l9zh64umSqYms1JP5REpi</td>\n",
       "      <td>False</td>\n",
       "    </tr>\n",
       "  </tbody>\n",
       "</table>\n",
       "</div>"
      ],
      "text/plain": [
       "               SPOTIFY_ID Explicit\n",
       "0  0Z4CsIA2WIyLPuoKlSLBvW    False\n",
       "1  4zEBMipqCInhD3xl9Pzcuo    False\n",
       "2  3SH6v9OCnyJVywo14HqVR8    False\n",
       "3  0PQMqjrVIH3f1bhILdiaRZ    False\n",
       "4  1l9zh64umSqYms1JP5REpi    False"
      ]
     },
     "execution_count": 28,
     "metadata": {},
     "output_type": "execute_result"
    }
   ],
   "source": [
    "explicit.head()"
   ]
  },
  {
   "cell_type": "code",
   "execution_count": 29,
   "metadata": {},
   "outputs": [
    {
     "data": {
      "text/plain": [
       "False"
      ]
     },
     "execution_count": 29,
     "metadata": {},
     "output_type": "execute_result"
    }
   ],
   "source": [
    "explicit.SPOTIFY_ID.duplicated().any()"
   ]
  },
  {
   "cell_type": "code",
   "execution_count": 30,
   "metadata": {
    "collapsed": true
   },
   "outputs": [],
   "source": [
    "merged_explicit = merged_genre.merge(explicit, on='SPOTIFY_ID', how='inner')"
   ]
  },
  {
   "cell_type": "code",
   "execution_count": 31,
   "metadata": {},
   "outputs": [
    {
     "data": {
      "text/plain": [
       "(97356, 31)"
      ]
     },
     "execution_count": 31,
     "metadata": {},
     "output_type": "execute_result"
    }
   ],
   "source": [
    "merged_explicit.shape"
   ]
  },
  {
   "cell_type": "code",
   "execution_count": 35,
   "metadata": {},
   "outputs": [
    {
     "data": {
      "text/html": [
       "<div>\n",
       "<style scoped>\n",
       "    .dataframe tbody tr th:only-of-type {\n",
       "        vertical-align: middle;\n",
       "    }\n",
       "\n",
       "    .dataframe tbody tr th {\n",
       "        vertical-align: top;\n",
       "    }\n",
       "\n",
       "    .dataframe thead th {\n",
       "        text-align: right;\n",
       "    }\n",
       "</style>\n",
       "<table border=\"1\" class=\"dataframe\">\n",
       "  <thead>\n",
       "    <tr style=\"text-align: right;\">\n",
       "      <th></th>\n",
       "      <th>song_id</th>\n",
       "      <th>lyrics</th>\n",
       "      <th>ISRC</th>\n",
       "      <th>SPOTIFY_ID</th>\n",
       "      <th>TITLE</th>\n",
       "      <th>ARTIST</th>\n",
       "      <th>Blues</th>\n",
       "      <th>Christian/Gospel</th>\n",
       "      <th>Classical</th>\n",
       "      <th>Country</th>\n",
       "      <th>...</th>\n",
       "      <th>Pop</th>\n",
       "      <th>R&amp;B</th>\n",
       "      <th>Reggae</th>\n",
       "      <th>Rock/Alt</th>\n",
       "      <th>Rock/Alt/Pop</th>\n",
       "      <th>Sertanejo</th>\n",
       "      <th>Singer-Songwriter</th>\n",
       "      <th>Sleep</th>\n",
       "      <th>missing</th>\n",
       "      <th>Explicit</th>\n",
       "    </tr>\n",
       "  </thead>\n",
       "  <tbody>\n",
       "    <tr>\n",
       "      <th>0</th>\n",
       "      <td>3727054</td>\n",
       "      <td>\\n\\n(It's Frankie! Frankie! Frankie!)\\n\\nHenry...</td>\n",
       "      <td>TCADQ1846573</td>\n",
       "      <td>2iZBfDVGWjnQDDOdeddmSB</td>\n",
       "      <td>Lets Meet Outro</td>\n",
       "      <td>Lil B</td>\n",
       "      <td>0</td>\n",
       "      <td>0</td>\n",
       "      <td>0</td>\n",
       "      <td>0</td>\n",
       "      <td>...</td>\n",
       "      <td>0</td>\n",
       "      <td>0</td>\n",
       "      <td>0</td>\n",
       "      <td>0</td>\n",
       "      <td>0</td>\n",
       "      <td>0</td>\n",
       "      <td>0</td>\n",
       "      <td>0</td>\n",
       "      <td>0</td>\n",
       "      <td>True</td>\n",
       "    </tr>\n",
       "    <tr>\n",
       "      <th>1</th>\n",
       "      <td>3727036</td>\n",
       "      <td>\\n\\n[Intro]\\nAye, going, going, going\\nAye, sh...</td>\n",
       "      <td>TCADQ1846536</td>\n",
       "      <td>7E9ebOZGFfKIu9iIcS2PVh</td>\n",
       "      <td>Still Going</td>\n",
       "      <td>Lil B</td>\n",
       "      <td>0</td>\n",
       "      <td>0</td>\n",
       "      <td>0</td>\n",
       "      <td>0</td>\n",
       "      <td>...</td>\n",
       "      <td>0</td>\n",
       "      <td>0</td>\n",
       "      <td>0</td>\n",
       "      <td>0</td>\n",
       "      <td>0</td>\n",
       "      <td>0</td>\n",
       "      <td>0</td>\n",
       "      <td>0</td>\n",
       "      <td>0</td>\n",
       "      <td>True</td>\n",
       "    </tr>\n",
       "    <tr>\n",
       "      <th>2</th>\n",
       "      <td>63907</td>\n",
       "      <td>\\n\\nIntro:\\n\\nWhite flame, you fuck with me im...</td>\n",
       "      <td>TCADP1826505</td>\n",
       "      <td>13bHrmEQDArwEPb84maY8R</td>\n",
       "      <td>Tiny Pants Bitch</td>\n",
       "      <td>Lil B</td>\n",
       "      <td>0</td>\n",
       "      <td>0</td>\n",
       "      <td>0</td>\n",
       "      <td>0</td>\n",
       "      <td>...</td>\n",
       "      <td>0</td>\n",
       "      <td>0</td>\n",
       "      <td>0</td>\n",
       "      <td>0</td>\n",
       "      <td>0</td>\n",
       "      <td>0</td>\n",
       "      <td>0</td>\n",
       "      <td>0</td>\n",
       "      <td>0</td>\n",
       "      <td>True</td>\n",
       "    </tr>\n",
       "    <tr>\n",
       "      <th>3</th>\n",
       "      <td>3727044</td>\n",
       "      <td>\\n\\n[Intro]\\nThis that sound\\nThis that pop sh...</td>\n",
       "      <td>TCADQ1846558</td>\n",
       "      <td>6rapmfw88wWE65sJVPVA6E</td>\n",
       "      <td>Riding Skating Rolling Painting</td>\n",
       "      <td>Lil B</td>\n",
       "      <td>0</td>\n",
       "      <td>0</td>\n",
       "      <td>0</td>\n",
       "      <td>0</td>\n",
       "      <td>...</td>\n",
       "      <td>0</td>\n",
       "      <td>0</td>\n",
       "      <td>0</td>\n",
       "      <td>0</td>\n",
       "      <td>0</td>\n",
       "      <td>0</td>\n",
       "      <td>0</td>\n",
       "      <td>0</td>\n",
       "      <td>0</td>\n",
       "      <td>True</td>\n",
       "    </tr>\n",
       "    <tr>\n",
       "      <th>4</th>\n",
       "      <td>3727032</td>\n",
       "      <td>\\n\\nFrankie Joseph: [knocking on door]\\nGodfat...</td>\n",
       "      <td>TCADQ1846529</td>\n",
       "      <td>5LlmpZACRuFeIKjt8xnqjB</td>\n",
       "      <td>Made Man Skit</td>\n",
       "      <td>Lil B</td>\n",
       "      <td>0</td>\n",
       "      <td>0</td>\n",
       "      <td>0</td>\n",
       "      <td>0</td>\n",
       "      <td>...</td>\n",
       "      <td>0</td>\n",
       "      <td>0</td>\n",
       "      <td>0</td>\n",
       "      <td>0</td>\n",
       "      <td>0</td>\n",
       "      <td>0</td>\n",
       "      <td>0</td>\n",
       "      <td>0</td>\n",
       "      <td>0</td>\n",
       "      <td>True</td>\n",
       "    </tr>\n",
       "  </tbody>\n",
       "</table>\n",
       "<p>5 rows × 31 columns</p>\n",
       "</div>"
      ],
      "text/plain": [
       "   song_id                                             lyrics          ISRC  \\\n",
       "0  3727054  \\n\\n(It's Frankie! Frankie! Frankie!)\\n\\nHenry...  TCADQ1846573   \n",
       "1  3727036  \\n\\n[Intro]\\nAye, going, going, going\\nAye, sh...  TCADQ1846536   \n",
       "2    63907  \\n\\nIntro:\\n\\nWhite flame, you fuck with me im...  TCADP1826505   \n",
       "3  3727044  \\n\\n[Intro]\\nThis that sound\\nThis that pop sh...  TCADQ1846558   \n",
       "4  3727032  \\n\\nFrankie Joseph: [knocking on door]\\nGodfat...  TCADQ1846529   \n",
       "\n",
       "               SPOTIFY_ID                            TITLE ARTIST  Blues  \\\n",
       "0  2iZBfDVGWjnQDDOdeddmSB                  Lets Meet Outro  Lil B      0   \n",
       "1  7E9ebOZGFfKIu9iIcS2PVh                      Still Going  Lil B      0   \n",
       "2  13bHrmEQDArwEPb84maY8R                 Tiny Pants Bitch  Lil B      0   \n",
       "3  6rapmfw88wWE65sJVPVA6E  Riding Skating Rolling Painting  Lil B      0   \n",
       "4  5LlmpZACRuFeIKjt8xnqjB                    Made Man Skit  Lil B      0   \n",
       "\n",
       "   Christian/Gospel  Classical  Country    ...     Pop  R&B  Reggae  Rock/Alt  \\\n",
       "0                 0          0        0    ...       0    0       0         0   \n",
       "1                 0          0        0    ...       0    0       0         0   \n",
       "2                 0          0        0    ...       0    0       0         0   \n",
       "3                 0          0        0    ...       0    0       0         0   \n",
       "4                 0          0        0    ...       0    0       0         0   \n",
       "\n",
       "   Rock/Alt/Pop  Sertanejo  Singer-Songwriter  Sleep  missing  Explicit  \n",
       "0             0          0                  0      0        0      True  \n",
       "1             0          0                  0      0        0      True  \n",
       "2             0          0                  0      0        0      True  \n",
       "3             0          0                  0      0        0      True  \n",
       "4             0          0                  0      0        0      True  \n",
       "\n",
       "[5 rows x 31 columns]"
      ]
     },
     "execution_count": 35,
     "metadata": {},
     "output_type": "execute_result"
    }
   ],
   "source": [
    "merged_explicit.head()"
   ]
  },
  {
   "cell_type": "code",
   "execution_count": 36,
   "metadata": {
    "collapsed": true
   },
   "outputs": [],
   "source": [
    "merged_explicit.to_csv('merged_eng_lyrics_genre_explicit.csv', index=False)"
   ]
  }
 ],
 "metadata": {
  "kernelspec": {
   "display_name": "Python 3",
   "language": "python",
   "name": "python3"
  },
  "language_info": {
   "codemirror_mode": {
    "name": "ipython",
    "version": 3
   },
   "file_extension": ".py",
   "mimetype": "text/x-python",
   "name": "python",
   "nbconvert_exporter": "python",
   "pygments_lexer": "ipython3",
   "version": "3.6.2"
  }
 },
 "nbformat": 4,
 "nbformat_minor": 2
}
