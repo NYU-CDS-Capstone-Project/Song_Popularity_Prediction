{
 "cells": [
  {
   "cell_type": "markdown",
   "metadata": {},
   "source": [
    "### The goal is to determine how repetitive each lyrics is"
   ]
  },
  {
   "cell_type": "markdown",
   "metadata": {},
   "source": [
    "To determine how repetitive a song is, we will use Abraham Lempel and Jacob Ziv (LZ77) algorithm to identify repetitions in a piece of text. The algorithm finds and compresses parts of text that are the same. To obtain this information, we will first compress each file using GZIP - which uses DEFLATE, a combination of LZ77 and Huffman coding. Then we will use the program called infgen which provided statistics of a file compressed by gzip. We will use the statistics on compression to estimate how repetitive a song is, based on how much it was compressed. "
   ]
  },
  {
   "cell_type": "markdown",
   "metadata": {},
   "source": [
    "References: https://jvns.ca/blog/2015/02/22/how-gzip-uses-huffman-coding/\n",
    "https://github.com/madler/infgen/blob/master/infgen.c\n",
    "https://github.com/colinmorris/lalala"
   ]
  },
  {
   "cell_type": "markdown",
   "metadata": {},
   "source": [
    "### On infgen usage\n",
    "\n",
    "With the -s option, infgen will generate statistics comments, all of which\n",
    "    begin with \"! stats \".  There are statistics for each deflate block, and\n",
    "    summary statistics after the last deflate block.  \n",
    "    \n",
    "    After the last deflate block, total statistics are output.  They all begin\n",
    "    with \"! stats total \".  The block input and output amounts are summed for\n",
    "    example as: \"! stats total inout 93232233:0 (55120762) 454563840\", with the\n",
    "    same format as \"! stats inout\", except without the reach.\n",
    "    \"! stats total block average 34162.3 uncompressed\" states for example that\n",
    "    the average number of uncompressed bytes per block was 34162.3.  Similarly\n",
    "    \"! stats total block average 4142.5 symbols\" states that there were 4142.5\n",
    "    symbols on average per block.  \"! stats total literals 6.9 bits each\"\n",
    "    states that there were 6.9 bits used on average per literal.  Lastly the\n",
    "    matches are summed: \"! stats total matches 95.2% (33314520 x 13.0)\" with\n",
    "    the same format as \"! stats matches\"."
   ]
  },
  {
   "cell_type": "code",
   "execution_count": 52,
   "metadata": {
    "collapsed": true
   },
   "outputs": [],
   "source": [
    "import pandas as pd\n",
    "import re\n",
    "import os\n",
    "from matplotlib import pyplot as plt\n",
    "import numpy as np"
   ]
  },
  {
   "cell_type": "code",
   "execution_count": 2,
   "metadata": {
    "collapsed": true
   },
   "outputs": [],
   "source": [
    "lyrics = pd.read_csv('lyrics.nosync/final_matrix.csv')"
   ]
  },
  {
   "cell_type": "code",
   "execution_count": 3,
   "metadata": {},
   "outputs": [
    {
     "data": {
      "text/plain": [
       "(14157, 37)"
      ]
     },
     "execution_count": 3,
     "metadata": {},
     "output_type": "execute_result"
    }
   ],
   "source": [
    "lyrics.shape"
   ]
  },
  {
   "cell_type": "code",
   "execution_count": 4,
   "metadata": {},
   "outputs": [
    {
     "data": {
      "text/html": [
       "<div>\n",
       "<style>\n",
       "    .dataframe thead tr:only-child th {\n",
       "        text-align: right;\n",
       "    }\n",
       "\n",
       "    .dataframe thead th {\n",
       "        text-align: left;\n",
       "    }\n",
       "\n",
       "    .dataframe tbody tr th {\n",
       "        vertical-align: top;\n",
       "    }\n",
       "</style>\n",
       "<table border=\"1\" class=\"dataframe\">\n",
       "  <thead>\n",
       "    <tr style=\"text-align: right;\">\n",
       "      <th></th>\n",
       "      <th>ARTIST</th>\n",
       "      <th>ISRC</th>\n",
       "      <th>SPOTIFY_ID</th>\n",
       "      <th>TITLE</th>\n",
       "      <th>lyrics</th>\n",
       "      <th>song_id</th>\n",
       "      <th>producer</th>\n",
       "      <th>number_of_tracks</th>\n",
       "      <th>number_of_albums</th>\n",
       "      <th>number_of_playlists</th>\n",
       "      <th>...</th>\n",
       "      <th>Metal</th>\n",
       "      <th>Other</th>\n",
       "      <th>Pop</th>\n",
       "      <th>R&amp;B</th>\n",
       "      <th>Reggae</th>\n",
       "      <th>Rock/Alt</th>\n",
       "      <th>Rock/Alt/Pop</th>\n",
       "      <th>Singer-Songwriter</th>\n",
       "      <th>genre_missing</th>\n",
       "      <th>Explicit</th>\n",
       "    </tr>\n",
       "  </thead>\n",
       "  <tbody>\n",
       "    <tr>\n",
       "      <th>0</th>\n",
       "      <td>Yo La Tengo</td>\n",
       "      <td>USMTD0985602</td>\n",
       "      <td>158mw0CsuSHxTVWpMwN2Lp</td>\n",
       "      <td>Avalon or Someone Very Similar</td>\n",
       "      <td>\\n\\nAvalon, how did these things happen? Avalo...</td>\n",
       "      <td>1369717</td>\n",
       "      <td>['Roger Moutenot']</td>\n",
       "      <td>143</td>\n",
       "      <td>40</td>\n",
       "      <td>649</td>\n",
       "      <td>...</td>\n",
       "      <td>0</td>\n",
       "      <td>1</td>\n",
       "      <td>1</td>\n",
       "      <td>0</td>\n",
       "      <td>0</td>\n",
       "      <td>1</td>\n",
       "      <td>0</td>\n",
       "      <td>0</td>\n",
       "      <td>0</td>\n",
       "      <td>0</td>\n",
       "    </tr>\n",
       "    <tr>\n",
       "      <th>1</th>\n",
       "      <td>Yo La Tengo</td>\n",
       "      <td>USGKX9802104</td>\n",
       "      <td>7iX2vtYJlemPod7080OxTG</td>\n",
       "      <td>Swing For Life</td>\n",
       "      <td>\\n\\nOh, true rider, fasten me\\nI saw a mystery...</td>\n",
       "      <td>1063052</td>\n",
       "      <td>[]</td>\n",
       "      <td>143</td>\n",
       "      <td>40</td>\n",
       "      <td>649</td>\n",
       "      <td>...</td>\n",
       "      <td>0</td>\n",
       "      <td>1</td>\n",
       "      <td>1</td>\n",
       "      <td>0</td>\n",
       "      <td>0</td>\n",
       "      <td>1</td>\n",
       "      <td>0</td>\n",
       "      <td>0</td>\n",
       "      <td>0</td>\n",
       "      <td>0</td>\n",
       "    </tr>\n",
       "    <tr>\n",
       "      <th>2</th>\n",
       "      <td>Yo La Tengo</td>\n",
       "      <td>USMTD1810576</td>\n",
       "      <td>2YmjVaikl30rmZZzlGTwPE</td>\n",
       "      <td>Ashes</td>\n",
       "      <td>\\n\\nI put spots on a bird of paradise, snake e...</td>\n",
       "      <td>3596137</td>\n",
       "      <td>['Yo La Tengo']</td>\n",
       "      <td>143</td>\n",
       "      <td>40</td>\n",
       "      <td>649</td>\n",
       "      <td>...</td>\n",
       "      <td>0</td>\n",
       "      <td>1</td>\n",
       "      <td>1</td>\n",
       "      <td>0</td>\n",
       "      <td>0</td>\n",
       "      <td>1</td>\n",
       "      <td>0</td>\n",
       "      <td>0</td>\n",
       "      <td>0</td>\n",
       "      <td>0</td>\n",
       "    </tr>\n",
       "    <tr>\n",
       "      <th>3</th>\n",
       "      <td>Smrtdeath</td>\n",
       "      <td>QZANL1773974</td>\n",
       "      <td>4sBj3qUIPBkIMcRVlh6iXI</td>\n",
       "      <td>Let It Bleed</td>\n",
       "      <td>\\n\\n[Intro]\\nSethany, Sethany, Sethany\\nYeah, ...</td>\n",
       "      <td>3150542</td>\n",
       "      <td>['Taxpurposes']</td>\n",
       "      <td>10</td>\n",
       "      <td>10</td>\n",
       "      <td>30</td>\n",
       "      <td>...</td>\n",
       "      <td>0</td>\n",
       "      <td>0</td>\n",
       "      <td>0</td>\n",
       "      <td>0</td>\n",
       "      <td>0</td>\n",
       "      <td>0</td>\n",
       "      <td>0</td>\n",
       "      <td>0</td>\n",
       "      <td>0</td>\n",
       "      <td>1</td>\n",
       "    </tr>\n",
       "    <tr>\n",
       "      <th>4</th>\n",
       "      <td>Smrtdeath</td>\n",
       "      <td>QZANL1773973</td>\n",
       "      <td>3gjrflTTriqZ9d30uSF4hP</td>\n",
       "      <td>Went &amp; Got Some More</td>\n",
       "      <td>\\n\\n[Hook: Smrtdeath]\\nI just lost some drugs,...</td>\n",
       "      <td>3256462</td>\n",
       "      <td>['Eternal Night', 'Sorry If I Waste Your Time']</td>\n",
       "      <td>10</td>\n",
       "      <td>10</td>\n",
       "      <td>30</td>\n",
       "      <td>...</td>\n",
       "      <td>0</td>\n",
       "      <td>0</td>\n",
       "      <td>0</td>\n",
       "      <td>0</td>\n",
       "      <td>0</td>\n",
       "      <td>0</td>\n",
       "      <td>0</td>\n",
       "      <td>0</td>\n",
       "      <td>0</td>\n",
       "      <td>1</td>\n",
       "    </tr>\n",
       "  </tbody>\n",
       "</table>\n",
       "<p>5 rows × 37 columns</p>\n",
       "</div>"
      ],
      "text/plain": [
       "        ARTIST          ISRC              SPOTIFY_ID  \\\n",
       "0  Yo La Tengo  USMTD0985602  158mw0CsuSHxTVWpMwN2Lp   \n",
       "1  Yo La Tengo  USGKX9802104  7iX2vtYJlemPod7080OxTG   \n",
       "2  Yo La Tengo  USMTD1810576  2YmjVaikl30rmZZzlGTwPE   \n",
       "3    Smrtdeath  QZANL1773974  4sBj3qUIPBkIMcRVlh6iXI   \n",
       "4    Smrtdeath  QZANL1773973  3gjrflTTriqZ9d30uSF4hP   \n",
       "\n",
       "                            TITLE  \\\n",
       "0  Avalon or Someone Very Similar   \n",
       "1                  Swing For Life   \n",
       "2                           Ashes   \n",
       "3                    Let It Bleed   \n",
       "4            Went & Got Some More   \n",
       "\n",
       "                                              lyrics  song_id  \\\n",
       "0  \\n\\nAvalon, how did these things happen? Avalo...  1369717   \n",
       "1  \\n\\nOh, true rider, fasten me\\nI saw a mystery...  1063052   \n",
       "2  \\n\\nI put spots on a bird of paradise, snake e...  3596137   \n",
       "3  \\n\\n[Intro]\\nSethany, Sethany, Sethany\\nYeah, ...  3150542   \n",
       "4  \\n\\n[Hook: Smrtdeath]\\nI just lost some drugs,...  3256462   \n",
       "\n",
       "                                          producer  number_of_tracks  \\\n",
       "0                               ['Roger Moutenot']               143   \n",
       "1                                               []               143   \n",
       "2                                  ['Yo La Tengo']               143   \n",
       "3                                  ['Taxpurposes']                10   \n",
       "4  ['Eternal Night', 'Sorry If I Waste Your Time']                10   \n",
       "\n",
       "   number_of_albums  number_of_playlists    ...     Metal  Other  Pop  R&B  \\\n",
       "0                40                  649    ...         0      1    1    0   \n",
       "1                40                  649    ...         0      1    1    0   \n",
       "2                40                  649    ...         0      1    1    0   \n",
       "3                10                   30    ...         0      0    0    0   \n",
       "4                10                   30    ...         0      0    0    0   \n",
       "\n",
       "   Reggae  Rock/Alt  Rock/Alt/Pop  Singer-Songwriter  genre_missing  Explicit  \n",
       "0       0         1             0                  0              0         0  \n",
       "1       0         1             0                  0              0         0  \n",
       "2       0         1             0                  0              0         0  \n",
       "3       0         0             0                  0              0         1  \n",
       "4       0         0             0                  0              0         1  \n",
       "\n",
       "[5 rows x 37 columns]"
      ]
     },
     "execution_count": 4,
     "metadata": {},
     "output_type": "execute_result"
    }
   ],
   "source": [
    "lyrics.head()"
   ]
  },
  {
   "cell_type": "code",
   "execution_count": 6,
   "metadata": {
    "collapsed": true
   },
   "outputs": [],
   "source": [
    "test = lyrics['lyrics'][5].split('\\n')"
   ]
  },
  {
   "cell_type": "code",
   "execution_count": 7,
   "metadata": {
    "collapsed": true
   },
   "outputs": [],
   "source": [
    "with open('test_file.txt', 'w') as f:\n",
    "    for item in test:\n",
    "        f.write(\"%s\\n\" % item)"
   ]
  },
  {
   "cell_type": "code",
   "execution_count": 8,
   "metadata": {},
   "outputs": [
    {
     "name": "stdout",
     "output_type": "stream",
     "text": [
      "\n",
      "\n",
      "Avalon, how did these things happen? Avalon, tell me all you know\n",
      "The perfect crime we laughed about it, laughed the whole night through\n",
      "When we were caught, it was because of you\n",
      "\n",
      "Talking about all that we once knew\n",
      "\n",
      "Avalon, the clock is falling back now, Avalon, we'd be if we could\n",
      "You used to say \"the water's fine, nevermind the view\"\n",
      "I didn't mind as long as I have you\n",
      "\n",
      "Talking about all that we've been through\n",
      "\n",
      "Somedays, somedays we might be tired of being tired\n",
      "We claim, we claim to be one of one of one\n",
      "\n",
      "We didn't know the things we said, would turn out untrue\n",
      "The day would come when I'd be somewhere new and what about you\n",
      "Times have changed for me and times have changed for you, for you\n",
      "\n",
      "Talking about all that we once knew\n",
      "\n",
      "\n",
      "1369717\n"
     ]
    }
   ],
   "source": [
    "for i,j in lyrics.iterrows():\n",
    "    print(j['lyrics'])\n",
    "    print(j['song_id'])\n",
    "    break"
   ]
  },
  {
   "cell_type": "code",
   "execution_count": 6,
   "metadata": {
    "collapsed": true
   },
   "outputs": [],
   "source": [
    "#Convert each lyrics to a separate text file\n",
    "for index, row in lyrics.iterrows():\n",
    "    lyrics_data = row.lyrics\n",
    "    song_id = row.song_id\n",
    "\n",
    "    with open('working_files/'+str(song_id)+'.txt', 'w') as f:\n",
    "        f.write(lyrics_data)"
   ]
  },
  {
   "cell_type": "code",
   "execution_count": 10,
   "metadata": {},
   "outputs": [
    {
     "name": "stdout",
     "output_type": "stream",
     "text": [
      "gzip: can't stat: *.txt (*.txt): No such file or directory\r\n"
     ]
    }
   ],
   "source": [
    "# Zip every txt file in the current folder\n",
    "! gzip working_files/ -r *.txt "
   ]
  },
  {
   "cell_type": "code",
   "execution_count": 14,
   "metadata": {},
   "outputs": [
    {
     "name": "stdout",
     "output_type": "stream",
     "text": [
      "/bin/sh: -c: line 1: syntax error: unexpected end of file\n",
      "\n",
      "infgen 2.4\n",
      "Usage:\n",
      "\n",
      "  infgen [-dq[q]isrb] input_path > output_path\n",
      "  infgen [-dq[q]isrb] < input_path > output_path\n",
      "\n",
      "    -d   Write raw dynamic header (code lengths in comments)\n",
      "    -q   Do not write dynamic code lengths (comments or not)\n",
      "    -qq  Do not write deflate stream description at all\n",
      "    -i   Include detailed gzip / zlib header descriptions\n",
      "    -s   Include deflate block statistics (as comments)\n",
      "    -r   Assume raw deflate data -- do not look for headers\n",
      "    -b   Write compact binary format (only -r honored)\n",
      "\n",
      "/bin/sh: -c: line 0: syntax error near unexpected token `done'\n",
      "/bin/sh: -c: line 0: `    done'\n"
     ]
    }
   ],
   "source": [
    "! for filename in /working_files/*.txt; do\n",
    "!        ./infgen -s $filename > $filename.txt \n",
    "!    done"
   ]
  },
  {
   "cell_type": "code",
   "execution_count": 11,
   "metadata": {},
   "outputs": [
    {
     "name": "stdout",
     "output_type": "stream",
     "text": [
      "infgen error: only one input file permitted (*.txt.gz)\r\n"
     ]
    }
   ],
   "source": [
    "# Extract infgen data about compression from each file\n",
    "! ./infgen -s *.txt.gz > *.txt"
   ]
  },
  {
   "cell_type": "code",
   "execution_count": 23,
   "metadata": {},
   "outputs": [],
   "source": [
    "# Find all files outputed by infgen\n",
    "out_files = [f for f in os.listdir('output_files/') if f.endswith('.txt')]"
   ]
  },
  {
   "cell_type": "code",
   "execution_count": 31,
   "metadata": {},
   "outputs": [
    {
     "data": {
      "text/plain": [
       "'3462015.txt.gz.txt'"
      ]
     },
     "execution_count": 31,
     "metadata": {},
     "output_type": "execute_result"
    }
   ],
   "source": [
    "out_files[0]"
   ]
  },
  {
   "cell_type": "code",
   "execution_count": 209,
   "metadata": {},
   "outputs": [],
   "source": [
    "# Find compression ratios\n",
    "ids = []\n",
    "compression_ratios = []\n",
    "\n",
    "for file in out_files:\n",
    "    ratio = ratio_by_file(file)\n",
    "    compression_ratios.append(ratio)\n",
    "    file_id = file.split('.')[0]\n",
    "    ids.append(file_id)"
   ]
  },
  {
   "cell_type": "code",
   "execution_count": 210,
   "metadata": {},
   "outputs": [],
   "source": [
    "ratio_by_file = pd.DataFrame()\n",
    "ratio_by_file['song_id'] = ids\n",
    "ratio_by_file['repetition_share'] = compression_ratios"
   ]
  },
  {
   "cell_type": "code",
   "execution_count": 211,
   "metadata": {},
   "outputs": [
    {
     "data": {
      "text/plain": [
       "(14157, 2)"
      ]
     },
     "execution_count": 211,
     "metadata": {},
     "output_type": "execute_result"
    }
   ],
   "source": [
    "ratio_by_file.shape"
   ]
  },
  {
   "cell_type": "code",
   "execution_count": 212,
   "metadata": {},
   "outputs": [
    {
     "data": {
      "text/html": [
       "<div>\n",
       "<style>\n",
       "    .dataframe thead tr:only-child th {\n",
       "        text-align: right;\n",
       "    }\n",
       "\n",
       "    .dataframe thead th {\n",
       "        text-align: left;\n",
       "    }\n",
       "\n",
       "    .dataframe tbody tr th {\n",
       "        vertical-align: top;\n",
       "    }\n",
       "</style>\n",
       "<table border=\"1\" class=\"dataframe\">\n",
       "  <thead>\n",
       "    <tr style=\"text-align: right;\">\n",
       "      <th></th>\n",
       "      <th>song_id</th>\n",
       "      <th>repetition_share</th>\n",
       "    </tr>\n",
       "  </thead>\n",
       "  <tbody>\n",
       "    <tr>\n",
       "      <th>0</th>\n",
       "      <td>3462015</td>\n",
       "      <td>0.446273</td>\n",
       "    </tr>\n",
       "    <tr>\n",
       "      <th>1</th>\n",
       "      <td>821682</td>\n",
       "      <td>0.326169</td>\n",
       "    </tr>\n",
       "    <tr>\n",
       "      <th>2</th>\n",
       "      <td>1384829</td>\n",
       "      <td>0.221843</td>\n",
       "    </tr>\n",
       "    <tr>\n",
       "      <th>3</th>\n",
       "      <td>1586903</td>\n",
       "      <td>0.420432</td>\n",
       "    </tr>\n",
       "    <tr>\n",
       "      <th>4</th>\n",
       "      <td>942185</td>\n",
       "      <td>0.129151</td>\n",
       "    </tr>\n",
       "  </tbody>\n",
       "</table>\n",
       "</div>"
      ],
      "text/plain": [
       "   song_id  repetition_share\n",
       "0  3462015          0.446273\n",
       "1   821682          0.326169\n",
       "2  1384829          0.221843\n",
       "3  1586903          0.420432\n",
       "4   942185          0.129151"
      ]
     },
     "execution_count": 212,
     "metadata": {},
     "output_type": "execute_result"
    }
   ],
   "source": [
    "ratio_by_file.head()"
   ]
  },
  {
   "cell_type": "code",
   "execution_count": 228,
   "metadata": {},
   "outputs": [
    {
     "data": {
      "image/png": "[encoded data removed]",
      "text/plain": [
       "<matplotlib.figure.Figure at 0x1252a7f98>"
      ]
     },
     "metadata": {},
     "output_type": "display_data"
    }
   ],
   "source": [
    "weights = np.ones_like(ratio_by_file.repetition_share)/float(len(ratio_by_file.repetition_share))\n",
    "plt.hist(ratio_by_file.repetition_share, 10, weights=weights)\n",
    "plt.title('Repetitiveness Distribution')\n",
    "plt.xlabel('Share of repetition per song')\n",
    "plt.ylabel('Share of all songs')\n",
    "plt.show()"
   ]
  },
  {
   "cell_type": "code",
   "execution_count": 229,
   "metadata": {},
   "outputs": [],
   "source": [
    "ratio_by_file['song_id'] = ratio_by_file.song_id.map(lambda x: int(x))"
   ]
  },
  {
   "cell_type": "code",
   "execution_count": 230,
   "metadata": {
    "collapsed": true
   },
   "outputs": [],
   "source": [
    "merged = lyrics.merge(ratio_by_file, how='inner', on='song_id')"
   ]
  },
  {
   "cell_type": "code",
   "execution_count": 231,
   "metadata": {},
   "outputs": [
    {
     "data": {
      "text/plain": [
       "(14157, 38)"
      ]
     },
     "execution_count": 231,
     "metadata": {},
     "output_type": "execute_result"
    }
   ],
   "source": [
    "merged.shape\n"
   ]
  },
  {
   "cell_type": "markdown",
   "metadata": {},
   "source": [
    "### More popular songs are more repetitive"
   ]
  },
  {
   "cell_type": "code",
   "execution_count": 174,
   "metadata": {
    "collapsed": true
   },
   "outputs": [],
   "source": [
    "from scipy.stats import pointbiserialr"
   ]
  },
  {
   "cell_type": "code",
   "execution_count": 177,
   "metadata": {},
   "outputs": [
    {
     "data": {
      "text/plain": [
       "PointbiserialrResult(correlation=-0.13100763025415227, pvalue=3.1278326381167285e-55)"
      ]
     },
     "execution_count": 177,
     "metadata": {},
     "output_type": "execute_result"
    }
   ],
   "source": [
    "pointbiserialr(merged.log_repetitiveness, merged.Metal)"
   ]
  },
  {
   "cell_type": "code",
   "execution_count": 233,
   "metadata": {},
   "outputs": [
    {
     "data": {
      "text/plain": [
       "repetition_share           1.000000\n",
       "song_id                    0.270345\n",
       "max_popularity             0.266698\n",
       "highest_song_popularity    0.202580\n",
       "average_song_popularity    0.201805\n",
       "Dance/Electro              0.140254\n",
       "Pop                        0.136368\n",
       "playlist_followers         0.136303\n",
       "number_of_playlists        0.126005\n",
       "B_Level Artist?            0.092515\n",
       "number_of_albums           0.053980\n",
       "Christian/Gospel           0.053068\n",
       "R&B                        0.044546\n",
       "Dutch-House                0.035792\n",
       "Reggae                     0.033090\n",
       "Rock/Alt/Pop               0.016808\n",
       "Blues                      0.004228\n",
       "genre_missing              0.003130\n",
       "Disco                      0.001330\n",
       "Latin                     -0.001325\n",
       "Indie                     -0.005218\n",
       "Hip-Hop                   -0.018805\n",
       "number_of_tracks          -0.021459\n",
       "Explicit                  -0.032925\n",
       "Country                   -0.037322\n",
       "Singer-Songwriter         -0.045894\n",
       "Jazz                      -0.047856\n",
       "Folk                      -0.078442\n",
       "Rock/Alt                  -0.078726\n",
       "Other                     -0.138688\n",
       "Metal                     -0.145160\n",
       "A_Level_Artist?                 NaN\n",
       "Name: repetition_share, dtype: float64"
      ]
     },
     "execution_count": 233,
     "metadata": {},
     "output_type": "execute_result"
    }
   ],
   "source": [
    "cors = merged.corr()['repetition_share'].sort_values(ascending=False)\n",
    "cors"
   ]
  },
  {
   "cell_type": "code",
   "execution_count": 234,
   "metadata": {},
   "outputs": [
    {
     "data": {
      "image/png": "[encoded data removed]",
      "text/plain": [
       "<matplotlib.figure.Figure at 0x1252a7128>"
      ]
     },
     "metadata": {},
     "output_type": "display_data"
    }
   ],
   "source": [
    "plt.figure(figsize=(20,10))\n",
    "plt.barh(np.arange(28), cors.values[3:-1])\n",
    "plt.yticks(np.arange(28), cors.index[3:-1])\n",
    "plt.title('Correlation with repetitiveness')\n",
    "plt.show()"
   ]
  },
  {
   "cell_type": "code",
   "execution_count": 201,
   "metadata": {},
   "outputs": [
    {
     "data": {
      "image/png": "[encoded data removed]",
      "text/plain": [
       "<matplotlib.figure.Figure at 0x124a1c048>"
      ]
     },
     "metadata": {},
     "output_type": "display_data"
    }
   ],
   "source": [
    "plt.scatter(merged.repetitiveness, merged.max_popularity)\n",
    "plt.show()"
   ]
  },
  {
   "cell_type": "code",
   "execution_count": 202,
   "metadata": {},
   "outputs": [],
   "source": [
    "genres = ['Blues', 'Christian/Gospel', 'Country',\n",
    "       'Dance/Electro', 'Disco', 'Dutch-House', 'Folk', 'Hip-Hop', 'Indie',\n",
    "       'Jazz', 'Latin', 'Metal', 'Other', 'Pop', 'R&B', 'Reggae', 'Rock/Alt',\n",
    "       'Rock/Alt/Pop', 'Singer-Songwriter', 'genre_missing']"
   ]
  },
  {
   "cell_type": "code",
   "execution_count": 235,
   "metadata": {
    "collapsed": true
   },
   "outputs": [],
   "source": [
    "repetitiveness_by_genre = {}\n",
    "\n",
    "for genre in genres:\n",
    "    r = merged[merged[genre]==1]['repetition_share'].mean()\n",
    "    repetitiveness_by_genre[genre] = r"
   ]
  },
  {
   "cell_type": "code",
   "execution_count": 236,
   "metadata": {},
   "outputs": [
    {
     "data": {
      "text/plain": [
       "{'Blues': 0.44248313251560273,\n",
       " 'Christian/Gospel': 0.5025435261000623,\n",
       " 'Country': 0.41244454136996844,\n",
       " 'Dance/Electro': 0.48877246779202455,\n",
       " 'Disco': 0.4380148503520831,\n",
       " 'Dutch-House': 0.5879659656823173,\n",
       " 'Folk': 0.3979916651406296,\n",
       " 'Hip-Hop': 0.4297920747022033,\n",
       " 'Indie': 0.4338785620411465,\n",
       " 'Jazz': 0.3853740586181462,\n",
       " 'Latin': 0.4332349364104605,\n",
       " 'Metal': 0.36923309825735773,\n",
       " 'Other': 0.41383738355846705,\n",
       " 'Pop': 0.4681644354109963,\n",
       " 'R&B': 0.46159279734590875,\n",
       " 'Reggae': 0.4774276459323759,\n",
       " 'Rock/Alt': 0.41710923125418753,\n",
       " 'Rock/Alt/Pop': 0.48116311536205986,\n",
       " 'Singer-Songwriter': 0.39784282323186615,\n",
       " 'genre_missing': 0.43716719233558526}"
      ]
     },
     "execution_count": 236,
     "metadata": {},
     "output_type": "execute_result"
    }
   ],
   "source": [
    "repetitiveness_by_genre"
   ]
  },
  {
   "cell_type": "code",
   "execution_count": 251,
   "metadata": {},
   "outputs": [
    {
     "data": {
      "image/png": "[encoded data removed]",
      "text/plain": [
       "<matplotlib.figure.Figure at 0x124baee48>"
      ]
     },
     "metadata": {},
     "output_type": "display_data"
    }
   ],
   "source": [
    "sort_idx = np.argsort(list(repetitiveness_by_genre.values()))\n",
    "sorted_rep = [list(repetitiveness_by_genre.values())[x] for x in sort_idx]\n",
    "sorted_lab = [list(repetitiveness_by_genre.keys())[x] for x in sort_idx]\n",
    "\n",
    "plt.barh(np.arange(len(repetitiveness_by_genre)),sorted_rep)\n",
    "plt.yticks(np.arange(len(repetitiveness_by_genre)),sorted_lab)\n",
    "plt.title('Average Repetitiveness by Genre')\n",
    "plt.xlabel('Share of repetition per song')\n",
    "plt.show()"
   ]
  },
  {
   "cell_type": "code",
   "execution_count": 239,
   "metadata": {},
   "outputs": [
    {
     "data": {
      "text/html": [
       "<div>\n",
       "<style>\n",
       "    .dataframe thead tr:only-child th {\n",
       "        text-align: right;\n",
       "    }\n",
       "\n",
       "    .dataframe thead th {\n",
       "        text-align: left;\n",
       "    }\n",
       "\n",
       "    .dataframe tbody tr th {\n",
       "        vertical-align: top;\n",
       "    }\n",
       "</style>\n",
       "<table border=\"1\" class=\"dataframe\">\n",
       "  <thead>\n",
       "    <tr style=\"text-align: right;\">\n",
       "      <th></th>\n",
       "      <th>ARTIST</th>\n",
       "      <th>ISRC</th>\n",
       "      <th>SPOTIFY_ID</th>\n",
       "      <th>TITLE</th>\n",
       "      <th>lyrics</th>\n",
       "      <th>song_id</th>\n",
       "      <th>producer</th>\n",
       "      <th>number_of_tracks</th>\n",
       "      <th>number_of_albums</th>\n",
       "      <th>number_of_playlists</th>\n",
       "      <th>...</th>\n",
       "      <th>Other</th>\n",
       "      <th>Pop</th>\n",
       "      <th>R&amp;B</th>\n",
       "      <th>Reggae</th>\n",
       "      <th>Rock/Alt</th>\n",
       "      <th>Rock/Alt/Pop</th>\n",
       "      <th>Singer-Songwriter</th>\n",
       "      <th>genre_missing</th>\n",
       "      <th>Explicit</th>\n",
       "      <th>repetition_share</th>\n",
       "    </tr>\n",
       "  </thead>\n",
       "  <tbody>\n",
       "    <tr>\n",
       "      <th>10659</th>\n",
       "      <td>Marshmello</td>\n",
       "      <td>TCADR1850743</td>\n",
       "      <td>1LwVrOwwPJPU5lVuQDPnGA</td>\n",
       "      <td>Check This Out</td>\n",
       "      <td>\\n\\n[Hook]\\nCheck this, check this, check this...</td>\n",
       "      <td>3778365</td>\n",
       "      <td>['Marshmello']</td>\n",
       "      <td>51</td>\n",
       "      <td>49</td>\n",
       "      <td>5930</td>\n",
       "      <td>...</td>\n",
       "      <td>0</td>\n",
       "      <td>1</td>\n",
       "      <td>0</td>\n",
       "      <td>0</td>\n",
       "      <td>0</td>\n",
       "      <td>0</td>\n",
       "      <td>0</td>\n",
       "      <td>0</td>\n",
       "      <td>0</td>\n",
       "      <td>0.959667</td>\n",
       "    </tr>\n",
       "  </tbody>\n",
       "</table>\n",
       "<p>1 rows × 38 columns</p>\n",
       "</div>"
      ],
      "text/plain": [
       "           ARTIST          ISRC              SPOTIFY_ID           TITLE  \\\n",
       "10659  Marshmello  TCADR1850743  1LwVrOwwPJPU5lVuQDPnGA  Check This Out   \n",
       "\n",
       "                                                  lyrics  song_id  \\\n",
       "10659  \\n\\n[Hook]\\nCheck this, check this, check this...  3778365   \n",
       "\n",
       "             producer  number_of_tracks  number_of_albums  \\\n",
       "10659  ['Marshmello']                51                49   \n",
       "\n",
       "       number_of_playlists        ...         Other  Pop  R&B  Reggae  \\\n",
       "10659                 5930        ...             0    1    0       0   \n",
       "\n",
       "       Rock/Alt  Rock/Alt/Pop  Singer-Songwriter  genre_missing  Explicit  \\\n",
       "10659         0             0                  0              0         0   \n",
       "\n",
       "       repetition_share  \n",
       "10659          0.959667  \n",
       "\n",
       "[1 rows x 38 columns]"
      ]
     },
     "execution_count": 239,
     "metadata": {},
     "output_type": "execute_result"
    }
   ],
   "source": [
    "# Most repetitive song\n",
    "merged[merged.repetition_share == merged.repetition_share.max()]"
   ]
  },
  {
   "cell_type": "code",
   "execution_count": 240,
   "metadata": {},
   "outputs": [
    {
     "data": {
      "text/html": [
       "<div>\n",
       "<style>\n",
       "    .dataframe thead tr:only-child th {\n",
       "        text-align: right;\n",
       "    }\n",
       "\n",
       "    .dataframe thead th {\n",
       "        text-align: left;\n",
       "    }\n",
       "\n",
       "    .dataframe tbody tr th {\n",
       "        vertical-align: top;\n",
       "    }\n",
       "</style>\n",
       "<table border=\"1\" class=\"dataframe\">\n",
       "  <thead>\n",
       "    <tr style=\"text-align: right;\">\n",
       "      <th></th>\n",
       "      <th>ARTIST</th>\n",
       "      <th>ISRC</th>\n",
       "      <th>SPOTIFY_ID</th>\n",
       "      <th>TITLE</th>\n",
       "      <th>lyrics</th>\n",
       "      <th>song_id</th>\n",
       "      <th>producer</th>\n",
       "      <th>number_of_tracks</th>\n",
       "      <th>number_of_albums</th>\n",
       "      <th>number_of_playlists</th>\n",
       "      <th>...</th>\n",
       "      <th>Other</th>\n",
       "      <th>Pop</th>\n",
       "      <th>R&amp;B</th>\n",
       "      <th>Reggae</th>\n",
       "      <th>Rock/Alt</th>\n",
       "      <th>Rock/Alt/Pop</th>\n",
       "      <th>Singer-Songwriter</th>\n",
       "      <th>genre_missing</th>\n",
       "      <th>Explicit</th>\n",
       "      <th>repetition_share</th>\n",
       "    </tr>\n",
       "  </thead>\n",
       "  <tbody>\n",
       "    <tr>\n",
       "      <th>2778</th>\n",
       "      <td>Tragic Hero</td>\n",
       "      <td>TCADO1861238</td>\n",
       "      <td>7HCllfKMkkRS15S6ZBBVJQ</td>\n",
       "      <td>White Bronco</td>\n",
       "      <td>\\n\\n[Verse:]\\nI got some real ones saying take...</td>\n",
       "      <td>3623907</td>\n",
       "      <td>['Weathrman']</td>\n",
       "      <td>15</td>\n",
       "      <td>12</td>\n",
       "      <td>16</td>\n",
       "      <td>...</td>\n",
       "      <td>1</td>\n",
       "      <td>0</td>\n",
       "      <td>0</td>\n",
       "      <td>0</td>\n",
       "      <td>0</td>\n",
       "      <td>0</td>\n",
       "      <td>0</td>\n",
       "      <td>0</td>\n",
       "      <td>0</td>\n",
       "      <td>0.017361</td>\n",
       "    </tr>\n",
       "  </tbody>\n",
       "</table>\n",
       "<p>1 rows × 38 columns</p>\n",
       "</div>"
      ],
      "text/plain": [
       "           ARTIST          ISRC              SPOTIFY_ID         TITLE  \\\n",
       "2778  Tragic Hero  TCADO1861238  7HCllfKMkkRS15S6ZBBVJQ  White Bronco   \n",
       "\n",
       "                                                 lyrics  song_id  \\\n",
       "2778  \\n\\n[Verse:]\\nI got some real ones saying take...  3623907   \n",
       "\n",
       "           producer  number_of_tracks  number_of_albums  number_of_playlists  \\\n",
       "2778  ['Weathrman']                15                12                   16   \n",
       "\n",
       "            ...         Other  Pop  R&B  Reggae  Rock/Alt  Rock/Alt/Pop  \\\n",
       "2778        ...             1    0    0       0         0             0   \n",
       "\n",
       "      Singer-Songwriter  genre_missing  Explicit  repetition_share  \n",
       "2778                  0              0         0          0.017361  \n",
       "\n",
       "[1 rows x 38 columns]"
      ]
     },
     "execution_count": 240,
     "metadata": {},
     "output_type": "execute_result"
    }
   ],
   "source": [
    "# Least repetitive song\n",
    "merged[merged.repetition_share == merged.repetition_share.min()]"
   ]
  },
  {
   "cell_type": "code",
   "execution_count": 70,
   "metadata": {},
   "outputs": [
    {
     "name": "stdout",
     "output_type": "stream",
     "text": [
      "Processing: 1760739.txt.gz\n",
      "Running command: ./infgen -s 1760739.txt.gz > 1760739.txt.gz-infgen-out.txt\n"
     ]
    }
   ],
   "source": [
    "import os\n",
    "\n",
    "for i in gz_files:\n",
    "    print(\"Processing:\", i)\n",
    "    cmd = './infgen -s {file} > {file}-infgen-out.txt'.format(file=i)\n",
    "    print('Running command: ' + cmd)\n",
    "    os.system(cmd)"
   ]
  },
  {
   "cell_type": "code",
   "execution_count": 47,
   "metadata": {
    "collapsed": true
   },
   "outputs": [],
   "source": [
    "! ./infgen -s \"1760739.txt.gz\" > hey.txt"
   ]
  },
  {
   "cell_type": "code",
   "execution_count": 206,
   "metadata": {
    "collapsed": true
   },
   "outputs": [],
   "source": [
    "def parse_ratio(f):\n",
    "    '''Determine the compression ratio as a proxy of song repetitiveness'''\n",
    "    matches = 0\n",
    "    n_literals = 0\n",
    "    n_symbols = 0\n",
    "    uncomp = 0\n",
    "    \n",
    "    for line in f:\n",
    "        if line.startswith('match'):\n",
    "            _, length, dist = line.split()\n",
    "            matches += 1\n",
    "\n",
    "        pattern = r'! stats literals \\d\\.\\d bits each \\(\\d+/(\\d+)\\)'\n",
    "        p = re.compile(pattern)\n",
    "        m = re.match(p, line)\n",
    "        if m:\n",
    "            n_literals = int(m.group(1))\n",
    "\n",
    "        m = re.match(r'! stats total inout \\d+:\\d+ \\((\\d+)\\)', line)\n",
    "        if m:\n",
    "            n_symbols = int(m.group(1))\n",
    "\n",
    "        m = re.match(r'! stats total block average (\\d+)\\.\\d uncompressed', line)\n",
    "        if m:\n",
    "            uncomp = int(m.group(1))\n",
    "\n",
    "    assert matches + n_literals == n_symbols\n",
    "\n",
    "    # 1 byte per literal, 3 bytes per match.\n",
    "    pseudosize = matches * 3 + n_literals\n",
    "    ratio = 1 - pseudosize / uncomp\n",
    "\n",
    "    return ratio"
   ]
  },
  {
   "cell_type": "code",
   "execution_count": 208,
   "metadata": {
    "collapsed": true
   },
   "outputs": [],
   "source": [
    "def ratio_by_file(filename):\n",
    "    '''Read in file and return compression ratio'''\n",
    "    \n",
    "    df = pd.read_table('output_files/' + filename)\n",
    "    df.columns = ['infgen']\n",
    "    inp = df.infgen.tolist()\n",
    "    \n",
    "    ratio = parse_ratio(inp)\n",
    "    \n",
    "    return ratio\n",
    "    "
   ]
  }
 ],
 "metadata": {
  "kernelspec": {
   "display_name": "Python 3",
   "language": "python",
   "name": "python3"
  },
  "language_info": {
   "codemirror_mode": {
    "name": "ipython",
    "version": 3
   },
   "file_extension": ".py",
   "mimetype": "text/x-python",
   "name": "python",
   "nbconvert_exporter": "python",
   "pygments_lexer": "ipython3",
   "version": "3.6.1"
  }
 },
 "nbformat": 4,
 "nbformat_minor": 2
}
