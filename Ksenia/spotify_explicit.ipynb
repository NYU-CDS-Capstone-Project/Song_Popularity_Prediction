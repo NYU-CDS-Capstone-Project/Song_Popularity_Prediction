{
 "cells": [
  {
   "cell_type": "code",
   "execution_count": 99,
   "metadata": {
    "collapsed": true
   },
   "outputs": [],
   "source": [
    "import spotipy\n",
    "import spotipy.oauth2 as oauth2\n",
    "import pprint\n",
    "import pandas as pd\n",
    "import pickle\n",
    "import numpy as np\n",
    "import csv"
   ]
  },
  {
   "cell_type": "code",
   "execution_count": 76,
   "metadata": {
    "collapsed": true
   },
   "outputs": [],
   "source": [
    "#Read in file containing authentification info\n",
    "with open('spotify_key.txt') as f:\n",
    "    data = f.readlines()\n",
    "    \n",
    "client_id = data[0].split(':')[1].replace('\\n', '')\n",
    "client_secret = data[1].split(':')[1].replace('\\n', '')\n",
    "\n",
    "#Authorize credentials\n",
    "credentials = oauth2.SpotifyClientCredentials(\n",
    "        client_id=client_id,\n",
    "        client_secret=client_secret)\n",
    "\n",
    "token = credentials.get_access_token()\n",
    "spotify = spotipy.Spotify(auth=token)"
   ]
  },
  {
   "cell_type": "code",
   "execution_count": 41,
   "metadata": {
    "collapsed": true
   },
   "outputs": [],
   "source": [
    "# Read in the master dataset\n",
    "data = pd.read_csv('working_data.nosync/spotify_data.csv')"
   ]
  },
  {
   "cell_type": "code",
   "execution_count": 66,
   "metadata": {},
   "outputs": [
    {
     "data": {
      "text/plain": [
       "(612405, 24)"
      ]
     },
     "execution_count": 66,
     "metadata": {},
     "output_type": "execute_result"
    }
   ],
   "source": [
    "data.shape"
   ]
  },
  {
   "cell_type": "code",
   "execution_count": 91,
   "metadata": {},
   "outputs": [],
   "source": [
    "#Function to extract whether the song is explicit\n",
    "def is_explicit(spotify_ids):\n",
    "    \n",
    "    out={}\n",
    "    \n",
    "    counter=0\n",
    "    \n",
    "    #Initialize\n",
    "    token = credentials.get_access_token()\n",
    "    spotify = spotipy.Spotify(auth=token)\n",
    "    \n",
    "    for spotify_id in spotify_ids:\n",
    "        #Get track info\n",
    "        try:\n",
    "            track = spotify.track(spotify_id)\n",
    "            out[spotify_id] = track['explicit']\n",
    "            counter+=1\n",
    "            if counter % 1000 == 0:\n",
    "                print('completed songs: ', counter)\n",
    "                #save data in case of crash periodically\n",
    "                with open('spotify_genres.nosync/explicit_update1.pkl', 'wb') as f:\n",
    "                    pickle.dump(out, f) \n",
    "\n",
    "        except spotipy.client.SpotifyException:\n",
    "            #reauthorize\n",
    "            token = credentials.get_access_token()\n",
    "            spotify = spotipy.Spotify(auth=token)\n",
    "            counter-=1\n",
    "\n",
    "        except ValueError:\n",
    "            out[spotify_id] = 'not_found'\n",
    "            \n",
    "        \n",
    "    return out"
   ]
  },
  {
   "cell_type": "code",
   "execution_count": null,
   "metadata": {},
   "outputs": [],
   "source": [
    "#Had to rerun this part by part due to Spotify restrictions\n",
    "explicit = is_explicit(data.SPOTIFY_ID[141000+63000+292000+11000+12000:])"
   ]
  },
  {
   "cell_type": "code",
   "execution_count": 45,
   "metadata": {
    "collapsed": true
   },
   "outputs": [],
   "source": [
    "with open('spotify_genres.nosync/explicit7.pkl', 'wb') as f:\n",
    "                    pickle.dump(explicit, f)"
   ]
  },
  {
   "cell_type": "code",
   "execution_count": 56,
   "metadata": {},
   "outputs": [
    {
     "name": "stdout",
     "output_type": "stream",
     "text": [
      "1100.pkl      explicit2.pkl explicit4.pkl explicit6.pkl progress.pkl\r\n",
      "explicit.pkl  explicit3.pkl explicit5.pkl explicit7.pkl progress2.pkl\r\n"
     ]
    }
   ],
   "source": [
    "! ls 'spotify_genres.nosync' "
   ]
  },
  {
   "cell_type": "code",
   "execution_count": 57,
   "metadata": {},
   "outputs": [],
   "source": [
    "explicit_files = ['explicit2.pkl', 'explicit4.pkl', 'explicit6.pkl', 'explicit3.pkl', 'explicit5.pkl',\n",
    "                  'explicit7.pkl']"
   ]
  },
  {
   "cell_type": "code",
   "execution_count": 62,
   "metadata": {
    "collapsed": true
   },
   "outputs": [],
   "source": [
    "#Read in and concatenate data\n",
    "\n",
    "merged = {}\n",
    "\n",
    "for file in explicit_files:\n",
    "    recorded = open(\"spotify_genres.nosync/\"+file, 'rb')\n",
    "    extracted = pickle.load(recorded)\n",
    "    merged.update(extracted)"
   ]
  },
  {
   "cell_type": "code",
   "execution_count": 70,
   "metadata": {},
   "outputs": [
    {
     "data": {
      "text/plain": [
       "471342"
      ]
     },
     "execution_count": 70,
     "metadata": {},
     "output_type": "execute_result"
    }
   ],
   "source": [
    "len(merged.keys())"
   ]
  },
  {
   "cell_type": "code",
   "execution_count": 72,
   "metadata": {},
   "outputs": [],
   "source": [
    "start_ids = data.SPOTIFY_ID"
   ]
  },
  {
   "cell_type": "code",
   "execution_count": 88,
   "metadata": {
    "collapsed": true
   },
   "outputs": [],
   "source": [
    "not_found = [x for x in start_ids if x not in merged.keys()]"
   ]
  },
  {
   "cell_type": "code",
   "execution_count": 92,
   "metadata": {},
   "outputs": [],
   "source": [
    "#Had to rerun this part by part due to Spotify restrictions\n",
    "explicit = is_explicit(not_found)"
   ]
  },
  {
   "cell_type": "code",
   "execution_count": 93,
   "metadata": {},
   "outputs": [],
   "source": [
    "merged.update(explicit)"
   ]
  },
  {
   "cell_type": "code",
   "execution_count": 94,
   "metadata": {},
   "outputs": [
    {
     "data": {
      "text/plain": [
       "612405"
      ]
     },
     "execution_count": 94,
     "metadata": {},
     "output_type": "execute_result"
    }
   ],
   "source": [
    "len(merged)"
   ]
  },
  {
   "cell_type": "code",
   "execution_count": 120,
   "metadata": {},
   "outputs": [],
   "source": [
    "#Save data into file\n",
    "output_df = pd.DataFrame.from_dict(merged, orient='index')\n",
    "output_df = output_df.reset_index()\n",
    "output_df.columns = ['SPOTIFY_ID', 'Explicit']\n",
    "\n",
    "output_df.to_csv('working_data.nosync/explicit_spotifyid.csv', index=False)"
   ]
  },
  {
   "cell_type": "code",
   "execution_count": 121,
   "metadata": {},
   "outputs": [
    {
     "name": "stderr",
     "output_type": "stream",
     "text": [
      "/Users/ksenia/anaconda/envs/py36/lib/python3.6/site-packages/IPython/core/interactiveshell.py:2717: DtypeWarning: Columns (1) have mixed types. Specify dtype option on import or set low_memory=False.\n",
      "  interactivity=interactivity, compiler=compiler, result=result)\n"
     ]
    }
   ],
   "source": [
    "#Check output\n",
    "check = pd.read_csv('working_data.nosync/explicit_spotifyid.csv')"
   ]
  },
  {
   "cell_type": "code",
   "execution_count": 122,
   "metadata": {},
   "outputs": [
    {
     "data": {
      "text/html": [
       "<div>\n",
       "<style>\n",
       "    .dataframe thead tr:only-child th {\n",
       "        text-align: right;\n",
       "    }\n",
       "\n",
       "    .dataframe thead th {\n",
       "        text-align: left;\n",
       "    }\n",
       "\n",
       "    .dataframe tbody tr th {\n",
       "        vertical-align: top;\n",
       "    }\n",
       "</style>\n",
       "<table border=\"1\" class=\"dataframe\">\n",
       "  <thead>\n",
       "    <tr style=\"text-align: right;\">\n",
       "      <th></th>\n",
       "      <th>SPOTIFY_ID</th>\n",
       "      <th>Explicit</th>\n",
       "    </tr>\n",
       "  </thead>\n",
       "  <tbody>\n",
       "    <tr>\n",
       "      <th>0</th>\n",
       "      <td>0Z4CsIA2WIyLPuoKlSLBvW</td>\n",
       "      <td>False</td>\n",
       "    </tr>\n",
       "    <tr>\n",
       "      <th>1</th>\n",
       "      <td>4zEBMipqCInhD3xl9Pzcuo</td>\n",
       "      <td>False</td>\n",
       "    </tr>\n",
       "    <tr>\n",
       "      <th>2</th>\n",
       "      <td>3SH6v9OCnyJVywo14HqVR8</td>\n",
       "      <td>False</td>\n",
       "    </tr>\n",
       "    <tr>\n",
       "      <th>3</th>\n",
       "      <td>0PQMqjrVIH3f1bhILdiaRZ</td>\n",
       "      <td>False</td>\n",
       "    </tr>\n",
       "    <tr>\n",
       "      <th>4</th>\n",
       "      <td>1l9zh64umSqYms1JP5REpi</td>\n",
       "      <td>False</td>\n",
       "    </tr>\n",
       "  </tbody>\n",
       "</table>\n",
       "</div>"
      ],
      "text/plain": [
       "               SPOTIFY_ID Explicit\n",
       "0  0Z4CsIA2WIyLPuoKlSLBvW    False\n",
       "1  4zEBMipqCInhD3xl9Pzcuo    False\n",
       "2  3SH6v9OCnyJVywo14HqVR8    False\n",
       "3  0PQMqjrVIH3f1bhILdiaRZ    False\n",
       "4  1l9zh64umSqYms1JP5REpi    False"
      ]
     },
     "execution_count": 122,
     "metadata": {},
     "output_type": "execute_result"
    }
   ],
   "source": [
    "check.head()"
   ]
  }
 ],
 "metadata": {
  "kernelspec": {
   "display_name": "Python 3",
   "language": "python",
   "name": "python3"
  },
  "language_info": {
   "codemirror_mode": {
    "name": "ipython",
    "version": 3
   },
   "file_extension": ".py",
   "mimetype": "text/x-python",
   "name": "python",
   "nbconvert_exporter": "python",
   "pygments_lexer": "ipython3",
   "version": "3.6.1"
  }
 },
 "nbformat": 4,
 "nbformat_minor": 2
}
