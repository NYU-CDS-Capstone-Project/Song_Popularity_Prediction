{
 "cells": [
  {
   "cell_type": "markdown",
   "metadata": {},
   "source": [
    "#### The goal is to get genre data for each song"
   ]
  },
  {
   "cell_type": "code",
   "execution_count": 175,
   "metadata": {
    "collapsed": true
   },
   "outputs": [],
   "source": [
    "import spotipy\n",
    "import spotipy.oauth2 as oauth2\n",
    "import pprint\n",
    "import pandas as pd\n",
    "import pickle\n",
    "import numpy as np"
   ]
  },
  {
   "cell_type": "code",
   "execution_count": 2,
   "metadata": {
    "collapsed": true
   },
   "outputs": [],
   "source": [
    "#Read in file containing authentification info\n",
    "with open('spotify_key.txt') as f:\n",
    "    data = f.readlines()\n",
    "    \n",
    "client_id = data[0].split(':')[1].replace('\\n', '')\n",
    "client_secret = data[1].split(':')[1].replace('\\n', '')"
   ]
  },
  {
   "cell_type": "code",
   "execution_count": 3,
   "metadata": {
    "collapsed": true
   },
   "outputs": [],
   "source": [
    "#Authorize credentials\n",
    "credentials = oauth2.SpotifyClientCredentials(\n",
    "        client_id=client_id,\n",
    "        client_secret=client_secret)\n",
    "\n",
    "token = credentials.get_access_token()\n",
    "spotify = spotipy.Spotify(auth=token)"
   ]
  },
  {
   "cell_type": "code",
   "execution_count": 7,
   "metadata": {},
   "outputs": [
    {
     "name": "stdout",
     "output_type": "stream",
     "text": [
      "{'album': {'album_type': 'album',\n",
      "           'artists': [{'external_urls': {'spotify': 'https://open.spotify.com/artist/3jOstUTkEu2JkjvRdBA5Gu'},\n",
      "                        'href': 'https://api.spotify.com/v1/artists/3jOstUTkEu2JkjvRdBA5Gu',\n",
      "                        'id': '3jOstUTkEu2JkjvRdBA5Gu',\n",
      "                        'name': 'Weezer',\n",
      "                        'type': 'artist',\n",
      "                        'uri': 'spotify:artist:3jOstUTkEu2JkjvRdBA5Gu'}],\n",
      "           'available_markets': [],\n",
      "           'external_urls': {'spotify': 'https://open.spotify.com/album/04xe676vyiTeYNXw15o9jT'},\n",
      "           'href': 'https://api.spotify.com/v1/albums/04xe676vyiTeYNXw15o9jT',\n",
      "           'id': '04xe676vyiTeYNXw15o9jT',\n",
      "           'images': [{'height': 640,\n",
      "                       'url': 'https://i.scdn.co/image/850f0047275ad667b6372499ef127ec83e4cce96',\n",
      "                       'width': 640},\n",
      "                      {'height': 300,\n",
      "                       'url': 'https://i.scdn.co/image/3e77118461b2da4bca5aa42ca79da9bce4b8e0b3',\n",
      "                       'width': 300},\n",
      "                      {'height': 64,\n",
      "                       'url': 'https://i.scdn.co/image/906f68c13d852a58fc870da7f7036632459ad06f',\n",
      "                       'width': 64}],\n",
      "           'name': 'Pinkerton',\n",
      "           'release_date': '1996-09-24',\n",
      "           'release_date_precision': 'day',\n",
      "           'total_tracks': 10,\n",
      "           'type': 'album',\n",
      "           'uri': 'spotify:album:04xe676vyiTeYNXw15o9jT'},\n",
      " 'artists': [{'external_urls': {'spotify': 'https://open.spotify.com/artist/3jOstUTkEu2JkjvRdBA5Gu'},\n",
      "              'href': 'https://api.spotify.com/v1/artists/3jOstUTkEu2JkjvRdBA5Gu',\n",
      "              'id': '3jOstUTkEu2JkjvRdBA5Gu',\n",
      "              'name': 'Weezer',\n",
      "              'type': 'artist',\n",
      "              'uri': 'spotify:artist:3jOstUTkEu2JkjvRdBA5Gu'}],\n",
      " 'available_markets': [],\n",
      " 'disc_number': 1,\n",
      " 'duration_ms': 243530,\n",
      " 'explicit': False,\n",
      " 'external_ids': {'isrc': 'USGF19600707'},\n",
      " 'external_urls': {'spotify': 'https://open.spotify.com/track/0Svkvt5I79wficMFgaqEQJ'},\n",
      " 'href': 'https://api.spotify.com/v1/tracks/0Svkvt5I79wficMFgaqEQJ',\n",
      " 'id': '0Svkvt5I79wficMFgaqEQJ',\n",
      " 'is_local': False,\n",
      " 'name': 'El Scorcho',\n",
      " 'popularity': 7,\n",
      " 'preview_url': None,\n",
      " 'track_number': 7,\n",
      " 'type': 'track',\n",
      " 'uri': 'spotify:track:0Svkvt5I79wficMFgaqEQJ'}\n"
     ]
    }
   ],
   "source": [
    "#Find information about a song\n",
    "\n",
    "urn = 'spotify:track:0Svkvt5I79wficMFgaqEQJ'\n",
    "\n",
    "track = spotify.track(urn)\n",
    "pprint.pprint(track)"
   ]
  },
  {
   "cell_type": "code",
   "execution_count": 12,
   "metadata": {},
   "outputs": [],
   "source": [
    "artist_uri = track['artists'][0]['uri']"
   ]
  },
  {
   "cell_type": "code",
   "execution_count": 13,
   "metadata": {},
   "outputs": [
    {
     "name": "stdout",
     "output_type": "stream",
     "text": [
      "{'external_urls': {'spotify': 'https://open.spotify.com/artist/3jOstUTkEu2JkjvRdBA5Gu'},\n",
      " 'followers': {'href': None, 'total': 1369181},\n",
      " 'genres': ['alternative rock',\n",
      "            'garage rock',\n",
      "            'modern rock',\n",
      "            'permanent wave',\n",
      "            'pop punk',\n",
      "            'pop rock',\n",
      "            'post-grunge',\n",
      "            'rock'],\n",
      " 'href': 'https://api.spotify.com/v1/artists/3jOstUTkEu2JkjvRdBA5Gu',\n",
      " 'id': '3jOstUTkEu2JkjvRdBA5Gu',\n",
      " 'images': [{'height': 640,\n",
      "             'url': 'https://i.scdn.co/image/2d9c08427ea2ffd4ae8a16ad5f0c39fd4d91c0be',\n",
      "             'width': 640},\n",
      "            {'height': 320,\n",
      "             'url': 'https://i.scdn.co/image/b70c986dfa12ce723c453c8d33a7204de3fa3eaa',\n",
      "             'width': 320},\n",
      "            {'height': 160,\n",
      "             'url': 'https://i.scdn.co/image/9af7e4b5e07e74381f2b8fec9a6aa231af493442',\n",
      "             'width': 160}],\n",
      " 'name': 'Weezer',\n",
      " 'popularity': 75,\n",
      " 'type': 'artist',\n",
      " 'uri': 'spotify:artist:3jOstUTkEu2JkjvRdBA5Gu'}\n"
     ]
    }
   ],
   "source": [
    "# Test -Find information about an artist\n",
    "urn = artist_uri\n",
    "\n",
    "artist = spotify.artist(urn)\n",
    "\n",
    "pprint.pprint(artist)"
   ]
  },
  {
   "cell_type": "code",
   "execution_count": 6,
   "metadata": {},
   "outputs": [
    {
     "data": {
      "text/plain": [
       "['alternative rock',\n",
       " 'garage rock',\n",
       " 'modern rock',\n",
       " 'permanent wave',\n",
       " 'pop punk',\n",
       " 'pop rock',\n",
       " 'post-grunge',\n",
       " 'rock']"
      ]
     },
     "execution_count": 6,
     "metadata": {},
     "output_type": "execute_result"
    }
   ],
   "source": [
    "artist['genres']"
   ]
  },
  {
   "cell_type": "code",
   "execution_count": 19,
   "metadata": {},
   "outputs": [],
   "source": [
    "# Read in the master dataset\n",
    "data = pd.read_csv('working_data.nosync/spotify_data.csv')"
   ]
  },
  {
   "cell_type": "code",
   "execution_count": 20,
   "metadata": {},
   "outputs": [
    {
     "data": {
      "text/plain": [
       "(612405, 24)"
      ]
     },
     "execution_count": 20,
     "metadata": {},
     "output_type": "execute_result"
    }
   ],
   "source": [
    "data.shape"
   ]
  },
  {
   "cell_type": "code",
   "execution_count": 21,
   "metadata": {},
   "outputs": [
    {
     "data": {
      "text/html": [
       "<div>\n",
       "<style>\n",
       "    .dataframe thead tr:only-child th {\n",
       "        text-align: right;\n",
       "    }\n",
       "\n",
       "    .dataframe thead th {\n",
       "        text-align: left;\n",
       "    }\n",
       "\n",
       "    .dataframe tbody tr th {\n",
       "        vertical-align: top;\n",
       "    }\n",
       "</style>\n",
       "<table border=\"1\" class=\"dataframe\">\n",
       "  <thead>\n",
       "    <tr style=\"text-align: right;\">\n",
       "      <th></th>\n",
       "      <th>Unnamed: 0</th>\n",
       "      <th>ISRC</th>\n",
       "      <th>SPOTIFY_ID</th>\n",
       "      <th>TITLE</th>\n",
       "      <th>ARTIST</th>\n",
       "      <th>TEMPO</th>\n",
       "      <th>ENERGY</th>\n",
       "      <th>DANCE</th>\n",
       "      <th>LOUD</th>\n",
       "      <th>VALENCE</th>\n",
       "      <th>...</th>\n",
       "      <th>LIVENESS</th>\n",
       "      <th>TIME_SIGNATURE</th>\n",
       "      <th>MODE</th>\n",
       "      <th>POP</th>\n",
       "      <th>Seconds</th>\n",
       "      <th>Lean-Back</th>\n",
       "      <th>track_id</th>\n",
       "      <th>track_external_id</th>\n",
       "      <th>max_popularity</th>\n",
       "      <th>Target</th>\n",
       "    </tr>\n",
       "  </thead>\n",
       "  <tbody>\n",
       "    <tr>\n",
       "      <th>0</th>\n",
       "      <td>9317</td>\n",
       "      <td>AEA0Q1710659</td>\n",
       "      <td>6L74kj2KFdwfdLXTqyNvDN</td>\n",
       "      <td>Wanda Nara</td>\n",
       "      <td>Duki Y Neo Pistea</td>\n",
       "      <td>151.954</td>\n",
       "      <td>0.619</td>\n",
       "      <td>0.661</td>\n",
       "      <td>-6.722</td>\n",
       "      <td>0.380</td>\n",
       "      <td>...</td>\n",
       "      <td>0.0987</td>\n",
       "      <td>4</td>\n",
       "      <td>0</td>\n",
       "      <td>64</td>\n",
       "      <td>157309</td>\n",
       "      <td>0</td>\n",
       "      <td>6L74kj2KFdwfdLXTqyNvDN</td>\n",
       "      <td>AEA0Q1710659</td>\n",
       "      <td>64</td>\n",
       "      <td>1</td>\n",
       "    </tr>\n",
       "    <tr>\n",
       "      <th>1</th>\n",
       "      <td>590503</td>\n",
       "      <td>AEA0Q1711184</td>\n",
       "      <td>60xECHEcZrtFAF2uvlctP2</td>\n",
       "      <td>Cara Bonita</td>\n",
       "      <td>Otra Onda</td>\n",
       "      <td>104.881</td>\n",
       "      <td>0.897</td>\n",
       "      <td>0.716</td>\n",
       "      <td>-1.323</td>\n",
       "      <td>0.922</td>\n",
       "      <td>...</td>\n",
       "      <td>0.1130</td>\n",
       "      <td>4</td>\n",
       "      <td>1</td>\n",
       "      <td>2</td>\n",
       "      <td>157752</td>\n",
       "      <td>0</td>\n",
       "      <td>60xECHEcZrtFAF2uvlctP2</td>\n",
       "      <td>AEA0Q1711184</td>\n",
       "      <td>8</td>\n",
       "      <td>0</td>\n",
       "    </tr>\n",
       "    <tr>\n",
       "      <th>2</th>\n",
       "      <td>118366</td>\n",
       "      <td>AEA0Q1711320</td>\n",
       "      <td>5CYP7Fa3o3QDXK91AtpO7M</td>\n",
       "      <td>El Corrido De Juanito</td>\n",
       "      <td>Zona De Arranque</td>\n",
       "      <td>188.647</td>\n",
       "      <td>0.538</td>\n",
       "      <td>0.458</td>\n",
       "      <td>-8.271</td>\n",
       "      <td>0.751</td>\n",
       "      <td>...</td>\n",
       "      <td>0.1260</td>\n",
       "      <td>3</td>\n",
       "      <td>1</td>\n",
       "      <td>35</td>\n",
       "      <td>263664</td>\n",
       "      <td>0</td>\n",
       "      <td>5CYP7Fa3o3QDXK91AtpO7M</td>\n",
       "      <td>AEA0Q1711320</td>\n",
       "      <td>38</td>\n",
       "      <td>0</td>\n",
       "    </tr>\n",
       "    <tr>\n",
       "      <th>3</th>\n",
       "      <td>249771</td>\n",
       "      <td>AEA0Q1711379</td>\n",
       "      <td>5QzwfZZNjZ2fmsfHth8wuT</td>\n",
       "      <td>Pokaz</td>\n",
       "      <td>Duzz</td>\n",
       "      <td>109.955</td>\n",
       "      <td>0.638</td>\n",
       "      <td>0.878</td>\n",
       "      <td>-11.932</td>\n",
       "      <td>0.714</td>\n",
       "      <td>...</td>\n",
       "      <td>0.0494</td>\n",
       "      <td>4</td>\n",
       "      <td>1</td>\n",
       "      <td>23</td>\n",
       "      <td>143943</td>\n",
       "      <td>0</td>\n",
       "      <td>5QzwfZZNjZ2fmsfHth8wuT</td>\n",
       "      <td>AEA0Q1711379</td>\n",
       "      <td>23</td>\n",
       "      <td>0</td>\n",
       "    </tr>\n",
       "    <tr>\n",
       "      <th>4</th>\n",
       "      <td>387735</td>\n",
       "      <td>AEA0Q1712028</td>\n",
       "      <td>2sLbq5amMnoTNJk8Cumv17</td>\n",
       "      <td>Rumor En El Viento</td>\n",
       "      <td>Inefable</td>\n",
       "      <td>86.251</td>\n",
       "      <td>0.631</td>\n",
       "      <td>0.613</td>\n",
       "      <td>-9.207</td>\n",
       "      <td>0.773</td>\n",
       "      <td>...</td>\n",
       "      <td>0.1000</td>\n",
       "      <td>4</td>\n",
       "      <td>1</td>\n",
       "      <td>14</td>\n",
       "      <td>224064</td>\n",
       "      <td>0</td>\n",
       "      <td>2sLbq5amMnoTNJk8Cumv17</td>\n",
       "      <td>AEA0Q1712028</td>\n",
       "      <td>18</td>\n",
       "      <td>0</td>\n",
       "    </tr>\n",
       "  </tbody>\n",
       "</table>\n",
       "<p>5 rows × 24 columns</p>\n",
       "</div>"
      ],
      "text/plain": [
       "   Unnamed: 0          ISRC              SPOTIFY_ID                  TITLE  \\\n",
       "0        9317  AEA0Q1710659  6L74kj2KFdwfdLXTqyNvDN             Wanda Nara   \n",
       "1      590503  AEA0Q1711184  60xECHEcZrtFAF2uvlctP2            Cara Bonita   \n",
       "2      118366  AEA0Q1711320  5CYP7Fa3o3QDXK91AtpO7M  El Corrido De Juanito   \n",
       "3      249771  AEA0Q1711379  5QzwfZZNjZ2fmsfHth8wuT                  Pokaz   \n",
       "4      387735  AEA0Q1712028  2sLbq5amMnoTNJk8Cumv17     Rumor En El Viento   \n",
       "\n",
       "              ARTIST    TEMPO  ENERGY  DANCE    LOUD  VALENCE   ...    \\\n",
       "0  Duki Y Neo Pistea  151.954   0.619  0.661  -6.722    0.380   ...     \n",
       "1          Otra Onda  104.881   0.897  0.716  -1.323    0.922   ...     \n",
       "2   Zona De Arranque  188.647   0.538  0.458  -8.271    0.751   ...     \n",
       "3               Duzz  109.955   0.638  0.878 -11.932    0.714   ...     \n",
       "4           Inefable   86.251   0.631  0.613  -9.207    0.773   ...     \n",
       "\n",
       "   LIVENESS  TIME_SIGNATURE  MODE  POP  Seconds  Lean-Back  \\\n",
       "0    0.0987               4     0   64   157309          0   \n",
       "1    0.1130               4     1    2   157752          0   \n",
       "2    0.1260               3     1   35   263664          0   \n",
       "3    0.0494               4     1   23   143943          0   \n",
       "4    0.1000               4     1   14   224064          0   \n",
       "\n",
       "                 track_id  track_external_id  max_popularity  Target  \n",
       "0  6L74kj2KFdwfdLXTqyNvDN       AEA0Q1710659              64       1  \n",
       "1  60xECHEcZrtFAF2uvlctP2       AEA0Q1711184               8       0  \n",
       "2  5CYP7Fa3o3QDXK91AtpO7M       AEA0Q1711320              38       0  \n",
       "3  5QzwfZZNjZ2fmsfHth8wuT       AEA0Q1711379              23       0  \n",
       "4  2sLbq5amMnoTNJk8Cumv17       AEA0Q1712028              18       0  \n",
       "\n",
       "[5 rows x 24 columns]"
      ]
     },
     "execution_count": 21,
     "metadata": {},
     "output_type": "execute_result"
    }
   ],
   "source": [
    "data.head()"
   ]
  },
  {
   "cell_type": "code",
   "execution_count": 28,
   "metadata": {},
   "outputs": [
    {
     "data": {
      "text/plain": [
       "Index(['Unnamed: 0', 'ISRC', 'SPOTIFY_ID', 'TITLE', 'ARTIST', 'TEMPO',\n",
       "       'ENERGY', 'DANCE', 'LOUD', 'VALENCE', 'ACOUSTIC', 'SPEECHINESS',\n",
       "       'INSTRUMENTALNESS', 'KEY', 'LIVENESS', 'TIME_SIGNATURE', 'MODE', 'POP',\n",
       "       'Seconds', 'Lean-Back', 'track_id', 'track_external_id',\n",
       "       'max_popularity', 'Target'],\n",
       "      dtype='object')"
      ]
     },
     "execution_count": 28,
     "metadata": {},
     "output_type": "execute_result"
    }
   ],
   "source": [
    "data.columns"
   ]
  },
  {
   "cell_type": "code",
   "execution_count": 30,
   "metadata": {},
   "outputs": [],
   "source": [
    "#Select song Spotify ID and artist name\n",
    "id_by_artist = pd.melt(data, id_vars='ARTIST', value_vars=['SPOTIFY_ID'], value_name='SPOTIFY_ID')"
   ]
  },
  {
   "cell_type": "code",
   "execution_count": 31,
   "metadata": {},
   "outputs": [
    {
     "data": {
      "text/plain": [
       "False"
      ]
     },
     "execution_count": 31,
     "metadata": {},
     "output_type": "execute_result"
    }
   ],
   "source": [
    "#Check that no Spotify ID's are duplicated for each artist\n",
    "id_by_artist.duplicated().any()"
   ]
  },
  {
   "cell_type": "code",
   "execution_count": 33,
   "metadata": {},
   "outputs": [],
   "source": [
    "#Select the first ID of each artist to find the song and then match by artist id\n",
    "unique_id_by_artist = id_by_artist.drop_duplicates(subset='ARTIST')"
   ]
  },
  {
   "cell_type": "code",
   "execution_count": 140,
   "metadata": {},
   "outputs": [
    {
     "data": {
      "text/plain": [
       "180574"
      ]
     },
     "execution_count": 140,
     "metadata": {},
     "output_type": "execute_result"
    }
   ],
   "source": [
    "len(unique_id_by_artist)"
   ]
  },
  {
   "cell_type": "code",
   "execution_count": 74,
   "metadata": {
    "collapsed": true
   },
   "outputs": [],
   "source": [
    "artist = unique_id_by_artist.ARTIST\n",
    "spotify_id = unique_id_by_artist.SPOTIFY_ID"
   ]
  },
  {
   "cell_type": "code",
   "execution_count": 136,
   "metadata": {},
   "outputs": [],
   "source": [
    "def spotify_genre(artists, spotify_ids, file_name):\n",
    "    \n",
    "    token = credentials.get_access_token()\n",
    "    spotify = spotipy.Spotify(auth=token)\n",
    "    \n",
    "    counter=0\n",
    "\n",
    "    genres = {}\n",
    "    \n",
    "    inputs = zip(artists, spotify_ids)\n",
    "\n",
    "    for i in inputs:\n",
    "        \n",
    "        counter+=1\n",
    "        \n",
    "        try:\n",
    "            track = spotify.track(i[1])\n",
    "            artist_uri = track['artists'][0]['uri']\n",
    "            artist = spotify.artist(artist_uri)\n",
    "            genres[i[0]] = artist['genres']\n",
    "\n",
    "            if counter%100 == 0:\n",
    "                print(\"completed artists: \", counter)\n",
    "                with open('spotify_genres.nosync/'+ file_name+ '.pkl', 'wb') as f:\n",
    "                    pickle.dump(genres, f) \n",
    "                \n",
    "        except spotipy.client.SpotifyException:\n",
    "            #reauthorize\n",
    "            token = credentials.get_access_token()\n",
    "            spotify = spotipy.Spotify(auth=token)\n",
    "            \n",
    "        except JSONDecodeError:\n",
    "            genres[i[0]] = 'not found'\n",
    "        \n",
    "    return genres"
   ]
  },
  {
   "cell_type": "code",
   "execution_count": null,
   "metadata": {},
   "outputs": [],
   "source": [
    "#First round\n",
    "#out = spotify_genre(artist, spotify_id)"
   ]
  },
  {
   "cell_type": "code",
   "execution_count": 133,
   "metadata": {},
   "outputs": [],
   "source": [
    "#Read in saved progress\n",
    "file = open(\"spotify_genres.nosync/progress.pkl\", 'rb')\n",
    "object_file = pickle.load(file)"
   ]
  },
  {
   "cell_type": "code",
   "execution_count": 135,
   "metadata": {},
   "outputs": [
    {
     "data": {
      "text/plain": [
       "74394"
      ]
     },
     "execution_count": 135,
     "metadata": {},
     "output_type": "execute_result"
    }
   ],
   "source": [
    "len(object_file)"
   ]
  },
  {
   "cell_type": "code",
   "execution_count": null,
   "metadata": {},
   "outputs": [],
   "source": [
    "#Second round of processing\n",
    "out = spotify_genre(artist[74394:], spotify_id[74394:], file_name = 'progress2')"
   ]
  },
  {
   "cell_type": "code",
   "execution_count": 139,
   "metadata": {},
   "outputs": [
    {
     "data": {
      "text/plain": [
       "106171"
      ]
     },
     "execution_count": 139,
     "metadata": {},
     "output_type": "execute_result"
    }
   ],
   "source": [
    "len(out)"
   ]
  },
  {
   "cell_type": "code",
   "execution_count": 142,
   "metadata": {
    "collapsed": true
   },
   "outputs": [],
   "source": [
    "#Merge two obtained dictionaries with genre\n",
    "merged_file = out.copy()\n",
    "merged_file.update(object_file)"
   ]
  },
  {
   "cell_type": "code",
   "execution_count": 143,
   "metadata": {},
   "outputs": [
    {
     "data": {
      "text/plain": [
       "180559"
      ]
     },
     "execution_count": 143,
     "metadata": {},
     "output_type": "execute_result"
    }
   ],
   "source": [
    "len(merged_file)"
   ]
  },
  {
   "cell_type": "code",
   "execution_count": 166,
   "metadata": {},
   "outputs": [],
   "source": [
    "#Add genre to the dataframe\n",
    "id_by_artist['genre'] = id_by_artist.ARTIST.apply(lambda x: ','.join(merged_file[x]) \n",
    "                                                  if x in merged_file else 'missing')"
   ]
  },
  {
   "cell_type": "code",
   "execution_count": 168,
   "metadata": {},
   "outputs": [],
   "source": [
    "#Remove duplicated column\n",
    "id_by_artist.drop('variable', axis=1, inplace=True)"
   ]
  },
  {
   "cell_type": "code",
   "execution_count": 177,
   "metadata": {},
   "outputs": [
    {
     "data": {
      "text/html": [
       "<div>\n",
       "<style>\n",
       "    .dataframe thead tr:only-child th {\n",
       "        text-align: right;\n",
       "    }\n",
       "\n",
       "    .dataframe thead th {\n",
       "        text-align: left;\n",
       "    }\n",
       "\n",
       "    .dataframe tbody tr th {\n",
       "        vertical-align: top;\n",
       "    }\n",
       "</style>\n",
       "<table border=\"1\" class=\"dataframe\">\n",
       "  <thead>\n",
       "    <tr style=\"text-align: right;\">\n",
       "      <th></th>\n",
       "      <th>ARTIST</th>\n",
       "      <th>SPOTIFY_ID</th>\n",
       "      <th>genre</th>\n",
       "    </tr>\n",
       "  </thead>\n",
       "  <tbody>\n",
       "    <tr>\n",
       "      <th>0</th>\n",
       "      <td>Duki Y Neo Pistea</td>\n",
       "      <td>6L74kj2KFdwfdLXTqyNvDN</td>\n",
       "      <td>argentine hip hop,trap argentino</td>\n",
       "    </tr>\n",
       "    <tr>\n",
       "      <th>1</th>\n",
       "      <td>Otra Onda</td>\n",
       "      <td>60xECHEcZrtFAF2uvlctP2</td>\n",
       "      <td></td>\n",
       "    </tr>\n",
       "    <tr>\n",
       "      <th>2</th>\n",
       "      <td>Zona De Arranque</td>\n",
       "      <td>5CYP7Fa3o3QDXK91AtpO7M</td>\n",
       "      <td></td>\n",
       "    </tr>\n",
       "    <tr>\n",
       "      <th>3</th>\n",
       "      <td>Duzz</td>\n",
       "      <td>5QzwfZZNjZ2fmsfHth8wuT</td>\n",
       "      <td>brazilian hip hop</td>\n",
       "    </tr>\n",
       "    <tr>\n",
       "      <th>4</th>\n",
       "      <td>Inefable</td>\n",
       "      <td>2sLbq5amMnoTNJk8Cumv17</td>\n",
       "      <td></td>\n",
       "    </tr>\n",
       "  </tbody>\n",
       "</table>\n",
       "</div>"
      ],
      "text/plain": [
       "              ARTIST              SPOTIFY_ID                             genre\n",
       "0  Duki Y Neo Pistea  6L74kj2KFdwfdLXTqyNvDN  argentine hip hop,trap argentino\n",
       "1          Otra Onda  60xECHEcZrtFAF2uvlctP2                                  \n",
       "2   Zona De Arranque  5CYP7Fa3o3QDXK91AtpO7M                                  \n",
       "3               Duzz  5QzwfZZNjZ2fmsfHth8wuT                 brazilian hip hop\n",
       "4           Inefable  2sLbq5amMnoTNJk8Cumv17                                  "
      ]
     },
     "execution_count": 177,
     "metadata": {},
     "output_type": "execute_result"
    }
   ],
   "source": [
    "id_by_artist.head()"
   ]
  },
  {
   "cell_type": "code",
   "execution_count": 179,
   "metadata": {},
   "outputs": [],
   "source": [
    "#Replace missing with NAN\n",
    "id_by_artist = id_by_artist.replace(r'^\\s*$', np.nan, regex=True)\n",
    "id_by_artist = id_by_artist.replace('missing', np.nan)"
   ]
  },
  {
   "cell_type": "code",
   "execution_count": 186,
   "metadata": {},
   "outputs": [
    {
     "name": "stdout",
     "output_type": "stream",
     "text": [
      "Artists with found genres:  383061\n"
     ]
    }
   ],
   "source": [
    "print('Artists with found genres: ', id_by_artist.shape[0]-id_by_artist.genre.isnull().sum())"
   ]
  },
  {
   "cell_type": "code",
   "execution_count": 187,
   "metadata": {},
   "outputs": [
    {
     "data": {
      "text/plain": [
       "hoerspiel                                          3516\n",
       "sleep                                              1984\n",
       "deep dutch hip hop,dutch hip hop                   1725\n",
       "italian hip hop                                    1510\n",
       "french hip hop,trap francais                       1431\n",
       "deep german hip hop,german hip hop                 1406\n",
       "edm,progressive house,progressive trance,trance    1394\n",
       "german hip hop                                     1168\n",
       "chillhop,lo-fi beats                               1140\n",
       "k-pop                                              1079\n",
       "Name: genre, dtype: int64"
      ]
     },
     "execution_count": 187,
     "metadata": {},
     "output_type": "execute_result"
    }
   ],
   "source": [
    "#Most popular genre combinations\n",
    "id_by_artist.genre.value_counts()[0:10]"
   ]
  },
  {
   "cell_type": "code",
   "execution_count": 188,
   "metadata": {
    "collapsed": true
   },
   "outputs": [],
   "source": [
    "id_by_artist.to_csv('working_data.nosync/genre_by_spotify_id')"
   ]
  }
 ],
 "metadata": {
  "kernelspec": {
   "display_name": "Python 3",
   "language": "python",
   "name": "python3"
  },
  "language_info": {
   "codemirror_mode": {
    "name": "ipython",
    "version": 3
   },
   "file_extension": ".py",
   "mimetype": "text/x-python",
   "name": "python",
   "nbconvert_exporter": "python",
   "pygments_lexer": "ipython3",
   "version": "3.6.1"
  }
 },
 "nbformat": 4,
 "nbformat_minor": 2
}
