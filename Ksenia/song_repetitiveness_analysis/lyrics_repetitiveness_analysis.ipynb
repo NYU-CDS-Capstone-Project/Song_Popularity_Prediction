{
 "cells": [
  {
   "cell_type": "markdown",
   "metadata": {},
   "source": [
    "### The goal is to determine how repetitive each lyrics is"
   ]
  },
  {
   "cell_type": "markdown",
   "metadata": {},
   "source": [
    "To determine how repetitive a song is, we will use Abraham Lempel and Jacob Ziv (LZ77) algorithm to identify repetitions in a piece of text. The algorithm finds and compresses parts of text that are the same. To obtain this information, we will first compress each file using GZIP - which uses DEFLATE, a combination of LZ77 and Huffman coding. Then we will use the program called infgen which provided statistics of a file compressed by gzip. We will use the statistics on compression to estimate how repetitive a song is, based on how much it was compressed. "
   ]
  },
  {
   "cell_type": "markdown",
   "metadata": {},
   "source": [
    "References: https://jvns.ca/blog/2015/02/22/how-gzip-uses-huffman-coding/\n",
    "https://github.com/madler/infgen/blob/master/infgen.c\n",
    "https://github.com/colinmorris/lalala"
   ]
  },
  {
   "cell_type": "markdown",
   "metadata": {},
   "source": [
    "### On infgen usage\n",
    "\n",
    "With the -s option, infgen will generate statistics comments, all of which\n",
    "    begin with \"! stats \".  There are statistics for each deflate block, and\n",
    "    summary statistics after the last deflate block.  \n",
    "    \n",
    "    After the last deflate block, total statistics are output.  They all begin\n",
    "    with \"! stats total \".  The block input and output amounts are summed for\n",
    "    example as: \"! stats total inout 93232233:0 (55120762) 454563840\", with the\n",
    "    same format as \"! stats inout\", except without the reach.\n",
    "    \"! stats total block average 34162.3 uncompressed\" states for example that\n",
    "    the average number of uncompressed bytes per block was 34162.3.  Similarly\n",
    "    \"! stats total block average 4142.5 symbols\" states that there were 4142.5\n",
    "    symbols on average per block.  \"! stats total literals 6.9 bits each\"\n",
    "    states that there were 6.9 bits used on average per literal.  Lastly the\n",
    "    matches are summed: \"! stats total matches 95.2% (33314520 x 13.0)\" with\n",
    "    the same format as \"! stats matches\"."
   ]
  },
  {
   "cell_type": "code",
   "execution_count": 38,
   "metadata": {
    "collapsed": true
   },
   "outputs": [],
   "source": [
    "import pandas as pd\n",
    "import re\n",
    "import os"
   ]
  },
  {
   "cell_type": "code",
   "execution_count": 3,
   "metadata": {
    "collapsed": true
   },
   "outputs": [],
   "source": [
    "lyrics = pd.read_csv('lyrics.nosync/source.csv')"
   ]
  },
  {
   "cell_type": "code",
   "execution_count": 3,
   "metadata": {},
   "outputs": [
    {
     "data": {
      "text/plain": [
       "(231786, 2)"
      ]
     },
     "execution_count": 3,
     "metadata": {},
     "output_type": "execute_result"
    }
   ],
   "source": [
    "lyrics.shape"
   ]
  },
  {
   "cell_type": "code",
   "execution_count": 4,
   "metadata": {},
   "outputs": [
    {
     "data": {
      "text/html": [
       "<div>\n",
       "<style scoped>\n",
       "    .dataframe tbody tr th:only-of-type {\n",
       "        vertical-align: middle;\n",
       "    }\n",
       "\n",
       "    .dataframe tbody tr th {\n",
       "        vertical-align: top;\n",
       "    }\n",
       "\n",
       "    .dataframe thead th {\n",
       "        text-align: right;\n",
       "    }\n",
       "</style>\n",
       "<table border=\"1\" class=\"dataframe\">\n",
       "  <thead>\n",
       "    <tr style=\"text-align: right;\">\n",
       "      <th></th>\n",
       "      <th>lyrics</th>\n",
       "      <th>song_id</th>\n",
       "    </tr>\n",
       "  </thead>\n",
       "  <tbody>\n",
       "    <tr>\n",
       "      <th>0</th>\n",
       "      <td>\\n\\nA: Prince Rupert Awakes\\n\\nFarewell the te...</td>\n",
       "      <td>1760739</td>\n",
       "    </tr>\n",
       "    <tr>\n",
       "      <th>1</th>\n",
       "      <td>\\n\\nI'll stay with you until the end\\nI say yo...</td>\n",
       "      <td>1165091</td>\n",
       "    </tr>\n",
       "    <tr>\n",
       "      <th>2</th>\n",
       "      <td>\\n\\n[Hook: Vidal Garcia]\\nIf you was my bitch\\...</td>\n",
       "      <td>2956155</td>\n",
       "    </tr>\n",
       "    <tr>\n",
       "      <th>3</th>\n",
       "      <td>\\n\\nTodo color Tropicana\\n\\n</td>\n",
       "      <td>3639039</td>\n",
       "    </tr>\n",
       "    <tr>\n",
       "      <th>4</th>\n",
       "      <td>\\n\\nIntéressé.e par l'explication des paroles ...</td>\n",
       "      <td>2824460</td>\n",
       "    </tr>\n",
       "  </tbody>\n",
       "</table>\n",
       "</div>"
      ],
      "text/plain": [
       "                                              lyrics  song_id\n",
       "0  \\n\\nA: Prince Rupert Awakes\\n\\nFarewell the te...  1760739\n",
       "1  \\n\\nI'll stay with you until the end\\nI say yo...  1165091\n",
       "2  \\n\\n[Hook: Vidal Garcia]\\nIf you was my bitch\\...  2956155\n",
       "3                       \\n\\nTodo color Tropicana\\n\\n  3639039\n",
       "4  \\n\\nIntéressé.e par l'explication des paroles ...  2824460"
      ]
     },
     "execution_count": 4,
     "metadata": {},
     "output_type": "execute_result"
    }
   ],
   "source": [
    "lyrics.head()"
   ]
  },
  {
   "cell_type": "code",
   "execution_count": 5,
   "metadata": {
    "collapsed": true
   },
   "outputs": [],
   "source": [
    "test = lyrics['lyrics'][5].split('\\n')"
   ]
  },
  {
   "cell_type": "code",
   "execution_count": 6,
   "metadata": {
    "collapsed": true
   },
   "outputs": [],
   "source": [
    "with open('test_file.txt', 'w') as f:\n",
    "    for item in test:\n",
    "        f.write(\"%s\\n\" % item)"
   ]
  },
  {
   "cell_type": "code",
   "execution_count": 7,
   "metadata": {},
   "outputs": [
    {
     "name": "stdout",
     "output_type": "stream",
     "text": [
      "\n",
      "\n",
      "A: Prince Rupert Awakes\n",
      "\n",
      "Farewell the temple master's bells\n",
      "His kiosk and his black worm seed\n",
      "Courtship solely of his word\n",
      "With Eden guaranteed\n",
      "For now Prince Rupert's tears of glass\n",
      "Make saffron sabbath eyelids bleed\n",
      "Scar the sacred tablet of wax\n",
      "On which the Lizards feed\n",
      "\n",
      "Wake your reason's hollow vote\n",
      "Wear your blizzard season coat\n",
      "Burn a bridge and burn a boat\n",
      "Stake a Lizard by the throat\n",
      "\n",
      "Go Polonius or kneel\n",
      "The reapers name their harvest dawn\n",
      "All your tarnished devil's spoons\n",
      "Will rust beneath our corn\n",
      "Now bears Prince Rupert's garden roam\n",
      "Across his rain tree shaded lawn\n",
      "Lizard bones become the clay\n",
      "And there a swan is born\n",
      "\n",
      "Wake your reason's hollow vote\n",
      "Wear your blizzard season coat\n",
      "Burn a bridge and burn a boat\n",
      "Stake a Lizard by the throat\n",
      "\n",
      "Gone soon Piepowder's moss-weed court\n",
      "Round which upholstered Lizards sold\n",
      "Visions to their leaden flock\n",
      "Of rainbows' ends and gold\n",
      "Now tales Prince Rupert's peacock brings\n",
      "Of walls and trumpets thousand fold\n",
      "Prophets chained for burning masks\n",
      "And reels of dreams unrolled...\n",
      "\n",
      "B: Bolero - The Peacock's Tale\n",
      "\n",
      "(instrumental)\n",
      "\n",
      "C: The Battle of Glass Tears\n",
      "\n",
      "I) Dawn Song\n",
      "\n",
      "Night enfolds her cloak of holes\n",
      "Around the river meadow\n",
      "Old moon-light stalks by broken ploughs\n",
      "Hides spokeless wheels in shadow\n",
      "Sentries lean on thorn wood spears\n",
      "Blow on their hands, stare eastwards\n",
      "\n",
      "Burnt with dream and taut with fear\n",
      "Dawn's misty shawl upon them\n",
      "Three hills apart great armies stir\n",
      "Spit oat and curse as day breaks\n",
      "Forming lines of horse and steel\n",
      "By even yards march forward\n",
      "\n",
      "Ii) Last Skirmish\n",
      "\n",
      "(instrumental)\n",
      "\n",
      "Iii) Prince Rupert's Lament\n",
      "\n",
      "(instrumental)\n",
      "\n",
      "D: Big Top\n",
      "\n",
      "(instrumental)\n",
      "\n",
      "\n",
      "1760739\n"
     ]
    }
   ],
   "source": [
    "for i,j in lyrics.iterrows():\n",
    "    print(j['lyrics'])\n",
    "    print(j['song_id'])\n",
    "    break"
   ]
  },
  {
   "cell_type": "code",
   "execution_count": 9,
   "metadata": {},
   "outputs": [],
   "source": [
    "#Convert each lyrics to a separate text file\n",
    "for index, row in lyrics.iterrows():\n",
    "    lyrics_data = row.lyrics\n",
    "    song_id = row.song_id\n",
    "\n",
    "    with open(str(song_id)+'.txt', 'w') as f:\n",
    "        f.write(lyrics_data)\n",
    "    break"
   ]
  },
  {
   "cell_type": "code",
   "execution_count": 25,
   "metadata": {},
   "outputs": [],
   "source": [
    "# Zip every txt file in the current folder\n",
    "! gzip *.txt"
   ]
  },
  {
   "cell_type": "code",
   "execution_count": 27,
   "metadata": {},
   "outputs": [],
   "source": [
    "# Extract infgen data about compression from each file\n",
    "! ./infgen -s *.txt.gz > *.txt"
   ]
  },
  {
   "cell_type": "code",
   "execution_count": 51,
   "metadata": {},
   "outputs": [],
   "source": [
    "# Find all files with .gz extension\n",
    "gz_files = [f for f in os.listdir() if f.endswith('.gz')]"
   ]
  },
  {
   "cell_type": "code",
   "execution_count": 70,
   "metadata": {},
   "outputs": [
    {
     "name": "stdout",
     "output_type": "stream",
     "text": [
      "Processing: 1760739.txt.gz\n",
      "Running command: ./infgen -s 1760739.txt.gz > 1760739.txt.gz-infgen-out.txt\n"
     ]
    }
   ],
   "source": [
    "import os\n",
    "\n",
    "for i in gz_files:\n",
    "    print(\"Processing:\", i)\n",
    "    cmd = './infgen -s {file} > {file}-infgen-out.txt'.format(file=i)\n",
    "    print('Running command: ' + cmd)\n",
    "    os.system(cmd)"
   ]
  },
  {
   "cell_type": "code",
   "execution_count": 47,
   "metadata": {
    "collapsed": true
   },
   "outputs": [],
   "source": [
    "! ./infgen -s \"1760739.txt.gz\" > hey.txt"
   ]
  },
  {
   "cell_type": "code",
   "execution_count": 78,
   "metadata": {
    "collapsed": true
   },
   "outputs": [],
   "source": [
    "def parse_ratio(f):\n",
    "    '''Determine the compression ratio as a proxy of song repetitiveness'''\n",
    "    matches = 0\n",
    "    n_literals = 0\n",
    "    n_symbols = 0\n",
    "    \n",
    "    for line in f:\n",
    "        if line.startswith('match'):\n",
    "            _, length, dist = line.split()\n",
    "            matches += 1\n",
    "\n",
    "        pattern = r'! stats literals \\d\\.\\d bits each \\(\\d+/(\\d+)\\)'\n",
    "        p = re.compile(pattern)\n",
    "        m = re.match(p, line)\n",
    "        if m:\n",
    "            n_literals = int(m.group(1))\n",
    "\n",
    "        m = re.match(r'! stats total inout \\d+:\\d+ \\((\\d+)\\)', line)\n",
    "        if m:\n",
    "            n_symbols = int(m.group(1))\n",
    "\n",
    "        m = re.match(r'! stats total block average (\\d+)\\.\\d uncompressed', line)\n",
    "        if m:\n",
    "            uncomp = int(m.group(1))\n",
    "\n",
    "    assert matches + n_literals == n_symbols\n",
    "\n",
    "    # 1 byte per literal, 3 bytes per match.\n",
    "    pseudosize = matches * 3 + n_literals\n",
    "    ratio = uncomp / pseudosize\n",
    "\n",
    "    return ratio"
   ]
  },
  {
   "cell_type": "code",
   "execution_count": 80,
   "metadata": {
    "collapsed": true
   },
   "outputs": [],
   "source": [
    "def ratio_by_file(filename):\n",
    "    '''Read in file and return compression ratio'''\n",
    "    \n",
    "    df = pd.read_table(filename)\n",
    "    df.columns = ['infgen']\n",
    "    inp = df.infgen.tolist()\n",
    "    \n",
    "    ratio = parse_ratio(inp)\n",
    "    \n",
    "    return ratio\n",
    "    "
   ]
  }
 ],
 "metadata": {
  "kernelspec": {
   "display_name": "Python 3",
   "language": "python",
   "name": "python3"
  },
  "language_info": {
   "codemirror_mode": {
    "name": "ipython",
    "version": 3
   },
   "file_extension": ".py",
   "mimetype": "text/x-python",
   "name": "python",
   "nbconvert_exporter": "python",
   "pygments_lexer": "ipython3",
   "version": "3.6.2"
  }
 },
 "nbformat": 4,
 "nbformat_minor": 2
}
