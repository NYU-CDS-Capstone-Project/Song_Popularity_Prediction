{
 "cells": [
  {
   "cell_type": "code",
   "execution_count": 2,
   "metadata": {
    "collapsed": false
   },
   "outputs": [
    {
     "name": "stdout",
     "output_type": "stream",
     "text": [
      "Collecting mido\n",
      "  Downloading https://files.pythonhosted.org/packages/20/0a/81beb587b1ae832ea6a1901dc7c6faa380e8dd154e0a862f0a9f3d2afab9/mido-1.2.9-py2.py3-none-any.whl (52kB)\n",
      "\u001b[K    100% |████████████████████████████████| 61kB 767kB/s ta 0:00:01\n",
      "\u001b[?25hInstalling collected packages: mido\n",
      "Successfully installed mido-1.2.9\n",
      "\u001b[33mYou are using pip version 9.0.1, however version 18.1 is available.\n",
      "You should consider upgrading via the 'pip install --upgrade pip' command.\u001b[0m\n"
     ]
    }
   ],
   "source": [
    "!pip install mido"
   ]
  },
  {
   "cell_type": "code",
   "execution_count": 3,
   "metadata": {
    "collapsed": false
   },
   "outputs": [
    {
     "name": "stdout",
     "output_type": "stream",
     "text": [
      "\u001b[33mCache entry deserialization failed, entry ignored\u001b[0m\n",
      "Collecting pip\n",
      "  Downloading https://files.pythonhosted.org/packages/c2/d7/90f34cb0d83a6c5631cf71dfe64cc1054598c843a92b400e55675cc2ac37/pip-18.1-py2.py3-none-any.whl (1.3MB)\n",
      "\u001b[K    100% |████████████████████████████████| 1.3MB 344kB/s ta 0:00:01\n",
      "\u001b[?25hInstalling collected packages: pip\n",
      "  Found existing installation: pip 9.0.1\n",
      "    Uninstalling pip-9.0.1:\n",
      "      Successfully uninstalled pip-9.0.1\n",
      "Successfully installed pip-18.1\n"
     ]
    }
   ],
   "source": [
    "!pip install --upgrade pip"
   ]
  },
  {
   "cell_type": "code",
   "execution_count": 4,
   "metadata": {
    "collapsed": false
   },
   "outputs": [],
   "source": [
    "import mido\n",
    "import pandas as pd\n",
    "from mido import MidiFile"
   ]
  },
  {
   "cell_type": "code",
   "execution_count": 7,
   "metadata": {
    "collapsed": true
   },
   "outputs": [],
   "source": [
    "def midi_to_dataframe(midi_path,path_info=0):\n",
    "    midi = MidiFile(midi_path)\n",
    "    channel_list = list()\n",
    "    note_list = list()\n",
    "    vel_list = list()\n",
    "    time_list = list()\n",
    "    program_list = list() \n",
    "    channel_list_program = list()\n",
    "    \n",
    "    # for loop to run for midi channel(track), note, velocity, time -- fixed!            \n",
    "    for i, track in enumerate(midi.tracks):\n",
    "        for message in track:\n",
    "            try:                \n",
    "                channel_list.append(message.channel)\n",
    "                try:\n",
    "                    time_list.append(message.time)\n",
    "\n",
    "                    try:\n",
    "                        vel_list.append(message.velocity)\n",
    "                    except:\n",
    "                        vel_list.append(0)\n",
    "                    try:\n",
    "                        note_list.append(message.note)\n",
    "                    except:\n",
    "                        note_list.append(0)  \n",
    "                except:\n",
    "                    pass              \n",
    "            except:\n",
    "                pass   \n",
    "\n",
    "\n",
    "    consolidate = pd.DataFrame({\n",
    "            'Channel':channel_list,\n",
    "     'Note' : note_list,\n",
    "     'Velocity':vel_list,\n",
    "    'Time':time_list\n",
    "      })\n",
    "    if path_info == 1:\n",
    "        \n",
    "        consolidate[\"MidiName\"] = (str(midi_path.split(\"/\")[-1]).split('.')[0])\n",
    "        consolidate[\"Artist\"] = (str(midi_path.split(\"/\")[-2]))\n",
    "        consolidate[\"Genre\"] = (str(midi_path.split(\"/\")[-3]))  \n",
    "    else:\n",
    "        consolidate[\"MidiName\"] = \"\"\n",
    "        consolidate[\"Artist\"] = \"\"\n",
    "        consolidate[\"Genre\"] = \"\"  \n",
    "        \n",
    "    consolidate[\"Length\"] = midi.length\n",
    "    consolidate[\"Ticks_per_beat\"] = midi.ticks_per_beat\n",
    "    \n",
    "    for i in midi.tracks[0]:\n",
    "        if i.type == \"set_tempo\":\n",
    "            consolidate[\"Tempo\"] = i.tempo\n",
    "                                   \n",
    "    # for loop to run for program and channel(track)\n",
    "    for i, track in enumerate(midi.tracks):\n",
    "        for message in track:\n",
    "            try:\n",
    "                program_list.append(message.program)\n",
    "                try:\n",
    "                    channel_list_program.append(message.channel)\n",
    "                except:\n",
    "                    pass\n",
    "            except:\n",
    "                pass\n",
    "            \n",
    "    program_message = pd.DataFrame({\n",
    "            'Channel':channel_list_program,\n",
    "     'Program' : program_list\n",
    "      })\n",
    "    program_instrument = pd.merge(program_message,midi_program,left_on= \"Program\",right_on = \"ProgramID\",how = \"left\")\n",
    "\n",
    "    program_instrument = program_instrument.drop(\"ProgramID\",axis = 1)\n",
    "\n",
    "    if 10 in program_instrument.Channel:\n",
    "        x = program_instrument[program_instrument.Channel != 10]\n",
    "\n",
    "        y = program_instrument[program_instrument.Channel == 10]\n",
    "\n",
    "        new_y = pd.merge(y,midi_pro_10,left_on= \"Program\",right_on = \"ProgramID\",how = \"left\")\n",
    "        new_y = new_y.drop([\"Type\",\"Instrument\",\"ProgramID\"],axis = 1)\n",
    "        new_y.columns = ['Channel', 'Program', 'Type', 'Instrument'] \n",
    "        #print (new_y)\n",
    "        program_instrument = x.append(new_y, ignore_index=True)\n",
    "\n",
    "    combine = pd.merge(consolidate,program_instrument,on=\"Channel\",how = \"left\")\n",
    "    combine[\"Real_time\"] = (combine.Tempo/(10**6*combine.Ticks_per_beat)*combine.Time)\n",
    "    \n",
    "    combine_w_note = pd.merge(combine,midi_note,left_on =\"Note\", right_on=\"Midi_NoteNum\", how = \"left\")\n",
    "    combine_w_note = combine_w_note.drop(\"Midi_NoteNum\",axis = 1 )\n",
    "\n",
    "    return combine_w_note\n",
    "\n",
    "\n",
    "\n",
    "\n",
    "\n",
    "    "
   ]
  },
  {
   "cell_type": "code",
   "execution_count": 17,
   "metadata": {
    "collapsed": false
   },
   "outputs": [
    {
     "data": {
      "text/plain": [
       "<midi file '/Users/sunevan/Dropbox/Fall 2018/Capstone Project/Midi/Lady Gaga/Bad romance.mid' type 1, 15 tracks, 21337 messages>"
      ]
     },
     "execution_count": 17,
     "metadata": {},
     "output_type": "execute_result"
    }
   ],
   "source": [
    "MidiFile(\"/Users/sunevan/Dropbox/Fall 2018/Capstone Project/Midi/Lady Gaga/Bad romance.mid\")"
   ]
  },
  {
   "cell_type": "code",
   "execution_count": 19,
   "metadata": {
    "collapsed": true
   },
   "outputs": [],
   "source": [
    "midi_program = pd.read_csv(\"Midi_Program.csv\")\n",
    "midi_pro_10 = pd.read_csv(\"midi10.csv\",encoding = \"ISO-8859-1\")\n",
    "midi_note = pd.read_csv(\"midi_note.csv\")"
   ]
  },
  {
   "cell_type": "code",
   "execution_count": 21,
   "metadata": {
    "collapsed": false
   },
   "outputs": [],
   "source": [
    "midi_to_dataframe(\"/Users/sunevan/Dropbox/Fall 2018/Capstone Project/Midi/Lady Gaga/Bad romance.mid\").to_csv(\"Bad romance midi processed.csv\")"
   ]
  },
  {
   "cell_type": "code",
   "execution_count": null,
   "metadata": {
    "collapsed": true
   },
   "outputs": [],
   "source": []
  }
 ],
 "metadata": {
  "kernelspec": {
   "display_name": "Python 3",
   "language": "python",
   "name": "python3"
  },
  "language_info": {
   "codemirror_mode": {
    "name": "ipython",
    "version": 3
   },
   "file_extension": ".py",
   "mimetype": "text/x-python",
   "name": "python",
   "nbconvert_exporter": "python",
   "pygments_lexer": "ipython3",
   "version": "3.6.0"
  }
 },
 "nbformat": 4,
 "nbformat_minor": 2
}
