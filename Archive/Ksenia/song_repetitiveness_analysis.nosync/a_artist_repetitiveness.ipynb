{
 "cells": [
  {
   "cell_type": "code",
   "execution_count": 39,
   "metadata": {
    "collapsed": true
   },
   "outputs": [],
   "source": [
    "import pandas as pd\n",
    "import os\n",
    "import re\n",
    "from matplotlib import pyplot as plt\n",
    "import numpy as np"
   ]
  },
  {
   "cell_type": "markdown",
   "metadata": {},
   "source": [
    "### The goal is to perform analysis on the repetitiveness of the A artists"
   ]
  },
  {
   "cell_type": "code",
   "execution_count": 2,
   "metadata": {},
   "outputs": [
    {
     "name": "stdout",
     "output_type": "stream",
     "text": [
      "a_artist_repetitiveness.ipynb\r\n",
      "\u001b[31minfgen\u001b[m\u001b[m\r\n",
      "\u001b[34mlyrics.nosync\u001b[m\u001b[m\r\n",
      "lyrics_repetitiveness_analysis-Copy1.ipynb\r\n",
      "lyrics_repetitiveness_analysis.ipynb\r\n",
      "\u001b[34moutput_files\u001b[m\u001b[m\r\n",
      "run_infgen\r\n",
      "\u001b[34mworking_files\u001b[m\u001b[m\r\n"
     ]
    }
   ],
   "source": [
    "! ls"
   ]
  },
  {
   "cell_type": "code",
   "execution_count": 3,
   "metadata": {
    "collapsed": true
   },
   "outputs": [],
   "source": [
    "a_data = pd.read_csv('lyrics.nosync/a_tracks.csv')"
   ]
  },
  {
   "cell_type": "code",
   "execution_count": 4,
   "metadata": {},
   "outputs": [
    {
     "data": {
      "text/html": [
       "<div>\n",
       "<style scoped>\n",
       "    .dataframe tbody tr th:only-of-type {\n",
       "        vertical-align: middle;\n",
       "    }\n",
       "\n",
       "    .dataframe tbody tr th {\n",
       "        vertical-align: top;\n",
       "    }\n",
       "\n",
       "    .dataframe thead th {\n",
       "        text-align: right;\n",
       "    }\n",
       "</style>\n",
       "<table border=\"1\" class=\"dataframe\">\n",
       "  <thead>\n",
       "    <tr style=\"text-align: right;\">\n",
       "      <th></th>\n",
       "      <th>ISRC</th>\n",
       "      <th>SPOTIFY_ID</th>\n",
       "      <th>TITLE</th>\n",
       "      <th>ARTIST</th>\n",
       "      <th>song_id</th>\n",
       "      <th>POP</th>\n",
       "      <th>lyrics</th>\n",
       "      <th>producer</th>\n",
       "      <th>writer</th>\n",
       "    </tr>\n",
       "  </thead>\n",
       "  <tbody>\n",
       "    <tr>\n",
       "      <th>0</th>\n",
       "      <td>USCM51800207</td>\n",
       "      <td>0h1W19pS59KtEd7aDzF58i</td>\n",
       "      <td>In My Feelings</td>\n",
       "      <td>Drake</td>\n",
       "      <td>3807759</td>\n",
       "      <td>100</td>\n",
       "      <td>\\n\\n[Intro: Drake]\\nTrap, TrapMoneyBenny\\nThis...</td>\n",
       "      <td>['TrapMoneyBenny', 'BlaqNmilD']</td>\n",
       "      <td>['Phillip Price', 'Orville Hall', 'Magnolia Sh...</td>\n",
       "    </tr>\n",
       "    <tr>\n",
       "      <th>1</th>\n",
       "      <td>USCM51800078</td>\n",
       "      <td>7liAO2OqrFMVvM7oiLo0m0</td>\n",
       "      <td>Nice For What</td>\n",
       "      <td>Drake</td>\n",
       "      <td>3580132</td>\n",
       "      <td>100</td>\n",
       "      <td>\\n\\n[Intro: Big Freedia]\\nI wanna know who mot...</td>\n",
       "      <td>['BlaqNmilD', 'Murda Beatz']</td>\n",
       "      <td>['The Showboys', 'Lauryn Hill', 'Loon', 'Orvil...</td>\n",
       "    </tr>\n",
       "    <tr>\n",
       "      <th>2</th>\n",
       "      <td>USCM51800005</td>\n",
       "      <td>61T2H6w0ggQdhCvVegLl99</td>\n",
       "      <td>God's Plan</td>\n",
       "      <td>Drake</td>\n",
       "      <td>3315890</td>\n",
       "      <td>100</td>\n",
       "      <td>\\n\\n[Intro]\\nYeah, they wishin' and wishin' an...</td>\n",
       "      <td>['Cardo', 'Yung Exclusive', 'Boi-1da']</td>\n",
       "      <td>['Brock Korsan', 'Cardo', 'Yung Exclusive', '4...</td>\n",
       "    </tr>\n",
       "    <tr>\n",
       "      <th>3</th>\n",
       "      <td>USUM71713011</td>\n",
       "      <td>6ZMbykUu07aL2Drx988zAq</td>\n",
       "      <td>River (feat. Ed Sheeran)</td>\n",
       "      <td>Eminem</td>\n",
       "      <td>3384370</td>\n",
       "      <td>98</td>\n",
       "      <td>\\n\\n[Refrain: Ed Sheeran]\\nIch bin ein Lügner ...</td>\n",
       "      <td>[]</td>\n",
       "      <td>[]</td>\n",
       "    </tr>\n",
       "    <tr>\n",
       "      <th>4</th>\n",
       "      <td>USUM71805289</td>\n",
       "      <td>5SxkdsY1ufZzoq9iXceLw9</td>\n",
       "      <td>no tears left to cry</td>\n",
       "      <td>Ariana Grande</td>\n",
       "      <td>3649172</td>\n",
       "      <td>98</td>\n",
       "      <td>\\n\\n[Intro]\\nRight now, I'm in a state of mind...</td>\n",
       "      <td>['Ilya Salmanzadeh', 'Max Martin']</td>\n",
       "      <td>['Ilya Salmanzadeh', 'Savan Kotecha', 'Max Mar...</td>\n",
       "    </tr>\n",
       "  </tbody>\n",
       "</table>\n",
       "</div>"
      ],
      "text/plain": [
       "           ISRC              SPOTIFY_ID                     TITLE  \\\n",
       "0  USCM51800207  0h1W19pS59KtEd7aDzF58i            In My Feelings   \n",
       "1  USCM51800078  7liAO2OqrFMVvM7oiLo0m0             Nice For What   \n",
       "2  USCM51800005  61T2H6w0ggQdhCvVegLl99                God's Plan   \n",
       "3  USUM71713011  6ZMbykUu07aL2Drx988zAq  River (feat. Ed Sheeran)   \n",
       "4  USUM71805289  5SxkdsY1ufZzoq9iXceLw9      no tears left to cry   \n",
       "\n",
       "          ARTIST  song_id  POP  \\\n",
       "0          Drake  3807759  100   \n",
       "1          Drake  3580132  100   \n",
       "2          Drake  3315890  100   \n",
       "3         Eminem  3384370   98   \n",
       "4  Ariana Grande  3649172   98   \n",
       "\n",
       "                                              lyrics  \\\n",
       "0  \\n\\n[Intro: Drake]\\nTrap, TrapMoneyBenny\\nThis...   \n",
       "1  \\n\\n[Intro: Big Freedia]\\nI wanna know who mot...   \n",
       "2  \\n\\n[Intro]\\nYeah, they wishin' and wishin' an...   \n",
       "3  \\n\\n[Refrain: Ed Sheeran]\\nIch bin ein Lügner ...   \n",
       "4  \\n\\n[Intro]\\nRight now, I'm in a state of mind...   \n",
       "\n",
       "                                 producer  \\\n",
       "0         ['TrapMoneyBenny', 'BlaqNmilD']   \n",
       "1            ['BlaqNmilD', 'Murda Beatz']   \n",
       "2  ['Cardo', 'Yung Exclusive', 'Boi-1da']   \n",
       "3                                      []   \n",
       "4      ['Ilya Salmanzadeh', 'Max Martin']   \n",
       "\n",
       "                                              writer  \n",
       "0  ['Phillip Price', 'Orville Hall', 'Magnolia Sh...  \n",
       "1  ['The Showboys', 'Lauryn Hill', 'Loon', 'Orvil...  \n",
       "2  ['Brock Korsan', 'Cardo', 'Yung Exclusive', '4...  \n",
       "3                                                 []  \n",
       "4  ['Ilya Salmanzadeh', 'Savan Kotecha', 'Max Mar...  "
      ]
     },
     "execution_count": 4,
     "metadata": {},
     "output_type": "execute_result"
    }
   ],
   "source": [
    "a_data.head()"
   ]
  },
  {
   "cell_type": "code",
   "execution_count": 7,
   "metadata": {},
   "outputs": [
    {
     "data": {
      "text/plain": [
       "(173, 9)"
      ]
     },
     "execution_count": 7,
     "metadata": {},
     "output_type": "execute_result"
    }
   ],
   "source": [
    "a_data.shape"
   ]
  },
  {
   "cell_type": "code",
   "execution_count": 8,
   "metadata": {},
   "outputs": [
    {
     "data": {
      "text/plain": [
       "False"
      ]
     },
     "execution_count": 8,
     "metadata": {},
     "output_type": "execute_result"
    }
   ],
   "source": [
    "a_data.ISRC.duplicated().any()"
   ]
  },
  {
   "cell_type": "code",
   "execution_count": 9,
   "metadata": {
    "collapsed": true
   },
   "outputs": [],
   "source": [
    "lyrics = a_data[['song_id', 'lyrics']]"
   ]
  },
  {
   "cell_type": "code",
   "execution_count": 10,
   "metadata": {
    "collapsed": true
   },
   "outputs": [],
   "source": [
    "#Convert each lyrics to a separate text file\n",
    "for index, row in lyrics.iterrows():\n",
    "    lyrics_data = row.lyrics\n",
    "    song_id = row.song_id\n",
    "\n",
    "    with open('working_files_a/'+str(song_id)+'.txt', 'w') as f:\n",
    "        f.write(lyrics_data)"
   ]
  },
  {
   "cell_type": "code",
   "execution_count": null,
   "metadata": {
    "collapsed": true
   },
   "outputs": [],
   "source": [
    "### in command line run gzip all files in working_files_a -- gzip -r ."
   ]
  },
  {
   "cell_type": "code",
   "execution_count": null,
   "metadata": {
    "collapsed": true
   },
   "outputs": [],
   "source": [
    "### in command line run command to obtain stats from zipped files using infgen"
   ]
  },
  {
   "cell_type": "code",
   "execution_count": 13,
   "metadata": {},
   "outputs": [],
   "source": [
    "# Find all files outputed by infgen\n",
    "out_files = [f for f in os.listdir('output_files_a/') if f.endswith('.txt')]"
   ]
  },
  {
   "cell_type": "code",
   "execution_count": 20,
   "metadata": {},
   "outputs": [],
   "source": [
    "# Find compression ratios\n",
    "ids = []\n",
    "compression_ratios = []\n",
    "\n",
    "for file in out_files:\n",
    "    ratio = ratio_by_file(file)\n",
    "    compression_ratios.append(ratio)\n",
    "    file_id = file.split('.')[0]\n",
    "    ids.append(file_id)"
   ]
  },
  {
   "cell_type": "code",
   "execution_count": 21,
   "metadata": {
    "collapsed": true
   },
   "outputs": [],
   "source": [
    "ratio_by_file = pd.DataFrame()\n",
    "ratio_by_file['song_id'] = ids\n",
    "ratio_by_file['repetition_share'] = compression_ratios"
   ]
  },
  {
   "cell_type": "code",
   "execution_count": 22,
   "metadata": {},
   "outputs": [
    {
     "data": {
      "text/html": [
       "<div>\n",
       "<style scoped>\n",
       "    .dataframe tbody tr th:only-of-type {\n",
       "        vertical-align: middle;\n",
       "    }\n",
       "\n",
       "    .dataframe tbody tr th {\n",
       "        vertical-align: top;\n",
       "    }\n",
       "\n",
       "    .dataframe thead th {\n",
       "        text-align: right;\n",
       "    }\n",
       "</style>\n",
       "<table border=\"1\" class=\"dataframe\">\n",
       "  <thead>\n",
       "    <tr style=\"text-align: right;\">\n",
       "      <th></th>\n",
       "      <th>song_id</th>\n",
       "      <th>repetition_share</th>\n",
       "    </tr>\n",
       "  </thead>\n",
       "  <tbody>\n",
       "    <tr>\n",
       "      <th>0</th>\n",
       "      <td>3105301</td>\n",
       "      <td>0.517522</td>\n",
       "    </tr>\n",
       "    <tr>\n",
       "      <th>1</th>\n",
       "      <td>3549261</td>\n",
       "      <td>0.565299</td>\n",
       "    </tr>\n",
       "    <tr>\n",
       "      <th>2</th>\n",
       "      <td>3636162</td>\n",
       "      <td>0.314286</td>\n",
       "    </tr>\n",
       "    <tr>\n",
       "      <th>3</th>\n",
       "      <td>3178019</td>\n",
       "      <td>0.598101</td>\n",
       "    </tr>\n",
       "    <tr>\n",
       "      <th>4</th>\n",
       "      <td>3013669</td>\n",
       "      <td>0.613069</td>\n",
       "    </tr>\n",
       "  </tbody>\n",
       "</table>\n",
       "</div>"
      ],
      "text/plain": [
       "   song_id  repetition_share\n",
       "0  3105301          0.517522\n",
       "1  3549261          0.565299\n",
       "2  3636162          0.314286\n",
       "3  3178019          0.598101\n",
       "4  3013669          0.613069"
      ]
     },
     "execution_count": 22,
     "metadata": {},
     "output_type": "execute_result"
    }
   ],
   "source": [
    "ratio_by_file.head()"
   ]
  },
  {
   "cell_type": "code",
   "execution_count": 27,
   "metadata": {},
   "outputs": [
    {
     "data": {
      "image/png": "[encoded data removed]",
      "text/plain": [
       "<matplotlib.figure.Figure at 0x116ea6198>"
      ]
     },
     "metadata": {},
     "output_type": "display_data"
    }
   ],
   "source": [
    "ratio_by_file.repetition_share.hist()\n",
    "plt.title('Repetition Share Among A-Artists')\n",
    "plt.xlabel('Repetition share')\n",
    "plt.show()"
   ]
  },
  {
   "cell_type": "code",
   "execution_count": 32,
   "metadata": {
    "collapsed": true
   },
   "outputs": [],
   "source": [
    "ratio_by_file['song_id'] = ratio_by_file.song_id.map(lambda x: int(x))"
   ]
  },
  {
   "cell_type": "code",
   "execution_count": 33,
   "metadata": {},
   "outputs": [],
   "source": [
    "merged = a_data.merge(ratio_by_file, on='song_id', how='inner')"
   ]
  },
  {
   "cell_type": "code",
   "execution_count": 60,
   "metadata": {},
   "outputs": [],
   "source": [
    "repetition_by_artist = merged.groupby('ARTIST')['repetition_share'].mean().sort_values()"
   ]
  },
  {
   "cell_type": "code",
   "execution_count": 63,
   "metadata": {},
   "outputs": [
    {
     "data": {
      "image/png": "[encoded data removed]",
      "text/plain": [
       "<matplotlib.figure.Figure at 0x11783d320>"
      ]
     },
     "metadata": {},
     "output_type": "display_data"
    }
   ],
   "source": [
    "plt.barh(np.arange(0,len(repetition_by_artist)), repetition_by_artist.values)\n",
    "plt.yticks(np.arange(0,len(repetition_by_artist)),repetition_by_artist.index)\n",
    "plt.xlabel('Repetition Share')\n",
    "plt.title('Average Repetition BY Top Artist')\n",
    "plt.show()"
   ]
  },
  {
   "cell_type": "code",
   "execution_count": 67,
   "metadata": {},
   "outputs": [],
   "source": [
    "merged.to_csv('lyrics.nosync/repetition_a_artists.csv', index=False)"
   ]
  },
  {
   "cell_type": "code",
   "execution_count": 17,
   "metadata": {
    "collapsed": true
   },
   "outputs": [],
   "source": [
    "def parse_ratio(f):\n",
    "    '''Determine the compression ratio as a proxy of song repetitiveness'''\n",
    "    matches = 0\n",
    "    n_literals = 0\n",
    "    n_symbols = 0\n",
    "    uncomp = 0\n",
    "    \n",
    "    for line in f:\n",
    "        if line.startswith('match'):\n",
    "            _, length, dist = line.split()\n",
    "            matches += 1\n",
    "\n",
    "        pattern = r'! stats literals \\d\\.\\d bits each \\(\\d+/(\\d+)\\)'\n",
    "        p = re.compile(pattern)\n",
    "        m = re.match(p, line)\n",
    "        if m:\n",
    "            n_literals = int(m.group(1))\n",
    "\n",
    "        m = re.match(r'! stats total inout \\d+:\\d+ \\((\\d+)\\)', line)\n",
    "        if m:\n",
    "            n_symbols = int(m.group(1))\n",
    "\n",
    "        m = re.match(r'! stats total block average (\\d+)\\.\\d uncompressed', line)\n",
    "        if m:\n",
    "            uncomp = int(m.group(1))\n",
    "\n",
    "    assert matches + n_literals == n_symbols\n",
    "\n",
    "    # 1 byte per literal, 3 bytes per match.\n",
    "    pseudosize = matches * 3 + n_literals\n",
    "    ratio = 1 - pseudosize / uncomp\n",
    "\n",
    "    return ratio\n",
    "\n",
    "def ratio_by_file(filename):\n",
    "    '''Read in file and return compression ratio'''\n",
    "    \n",
    "    df = pd.read_table('output_files_a/' + filename)\n",
    "    df.columns = ['infgen']\n",
    "    inp = df.infgen.tolist()\n",
    "    \n",
    "    ratio = parse_ratio(inp)\n",
    "    \n",
    "    return ratio"
   ]
  },
  {
   "cell_type": "code",
   "execution_count": null,
   "metadata": {
    "collapsed": true
   },
   "outputs": [],
   "source": []
  }
 ],
 "metadata": {
  "kernelspec": {
   "display_name": "Python 3",
   "language": "python",
   "name": "python3"
  },
  "language_info": {
   "codemirror_mode": {
    "name": "ipython",
    "version": 3
   },
   "file_extension": ".py",
   "mimetype": "text/x-python",
   "name": "python",
   "nbconvert_exporter": "python",
   "pygments_lexer": "ipython3",
   "version": "3.6.2"
  }
 },
 "nbformat": 4,
 "nbformat_minor": 2
}
