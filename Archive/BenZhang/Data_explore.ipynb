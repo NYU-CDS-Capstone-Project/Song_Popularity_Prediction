{
 "cells": [
  {
   "cell_type": "code",
   "execution_count": 1,
   "metadata": {
    "collapsed": true
   },
   "outputs": [],
   "source": [
    "import urllib\n",
    "from bs4 import BeautifulSoup\n",
    "import argparse\n",
    "#import spotify\n",
    "import json\n",
    "from io import StringIO\n",
    "import subprocess\n",
    "import traceback\n",
    "from urllib.parse import quote\n",
    "import pandas as pd"
   ]
  },
  {
   "cell_type": "code",
   "execution_count": 2,
   "metadata": {},
   "outputs": [
    {
     "data": {
      "text/html": [
       "<div>\n",
       "<style>\n",
       "    .dataframe thead tr:only-child th {\n",
       "        text-align: right;\n",
       "    }\n",
       "\n",
       "    .dataframe thead th {\n",
       "        text-align: left;\n",
       "    }\n",
       "\n",
       "    .dataframe tbody tr th {\n",
       "        vertical-align: top;\n",
       "    }\n",
       "</style>\n",
       "<table border=\"1\" class=\"dataframe\">\n",
       "  <thead>\n",
       "    <tr style=\"text-align: right;\">\n",
       "      <th></th>\n",
       "      <th>Unnamed: 0</th>\n",
       "      <th>song_id</th>\n",
       "      <th>lyrics</th>\n",
       "    </tr>\n",
       "  </thead>\n",
       "  <tbody>\n",
       "    <tr>\n",
       "      <th>0</th>\n",
       "      <td>0</td>\n",
       "      <td>3727054</td>\n",
       "      <td>\\n\\n(It's Frankie! Frankie! Frankie!)\\n\\nHenry...</td>\n",
       "    </tr>\n",
       "    <tr>\n",
       "      <th>1</th>\n",
       "      <td>1</td>\n",
       "      <td>883686</td>\n",
       "      <td>\\n\\nDon't stop out too late at night\\nStop! It...</td>\n",
       "    </tr>\n",
       "    <tr>\n",
       "      <th>2</th>\n",
       "      <td>2</td>\n",
       "      <td>622840</td>\n",
       "      <td>\\n\\n[Verse 1]\\nSooner or later everybody's got...</td>\n",
       "    </tr>\n",
       "    <tr>\n",
       "      <th>3</th>\n",
       "      <td>3</td>\n",
       "      <td>1263032</td>\n",
       "      <td>\\n\\nGround below, just save me from it all\\nGr...</td>\n",
       "    </tr>\n",
       "    <tr>\n",
       "      <th>4</th>\n",
       "      <td>4</td>\n",
       "      <td>406918</td>\n",
       "      <td>\\n\\n[Voiceover]\\nPlease Hold while the baller ...</td>\n",
       "    </tr>\n",
       "  </tbody>\n",
       "</table>\n",
       "</div>"
      ],
      "text/plain": [
       "   Unnamed: 0  song_id                                             lyrics\n",
       "0           0  3727054  \\n\\n(It's Frankie! Frankie! Frankie!)\\n\\nHenry...\n",
       "1           1   883686  \\n\\nDon't stop out too late at night\\nStop! It...\n",
       "2           2   622840  \\n\\n[Verse 1]\\nSooner or later everybody's got...\n",
       "3           3  1263032  \\n\\nGround below, just save me from it all\\nGr...\n",
       "4           4   406918  \\n\\n[Voiceover]\\nPlease Hold while the baller ..."
      ]
     },
     "execution_count": 2,
     "metadata": {},
     "output_type": "execute_result"
    }
   ],
   "source": [
    "test=pd.read_csv('englyrics.csv')\n",
    "test.head()"
   ]
  },
  {
   "cell_type": "code",
   "execution_count": 4,
   "metadata": {
    "collapsed": true
   },
   "outputs": [],
   "source": [
    "df_lyric = test.drop(['lyrics','Unnamed: 0'], axis=1)"
   ]
  },
  {
   "cell_type": "code",
   "execution_count": 3,
   "metadata": {},
   "outputs": [
    {
     "name": "stderr",
     "output_type": "stream",
     "text": [
      "/Users/zhangben/anaconda/lib/python3.6/site-packages/IPython/core/interactiveshell.py:2785: DtypeWarning: Columns (0) have mixed types. Specify dtype option on import or set low_memory=False.\n",
      "  interactivity=interactivity, compiler=compiler, result=result)\n"
     ]
    }
   ],
   "source": [
    "df_clean=pd.read_csv('song_id_no_duplicates.csv')"
   ]
  },
  {
   "cell_type": "code",
   "execution_count": 47,
   "metadata": {},
   "outputs": [
    {
     "data": {
      "text/html": [
       "<div>\n",
       "<style>\n",
       "    .dataframe thead tr:only-child th {\n",
       "        text-align: right;\n",
       "    }\n",
       "\n",
       "    .dataframe thead th {\n",
       "        text-align: left;\n",
       "    }\n",
       "\n",
       "    .dataframe tbody tr th {\n",
       "        vertical-align: top;\n",
       "    }\n",
       "</style>\n",
       "<table border=\"1\" class=\"dataframe\">\n",
       "  <thead>\n",
       "    <tr style=\"text-align: right;\">\n",
       "      <th></th>\n",
       "      <th>song_id</th>\n",
       "    </tr>\n",
       "  </thead>\n",
       "  <tbody>\n",
       "    <tr>\n",
       "      <th>0</th>\n",
       "      <td>3727054</td>\n",
       "    </tr>\n",
       "    <tr>\n",
       "      <th>1</th>\n",
       "      <td>883686</td>\n",
       "    </tr>\n",
       "    <tr>\n",
       "      <th>2</th>\n",
       "      <td>622840</td>\n",
       "    </tr>\n",
       "    <tr>\n",
       "      <th>3</th>\n",
       "      <td>1263032</td>\n",
       "    </tr>\n",
       "    <tr>\n",
       "      <th>4</th>\n",
       "      <td>406918</td>\n",
       "    </tr>\n",
       "  </tbody>\n",
       "</table>\n",
       "</div>"
      ],
      "text/plain": [
       "   song_id\n",
       "0  3727054\n",
       "1   883686\n",
       "2   622840\n",
       "3  1263032\n",
       "4   406918"
      ]
     },
     "execution_count": 47,
     "metadata": {},
     "output_type": "execute_result"
    }
   ],
   "source": [
    "df_lyric.head()"
   ]
  },
  {
   "cell_type": "code",
   "execution_count": 48,
   "metadata": {},
   "outputs": [
    {
     "data": {
      "text/html": [
       "<div>\n",
       "<style>\n",
       "    .dataframe thead tr:only-child th {\n",
       "        text-align: right;\n",
       "    }\n",
       "\n",
       "    .dataframe thead th {\n",
       "        text-align: left;\n",
       "    }\n",
       "\n",
       "    .dataframe tbody tr th {\n",
       "        vertical-align: top;\n",
       "    }\n",
       "</style>\n",
       "<table border=\"1\" class=\"dataframe\">\n",
       "  <thead>\n",
       "    <tr style=\"text-align: right;\">\n",
       "      <th></th>\n",
       "      <th>song_id</th>\n",
       "      <th>ISRC</th>\n",
       "      <th>SPOTIFY_ID</th>\n",
       "      <th>TITLE</th>\n",
       "      <th>ARTIST</th>\n",
       "    </tr>\n",
       "  </thead>\n",
       "  <tbody>\n",
       "    <tr>\n",
       "      <th>0</th>\n",
       "      <td>3035330</td>\n",
       "      <td>USRC11702155</td>\n",
       "      <td>1j4kHkkpqZRBwE0A4CN4Yv</td>\n",
       "      <td>Dusk Till Dawn - Radio Edit</td>\n",
       "      <td>ZAYN</td>\n",
       "    </tr>\n",
       "    <tr>\n",
       "      <th>1</th>\n",
       "      <td>3646568</td>\n",
       "      <td>USUM71805170</td>\n",
       "      <td>7dt6x5M1jzdTEt8oCbisTK</td>\n",
       "      <td>Better Now</td>\n",
       "      <td>Post Malone</td>\n",
       "    </tr>\n",
       "    <tr>\n",
       "      <th>2</th>\n",
       "      <td>2942139</td>\n",
       "      <td>USUM71710087</td>\n",
       "      <td>7wGoVu4Dady5GV0Sv4UIsx</td>\n",
       "      <td>rockstar</td>\n",
       "      <td>Post Malone</td>\n",
       "    </tr>\n",
       "    <tr>\n",
       "      <th>3</th>\n",
       "      <td>2992529</td>\n",
       "      <td>USSM11706905</td>\n",
       "      <td>0ofbQMrRDsUaVKq2mGLEAb</td>\n",
       "      <td>Havana</td>\n",
       "      <td>Camila Cabello</td>\n",
       "    </tr>\n",
       "    <tr>\n",
       "      <th>4</th>\n",
       "      <td>3188009</td>\n",
       "      <td>USRC11701901</td>\n",
       "      <td>7vGuf3Y35N4wmASOKLUVVU</td>\n",
       "      <td>Silence</td>\n",
       "      <td>Marshmello</td>\n",
       "    </tr>\n",
       "  </tbody>\n",
       "</table>\n",
       "</div>"
      ],
      "text/plain": [
       "   song_id          ISRC              SPOTIFY_ID                        TITLE  \\\n",
       "0  3035330  USRC11702155  1j4kHkkpqZRBwE0A4CN4Yv  Dusk Till Dawn - Radio Edit   \n",
       "1  3646568  USUM71805170  7dt6x5M1jzdTEt8oCbisTK                   Better Now   \n",
       "2  2942139  USUM71710087  7wGoVu4Dady5GV0Sv4UIsx                     rockstar   \n",
       "3  2992529  USSM11706905  0ofbQMrRDsUaVKq2mGLEAb                       Havana   \n",
       "4  3188009  USRC11701901  7vGuf3Y35N4wmASOKLUVVU                      Silence   \n",
       "\n",
       "           ARTIST  \n",
       "0            ZAYN  \n",
       "1     Post Malone  \n",
       "2     Post Malone  \n",
       "3  Camila Cabello  \n",
       "4      Marshmello  "
      ]
     },
     "execution_count": 48,
     "metadata": {},
     "output_type": "execute_result"
    }
   ],
   "source": [
    "df_clean.head()"
   ]
  },
  {
   "cell_type": "code",
   "execution_count": 5,
   "metadata": {
    "collapsed": true
   },
   "outputs": [],
   "source": [
    "df_clean_id = df_clean['song_id'].values.tolist()"
   ]
  },
  {
   "cell_type": "code",
   "execution_count": 7,
   "metadata": {},
   "outputs": [
    {
     "data": {
      "text/plain": [
       "286110"
      ]
     },
     "execution_count": 7,
     "metadata": {},
     "output_type": "execute_result"
    }
   ],
   "source": [
    "len(df_clean_id)"
   ]
  },
  {
   "cell_type": "code",
   "execution_count": 6,
   "metadata": {
    "collapsed": true
   },
   "outputs": [],
   "source": [
    "df_lyric_id = df_lyric['song_id'].values.tolist()"
   ]
  },
  {
   "cell_type": "code",
   "execution_count": 8,
   "metadata": {},
   "outputs": [
    {
     "data": {
      "text/plain": [
       "159125"
      ]
     },
     "execution_count": 8,
     "metadata": {},
     "output_type": "execute_result"
    }
   ],
   "source": [
    "len(df_lyric_id)"
   ]
  },
  {
   "cell_type": "code",
   "execution_count": 68,
   "metadata": {
    "collapsed": true
   },
   "outputs": [],
   "source": [
    "df_lyric_inter = list(set(df_clean_id) & set(df_lyric_id))"
   ]
  },
  {
   "cell_type": "code",
   "execution_count": 79,
   "metadata": {},
   "outputs": [
    {
     "data": {
      "text/plain": [
       "97358"
      ]
     },
     "execution_count": 79,
     "metadata": {},
     "output_type": "execute_result"
    }
   ],
   "source": [
    "len(df_lyric_inter)"
   ]
  },
  {
   "cell_type": "code",
   "execution_count": null,
   "metadata": {
    "collapsed": true
   },
   "outputs": [],
   "source": [
    "df_clean.loc[df['song_id']]"
   ]
  },
  {
   "cell_type": "code",
   "execution_count": 98,
   "metadata": {
    "collapsed": true
   },
   "outputs": [],
   "source": [
    "# df_audio = pd.merge([df_lyric, df_clean], how='inner', on=['song_id'])\n",
    "# df_audio = df_clean.join(df_lyric, lsuffix='_song_id', how='inner')\n",
    "\n",
    "df_audio = df_clean.loc[df_clean['song_id'].isin(df_lyric_inter)]\n",
    "df_audio_dedup = df_audio.drop_duplicates(subset='song_id', keep=\"last\")"
   ]
  },
  {
   "cell_type": "code",
   "execution_count": 101,
   "metadata": {
    "collapsed": true
   },
   "outputs": [],
   "source": [
    "df_audio_dedup.to_csv('df_extracting_tracks.csv')"
   ]
  },
  {
   "cell_type": "code",
   "execution_count": 94,
   "metadata": {},
   "outputs": [
    {
     "name": "stdout",
     "output_type": "stream",
     "text": [
      "0 3732\n"
     ]
    }
   ],
   "source": [
    "# find duplicates \n",
    "alldataset, seen, dup = df_clean['song_id'], set(),[]\n",
    "for idx, item in enumerate(alldataset):\n",
    "    if item not in seen:\n",
    "        seen.add(item)\n",
    "    else:\n",
    "        dup.append(idx)\n",
    "train_dup_idx = [i for i in dup if i < 25000]\n",
    "test_dup_idx = [i-25000 for i in dup if i>=25000]\n",
    "print(len(train_dup_idx),len(test_dup_idx))"
   ]
  },
  {
   "cell_type": "code",
   "execution_count": 102,
   "metadata": {},
   "outputs": [
    {
     "data": {
      "text/html": [
       "<div>\n",
       "<style>\n",
       "    .dataframe thead tr:only-child th {\n",
       "        text-align: right;\n",
       "    }\n",
       "\n",
       "    .dataframe thead th {\n",
       "        text-align: left;\n",
       "    }\n",
       "\n",
       "    .dataframe tbody tr th {\n",
       "        vertical-align: top;\n",
       "    }\n",
       "</style>\n",
       "<table border=\"1\" class=\"dataframe\">\n",
       "  <thead>\n",
       "    <tr style=\"text-align: right;\">\n",
       "      <th></th>\n",
       "      <th>song_id</th>\n",
       "      <th>ISRC</th>\n",
       "      <th>SPOTIFY_ID</th>\n",
       "      <th>TITLE</th>\n",
       "      <th>ARTIST</th>\n",
       "    </tr>\n",
       "  </thead>\n",
       "  <tbody>\n",
       "    <tr>\n",
       "      <th>131072</th>\n",
       "      <td>2222157</td>\n",
       "      <td>FR7LB1700002</td>\n",
       "      <td>4eFzE4dskTdwXqPKATqjsy</td>\n",
       "      <td>The Lights</td>\n",
       "      <td>Concrete Knives</td>\n",
       "    </tr>\n",
       "    <tr>\n",
       "      <th>131073</th>\n",
       "      <td>491405</td>\n",
       "      <td>QZ9RV1700004</td>\n",
       "      <td>5t0AE0PPtbE66JissfZFOA</td>\n",
       "      <td>AllRight</td>\n",
       "      <td>Joji Ruffin</td>\n",
       "    </tr>\n",
       "    <tr>\n",
       "      <th>131075</th>\n",
       "      <td>1369717</td>\n",
       "      <td>USMTD0985602</td>\n",
       "      <td>158mw0CsuSHxTVWpMwN2Lp</td>\n",
       "      <td>Avalon or Someone Very Similar</td>\n",
       "      <td>Yo La Tengo</td>\n",
       "    </tr>\n",
       "    <tr>\n",
       "      <th>131076</th>\n",
       "      <td>3150542</td>\n",
       "      <td>QZANL1773974</td>\n",
       "      <td>4sBj3qUIPBkIMcRVlh6iXI</td>\n",
       "      <td>Let It Bleed</td>\n",
       "      <td>Smrtdeath</td>\n",
       "    </tr>\n",
       "    <tr>\n",
       "      <th>131077</th>\n",
       "      <td>3511181</td>\n",
       "      <td>DED831701689</td>\n",
       "      <td>6Pp33kxBzDtxBuNWqkkgaO</td>\n",
       "      <td>Jewels From Afar</td>\n",
       "      <td>Therion</td>\n",
       "    </tr>\n",
       "  </tbody>\n",
       "</table>\n",
       "</div>"
      ],
      "text/plain": [
       "        song_id          ISRC              SPOTIFY_ID  \\\n",
       "131072  2222157  FR7LB1700002  4eFzE4dskTdwXqPKATqjsy   \n",
       "131073   491405  QZ9RV1700004  5t0AE0PPtbE66JissfZFOA   \n",
       "131075  1369717  USMTD0985602  158mw0CsuSHxTVWpMwN2Lp   \n",
       "131076  3150542  QZANL1773974  4sBj3qUIPBkIMcRVlh6iXI   \n",
       "131077  3511181  DED831701689  6Pp33kxBzDtxBuNWqkkgaO   \n",
       "\n",
       "                                 TITLE           ARTIST  \n",
       "131072                      The Lights  Concrete Knives  \n",
       "131073                        AllRight      Joji Ruffin  \n",
       "131075  Avalon or Someone Very Similar      Yo La Tengo  \n",
       "131076                    Let It Bleed        Smrtdeath  \n",
       "131077                Jewels From Afar          Therion  "
      ]
     },
     "execution_count": 102,
     "metadata": {},
     "output_type": "execute_result"
    }
   ],
   "source": [
    "df_audio_dedup.head()"
   ]
  },
  {
   "cell_type": "code",
   "execution_count": 80,
   "metadata": {},
   "outputs": [
    {
     "data": {
      "text/plain": [
       "286110"
      ]
     },
     "execution_count": 80,
     "metadata": {},
     "output_type": "execute_result"
    }
   ],
   "source": [
    "len(df_clean['song_id'].isin(df_lyric_inter))"
   ]
  },
  {
   "cell_type": "code",
   "execution_count": 3,
   "metadata": {},
   "outputs": [
    {
     "data": {
      "text/html": [
       "<div>\n",
       "<style>\n",
       "    .dataframe thead tr:only-child th {\n",
       "        text-align: right;\n",
       "    }\n",
       "\n",
       "    .dataframe thead th {\n",
       "        text-align: left;\n",
       "    }\n",
       "\n",
       "    .dataframe tbody tr th {\n",
       "        vertical-align: top;\n",
       "    }\n",
       "</style>\n",
       "<table border=\"1\" class=\"dataframe\">\n",
       "  <thead>\n",
       "    <tr style=\"text-align: right;\">\n",
       "      <th></th>\n",
       "      <th>song_id</th>\n",
       "      <th>ISRC</th>\n",
       "      <th>SPOTIFY_ID</th>\n",
       "      <th>TITLE</th>\n",
       "      <th>ARTIST</th>\n",
       "    </tr>\n",
       "  </thead>\n",
       "  <tbody>\n",
       "    <tr>\n",
       "      <th>0</th>\n",
       "      <td>2222157</td>\n",
       "      <td>FR7LB1700002</td>\n",
       "      <td>4eFzE4dskTdwXqPKATqjsy</td>\n",
       "      <td>The Lights</td>\n",
       "      <td>Concrete Knives</td>\n",
       "    </tr>\n",
       "    <tr>\n",
       "      <th>1</th>\n",
       "      <td>491405</td>\n",
       "      <td>QZ9RV1700004</td>\n",
       "      <td>5t0AE0PPtbE66JissfZFOA</td>\n",
       "      <td>AllRight</td>\n",
       "      <td>Joji Ruffin</td>\n",
       "    </tr>\n",
       "    <tr>\n",
       "      <th>2</th>\n",
       "      <td>1369717</td>\n",
       "      <td>USMTD0985602</td>\n",
       "      <td>158mw0CsuSHxTVWpMwN2Lp</td>\n",
       "      <td>Avalon or Someone Very Similar</td>\n",
       "      <td>Yo La Tengo</td>\n",
       "    </tr>\n",
       "    <tr>\n",
       "      <th>3</th>\n",
       "      <td>3150542</td>\n",
       "      <td>QZANL1773974</td>\n",
       "      <td>4sBj3qUIPBkIMcRVlh6iXI</td>\n",
       "      <td>Let It Bleed</td>\n",
       "      <td>Smrtdeath</td>\n",
       "    </tr>\n",
       "    <tr>\n",
       "      <th>4</th>\n",
       "      <td>3511181</td>\n",
       "      <td>DED831701689</td>\n",
       "      <td>6Pp33kxBzDtxBuNWqkkgaO</td>\n",
       "      <td>Jewels From Afar</td>\n",
       "      <td>Therion</td>\n",
       "    </tr>\n",
       "  </tbody>\n",
       "</table>\n",
       "</div>"
      ],
      "text/plain": [
       "   song_id          ISRC              SPOTIFY_ID  \\\n",
       "0  2222157  FR7LB1700002  4eFzE4dskTdwXqPKATqjsy   \n",
       "1   491405  QZ9RV1700004  5t0AE0PPtbE66JissfZFOA   \n",
       "2  1369717  USMTD0985602  158mw0CsuSHxTVWpMwN2Lp   \n",
       "3  3150542  QZANL1773974  4sBj3qUIPBkIMcRVlh6iXI   \n",
       "4  3511181  DED831701689  6Pp33kxBzDtxBuNWqkkgaO   \n",
       "\n",
       "                            TITLE           ARTIST  \n",
       "0                      The Lights  Concrete Knives  \n",
       "1                        AllRight      Joji Ruffin  \n",
       "2  Avalon or Someone Very Similar      Yo La Tengo  \n",
       "3                    Let It Bleed        Smrtdeath  \n",
       "4                Jewels From Afar          Therion  "
      ]
     },
     "execution_count": 3,
     "metadata": {},
     "output_type": "execute_result"
    }
   ],
   "source": [
    "df_extracting_tracks=pd.read_csv('df_extracting_tracks.csv').drop(['Unnamed: 0'],axis=1)\n",
    "df_extracting_tracks.head()"
   ]
  },
  {
   "cell_type": "code",
   "execution_count": 9,
   "metadata": {},
   "outputs": [
    {
     "data": {
      "text/plain": [
       "(97358, 5)"
      ]
     },
     "execution_count": 9,
     "metadata": {},
     "output_type": "execute_result"
    }
   ],
   "source": [
    "df_extracting_tracks.shape"
   ]
  },
  {
   "cell_type": "code",
   "execution_count": 14,
   "metadata": {
    "collapsed": true
   },
   "outputs": [],
   "source": [
    "# df_sampled_12000 = df_extracting_tracks.sample(n=12000, random_state=133, axis=0)\n",
    "# df_sampled_12000.to_csv('df_sampled_12000.csv', index=False)"
   ]
  },
  {
   "cell_type": "code",
   "execution_count": 2,
   "metadata": {},
   "outputs": [
    {
     "data": {
      "text/html": [
       "<div>\n",
       "<style>\n",
       "    .dataframe thead tr:only-child th {\n",
       "        text-align: right;\n",
       "    }\n",
       "\n",
       "    .dataframe thead th {\n",
       "        text-align: left;\n",
       "    }\n",
       "\n",
       "    .dataframe tbody tr th {\n",
       "        vertical-align: top;\n",
       "    }\n",
       "</style>\n",
       "<table border=\"1\" class=\"dataframe\">\n",
       "  <thead>\n",
       "    <tr style=\"text-align: right;\">\n",
       "      <th></th>\n",
       "      <th>song_id</th>\n",
       "      <th>ISRC</th>\n",
       "      <th>SPOTIFY_ID</th>\n",
       "      <th>TITLE</th>\n",
       "      <th>ARTIST</th>\n",
       "    </tr>\n",
       "  </thead>\n",
       "  <tbody>\n",
       "    <tr>\n",
       "      <th>0</th>\n",
       "      <td>3348279</td>\n",
       "      <td>TCACJ1521062</td>\n",
       "      <td>4e7XZXkEbKcyci1v7pTd4n</td>\n",
       "      <td>Destiny: Defending You</td>\n",
       "      <td>Rockit Gaming</td>\n",
       "    </tr>\n",
       "    <tr>\n",
       "      <th>1</th>\n",
       "      <td>2854130</td>\n",
       "      <td>USSM16701613</td>\n",
       "      <td>18cjJh0XUoklskcKr4Tj36</td>\n",
       "      <td>Oh Death</td>\n",
       "      <td>Kaleidoscope</td>\n",
       "    </tr>\n",
       "    <tr>\n",
       "      <th>2</th>\n",
       "      <td>743230</td>\n",
       "      <td>KRA381703075</td>\n",
       "      <td>3MdXREDeMhXIEwBRdLrtHx</td>\n",
       "      <td>Listen to this song</td>\n",
       "      <td>Kassy</td>\n",
       "    </tr>\n",
       "    <tr>\n",
       "      <th>3</th>\n",
       "      <td>3537980</td>\n",
       "      <td>QZDA41892053</td>\n",
       "      <td>36AfYQNg8aVNmA7PY59C49</td>\n",
       "      <td>Sweetness</td>\n",
       "      <td>Marzville</td>\n",
       "    </tr>\n",
       "    <tr>\n",
       "      <th>4</th>\n",
       "      <td>1636908</td>\n",
       "      <td>DEBL60409956</td>\n",
       "      <td>3F0BoCwXHNK1K3AmTQFDhc</td>\n",
       "      <td>Alabama</td>\n",
       "      <td>The Louvin Brothers</td>\n",
       "    </tr>\n",
       "  </tbody>\n",
       "</table>\n",
       "</div>"
      ],
      "text/plain": [
       "   song_id          ISRC              SPOTIFY_ID                   TITLE  \\\n",
       "0  3348279  TCACJ1521062  4e7XZXkEbKcyci1v7pTd4n  Destiny: Defending You   \n",
       "1  2854130  USSM16701613  18cjJh0XUoklskcKr4Tj36                Oh Death   \n",
       "2   743230  KRA381703075  3MdXREDeMhXIEwBRdLrtHx     Listen to this song   \n",
       "3  3537980  QZDA41892053  36AfYQNg8aVNmA7PY59C49               Sweetness   \n",
       "4  1636908  DEBL60409956  3F0BoCwXHNK1K3AmTQFDhc                 Alabama   \n",
       "\n",
       "                ARTIST  \n",
       "0        Rockit Gaming  \n",
       "1         Kaleidoscope  \n",
       "2                Kassy  \n",
       "3            Marzville  \n",
       "4  The Louvin Brothers  "
      ]
     },
     "execution_count": 2,
     "metadata": {},
     "output_type": "execute_result"
    }
   ],
   "source": [
    "df_test=pd.read_csv('df_sampled_12000.csv')\n",
    "df_test.head()"
   ]
  },
  {
   "cell_type": "code",
   "execution_count": 4,
   "metadata": {
    "collapsed": true
   },
   "outputs": [],
   "source": [
    "df_SPOTIFY_id = df_test['SPOTIFY_ID'].values.tolist()"
   ]
  },
  {
   "cell_type": "code",
   "execution_count": 6,
   "metadata": {},
   "outputs": [],
   "source": [
    "df_left = df_extracting_tracks.loc[~df_extracting_tracks['SPOTIFY_ID'].isin(df_SPOTIFY_id)]"
   ]
  },
  {
   "cell_type": "code",
   "execution_count": 11,
   "metadata": {},
   "outputs": [],
   "source": [
    "df_left.to_csv('df_left.csv', index=False)"
   ]
  },
  {
   "cell_type": "code",
   "execution_count": 9,
   "metadata": {
    "collapsed": true
   },
   "outputs": [],
   "source": [
    "def searchYoutube(trackname):\n",
    "    textToSearch = trackname\n",
    "    query = quote(textToSearch)\n",
    "    url = \"https://www.youtube.com/results?search_query=\" + query\n",
    "    response = urllib.request.urlopen(url)\n",
    "    html = response.read()\n",
    "    soup = BeautifulSoup(html, \"html.parser\")\n",
    "    #we return the first result\n",
    "    return \"https://youtube.com\" + soup.findAll(attrs={'class':'yt-uix-tile-link'})[0]['href']"
   ]
  },
  {
   "cell_type": "code",
   "execution_count": 10,
   "metadata": {},
   "outputs": [
    {
     "data": {
      "text/plain": [
       "'https://youtube.com/watch?v=DRS_PpOrUZ4'"
      ]
     },
     "execution_count": 10,
     "metadata": {},
     "output_type": "execute_result"
    }
   ],
   "source": [
    "searchYoutube('In My Feelings')"
   ]
  },
  {
   "cell_type": "code",
   "execution_count": 1,
   "metadata": {
    "collapsed": true
   },
   "outputs": [],
   "source": [
    "import pandas as pd \n",
    "from matplotlib import pyplot as plt \n",
    "import numpy as np\n",
    "import os"
   ]
  },
  {
   "cell_type": "code",
   "execution_count": 2,
   "metadata": {},
   "outputs": [
    {
     "name": "stdout",
     "output_type": "stream",
     "text": [
      "Data_explore.ipynb\r\n",
      "\u001b[1m\u001b[36mWeekly Charts\u001b[m\u001b[m/\r\n",
      "\u001b[31ma_level_artists.xlsx\u001b[m\u001b[m*\r\n",
      "\u001b[31mmax popularity by track.csv\u001b[m\u001b[m*\r\n",
      "\u001b[31mnew Sep test tracks.csv\u001b[m\u001b[m*\r\n",
      "\u001b[31mspotify_competitor_tracks-updated_sep14.xlsx\u001b[m\u001b[m*\r\n",
      "\u001b[31mweekly viral & top 200.csv\u001b[m\u001b[m*\r\n",
      "weekly_chart_concat.csv\r\n",
      "~$spotify_competitor_tracks-updated_sep14.xlsx\r\n"
     ]
    }
   ],
   "source": [
    "%ls"
   ]
  },
  {
   "cell_type": "markdown",
   "metadata": {},
   "source": [
    "# combine weekly charts"
   ]
  },
  {
   "cell_type": "code",
   "execution_count": 3,
   "metadata": {},
   "outputs": [
    {
     "name": "stderr",
     "output_type": "stream",
     "text": [
      "/Users/zhangben/anaconda/lib/python3.6/site-packages/ipykernel_launcher.py:7: SettingWithCopyWarning: \n",
      "A value is trying to be set on a copy of a slice from a DataFrame.\n",
      "Try using .loc[row_indexer,col_indexer] = value instead\n",
      "\n",
      "See the caveats in the documentation: http://pandas.pydata.org/pandas-docs/stable/indexing.html#indexing-view-versus-copy\n",
      "  import sys\n",
      "/Users/zhangben/anaconda/lib/python3.6/site-packages/ipykernel_launcher.py:8: SettingWithCopyWarning: \n",
      "A value is trying to be set on a copy of a slice from a DataFrame.\n",
      "Try using .loc[row_indexer,col_indexer] = value instead\n",
      "\n",
      "See the caveats in the documentation: http://pandas.pydata.org/pandas-docs/stable/indexing.html#indexing-view-versus-copy\n",
      "  \n"
     ]
    }
   ],
   "source": [
    "chart_list = []\n",
    "for f in os.listdir('Weekly Charts'):\n",
    "    if not f.startswith('.'):\n",
    "        filepath = 'Weekly Charts/' + f\n",
    "        df_chart = pd.read_excel(filepath)\n",
    "        df_us = df_chart.loc[df_chart['Country']=='US']\n",
    "        df_us['Week'] = ' '.join(f.split()[6:8])\n",
    "        df_us['Date'] = ' '.join(f.split()[8:-1]).replace('(' , '').replace(')', '')\n",
    "        chart_list.append(df_us)"
   ]
  },
  {
   "cell_type": "code",
   "execution_count": 4,
   "metadata": {
    "collapsed": true
   },
   "outputs": [],
   "source": [
    "chart_concat = pd.concat(chart_list)\n",
    "final_chart_concat = chart_concat.groupby('Week').apply(lambda x: x.sort_values('Rank'))\n",
    "final_chart_concat.to_csv('weekly_chart_concat.csv',index = 0 ) # index_label = 'Week'"
   ]
  },
  {
   "cell_type": "code",
   "execution_count": 9,
   "metadata": {
    "collapsed": true
   },
   "outputs": [],
   "source": [
    "test=pd.read_csv('weekly_chart_concat.csv')\n",
    "df_20 = test.loc[0:20, ['Track Name', 'Main Artists']]"
   ]
  },
  {
   "cell_type": "code",
   "execution_count": 31,
   "metadata": {},
   "outputs": [
    {
     "data": {
      "text/html": [
       "<div>\n",
       "<style>\n",
       "    .dataframe thead tr:only-child th {\n",
       "        text-align: right;\n",
       "    }\n",
       "\n",
       "    .dataframe thead th {\n",
       "        text-align: left;\n",
       "    }\n",
       "\n",
       "    .dataframe tbody tr th {\n",
       "        vertical-align: top;\n",
       "    }\n",
       "</style>\n",
       "<table border=\"1\" class=\"dataframe\">\n",
       "  <thead>\n",
       "    <tr style=\"text-align: right;\">\n",
       "      <th></th>\n",
       "      <th>Country</th>\n",
       "      <th>Track Name</th>\n",
       "      <th>Main Artists</th>\n",
       "      <th>URI</th>\n",
       "      <th>Streams</th>\n",
       "      <th>Rank</th>\n",
       "      <th>Movement</th>\n",
       "      <th>Streams Increase</th>\n",
       "      <th>% Increase</th>\n",
       "      <th>Week</th>\n",
       "      <th>Date</th>\n",
       "    </tr>\n",
       "  </thead>\n",
       "  <tbody>\n",
       "    <tr>\n",
       "      <th>0</th>\n",
       "      <td>US</td>\n",
       "      <td>Bad and Boujee (feat. Lil Uzi Vert)</td>\n",
       "      <td>Migos</td>\n",
       "      <td>spotify:track:1FvU97lrWOG2NRxErh6OZz</td>\n",
       "      <td>9191691</td>\n",
       "      <td>1</td>\n",
       "      <td>1</td>\n",
       "      <td>1257660</td>\n",
       "      <td>0.1585146314653925</td>\n",
       "      <td>30 -</td>\n",
       "      <td>Jan 5</td>\n",
       "    </tr>\n",
       "    <tr>\n",
       "      <th>1</th>\n",
       "      <td>US</td>\n",
       "      <td>Fake Love</td>\n",
       "      <td>Drake</td>\n",
       "      <td>spotify:track:6NMNgWgEAzde5M8U3lc6FN</td>\n",
       "      <td>8432766</td>\n",
       "      <td>2</td>\n",
       "      <td>-1</td>\n",
       "      <td>-224702</td>\n",
       "      <td>-0.02595470176730656</td>\n",
       "      <td>30 -</td>\n",
       "      <td>Jan 5</td>\n",
       "    </tr>\n",
       "    <tr>\n",
       "      <th>2</th>\n",
       "      <td>US</td>\n",
       "      <td>Starboy</td>\n",
       "      <td>The Weeknd</td>\n",
       "      <td>spotify:track:5aAx2yezTd8zXrkmtKl66Z</td>\n",
       "      <td>7655912</td>\n",
       "      <td>3</td>\n",
       "      <td>0</td>\n",
       "      <td>-106856</td>\n",
       "      <td>-0.01376519303423727</td>\n",
       "      <td>30 -</td>\n",
       "      <td>Jan 5</td>\n",
       "    </tr>\n",
       "    <tr>\n",
       "      <th>3</th>\n",
       "      <td>US</td>\n",
       "      <td>Closer</td>\n",
       "      <td>The Chainsmokers</td>\n",
       "      <td>spotify:track:7BKLCZ1jbUBVqRi2FVlTVw</td>\n",
       "      <td>6411401</td>\n",
       "      <td>4</td>\n",
       "      <td>1</td>\n",
       "      <td>573335</td>\n",
       "      <td>0.09820632380654827</td>\n",
       "      <td>30 -</td>\n",
       "      <td>Jan 5</td>\n",
       "    </tr>\n",
       "    <tr>\n",
       "      <th>4</th>\n",
       "      <td>US</td>\n",
       "      <td>Black Beatles</td>\n",
       "      <td>Rae Sremmurd</td>\n",
       "      <td>spotify:track:6fujklziTHa8uoM5OQSfIo</td>\n",
       "      <td>5747264</td>\n",
       "      <td>5</td>\n",
       "      <td>-1</td>\n",
       "      <td>-466257</td>\n",
       "      <td>-0.07503909619038868</td>\n",
       "      <td>30 -</td>\n",
       "      <td>Jan 5</td>\n",
       "    </tr>\n",
       "  </tbody>\n",
       "</table>\n",
       "</div>"
      ],
      "text/plain": [
       "  Country                           Track Name      Main Artists  \\\n",
       "0      US  Bad and Boujee (feat. Lil Uzi Vert)             Migos   \n",
       "1      US                            Fake Love             Drake   \n",
       "2      US                              Starboy        The Weeknd   \n",
       "3      US                               Closer  The Chainsmokers   \n",
       "4      US                        Black Beatles      Rae Sremmurd   \n",
       "\n",
       "                                    URI  Streams  Rank Movement  \\\n",
       "0  spotify:track:1FvU97lrWOG2NRxErh6OZz  9191691     1        1   \n",
       "1  spotify:track:6NMNgWgEAzde5M8U3lc6FN  8432766     2       -1   \n",
       "2  spotify:track:5aAx2yezTd8zXrkmtKl66Z  7655912     3        0   \n",
       "3  spotify:track:7BKLCZ1jbUBVqRi2FVlTVw  6411401     4        1   \n",
       "4  spotify:track:6fujklziTHa8uoM5OQSfIo  5747264     5       -1   \n",
       "\n",
       "  Streams Increase            % Increase  Week   Date  \n",
       "0          1257660    0.1585146314653925  30 -  Jan 5  \n",
       "1          -224702  -0.02595470176730656  30 -  Jan 5  \n",
       "2          -106856  -0.01376519303423727  30 -  Jan 5  \n",
       "3           573335   0.09820632380654827  30 -  Jan 5  \n",
       "4          -466257  -0.07503909619038868  30 -  Jan 5  "
      ]
     },
     "execution_count": 31,
     "metadata": {},
     "output_type": "execute_result"
    }
   ],
   "source": [
    "test.head()"
   ]
  },
  {
   "cell_type": "code",
   "execution_count": 10,
   "metadata": {
    "collapsed": true
   },
   "outputs": [],
   "source": [
    "import requests\n",
    "import time\n",
    "import re\n",
    "import os"
   ]
  },
  {
   "cell_type": "code",
   "execution_count": 19,
   "metadata": {},
   "outputs": [
    {
     "name": "stdout",
     "output_type": "stream",
     "text": [
      "https://mp3gratis.co/download/?mp3=Starboy\n"
     ]
    }
   ],
   "source": [
    "# payload = {'keyword': '日本', 'salecityid': '2'}\n",
    "param = {\"mp3\": 'Starboy'}\n",
    "r = requests.get(\"https://mp3gratis.co/download/\", params=param) \n",
    "print(r.url) #示例为http://m.ctrip.com/webapp/tourvisa/visa_list?salecityid=2&keyword=日本"
   ]
  },
  {
   "cell_type": "code",
   "execution_count": 21,
   "metadata": {
    "collapsed": true
   },
   "outputs": [],
   "source": [
    "import urllib\n",
    "from bs4 import BeautifulSoup # latest version bs4"
   ]
  },
  {
   "cell_type": "code",
   "execution_count": 30,
   "metadata": {},
   "outputs": [
    {
     "name": "stdout",
     "output_type": "stream",
     "text": [
      "[]\n"
     ]
    }
   ],
   "source": [
    "soup = BeautifulSoup(urllib.request.urlopen(\"https://mp3gratis.co/\").read(), 'lxml')\n",
    "\n",
    "song = soup.find_all({'mp3': 'starboy'})\n",
    "\n",
    "print(song)"
   ]
  },
  {
   "cell_type": "code",
   "execution_count": null,
   "metadata": {
    "collapsed": true
   },
   "outputs": [],
   "source": [
    "class MUSIC:\n",
    "    def __init__(self):\n",
    "        self.header = {\"User-Agent\":\"Mozilla/5.0 (Windows NT 10.0; WOW64) AppleW\"\n",
    "                                    \"ebKit/537.36 (KHTML, like Gecko) Chrome/64.0.3282.186 Safari/537.36\"}\n",
    "        self.song_list = []\n",
    "        self.song_number = 0\n",
    "        self.sing_name = \"\"\n",
    " \n",
    "    def search_music(self, singer_name, track_name):\n",
    "        \"\"\"搜索歌手名字\n",
    "           获取该歌手所有歌曲id\n",
    "        \"\"\"\n",
    "        url = \"https://mp3gratis.co/\"\n",
    "        self.sing_name = singer_name\n",
    "        self.track_name = track_name\n",
    "        param = {\"key_singer\": singer_name,\"key_track\": track_name}\n",
    "        response = requests.get(url, params=param, headers=self.header)\n",
    "        response.encoding = \"utf-8\"\n",
    "        html = response.text\n",
    "        # 先找到该歌手的歌曲总数\n",
    "        number = re.findall(r'<span class=\"number\">(\\d+)</span>', html)\n",
    "        song_number = number[0]\n",
    "        print(\"已找到歌手%s的歌曲%s首\" % (singer_name,song_number))\n",
    "        song_number = int(song_number)\n",
    "        self.song_number = song_number\n",
    "        song_list =[]\n",
    "        for i in range(song_number//20 + 1):\n",
    "            param = {\n",
    "                \"s\": 1,\n",
    "                \"key\": singer_name,\n",
    "                \"jump\": 0,\n",
    "                \"start\": i*20,\n",
    "                \"size\": i*20+20,\n",
    "                \"third_type\": 0,\n",
    "            }\n",
    "            response = requests.get(url, params=param, headers=self.header)\n",
    "            response.encoding = \"utf-8\"\n",
    "            html = response.text\n",
    "            song_id = re.findall(r'sid\":(\\d+)', html)\n",
    "            song_list += song_id\n",
    "            time.sleep(1)\n",
    "        self.song_list = song_list\n",
    " \n",
    "    def download_music(self, path):\n",
    "        \"\"\"下载音乐\"\"\"\n",
    "        url = \"http://play.baidu.com/data/music/songlink\"\n",
    "        data = {\n",
    "            \"songIds\": ','.join(self.song_list),\n",
    "            \"hq\": 0,\n",
    "            \"type\": \"mp3\",\n",
    "            \"pt\": 0,\n",
    "            \"flag\": -1,\n",
    "            \"s2p\": -1,\n",
    "            \"prerate\": -1,\n",
    "            \"bwt\": -1,\n",
    "            \"dur\": -1,\n",
    "            \"bat\": -1,\n",
    "            \"bp\": -1,\n",
    "            \"pos\": -1,\n",
    "            \"auto\": -1,\n",
    "        }\n",
    "        response = requests.post(url,data=data,headers=self.header)\n",
    "        song_info = response.json()\n",
    "        song_info = song_info[\"data\"][\"songList\"]\n",
    "        i = 0\n",
    "        path = path + \"\\\\\" + self.sing_name\n",
    "        self.mkdir(path)\n",
    "        for song in song_info:\n",
    "            song_name = song['songName']\n",
    "            i +=1\n",
    "            with open(path + \"\\\\\"+ '%s.mp3' % song_name,'wb') as f:\n",
    "                # 下载mp3文件\n",
    "                response = requests.get(song['songLink'], headers=self.header)\n",
    "                f.write(response.content)\n",
    "                print(\"已下载%s %d/%d\" %(song_name,i,self.song_number))\n",
    "                time.sleep(1)\n",
    " \n",
    "    def mkdir(self, path):\n",
    "        \"\"\"判断路径是否存在,如果不存在,创建路径\"\"\"\n",
    "        path = path.strip()\n",
    "        path = path.rstrip(\"\\\\\")\n",
    "        isExists = os.path.exists(path)\n",
    "        if not isExists:\n",
    "            # 如果不存在路径，创建路径\n",
    "            os.makedirs(path)\n"
   ]
  },
  {
   "cell_type": "code",
   "execution_count": null,
   "metadata": {
    "collapsed": true
   },
   "outputs": [],
   "source": []
  },
  {
   "cell_type": "code",
   "execution_count": null,
   "metadata": {
    "collapsed": true
   },
   "outputs": [],
   "source": []
  },
  {
   "cell_type": "code",
   "execution_count": null,
   "metadata": {
    "collapsed": true
   },
   "outputs": [],
   "source": []
  },
  {
   "cell_type": "code",
   "execution_count": null,
   "metadata": {
    "collapsed": true
   },
   "outputs": [],
   "source": []
  },
  {
   "cell_type": "code",
   "execution_count": 3,
   "metadata": {},
   "outputs": [
    {
     "data": {
      "text/html": [
       "<div>\n",
       "<style>\n",
       "    .dataframe thead tr:only-child th {\n",
       "        text-align: right;\n",
       "    }\n",
       "\n",
       "    .dataframe thead th {\n",
       "        text-align: left;\n",
       "    }\n",
       "\n",
       "    .dataframe tbody tr th {\n",
       "        vertical-align: top;\n",
       "    }\n",
       "</style>\n",
       "<table border=\"1\" class=\"dataframe\">\n",
       "  <thead>\n",
       "    <tr style=\"text-align: right;\">\n",
       "      <th></th>\n",
       "      <th>artist_id</th>\n",
       "      <th>artist_name</th>\n",
       "      <th>number_of_tracks</th>\n",
       "      <th>number_of_albums</th>\n",
       "      <th>number_of_playlists</th>\n",
       "      <th>playlist_followers</th>\n",
       "      <th>highest_song_popularity</th>\n",
       "      <th>average_song_popularity</th>\n",
       "      <th>A_Level_Artist?</th>\n",
       "      <th>B_Level Artist?</th>\n",
       "    </tr>\n",
       "  </thead>\n",
       "  <tbody>\n",
       "    <tr>\n",
       "      <th>0</th>\n",
       "      <td>3TVXtAsR1Inumwj472S9r4</td>\n",
       "      <td>Drake</td>\n",
       "      <td>263</td>\n",
       "      <td>255</td>\n",
       "      <td>39875</td>\n",
       "      <td>710070329</td>\n",
       "      <td>100</td>\n",
       "      <td>55.859119</td>\n",
       "      <td>1</td>\n",
       "      <td>0</td>\n",
       "    </tr>\n",
       "    <tr>\n",
       "      <th>1</th>\n",
       "      <td>6LuN9FCkKOj5PcnpouEgny</td>\n",
       "      <td>Khalid</td>\n",
       "      <td>46</td>\n",
       "      <td>56</td>\n",
       "      <td>13841</td>\n",
       "      <td>378377698</td>\n",
       "      <td>98</td>\n",
       "      <td>75.597498</td>\n",
       "      <td>0</td>\n",
       "      <td>1</td>\n",
       "    </tr>\n",
       "    <tr>\n",
       "      <th>2</th>\n",
       "      <td>3wyVrVrFCkukjdVIdirGVY</td>\n",
       "      <td>Lil Pump</td>\n",
       "      <td>34</td>\n",
       "      <td>32</td>\n",
       "      <td>6003</td>\n",
       "      <td>191866217</td>\n",
       "      <td>98</td>\n",
       "      <td>68.586418</td>\n",
       "      <td>0</td>\n",
       "      <td>1</td>\n",
       "    </tr>\n",
       "    <tr>\n",
       "      <th>3</th>\n",
       "      <td>1OAjDaKgg00KCUYqDe68un</td>\n",
       "      <td>Gigi D'Agostino</td>\n",
       "      <td>184</td>\n",
       "      <td>94</td>\n",
       "      <td>3243</td>\n",
       "      <td>130813283</td>\n",
       "      <td>97</td>\n",
       "      <td>64.911651</td>\n",
       "      <td>0</td>\n",
       "      <td>0</td>\n",
       "    </tr>\n",
       "    <tr>\n",
       "      <th>4</th>\n",
       "      <td>0Y5tJX1MQlPlqiwlOH1tJY</td>\n",
       "      <td>Travis Scott</td>\n",
       "      <td>122</td>\n",
       "      <td>107</td>\n",
       "      <td>16642</td>\n",
       "      <td>299194507</td>\n",
       "      <td>97</td>\n",
       "      <td>68.611220</td>\n",
       "      <td>1</td>\n",
       "      <td>0</td>\n",
       "    </tr>\n",
       "  </tbody>\n",
       "</table>\n",
       "</div>"
      ],
      "text/plain": [
       "                artist_id      artist_name  number_of_tracks  \\\n",
       "0  3TVXtAsR1Inumwj472S9r4            Drake               263   \n",
       "1  6LuN9FCkKOj5PcnpouEgny           Khalid                46   \n",
       "2  3wyVrVrFCkukjdVIdirGVY         Lil Pump                34   \n",
       "3  1OAjDaKgg00KCUYqDe68un  Gigi D'Agostino               184   \n",
       "4  0Y5tJX1MQlPlqiwlOH1tJY     Travis Scott               122   \n",
       "\n",
       "   number_of_albums  number_of_playlists  playlist_followers  \\\n",
       "0               255                39875           710070329   \n",
       "1                56                13841           378377698   \n",
       "2                32                 6003           191866217   \n",
       "3                94                 3243           130813283   \n",
       "4               107                16642           299194507   \n",
       "\n",
       "   highest_song_popularity  average_song_popularity  A_Level_Artist?  \\\n",
       "0                      100                55.859119                1   \n",
       "1                       98                75.597498                0   \n",
       "2                       98                68.586418                0   \n",
       "3                       97                64.911651                0   \n",
       "4                       97                68.611220                1   \n",
       "\n",
       "   B_Level Artist?  \n",
       "0                0  \n",
       "1                1  \n",
       "2                1  \n",
       "3                0  \n",
       "4                0  "
      ]
     },
     "execution_count": 3,
     "metadata": {},
     "output_type": "execute_result"
    }
   ],
   "source": [
    "artist_level = pd.read_excel(\"a_level_artists.xlsx\")\n",
    "artist_level.head(200)"
   ]
  },
  {
   "cell_type": "code",
   "execution_count": null,
   "metadata": {
    "collapsed": true
   },
   "outputs": [],
   "source": [
    "def main()"
   ]
  },
  {
   "cell_type": "code",
   "execution_count": 4,
   "metadata": {},
   "outputs": [
    {
     "name": "stderr",
     "output_type": "stream",
     "text": [
      "/Users/zhangben/anaconda/lib/python3.6/site-packages/IPython/core/interactiveshell.py:2785: DtypeWarning: Columns (2) have mixed types. Specify dtype option on import or set low_memory=False.\n",
      "  interactivity=interactivity, compiler=compiler, result=result)\n"
     ]
    },
    {
     "data": {
      "text/html": [
       "<div>\n",
       "<style>\n",
       "    .dataframe thead tr:only-child th {\n",
       "        text-align: right;\n",
       "    }\n",
       "\n",
       "    .dataframe thead th {\n",
       "        text-align: left;\n",
       "    }\n",
       "\n",
       "    .dataframe tbody tr th {\n",
       "        vertical-align: top;\n",
       "    }\n",
       "</style>\n",
       "<table border=\"1\" class=\"dataframe\">\n",
       "  <thead>\n",
       "    <tr style=\"text-align: right;\">\n",
       "      <th></th>\n",
       "      <th>track_id</th>\n",
       "      <th>track_external_id</th>\n",
       "      <th>max_popularity</th>\n",
       "    </tr>\n",
       "  </thead>\n",
       "  <tbody>\n",
       "    <tr>\n",
       "      <th>0</th>\n",
       "      <td>3iI3pi9bAFrDW74UxyzMJ0</td>\n",
       "      <td>DEC611100411</td>\n",
       "      <td>30</td>\n",
       "    </tr>\n",
       "    <tr>\n",
       "      <th>1</th>\n",
       "      <td>7FPXqN2DDiG5JASUjEi8Ua</td>\n",
       "      <td>ARG991022790</td>\n",
       "      <td>13</td>\n",
       "    </tr>\n",
       "    <tr>\n",
       "      <th>2</th>\n",
       "      <td>1SHeg1buNhS90Uak8gsx9A</td>\n",
       "      <td>ARW251100615</td>\n",
       "      <td>27</td>\n",
       "    </tr>\n",
       "    <tr>\n",
       "      <th>3</th>\n",
       "      <td>6b5rCLd1UslE8cU1pfk4d0</td>\n",
       "      <td>ATN261562301</td>\n",
       "      <td>39</td>\n",
       "    </tr>\n",
       "    <tr>\n",
       "      <th>4</th>\n",
       "      <td>3Q85163sbHgeXmnQUCbkQk</td>\n",
       "      <td>BEB018070417</td>\n",
       "      <td>5</td>\n",
       "    </tr>\n",
       "  </tbody>\n",
       "</table>\n",
       "</div>"
      ],
      "text/plain": [
       "                 track_id track_external_id max_popularity\n",
       "0  3iI3pi9bAFrDW74UxyzMJ0      DEC611100411             30\n",
       "1  7FPXqN2DDiG5JASUjEi8Ua      ARG991022790             13\n",
       "2  1SHeg1buNhS90Uak8gsx9A      ARW251100615             27\n",
       "3  6b5rCLd1UslE8cU1pfk4d0      ATN261562301             39\n",
       "4  3Q85163sbHgeXmnQUCbkQk      BEB018070417              5"
      ]
     },
     "execution_count": 4,
     "metadata": {},
     "output_type": "execute_result"
    }
   ],
   "source": [
    "max_pop=pd.read_csv(\"max popularity by track.csv\")\n",
    "max_pop.head()"
   ]
  },
  {
   "cell_type": "code",
   "execution_count": 45,
   "metadata": {},
   "outputs": [
    {
     "data": {
      "text/html": [
       "<div>\n",
       "<table border=\"1\" class=\"dataframe\">\n",
       "  <thead>\n",
       "    <tr style=\"text-align: right;\">\n",
       "      <th></th>\n",
       "      <th>track_id</th>\n",
       "      <th>track_external_id</th>\n",
       "      <th>max_popularity</th>\n",
       "    </tr>\n",
       "  </thead>\n",
       "  <tbody>\n",
       "    <tr>\n",
       "      <th>31984</th>\n",
       "      <td>artist</td>\n",
       "      <td>Zion &amp; Lennox</td>\n",
       "      <td>\\N</td>\n",
       "    </tr>\n",
       "    <tr>\n",
       "      <th>104828</th>\n",
       "      <td>artist</td>\n",
       "      <td>Miguel Martinez</td>\n",
       "      <td>\\N</td>\n",
       "    </tr>\n",
       "    <tr>\n",
       "      <th>175012</th>\n",
       "      <td>artist</td>\n",
       "      <td>Reykon</td>\n",
       "      <td>\\N</td>\n",
       "    </tr>\n",
       "    <tr>\n",
       "      <th>181722</th>\n",
       "      <td>artist</td>\n",
       "      <td>Nacho</td>\n",
       "      <td>\\N</td>\n",
       "    </tr>\n",
       "    <tr>\n",
       "      <th>297989</th>\n",
       "      <td>artist</td>\n",
       "      <td>Ozuna</td>\n",
       "      <td>\\N</td>\n",
       "    </tr>\n",
       "  </tbody>\n",
       "</table>\n",
       "</div>"
      ],
      "text/plain": [
       "       track_id track_external_id max_popularity\n",
       "31984    artist     Zion & Lennox             \\N\n",
       "104828   artist   Miguel Martinez             \\N\n",
       "175012   artist            Reykon             \\N\n",
       "181722   artist             Nacho             \\N\n",
       "297989   artist             Ozuna             \\N"
      ]
     },
     "execution_count": 45,
     "metadata": {},
     "output_type": "execute_result"
    }
   ],
   "source": [
    "max_pop[max_pop[\"max_popularity\"]=='\\\\N'].head()"
   ]
  },
  {
   "cell_type": "code",
   "execution_count": 40,
   "metadata": {
    "collapsed": true
   },
   "outputs": [],
   "source": [
    "max_pop.head()\n",
    "max_pop[\"max_popularity\"].replace(\"\\\\N\",\"-1\",inplace=True)\n",
    "max_pop[\"max_popularity\"]= max_pop[\"max_popularity\"].fillna(0)\n",
    "max_pop[\"max_popularity\"]= max_pop[\"max_popularity\"].astype(int)"
   ]
  },
  {
   "cell_type": "code",
   "execution_count": 41,
   "metadata": {},
   "outputs": [
    {
     "data": {
      "image/png": "[encoded data removed]",
      "text/plain": [
       "<matplotlib.figure.Figure at 0x1cfefc198>"
      ]
     },
     "metadata": {},
     "output_type": "display_data"
    }
   ],
   "source": [
    "plt.hist(max_pop[\"max_popularity\"],bins=50)\n",
    "plt.show()"
   ]
  },
  {
   "cell_type": "code",
   "execution_count": 47,
   "metadata": {
    "collapsed": true
   },
   "outputs": [],
   "source": [
    "audio = pd.read_excel(\"spotify_competitor_tracks-updated_sep14.xlsx\",sheetname=\"spotify_competitor_tracks\")"
   ]
  },
  {
   "cell_type": "code",
   "execution_count": 48,
   "metadata": {},
   "outputs": [
    {
     "data": {
      "text/html": [
       "<div>\n",
       "<table border=\"1\" class=\"dataframe\">\n",
       "  <thead>\n",
       "    <tr style=\"text-align: right;\">\n",
       "      <th></th>\n",
       "      <th>ISRC</th>\n",
       "      <th>SPOTIFY_ID</th>\n",
       "      <th>TITLE</th>\n",
       "      <th>ARTIST</th>\n",
       "      <th>TEMPO</th>\n",
       "      <th>ENERGY</th>\n",
       "      <th>DANCE</th>\n",
       "      <th>LOUD</th>\n",
       "      <th>VALENCE</th>\n",
       "      <th>ACOUSTIC</th>\n",
       "      <th>SPEECHINESS</th>\n",
       "      <th>INSTRUMENTALNESS</th>\n",
       "      <th>KEY</th>\n",
       "      <th>LIVENESS</th>\n",
       "      <th>TIME_SIGNATURE</th>\n",
       "      <th>MODE</th>\n",
       "      <th>POP</th>\n",
       "      <th>Seconds</th>\n",
       "      <th>Lean-Back</th>\n",
       "    </tr>\n",
       "  </thead>\n",
       "  <tbody>\n",
       "    <tr>\n",
       "      <th>0</th>\n",
       "      <td>USCM51800207</td>\n",
       "      <td>0h1W19pS59KtEd7aDzF58i</td>\n",
       "      <td>In My Feelings</td>\n",
       "      <td>Drake</td>\n",
       "      <td>91.022</td>\n",
       "      <td>0.619</td>\n",
       "      <td>0.833</td>\n",
       "      <td>-5.822</td>\n",
       "      <td>0.366</td>\n",
       "      <td>0.0496</td>\n",
       "      <td>0.0971</td>\n",
       "      <td>0.000087</td>\n",
       "      <td>8</td>\n",
       "      <td>0.300</td>\n",
       "      <td>4</td>\n",
       "      <td>1</td>\n",
       "      <td>100</td>\n",
       "      <td>217925</td>\n",
       "      <td>0</td>\n",
       "    </tr>\n",
       "    <tr>\n",
       "      <th>1</th>\n",
       "      <td>USUM71710097</td>\n",
       "      <td>29VZKgZvAjFRxxBnctjqOn</td>\n",
       "      <td>rockstar</td>\n",
       "      <td>Post Malone</td>\n",
       "      <td>159.706</td>\n",
       "      <td>0.503</td>\n",
       "      <td>0.552</td>\n",
       "      <td>-6.759</td>\n",
       "      <td>0.141</td>\n",
       "      <td>0.1380</td>\n",
       "      <td>0.1450</td>\n",
       "      <td>0.000555</td>\n",
       "      <td>5</td>\n",
       "      <td>0.143</td>\n",
       "      <td>4</td>\n",
       "      <td>0</td>\n",
       "      <td>100</td>\n",
       "      <td>218480</td>\n",
       "      <td>0</td>\n",
       "    </tr>\n",
       "    <tr>\n",
       "      <th>2</th>\n",
       "      <td>USUM71805184</td>\n",
       "      <td>3AISCGqWZmb6UPxoYrXaA9</td>\n",
       "      <td>Better Now</td>\n",
       "      <td>Post Malone</td>\n",
       "      <td>145.051</td>\n",
       "      <td>0.579</td>\n",
       "      <td>0.686</td>\n",
       "      <td>-5.813</td>\n",
       "      <td>0.352</td>\n",
       "      <td>0.3340</td>\n",
       "      <td>0.0442</td>\n",
       "      <td>0.000000</td>\n",
       "      <td>10</td>\n",
       "      <td>0.135</td>\n",
       "      <td>4</td>\n",
       "      <td>1</td>\n",
       "      <td>100</td>\n",
       "      <td>231266</td>\n",
       "      <td>0</td>\n",
       "    </tr>\n",
       "    <tr>\n",
       "      <th>3</th>\n",
       "      <td>USCM51800078</td>\n",
       "      <td>7liAO2OqrFMVvM7oiLo0m0</td>\n",
       "      <td>Nice For What</td>\n",
       "      <td>Drake</td>\n",
       "      <td>186.885</td>\n",
       "      <td>0.899</td>\n",
       "      <td>0.603</td>\n",
       "      <td>-6.558</td>\n",
       "      <td>0.813</td>\n",
       "      <td>0.1050</td>\n",
       "      <td>0.1410</td>\n",
       "      <td>0.000431</td>\n",
       "      <td>8</td>\n",
       "      <td>0.106</td>\n",
       "      <td>4</td>\n",
       "      <td>1</td>\n",
       "      <td>100</td>\n",
       "      <td>210925</td>\n",
       "      <td>0</td>\n",
       "    </tr>\n",
       "    <tr>\n",
       "      <th>4</th>\n",
       "      <td>USCM51800005</td>\n",
       "      <td>61T2H6w0ggQdhCvVegLl99</td>\n",
       "      <td>God's Plan</td>\n",
       "      <td>Drake</td>\n",
       "      <td>77.175</td>\n",
       "      <td>0.451</td>\n",
       "      <td>0.758</td>\n",
       "      <td>-9.454</td>\n",
       "      <td>0.353</td>\n",
       "      <td>0.0273</td>\n",
       "      <td>0.1040</td>\n",
       "      <td>0.000095</td>\n",
       "      <td>7</td>\n",
       "      <td>0.566</td>\n",
       "      <td>4</td>\n",
       "      <td>1</td>\n",
       "      <td>100</td>\n",
       "      <td>198960</td>\n",
       "      <td>0</td>\n",
       "    </tr>\n",
       "  </tbody>\n",
       "</table>\n",
       "</div>"
      ],
      "text/plain": [
       "           ISRC              SPOTIFY_ID           TITLE       ARTIST    TEMPO  \\\n",
       "0  USCM51800207  0h1W19pS59KtEd7aDzF58i  In My Feelings        Drake   91.022   \n",
       "1  USUM71710097  29VZKgZvAjFRxxBnctjqOn        rockstar  Post Malone  159.706   \n",
       "2  USUM71805184  3AISCGqWZmb6UPxoYrXaA9      Better Now  Post Malone  145.051   \n",
       "3  USCM51800078  7liAO2OqrFMVvM7oiLo0m0   Nice For What        Drake  186.885   \n",
       "4  USCM51800005  61T2H6w0ggQdhCvVegLl99      God's Plan        Drake   77.175   \n",
       "\n",
       "   ENERGY  DANCE   LOUD  VALENCE  ACOUSTIC  SPEECHINESS  INSTRUMENTALNESS  \\\n",
       "0   0.619  0.833 -5.822    0.366    0.0496       0.0971          0.000087   \n",
       "1   0.503  0.552 -6.759    0.141    0.1380       0.1450          0.000555   \n",
       "2   0.579  0.686 -5.813    0.352    0.3340       0.0442          0.000000   \n",
       "3   0.899  0.603 -6.558    0.813    0.1050       0.1410          0.000431   \n",
       "4   0.451  0.758 -9.454    0.353    0.0273       0.1040          0.000095   \n",
       "\n",
       "   KEY  LIVENESS  TIME_SIGNATURE  MODE  POP  Seconds  Lean-Back  \n",
       "0    8     0.300               4     1  100   217925          0  \n",
       "1    5     0.143               4     0  100   218480          0  \n",
       "2   10     0.135               4     1  100   231266          0  \n",
       "3    8     0.106               4     1  100   210925          0  \n",
       "4    7     0.566               4     1  100   198960          0  "
      ]
     },
     "execution_count": 48,
     "metadata": {},
     "output_type": "execute_result"
    }
   ],
   "source": [
    "audio.head()"
   ]
  },
  {
   "cell_type": "code",
   "execution_count": 49,
   "metadata": {},
   "outputs": [
    {
     "data": {
      "text/html": [
       "<div>\n",
       "<table border=\"1\" class=\"dataframe\">\n",
       "  <thead>\n",
       "    <tr style=\"text-align: right;\">\n",
       "      <th></th>\n",
       "      <th>track_id</th>\n",
       "      <th>track_external_id</th>\n",
       "      <th>max_popularity</th>\n",
       "    </tr>\n",
       "  </thead>\n",
       "  <tbody>\n",
       "    <tr>\n",
       "      <th>0</th>\n",
       "      <td>3iI3pi9bAFrDW74UxyzMJ0</td>\n",
       "      <td>DEC611100411</td>\n",
       "      <td>30</td>\n",
       "    </tr>\n",
       "    <tr>\n",
       "      <th>1</th>\n",
       "      <td>7FPXqN2DDiG5JASUjEi8Ua</td>\n",
       "      <td>ARG991022790</td>\n",
       "      <td>13</td>\n",
       "    </tr>\n",
       "    <tr>\n",
       "      <th>2</th>\n",
       "      <td>1SHeg1buNhS90Uak8gsx9A</td>\n",
       "      <td>ARW251100615</td>\n",
       "      <td>27</td>\n",
       "    </tr>\n",
       "    <tr>\n",
       "      <th>3</th>\n",
       "      <td>6b5rCLd1UslE8cU1pfk4d0</td>\n",
       "      <td>ATN261562301</td>\n",
       "      <td>39</td>\n",
       "    </tr>\n",
       "    <tr>\n",
       "      <th>4</th>\n",
       "      <td>3Q85163sbHgeXmnQUCbkQk</td>\n",
       "      <td>BEB018070417</td>\n",
       "      <td>5</td>\n",
       "    </tr>\n",
       "  </tbody>\n",
       "</table>\n",
       "</div>"
      ],
      "text/plain": [
       "                 track_id track_external_id max_popularity\n",
       "0  3iI3pi9bAFrDW74UxyzMJ0      DEC611100411             30\n",
       "1  7FPXqN2DDiG5JASUjEi8Ua      ARG991022790             13\n",
       "2  1SHeg1buNhS90Uak8gsx9A      ARW251100615             27\n",
       "3  6b5rCLd1UslE8cU1pfk4d0      ATN261562301             39\n",
       "4  3Q85163sbHgeXmnQUCbkQk      BEB018070417              5"
      ]
     },
     "execution_count": 49,
     "metadata": {},
     "output_type": "execute_result"
    }
   ],
   "source": [
    "max_pop.head()"
   ]
  },
  {
   "cell_type": "code",
   "execution_count": 50,
   "metadata": {
    "collapsed": true
   },
   "outputs": [],
   "source": [
    "combine = pd.merge(audio,max_pop,how='left',left_on='SPOTIFY_ID',right_on='track_id')"
   ]
  },
  {
   "cell_type": "code",
   "execution_count": 53,
   "metadata": {},
   "outputs": [
    {
     "data": {
      "text/plain": [
       "(3858, 22)"
      ]
     },
     "execution_count": 53,
     "metadata": {},
     "output_type": "execute_result"
    }
   ],
   "source": [
    "combine[combine.max_popularity.isnull()==True].shape"
   ]
  },
  {
   "cell_type": "code",
   "execution_count": 54,
   "metadata": {},
   "outputs": [
    {
     "data": {
      "text/plain": [
       "(613149, 22)"
      ]
     },
     "execution_count": 54,
     "metadata": {},
     "output_type": "execute_result"
    }
   ],
   "source": [
    "combine[combine.max_popularity.isnull()==False].shape"
   ]
  },
  {
   "cell_type": "code",
   "execution_count": 55,
   "metadata": {
    "collapsed": true
   },
   "outputs": [],
   "source": [
    "combine2 = pd.merge(audio,max_pop,how='left',left_on='ISRC',right_on='track_external_id')"
   ]
  },
  {
   "cell_type": "code",
   "execution_count": 56,
   "metadata": {},
   "outputs": [
    {
     "data": {
      "text/plain": [
       "(2726, 22)"
      ]
     },
     "execution_count": 56,
     "metadata": {},
     "output_type": "execute_result"
    }
   ],
   "source": [
    "combine2[combine2.max_popularity.isnull()==True].shape"
   ]
  },
  {
   "cell_type": "code",
   "execution_count": null,
   "metadata": {
    "collapsed": true
   },
   "outputs": [],
   "source": []
  }
 ],
 "metadata": {
  "kernelspec": {
   "display_name": "Python 3",
   "language": "python",
   "name": "python3"
  },
  "language_info": {
   "codemirror_mode": {
    "name": "ipython",
    "version": 3
   },
   "file_extension": ".py",
   "mimetype": "text/x-python",
   "name": "python",
   "nbconvert_exporter": "python",
   "pygments_lexer": "ipython3",
   "version": "3.6.4"
  }
 },
 "nbformat": 4,
 "nbformat_minor": 2
}
