{
 "cells": [
  {
   "cell_type": "code",
   "execution_count": 62,
   "metadata": {
    "collapsed": true
   },
   "outputs": [],
   "source": [
    "import os\n",
    "import pandas as pd\n",
    "import numpy as np"
   ]
  },
  {
   "cell_type": "code",
   "execution_count": 59,
   "metadata": {},
   "outputs": [
    {
     "data": {
      "text/plain": [
       "(97358, 5)"
      ]
     },
     "execution_count": 59,
     "metadata": {},
     "output_type": "execute_result"
    }
   ],
   "source": [
    "df_all=pd.read_csv('~/Desktop/github/Song_Popularity_Prediction/BenZhang/scrape_audio/df_extracting_tracks.csv').drop(['Unnamed: 0'],axis=1)\n",
    "df_all.shape"
   ]
  },
  {
   "cell_type": "code",
   "execution_count": 60,
   "metadata": {},
   "outputs": [
    {
     "data": {
      "text/html": [
       "<div>\n",
       "<style>\n",
       "    .dataframe thead tr:only-child th {\n",
       "        text-align: right;\n",
       "    }\n",
       "\n",
       "    .dataframe thead th {\n",
       "        text-align: left;\n",
       "    }\n",
       "\n",
       "    .dataframe tbody tr th {\n",
       "        vertical-align: top;\n",
       "    }\n",
       "</style>\n",
       "<table border=\"1\" class=\"dataframe\">\n",
       "  <thead>\n",
       "    <tr style=\"text-align: right;\">\n",
       "      <th></th>\n",
       "      <th>song_id</th>\n",
       "      <th>ISRC</th>\n",
       "      <th>SPOTIFY_ID</th>\n",
       "      <th>TITLE</th>\n",
       "      <th>ARTIST</th>\n",
       "    </tr>\n",
       "  </thead>\n",
       "  <tbody>\n",
       "    <tr>\n",
       "      <th>0</th>\n",
       "      <td>2222157</td>\n",
       "      <td>FR7LB1700002</td>\n",
       "      <td>4eFzE4dskTdwXqPKATqjsy</td>\n",
       "      <td>The Lights</td>\n",
       "      <td>Concrete Knives</td>\n",
       "    </tr>\n",
       "    <tr>\n",
       "      <th>1</th>\n",
       "      <td>491405</td>\n",
       "      <td>QZ9RV1700004</td>\n",
       "      <td>5t0AE0PPtbE66JissfZFOA</td>\n",
       "      <td>AllRight</td>\n",
       "      <td>Joji Ruffin</td>\n",
       "    </tr>\n",
       "    <tr>\n",
       "      <th>2</th>\n",
       "      <td>1369717</td>\n",
       "      <td>USMTD0985602</td>\n",
       "      <td>158mw0CsuSHxTVWpMwN2Lp</td>\n",
       "      <td>Avalon or Someone Very Similar</td>\n",
       "      <td>Yo La Tengo</td>\n",
       "    </tr>\n",
       "    <tr>\n",
       "      <th>3</th>\n",
       "      <td>3150542</td>\n",
       "      <td>QZANL1773974</td>\n",
       "      <td>4sBj3qUIPBkIMcRVlh6iXI</td>\n",
       "      <td>Let It Bleed</td>\n",
       "      <td>Smrtdeath</td>\n",
       "    </tr>\n",
       "    <tr>\n",
       "      <th>4</th>\n",
       "      <td>3511181</td>\n",
       "      <td>DED831701689</td>\n",
       "      <td>6Pp33kxBzDtxBuNWqkkgaO</td>\n",
       "      <td>Jewels From Afar</td>\n",
       "      <td>Therion</td>\n",
       "    </tr>\n",
       "  </tbody>\n",
       "</table>\n",
       "</div>"
      ],
      "text/plain": [
       "   song_id          ISRC              SPOTIFY_ID  \\\n",
       "0  2222157  FR7LB1700002  4eFzE4dskTdwXqPKATqjsy   \n",
       "1   491405  QZ9RV1700004  5t0AE0PPtbE66JissfZFOA   \n",
       "2  1369717  USMTD0985602  158mw0CsuSHxTVWpMwN2Lp   \n",
       "3  3150542  QZANL1773974  4sBj3qUIPBkIMcRVlh6iXI   \n",
       "4  3511181  DED831701689  6Pp33kxBzDtxBuNWqkkgaO   \n",
       "\n",
       "                            TITLE           ARTIST  \n",
       "0                      The Lights  Concrete Knives  \n",
       "1                        AllRight      Joji Ruffin  \n",
       "2  Avalon or Someone Very Similar      Yo La Tengo  \n",
       "3                    Let It Bleed        Smrtdeath  \n",
       "4                Jewels From Afar          Therion  "
      ]
     },
     "execution_count": 60,
     "metadata": {},
     "output_type": "execute_result"
    }
   ],
   "source": [
    "df_all.head()"
   ]
  },
  {
   "cell_type": "code",
   "execution_count": 3,
   "metadata": {
    "collapsed": true
   },
   "outputs": [],
   "source": [
    "df_spotify_id = df_all['SPOTIFY_ID'].values.tolist()\n",
    "df_irsc_id = df_all['ISRC'].values.tolist()"
   ]
  },
  {
   "cell_type": "code",
   "execution_count": 13,
   "metadata": {},
   "outputs": [
    {
     "data": {
      "text/plain": [
       "'5t0AE0PPtbE66JissfZFOA'"
      ]
     },
     "execution_count": 13,
     "metadata": {},
     "output_type": "execute_result"
    }
   ],
   "source": [
    "df_all['SPOTIFY_ID'][1]"
   ]
  },
  {
   "cell_type": "code",
   "execution_count": 17,
   "metadata": {
    "collapsed": true
   },
   "outputs": [],
   "source": [
    "#remove <2 or >6 mp3\n",
    "filepath = '/Volumes/Seagate Backup Plus Drive/MP3'\n",
    "for f in os.listdir(filepath):  \n",
    "    if f not in ['scrape.ipynb','clean_audio.ipynb','.DS_Store','.ipynb_checkpoints']: \n",
    "#         if f.split('.')[0] not in df_spotify_id:\n",
    "#             os.remove(os.path.join(filepath,f))\n",
    "#         else:\n",
    "        lowerbound = 2097152 #2mb\n",
    "        upperbound = 6000000 #6mb little less 6mb\n",
    "        filesize = os.path.getsize(os.path.join(filepath,f))\n",
    "        if filesize > upperbound or filesize < lowerbound:\n",
    "            os.remove(os.path.join(filepath,f))          \n"
   ]
  },
  {
   "cell_type": "code",
   "execution_count": 28,
   "metadata": {
    "collapsed": true
   },
   "outputs": [],
   "source": [
    "#change name format\n",
    "filepath = '/Volumes/Seagate Backup Plus Drive/MP3'\n",
    "for f in os.listdir(filepath):  \n",
    "    if f not in ['scrape.ipynb','clean_audio.ipynb','.DS_Store','.ipynb_checkpoints']: \n",
    "        f_spotify_id = f.split('.')[0]\n",
    "        \n",
    "        newrow = df_all.loc[df_all['SPOTIFY_ID']==f_spotify_id]\n",
    "#         f_isrc_id = newrow['ISRC']\n",
    "        newname = newrow.iloc[0]['ISRC'] +'.' + newrow.iloc[0]['TITLE'] + '.' + newrow.iloc[0]['ARTIST'] +'.mp3'\n",
    "#         print(f)\n",
    "#         print(newname)\n",
    "        os.rename(os.path.join(filepath,f), os.path.join(filepath,newname))\n",
    "\n"
   ]
  },
  {
   "cell_type": "code",
   "execution_count": 38,
   "metadata": {},
   "outputs": [
    {
     "data": {
      "text/html": [
       "<div>\n",
       "<style>\n",
       "    .dataframe thead tr:only-child th {\n",
       "        text-align: right;\n",
       "    }\n",
       "\n",
       "    .dataframe thead th {\n",
       "        text-align: left;\n",
       "    }\n",
       "\n",
       "    .dataframe tbody tr th {\n",
       "        vertical-align: top;\n",
       "    }\n",
       "</style>\n",
       "<table border=\"1\" class=\"dataframe\">\n",
       "  <thead>\n",
       "    <tr style=\"text-align: right;\">\n",
       "      <th></th>\n",
       "      <th>ISRC</th>\n",
       "      <th>ARTIST</th>\n",
       "      <th>TITLE</th>\n",
       "      <th>GENRE</th>\n",
       "      <th>ASSET_NAME</th>\n",
       "    </tr>\n",
       "  </thead>\n",
       "  <tbody>\n",
       "    <tr>\n",
       "      <th>0</th>\n",
       "      <td>ARF111700036</td>\n",
       "      <td>V-One</td>\n",
       "      <td>Esto es amor</td>\n",
       "      <td>Pop</td>\n",
       "      <td>190295758776_00001_128.mp3</td>\n",
       "    </tr>\n",
       "    <tr>\n",
       "      <th>1</th>\n",
       "      <td>ARF111700064</td>\n",
       "      <td>Angela Torres</td>\n",
       "      <td>Hola qué tal</td>\n",
       "      <td>Pop</td>\n",
       "      <td>190295681982_00002_128.mp3</td>\n",
       "    </tr>\n",
       "    <tr>\n",
       "      <th>2</th>\n",
       "      <td>ARF111700068</td>\n",
       "      <td>Angela Torres</td>\n",
       "      <td>Mi destino</td>\n",
       "      <td>Pop</td>\n",
       "      <td>190295681982_00011_128.mp3</td>\n",
       "    </tr>\n",
       "    <tr>\n",
       "      <th>3</th>\n",
       "      <td>ARF111700069</td>\n",
       "      <td>Angela Torres</td>\n",
       "      <td>Un santito</td>\n",
       "      <td>Pop</td>\n",
       "      <td>190295681982_00010_128.mp3</td>\n",
       "    </tr>\n",
       "    <tr>\n",
       "      <th>4</th>\n",
       "      <td>ARF111700078</td>\n",
       "      <td>Angela Torres</td>\n",
       "      <td>Tan cerca y tan lejos</td>\n",
       "      <td>Pop</td>\n",
       "      <td>190295681982_00015_128.mp3</td>\n",
       "    </tr>\n",
       "  </tbody>\n",
       "</table>\n",
       "</div>"
      ],
      "text/plain": [
       "           ISRC         ARTIST                  TITLE GENRE  \\\n",
       "0  ARF111700036          V-One           Esto es amor   Pop   \n",
       "1  ARF111700064  Angela Torres           Hola qué tal   Pop   \n",
       "2  ARF111700068  Angela Torres             Mi destino   Pop   \n",
       "3  ARF111700069  Angela Torres             Un santito   Pop   \n",
       "4  ARF111700078  Angela Torres  Tan cerca y tan lejos   Pop   \n",
       "\n",
       "                   ASSET_NAME  \n",
       "0  190295758776_00001_128.mp3  \n",
       "1  190295681982_00002_128.mp3  \n",
       "2  190295681982_00011_128.mp3  \n",
       "3  190295681982_00010_128.mp3  \n",
       "4  190295681982_00015_128.mp3  "
      ]
     },
     "execution_count": 38,
     "metadata": {},
     "output_type": "execute_result"
    }
   ],
   "source": [
    "#change name format of Ryan's file\n",
    "df_r.head()"
   ]
  },
  {
   "cell_type": "code",
   "execution_count": 42,
   "metadata": {
    "collapsed": true
   },
   "outputs": [],
   "source": [
    "filepath = '/Volumes/NO NAME'\n",
    "df_r = pd.read_excel(os.path.join(filepath,'NYU_assets_list_5K_11122018.xlsx'))\n",
    "songpath = os.path.join(filepath,'NYU_Files')\n",
    "rightpath = os.path.join(filepath,'right')\n",
    "for f in os.listdir(songpath):\n",
    "    newrow = df_r.loc[df_r['ASSET_NAME']==f]\n",
    "    if newrow.iloc[0]['ISRC'] in df_irsc_id:\n",
    "        newname = newrow.iloc[0]['ISRC'] +'.' + newrow.iloc[0]['TITLE'] + '.' + newrow.iloc[0]['ARTIST'] +'.mp3'\n",
    "        os.rename(os.path.join(songpath,f), os.path.join(rightpath,newname))\n",
    "        \n",
    "    \n",
    "    \n",
    "\n",
    "#     if df_r['ISRC'][i] in df_irsc_id:\n",
    "#         j += 1\n",
    "# print(j)\n",
    "    "
   ]
  },
  {
   "cell_type": "code",
   "execution_count": 61,
   "metadata": {
    "collapsed": true
   },
   "outputs": [],
   "source": [
    "#make df of final scraped songs\n",
    "filepath = '/Volumes/Seagate Backup Plus Drive/MP3'\n",
    "f_isrc_id_list = set([f.split('.')[0] for f in os.listdir(filepath)])\n",
    "\n",
    "df_finalmap3 = df_all.loc[df_all['ISRC'].isin(f_isrc_id_list)]\n",
    "df_finalmap3.to_csv('MP3_12057_nov20.csv',index=False)"
   ]
  },
  {
   "cell_type": "code",
   "execution_count": 91,
   "metadata": {},
   "outputs": [
    {
     "data": {
      "text/html": [
       "<div>\n",
       "<style>\n",
       "    .dataframe thead tr:only-child th {\n",
       "        text-align: right;\n",
       "    }\n",
       "\n",
       "    .dataframe thead th {\n",
       "        text-align: left;\n",
       "    }\n",
       "\n",
       "    .dataframe tbody tr th {\n",
       "        vertical-align: top;\n",
       "    }\n",
       "</style>\n",
       "<table border=\"1\" class=\"dataframe\">\n",
       "  <thead>\n",
       "    <tr style=\"text-align: right;\">\n",
       "      <th></th>\n",
       "      <th>song_id</th>\n",
       "      <th>ISRC</th>\n",
       "      <th>SPOTIFY_ID</th>\n",
       "      <th>TITLE</th>\n",
       "      <th>ARTIST</th>\n",
       "    </tr>\n",
       "  </thead>\n",
       "  <tbody>\n",
       "    <tr>\n",
       "      <th>0</th>\n",
       "      <td>2222157</td>\n",
       "      <td>FR7LB1700002</td>\n",
       "      <td>4eFzE4dskTdwXqPKATqjsy</td>\n",
       "      <td>The Lights</td>\n",
       "      <td>Concrete Knives</td>\n",
       "    </tr>\n",
       "    <tr>\n",
       "      <th>1</th>\n",
       "      <td>491405</td>\n",
       "      <td>QZ9RV1700004</td>\n",
       "      <td>5t0AE0PPtbE66JissfZFOA</td>\n",
       "      <td>AllRight</td>\n",
       "      <td>Joji Ruffin</td>\n",
       "    </tr>\n",
       "    <tr>\n",
       "      <th>2</th>\n",
       "      <td>1369717</td>\n",
       "      <td>USMTD0985602</td>\n",
       "      <td>158mw0CsuSHxTVWpMwN2Lp</td>\n",
       "      <td>Avalon or Someone Very Similar</td>\n",
       "      <td>Yo La Tengo</td>\n",
       "    </tr>\n",
       "    <tr>\n",
       "      <th>3</th>\n",
       "      <td>3150542</td>\n",
       "      <td>QZANL1773974</td>\n",
       "      <td>4sBj3qUIPBkIMcRVlh6iXI</td>\n",
       "      <td>Let It Bleed</td>\n",
       "      <td>Smrtdeath</td>\n",
       "    </tr>\n",
       "    <tr>\n",
       "      <th>4</th>\n",
       "      <td>3511181</td>\n",
       "      <td>DED831701689</td>\n",
       "      <td>6Pp33kxBzDtxBuNWqkkgaO</td>\n",
       "      <td>Jewels From Afar</td>\n",
       "      <td>Therion</td>\n",
       "    </tr>\n",
       "  </tbody>\n",
       "</table>\n",
       "</div>"
      ],
      "text/plain": [
       "   song_id          ISRC              SPOTIFY_ID  \\\n",
       "0  2222157  FR7LB1700002  4eFzE4dskTdwXqPKATqjsy   \n",
       "1   491405  QZ9RV1700004  5t0AE0PPtbE66JissfZFOA   \n",
       "2  1369717  USMTD0985602  158mw0CsuSHxTVWpMwN2Lp   \n",
       "3  3150542  QZANL1773974  4sBj3qUIPBkIMcRVlh6iXI   \n",
       "4  3511181  DED831701689  6Pp33kxBzDtxBuNWqkkgaO   \n",
       "\n",
       "                            TITLE           ARTIST  \n",
       "0                      The Lights  Concrete Knives  \n",
       "1                        AllRight      Joji Ruffin  \n",
       "2  Avalon or Someone Very Similar      Yo La Tengo  \n",
       "3                    Let It Bleed        Smrtdeath  \n",
       "4                Jewels From Afar          Therion  "
      ]
     },
     "execution_count": 91,
     "metadata": {},
     "output_type": "execute_result"
    }
   ],
   "source": [
    "test = pd.read_csv('MP3_12057_nov20.csv')\n",
    "testid = test['ISRC'].values.tolist()\n",
    "test.head()"
   ]
  },
  {
   "cell_type": "code",
   "execution_count": 65,
   "metadata": {},
   "outputs": [
    {
     "data": {
      "text/plain": [
       "(97356, 31)"
      ]
     },
     "execution_count": 65,
     "metadata": {},
     "output_type": "execute_result"
    }
   ],
   "source": [
    "df_all2=pd.read_csv('~/Desktop/github/Song_Popularity_Prediction/BenZhang/scrape_audio/merged_eng_lyrics_genre_explicit.csv')\n",
    "df_all2.shape"
   ]
  },
  {
   "cell_type": "code",
   "execution_count": 75,
   "metadata": {},
   "outputs": [
    {
     "data": {
      "text/html": [
       "<div>\n",
       "<style>\n",
       "    .dataframe thead tr:only-child th {\n",
       "        text-align: right;\n",
       "    }\n",
       "\n",
       "    .dataframe thead th {\n",
       "        text-align: left;\n",
       "    }\n",
       "\n",
       "    .dataframe tbody tr th {\n",
       "        vertical-align: top;\n",
       "    }\n",
       "</style>\n",
       "<table border=\"1\" class=\"dataframe\">\n",
       "  <thead>\n",
       "    <tr style=\"text-align: right;\">\n",
       "      <th></th>\n",
       "      <th>song_id</th>\n",
       "      <th>lyrics</th>\n",
       "      <th>ISRC</th>\n",
       "      <th>SPOTIFY_ID</th>\n",
       "      <th>TITLE</th>\n",
       "      <th>ARTIST</th>\n",
       "      <th>Blues</th>\n",
       "      <th>Christian/Gospel</th>\n",
       "      <th>Classical</th>\n",
       "      <th>Country</th>\n",
       "      <th>...</th>\n",
       "      <th>Pop</th>\n",
       "      <th>R&amp;B</th>\n",
       "      <th>Reggae</th>\n",
       "      <th>Rock/Alt</th>\n",
       "      <th>Rock/Alt/Pop</th>\n",
       "      <th>Sertanejo</th>\n",
       "      <th>Singer-Songwriter</th>\n",
       "      <th>Sleep</th>\n",
       "      <th>missing</th>\n",
       "      <th>Explicit</th>\n",
       "    </tr>\n",
       "  </thead>\n",
       "  <tbody>\n",
       "    <tr>\n",
       "      <th>51594</th>\n",
       "      <td>2506527</td>\n",
       "      <td>\\n\\n[Round 1: Arsonal]\\nPat Stay is a sucka fr...</td>\n",
       "      <td>BR79S1800003</td>\n",
       "      <td>5VkY1aDWZgLFOtB1w5NYhx</td>\n",
       "      <td>Border Town</td>\n",
       "      <td>Abraskadabra</td>\n",
       "      <td>0</td>\n",
       "      <td>0</td>\n",
       "      <td>0</td>\n",
       "      <td>0</td>\n",
       "      <td>...</td>\n",
       "      <td>0</td>\n",
       "      <td>0</td>\n",
       "      <td>0</td>\n",
       "      <td>1</td>\n",
       "      <td>0</td>\n",
       "      <td>0</td>\n",
       "      <td>0</td>\n",
       "      <td>0</td>\n",
       "      <td>0</td>\n",
       "      <td>True</td>\n",
       "    </tr>\n",
       "  </tbody>\n",
       "</table>\n",
       "<p>1 rows × 31 columns</p>\n",
       "</div>"
      ],
      "text/plain": [
       "       song_id                                             lyrics  \\\n",
       "51594  2506527  \\n\\n[Round 1: Arsonal]\\nPat Stay is a sucka fr...   \n",
       "\n",
       "               ISRC              SPOTIFY_ID        TITLE        ARTIST  Blues  \\\n",
       "51594  BR79S1800003  5VkY1aDWZgLFOtB1w5NYhx  Border Town  Abraskadabra      0   \n",
       "\n",
       "       Christian/Gospel  Classical  Country    ...     Pop  R&B  Reggae  \\\n",
       "51594                 0          0        0    ...       0    0       0   \n",
       "\n",
       "       Rock/Alt  Rock/Alt/Pop  Sertanejo  Singer-Songwriter  Sleep  missing  \\\n",
       "51594         1             0          0                  0      0        0   \n",
       "\n",
       "       Explicit  \n",
       "51594      True  \n",
       "\n",
       "[1 rows x 31 columns]"
      ]
     },
     "execution_count": 75,
     "metadata": {},
     "output_type": "execute_result"
    }
   ],
   "source": [
    "df_all2.loc[df_all2['ISRC']=='BR79S1800003']"
   ]
  },
  {
   "cell_type": "code",
   "execution_count": 76,
   "metadata": {},
   "outputs": [
    {
     "name": "stdout",
     "output_type": "stream",
     "text": [
      "\n",
      "\n",
      "[Round 1: Arsonal]\n",
      "Pat Stay is a sucka free boss, but he'll be left dead\n",
      "If you ever let the cals (cows) fly\n",
      "Want beef? I'll eject lead\n",
      "Your favorite movie is How High but you neglect Red\n",
      "Cause Red smoke weed, this motherfuckers a Meth head\n",
      "In my city you wouldn't show face\n",
      "I wouldn't let you get a penny off the dollar at a slow pace\n",
      "I'm a gorilla but in yo' place, I'm just a nigga\n",
      "Your mother, I'll kill her (Killa) without Ghostface\n",
      "Now I'm slaying him, hooking, souffleing him\n",
      "I'ma show y'all ten ways to kill a Canadian\n",
      "First, feed him to the American people\n",
      "Two, dress him from head to toe in American Eagle\n",
      "Three, make him read the American Bible\n",
      "Four is simple, don't let him watch no American Idol\n",
      "Put you in a cell with an American fag\n",
      "Make your Canadian bitch Carrie Weber suck 13 stripes off of my American flag\n",
      "Six and seven, just bury the guy\n",
      "Cock and let the Glock bust faster than Jimbo on American Pie\n",
      "Eight and nine they both definitely bad\n",
      "Pat, your past is no comparison to any of the rest of these fags\n",
      "Number ten, tell you I ain't done\n",
      "Then yell, \"Hey son, you really got an African American dad.\"\n",
      "Now it's time to radio in, Canadian down location\n",
      "Nova Scotia, some small Canadian town\n",
      "Hostile posed a threat so I engaged on sight\n",
      "They like, \"Other words you just killed Pat Stay, right?\"\n",
      "Wrong Bishop, I just killed Pat Stay wife in front of Pat\n",
      "Pat ain't do shit cause Pat can't fight\n",
      "But ooh, don't let me catch him slipping\n",
      "Have Pat in a bad position\n",
      "Shooters on the roof, the scope attach for the Mac's precision\n",
      "One blast, Pat in half, that was fast division\n",
      "Split him into two by accident, oops I'm a bad magician\n",
      "Abracadabra, I smack, tackle I clap, you're my gat packed in my knapsack\n",
      "I'm back packing my clapper\n",
      "Black gats will clap to you wack talentless cast\n",
      "But I'm past Pat on a fast track\n",
      "Raps travelling past ya\n",
      "Y'all remember Fight Klub when Hollow's eyes showed the fear\n",
      "I Scorpioned that nigga told his ass, \"Get over here.\"\n",
      "Beat him up public, fuck waiting til the coast is clear\n",
      "Chicken noodle soup on him and threw a lot of jokes in there\n",
      "That was in '09\n",
      "2010 was my smoking year\n",
      "That bud got me wiser, no alcohol, beat yo' face with an open beer\n",
      "You copy, you capiche, you Canadian fag\n",
      "I disrespect you and smoke the leaf off the Canadian flag\n",
      "Your time is up and you know it's over\n",
      "I brought a map of Canada put a hole where you from so I could fuck Nova Scotia\n",
      "\n",
      "[Round 1: Pat Stay]\n",
      "Ha, Arsonal, Arsonal\n",
      "Ain't a damn man as dark as you\n",
      "You only beat Dizaster cause when them lights went out no one knew who the fuck he was talking to\n",
      "Christ, he could bust off his piece like, \"fuck the police\"\n",
      "Cause if it's dark out, Arsonal is up in a tree\n",
      "Cops won't find him for shit\n",
      "Unless he crumples some leaves and they crack a funny as joke and he shows a couple of teeth\n",
      "Wait, wait, don't get it fucked up, I'm just dissing his physical features\n",
      "This slithering, primitive creature is so thin he could swim in his t-shirt\n",
      "My girl goes to the beauty salon and asks for a pedicure\n",
      "Arsonal goes to the beauty salon and asks for \"The Predator\"\n",
      "He's a school bus driver!\n",
      "Like how could you take him seriously y'all?\n",
      "It's not a joke, that's his actual career, that's his job\n",
      "He prolly drove the school bus here with his dawgs singing 99 bottles of beer on the wall\n",
      "You ain't busting your tool bitch, you busing to school\n",
      "Screaming at little kids that keep fucking with you and chucking up food\n",
      "Threatening to cancel the field trip, pulling over on the side of the road\n",
      "Like, \"I can turn this bus around and we can just all go home.\"\n",
      "Wait, wait, just had to clown him right quick but let me put it down like this\n",
      "I'm Pat Stay, Canada's champ I'm down right slick\n",
      "Moonwalk on water with brick tied around my kicks\n",
      "I am the shit\n",
      "Shake the world when I pound my fists\n",
      "Fuck Arsonal Da Rebel\n",
      "You dancing in the darkness with the Devil\n",
      "Mind power sharp enough sever, my heart's leather\n",
      "Make you step back like car alarm sensors\n",
      "You wouldn't spark metal if you were an arc welder\n",
      "And no matter what happens after this battle\n",
      "He'll act like he had it in the palm of his hand\n",
      "But he switched it to promo a minute ago cause if he lost he'd call it a scam\n",
      "You need to grow some motherfucking balls and stop being scared\n",
      "Haul up your pants and learn to take a fucking loss like a man\n",
      "You have no backbone, you sensitive sweet\n",
      "He got no criminal cases he does video statements in 1080P\n",
      "I mean, if he's able to cross the boarder he's obviously not what he's pretending to be\n",
      "Cause if Canadians let him in like radio editing his record is clean\n",
      "\n",
      "[Round 2: Arsonal]\n",
      "Like I told you on Twitter, I ain't the one for all the yelling in my face Pat\n",
      "That's like midgets, and I motherfucking hate that\n",
      "You'll get ape slapped til your neck and your face crack\n",
      "White boy you'll be black the day Diddy took Ma$e back\n",
      "You a hockey fan\n",
      "Your best friend is a convict, racist ass Nazi, Klan, Canadian, Yugoslavian, pussy ass bonti man\n",
      "Bishop called to say, \"Ars', please kill Pat the first month of the year.\"\n",
      "I said, \"So you want me to take him is oxy-gen?\"\n",
      "He had problems with a Hollohan\n",
      "You must ain't seen the Fight Klub what I did to the whole Hollow man\n",
      "Man, shit got a little out of hand\n",
      "He tried to steal my style for a while I exchanged his life for the contraband\n",
      "But you? You a big bitch, so we gon' play the wordplay game\n",
      "Cause to me your wordplay lame\n",
      "You say shit like, \"Moon walking in steal toe boots\"\n",
      "\"I put that Eagle to your chest like Bird Gang chain\"\n",
      "That's cause your nostrils was decorated with cocaine stains\n",
      "A real nigga step in your face your whole domain change\n",
      "Pussy, my money done grew up\n",
      "You big...as hell, but I fuck you up\n",
      "I stomp you in some tall dark blue Chucks\n",
      "Bang nines at you fucks, gang signs get threw up\n",
      "Then I put the piece/peace to you without chucking the deuce up\n",
      "Think about it\n",
      "Voice your opinion and sing about it\n",
      "Read about it, read about it, I talk cause I be about it\n",
      "Your outfit I beat you out it\n",
      "Right in front the pastor or the reverend bredren\n",
      "At the alter while your church cathedral's crowded\n",
      "Now that's perfection put together so precisely\n",
      "You purposely provoking me posing like you don't like me\n",
      "So if I prove with pictures\n",
      "In panties Pat, you gon' fight me?\n",
      "Cause all that's gonna mean is that I Brian Pumpered your wifey\n",
      "I fingered that bitch until her pussy did the rain dance\n",
      "I dug in my nose and slapped your mother with the same hand\n",
      "I ain't playing with these words, I am great fam'\n",
      "With nouns, Aye Verb will die playing Hang Man\n",
      "Pussy, you don't even seem hard\n",
      "I keep two Desert Eagles cocked on the dashboard of your dream car\n",
      "I'm on your mind, your last thought when you think hard\n",
      "You couldn't enter my city with a passport and a green card\n",
      "But ooh, if I catch homie, I'ma hit him with that vest on him\n",
      "Fuck if he my fan, I'll pull a Ron Artest on him\n",
      "Break down the big apple on this big bitch\n",
      "Outta New York I fly my Giants on them Jets towards him\n",
      "We met in Spanish Harlem, I had them jankies pull them Tec's on him\n",
      "Trigger finger got an itch and I'm feeling froggy\n",
      "So I'ma leap onto the street and then commit a robbery\n",
      "Then I'm gonna leap onto the beat and then commit a homi\n",
      "Then I might leap onto and push my meat into your mommy\n",
      "You from Nova Scotia, that's where you from faggot\n",
      "You little dumb bastard\n",
      "I'm 'bout to shove five Canadians in one casket\n",
      "You on a date your water break, you little dumb actress\n",
      "I'll break into your house then urinate on your son mattress\n",
      "I shit on his pillowcase, give and take\n",
      "Lift him straight over my head, I'll bench press him and watch his liver shake\n",
      "Devour your insides for breakfast on a dinner plate\n",
      "Then knock your teeth out like your mouth tried to renovate\n",
      "Game over, press the button, start the simulate\n",
      "I'll bend your bitch over, Carrie Weber and let my cock head penetrate\n",
      "I got bread, I've been a great, I'll pop lead, I finish fakes\n",
      "I'm a pothead, I'm in at space, you'll drop dead and get erased\n",
      "I'm nice\n",
      "Patrick you gon' pay the price\n",
      "This world like Jumanji pussy, you gon' shake the dice\n",
      "You'll ace on your first roll\n",
      "I fucked your bitch in her third hole\n",
      "I'm the young nigga with the old soul\n",
      "No ice in my ears cause my lobes closed\n",
      "New jewels, old clothes, pinkie ring is rose gold\n",
      "I done traveled across the world and seen the whole globe\n",
      "Six shot Dillinger empty, you'll get the whole load\n",
      "Four arm clipping\n",
      "You defeating me don't look right, nah like putting a 34 on Pippen\n",
      "My JDP foolies they-\n",
      "\n",
      "[Organik]\n",
      "Alright yo we gotta call it\n",
      "\n",
      "[Round 2: Pat Stay]\n",
      "Now Arsonal claims that he's a Crip\n",
      "And I ain't dissing the Crip crew\n",
      "It's true, he is, his moms was a Crip too\n",
      "It all started when me and the clique slid through\n",
      "She was on her red rag so the bitch just blew/blue\n",
      "Jaws like a Pitbull, suck your dick til she get a chipped tooth\n",
      "I fucked that bitch in the ass til she sounded like Chip-Fu having a big poop\n",
      "See that's what she meant by a gangbang and this guy was just confused\n",
      "We be filming scenes for Bangbus and he drive the kids to school\n",
      "Yo, I'm sick of this dude fronting\n",
      "He's like, \"I'm a gangsta. I'll just shoot ya\n",
      "I fucking shot my mama in the face with a bazooka.\"\n",
      "He said he'll never forget the first time he seen one die\n",
      "I said, \"Damn, what'd you do?\"\n",
      "He said, \"I picked it up shook it and rolled a five.\"\n",
      "Moral of the story is he's a fake, there's nothing more for me to say\n",
      "He held the door for me today and I was 40 feet away\n",
      "He's a fucking sweetheart, he never gangbanged  in his life\n",
      "And Superman ain't losing to this fake Crip tonight/kryptonite\n",
      "Wait, the bus man is Cripping? That shit is impossible\n",
      "I'm letting the principle's office know\n",
      "I'll send this bitch to the hospital and you better bring in a doctor's note\n",
      "You go to prison and drop the soap and turn into a soccer pro\n",
      "So take Squidward's clarinet and your invisible Glock and go get you an arsenal/Arsonal\n",
      "See you think you tough but I ain't Conceited though\n",
      "Try to punk me around I- T.K.O\n",
      "I could punch a hole through your chest and swing your body around like pizza dough\n",
      "Put you in a sleeper hold til your breathing goes\n",
      "And leave you in the freezing cold til you decompose\n",
      "Free your soul\n",
      "Split your wig til you can see his skull\n",
      "From hitting him with the same stick that the Grim Reaper holds\n",
      "How's that?\n",
      "It's like getting hit with a loud smack\n",
      "I don't pop bottles but I twist around caps\n",
      "Walk through the streets stomping my feet til the ground crack\n",
      "You know the motherfucking name I got this shit down Pat\n",
      "Wait, but I'm just a white boy from Canada right?\n",
      "Who cares if I'm white?\n",
      "You racist piece of shit all you do is stereotype\n",
      "Well guess what\n",
      "My dicks bigger, I rap better, plus I fight live\n",
      "And even in basketball the best shooters are the white guys\n",
      "\n",
      "[Round 3: Arsonal]\n",
      "I'm fresh off a body bag and I'm trying to see this money\n",
      "I just murdered a Hitman in New York that's why I had to flee the country\n",
      "Last time I tried to cook, I had a little trouble crossing the boarder\n",
      "Cause they know I travel with a black K\n",
      "Boarder patrol asked me and Ryan, \"Where y'all going?\" What'd I say?\n",
      "\"Where ever the fuck Pat Stay\n",
      "Now either you gon' get the fuck out my way or give me the directions.\"\n",
      "He pointed that way, said your mom's a whore I might need some protection\n",
      "I said, \"Damn Ryan that bitch that bad?\"\n",
      "He said, \"Ars', I fuck around beat Pat dad\n",
      "Every male in Canada done pinned they tail on that donkey.\"\n",
      "You jackass\n",
      "Your mother birthed you in a crack lab\n",
      "Under her white pussy she put a black bag\n",
      "And called you a \"stupid little nigga.\" when she conceived you like you had a black dad\n",
      "And I said, \"Hold on cocky bitch\n",
      "I beat shit down your leg with the bottom end of a hockey stick\n",
      "Your son Pat ain't got no job on his Tommy shit\n",
      "He swallow dick and he take meat\n",
      "I call him 'Young Teriyaki stick..\"\n",
      "Now something y'all might know, in '05 his man Hollohan got jumped and he dipped\n",
      "Why you did that?\n",
      "\n",
      "[Pat Stay]\n",
      "That's bullshit\n",
      "\n",
      "[Arsonal]\n",
      "No, it's not bullshit\n",
      "He asked if you gon' ride\n",
      "You was like, \"Nah, I ain't with that.\"\n",
      "But by you running, made it seem as if you was on the get back\n",
      "It's like you took the snap and they David Beckham'd his chinstrap\n",
      "He could've died upon impact\n",
      "What you was gonna do? Be a friend and take his body to Nova Scotia so he be sleeping where the fish at?\n",
      "Nigga you talk about busting yo' thang, you a customer fiend\n",
      "You wouldn't even give me a run for the green\n",
      "Your similarities to this hustling team\n",
      "Eddie Guerrero, Owen Hart or Turo Gotti?\n",
      "Y'all all dead white boys who wasn't scared to jump in the ring\n",
      "Now at my last battle, I was told I lived the Bob Saget, Baptist life, right?\n",
      "So I beat that nigga to death with Squidward's clarinet cause I felt as though he lived the Spongebob/Patrick life\n",
      "But you Patrick, you a mix breed hermaphrodite\n",
      "Against Arsonal, I'm larger than Big T's appetite\n",
      "I give and take oxygen\n",
      "I be Wait Watching him\n",
      "You always come up short with your green, you Nate Robinson\n",
      "You talk about guns in your raps but you ain't popping 'em\n",
      "Now bite the curb and watch me stomp you with suave moccasins\n",
      "I run up on your dice game strapped, bank stopped again\n",
      "I ain't gotta say you unarmed, tank top again\n",
      "You see me, you haul ass, you ain't confident\n",
      "Cause I rap, you talk Jazz, John Stockton him\n",
      "You old fuck nigga\n",
      "Seven foot bum nigga\n",
      "John Cena in the face ass battle rapper, but much bigger\n",
      "Your bitch mad that she stuck with ya\n",
      "So she make you pay to fuck since you \"sucka free\" and you just lick her\n",
      "That bitch suck dick on a private plane on an air bed\n",
      "From take off to landing, non stop, she's an airhead\n",
      "I'm never sober, it's hard to think with a clear head\n",
      "When I'm done with you I'ma hang you on my wall next to my there heads\n",
      "I ain't say \"deer heads\" I said \"there heads\"\n",
      "Hollow Da Don, Hitman, Remy, their heads\n",
      "Tech-9, Conceited, Dizaster, their heads\n",
      "Okwerdz, Rich Dollarz, Pat Stay, their heads!\n",
      "Airhead\n",
      "\n",
      "{Organik stops Arsonal again for going over the set time limit}\n",
      "\n",
      "[Round 3: Pat Stay]\n",
      "Your moms looks like Beetlejuice\n",
      "And the girl that he dates\n",
      "Looks like that cop from The First 48 who crashed and burned off his face\n",
      "So I fucked her\n",
      "Make your boy look better, right?\n",
      "I wanted to see who's bigger\n",
      "That bitch said his dick looked like E.T.'s finger\n",
      "And are those strings of shit or locks?\n",
      "You did a really shitty job\n",
      "What type of fitted do you rock, a fucking kitty litter box?\n",
      "Ayo, it's disgusting ain't it?\n",
      "Tight jeans looking like my mother's leggings suffocating\n",
      "A couple gay kids saw him and called him a \"fucking faggot\"\n",
      "Let's bash his rep though\n",
      "Before his Hitman Holla battle I thought he had potential\n",
      "That shit had to be off the top of his head cause that was dreadful\n",
      "And whoever did Arsonal's dreads must've wanted him dead\n",
      "Cause he got murdered by a Hitman and his barber put a knot on his head\n",
      "And what the fuck kind of gangsta mentions Squidward's clarinet?\n",
      "Yo, I bet he didn't even know what it was and his kids were scared to death\n",
      "You fucking idiot, you got a brain like a brick\n",
      "He thought Black Eyed Peas was a youtube video of some brother taking a piss\n",
      "He even spelled his own name wrong\n",
      "A-R-S-O-N-A-L\n",
      "Never made it through grade 12\n",
      "I raise Hell, an arson with an arsenal spit flames from a caged cell\n",
      "I'll leave a hole in the middle of Arsonal like the way that his name's spelled\n",
      "I'm light years beyond you, the nightmare that haunts you\n",
      "Fuck rap we can scrap right here if you want to\n",
      "Let's scrap now, I'm King Kong bitch I'll fight til the last round\n",
      "Passing through security is the only way you'll get Pat down\n",
      "Oh what you think? Cause we from Canada we thought y'all hard?\n",
      "The bus driver, the janitor and the crosswalk guard\n",
      "Damn right I'm from Scotia my dick's as long as my fishing rod\n",
      "Your mom's type\n",
      "That bitch a crackhead the way she be blowing that hard white\n",
      "But look\n",
      "He mad right now\n",
      "Spongebob 'bout to get stabbed right now\n",
      "And yo homie, nobody where's brown right now\n",
      "Man, and you said I can't even dunk in that blog that you did\n",
      "Well I have a broken ankle and I just dunked on you with my balls on your chin\n",
      "Sucka\n",
      "\n",
      "\n"
     ]
    }
   ],
   "source": [
    "\n",
    "for i in df_all2.loc[df_all2['ISRC']=='BR79S1800003']['lyrics']:\n",
    "    print(i)"
   ]
  },
  {
   "cell_type": "markdown",
   "metadata": {},
   "source": [
    "## Nov 21, new scrape"
   ]
  },
  {
   "cell_type": "code",
   "execution_count": 16,
   "metadata": {
    "collapsed": true
   },
   "outputs": [],
   "source": [
    "verified_5k = pd.read_csv('verified_5k.csv')\n",
    "scrap_10k = pd.read_csv('scrap_10k.csv')"
   ]
  },
  {
   "cell_type": "code",
   "execution_count": 31,
   "metadata": {},
   "outputs": [
    {
     "data": {
      "text/html": [
       "<div>\n",
       "<style>\n",
       "    .dataframe thead tr:only-child th {\n",
       "        text-align: right;\n",
       "    }\n",
       "\n",
       "    .dataframe thead th {\n",
       "        text-align: left;\n",
       "    }\n",
       "\n",
       "    .dataframe tbody tr th {\n",
       "        vertical-align: top;\n",
       "    }\n",
       "</style>\n",
       "<table border=\"1\" class=\"dataframe\">\n",
       "  <thead>\n",
       "    <tr style=\"text-align: right;\">\n",
       "      <th></th>\n",
       "      <th>song_id</th>\n",
       "      <th>ISRC</th>\n",
       "      <th>SPOTIFY_ID</th>\n",
       "      <th>TITLE</th>\n",
       "      <th>ARTIST</th>\n",
       "      <th>lyrics</th>\n",
       "    </tr>\n",
       "  </thead>\n",
       "  <tbody>\n",
       "    <tr>\n",
       "      <th>0</th>\n",
       "      <td>2085267</td>\n",
       "      <td>USEZ61400045</td>\n",
       "      <td>72IvRqIGV8vVJW6wNQy6xd</td>\n",
       "      <td>18 Mile Island</td>\n",
       "      <td>Wild Ones</td>\n",
       "      <td>\\n\\nIt had me fallin out of sleep\\nI was pictu...</td>\n",
       "    </tr>\n",
       "    <tr>\n",
       "      <th>1</th>\n",
       "      <td>3672072</td>\n",
       "      <td>QZ93L1800798</td>\n",
       "      <td>2ABKQVE1MgHgOD2Lr6wmt1</td>\n",
       "      <td>What We Do</td>\n",
       "      <td>YIORGOS</td>\n",
       "      <td>\\n\\n[Verse 1]\\nShe knows she loves the way\\nI ...</td>\n",
       "    </tr>\n",
       "    <tr>\n",
       "      <th>2</th>\n",
       "      <td>3383087</td>\n",
       "      <td>KRF071700038</td>\n",
       "      <td>6esaG2bSEFcVaEGhyavCyw</td>\n",
       "      <td>RIB</td>\n",
       "      <td>Jvcki Wai</td>\n",
       "      <td>\\n\\n[Verse 1]\\nI’m sorry that I’m saying this\\...</td>\n",
       "    </tr>\n",
       "    <tr>\n",
       "      <th>3</th>\n",
       "      <td>1066446</td>\n",
       "      <td>US2421016308</td>\n",
       "      <td>1mZtkAeq9bXTkfXsTX2YyW</td>\n",
       "      <td>Night Star Hel</td>\n",
       "      <td>Danzig</td>\n",
       "      <td>\\n\\nYour death has been aligned\\nWith stars th...</td>\n",
       "    </tr>\n",
       "    <tr>\n",
       "      <th>4</th>\n",
       "      <td>3891949</td>\n",
       "      <td>QZ9Y21767849</td>\n",
       "      <td>2TT4767DrUgx9xi9PkmmNQ</td>\n",
       "      <td>More Than I Can Comprehend</td>\n",
       "      <td>The Lost Brothers</td>\n",
       "      <td>\\n\\nWhat's gone wrong?\\nYou're running wild ag...</td>\n",
       "    </tr>\n",
       "  </tbody>\n",
       "</table>\n",
       "</div>"
      ],
      "text/plain": [
       "   song_id          ISRC              SPOTIFY_ID                       TITLE  \\\n",
       "0  2085267  USEZ61400045  72IvRqIGV8vVJW6wNQy6xd              18 Mile Island   \n",
       "1  3672072  QZ93L1800798  2ABKQVE1MgHgOD2Lr6wmt1                  What We Do   \n",
       "2  3383087  KRF071700038  6esaG2bSEFcVaEGhyavCyw                         RIB   \n",
       "3  1066446  US2421016308  1mZtkAeq9bXTkfXsTX2YyW              Night Star Hel   \n",
       "4  3891949  QZ9Y21767849  2TT4767DrUgx9xi9PkmmNQ  More Than I Can Comprehend   \n",
       "\n",
       "              ARTIST                                             lyrics  \n",
       "0          Wild Ones  \\n\\nIt had me fallin out of sleep\\nI was pictu...  \n",
       "1            YIORGOS  \\n\\n[Verse 1]\\nShe knows she loves the way\\nI ...  \n",
       "2          Jvcki Wai  \\n\\n[Verse 1]\\nI’m sorry that I’m saying this\\...  \n",
       "3             Danzig  \\n\\nYour death has been aligned\\nWith stars th...  \n",
       "4  The Lost Brothers  \\n\\nWhat's gone wrong?\\nYou're running wild ag...  "
      ]
     },
     "execution_count": 31,
     "metadata": {},
     "output_type": "execute_result"
    }
   ],
   "source": [
    "scrap_10k.head()"
   ]
  },
  {
   "cell_type": "code",
   "execution_count": 30,
   "metadata": {},
   "outputs": [
    {
     "data": {
      "text/html": [
       "<div>\n",
       "<style>\n",
       "    .dataframe thead tr:only-child th {\n",
       "        text-align: right;\n",
       "    }\n",
       "\n",
       "    .dataframe thead th {\n",
       "        text-align: left;\n",
       "    }\n",
       "\n",
       "    .dataframe tbody tr th {\n",
       "        vertical-align: top;\n",
       "    }\n",
       "</style>\n",
       "<table border=\"1\" class=\"dataframe\">\n",
       "  <thead>\n",
       "    <tr style=\"text-align: right;\">\n",
       "      <th></th>\n",
       "      <th>song_id</th>\n",
       "      <th>ISRC</th>\n",
       "      <th>SPOTIFY_ID</th>\n",
       "      <th>TITLE</th>\n",
       "      <th>ARTIST</th>\n",
       "      <th>verified_title</th>\n",
       "      <th>if_verified</th>\n",
       "      <th>lyrics</th>\n",
       "    </tr>\n",
       "  </thead>\n",
       "  <tbody>\n",
       "    <tr>\n",
       "      <th>0</th>\n",
       "      <td>1369717</td>\n",
       "      <td>USMTD0985602</td>\n",
       "      <td>158mw0CsuSHxTVWpMwN2Lp</td>\n",
       "      <td>Avalon or Someone Very Similar</td>\n",
       "      <td>Yo La Tengo</td>\n",
       "      <td>Avalon or Someone Very Similar</td>\n",
       "      <td>1</td>\n",
       "      <td>\\n\\nAvalon, how did these things happen? Avalo...</td>\n",
       "    </tr>\n",
       "    <tr>\n",
       "      <th>1</th>\n",
       "      <td>3150542</td>\n",
       "      <td>QZANL1773974</td>\n",
       "      <td>4sBj3qUIPBkIMcRVlh6iXI</td>\n",
       "      <td>Let It Bleed</td>\n",
       "      <td>Smrtdeath</td>\n",
       "      <td>Let It Bleed</td>\n",
       "      <td>1</td>\n",
       "      <td>\\n\\n[Intro]\\nSethany, Sethany, Sethany\\nYeah, ...</td>\n",
       "    </tr>\n",
       "    <tr>\n",
       "      <th>2</th>\n",
       "      <td>3511181</td>\n",
       "      <td>DED831701689</td>\n",
       "      <td>6Pp33kxBzDtxBuNWqkkgaO</td>\n",
       "      <td>Jewels From Afar</td>\n",
       "      <td>Therion</td>\n",
       "      <td>Jewels from Afar</td>\n",
       "      <td>1</td>\n",
       "      <td>\\n\\n[HELENA]\\nLovely is this night\\n\\n[SETH]\\n...</td>\n",
       "    </tr>\n",
       "    <tr>\n",
       "      <th>3</th>\n",
       "      <td>95694</td>\n",
       "      <td>GBAJE0400472</td>\n",
       "      <td>1GB1oGypgmwZa3egMyVzMU</td>\n",
       "      <td>Vincent Van Gogh</td>\n",
       "      <td>Jonathan Richman</td>\n",
       "      <td>Vincent Van Gogh</td>\n",
       "      <td>1</td>\n",
       "      <td>\\n\\nWell, have you heard about the painter, Vi...</td>\n",
       "    </tr>\n",
       "    <tr>\n",
       "      <th>4</th>\n",
       "      <td>110268</td>\n",
       "      <td>GBAYE7600189</td>\n",
       "      <td>2rnCUXbNsgjiHceaONPnJi</td>\n",
       "      <td>The Blackbird</td>\n",
       "      <td>The Wurzels</td>\n",
       "      <td>Blackbird</td>\n",
       "      <td>1</td>\n",
       "      <td>\\n\\n[Chorus]\\nWhere be that Blackbird to?\\nI k...</td>\n",
       "    </tr>\n",
       "  </tbody>\n",
       "</table>\n",
       "</div>"
      ],
      "text/plain": [
       "   song_id          ISRC              SPOTIFY_ID  \\\n",
       "0  1369717  USMTD0985602  158mw0CsuSHxTVWpMwN2Lp   \n",
       "1  3150542  QZANL1773974  4sBj3qUIPBkIMcRVlh6iXI   \n",
       "2  3511181  DED831701689  6Pp33kxBzDtxBuNWqkkgaO   \n",
       "3    95694  GBAJE0400472  1GB1oGypgmwZa3egMyVzMU   \n",
       "4   110268  GBAYE7600189  2rnCUXbNsgjiHceaONPnJi   \n",
       "\n",
       "                            TITLE            ARTIST  \\\n",
       "0  Avalon or Someone Very Similar       Yo La Tengo   \n",
       "1                    Let It Bleed         Smrtdeath   \n",
       "2                Jewels From Afar           Therion   \n",
       "3                Vincent Van Gogh  Jonathan Richman   \n",
       "4                   The Blackbird       The Wurzels   \n",
       "\n",
       "                   verified_title  if_verified  \\\n",
       "0  Avalon or Someone Very Similar            1   \n",
       "1                    Let It Bleed            1   \n",
       "2                Jewels from Afar            1   \n",
       "3                Vincent Van Gogh            1   \n",
       "4                       Blackbird            1   \n",
       "\n",
       "                                              lyrics  \n",
       "0  \\n\\nAvalon, how did these things happen? Avalo...  \n",
       "1  \\n\\n[Intro]\\nSethany, Sethany, Sethany\\nYeah, ...  \n",
       "2  \\n\\n[HELENA]\\nLovely is this night\\n\\n[SETH]\\n...  \n",
       "3  \\n\\nWell, have you heard about the painter, Vi...  \n",
       "4  \\n\\n[Chorus]\\nWhere be that Blackbird to?\\nI k...  "
      ]
     },
     "execution_count": 30,
     "metadata": {},
     "output_type": "execute_result"
    }
   ],
   "source": [
    "verified_5k.head()"
   ]
  },
  {
   "cell_type": "code",
   "execution_count": 12,
   "metadata": {
    "collapsed": true
   },
   "outputs": [],
   "source": [
    "df_isrc = scrap_10k['ISRC'].values.tolist()\n",
    "\n",
    "#remove file not in the df_isrc \n",
    "filepath = '/Users/zhangben/Desktop/github/HSP_CNN/HL_output/audio/'\n",
    "\n",
    "for f in os.listdir(filepath):  \n",
    "    if f not in ['scrape.ipynb','clean_audio.ipynb','.DS_Store','.ipynb_checkpoints']: \n",
    "        if f.split('.')[0] not in df_isrc:        \n",
    "            os.remove(os.path.join(filepath,f))\n"
   ]
  },
  {
   "cell_type": "code",
   "execution_count": 8,
   "metadata": {
    "collapsed": true
   },
   "outputs": [],
   "source": [
    "df_isrc = scrap_10k['ISRC'].values.tolist()\n",
    "\n",
    "#remove file not in the df_isrc \n",
    "filepath = '/Volumes/Seagate Backup Plus Drive/sample2'\n",
    "\n",
    "for f in os.listdir(filepath):  \n",
    "    if f not in ['scrape.ipynb','clean_audio.ipynb','.DS_Store','.ipynb_checkpoints']: \n",
    "        if f.split('.')[0] not in df_isrc:        \n",
    "            os.remove(os.path.join(filepath,f))\n"
   ]
  },
  {
   "cell_type": "code",
   "execution_count": 13,
   "metadata": {
    "collapsed": true
   },
   "outputs": [],
   "source": [
    "df_isrc = verified['ISRC'].values.tolist()\n",
    "sampled = []\n",
    "#remove file not in the df_isrc \n",
    "# filepath = '~/Desktop/github/⁨HSP_CNN⁩/⁨HL_output/⁨audio⁩⁩'\n",
    "filepath = '/Volumes/Seagate Backup Plus Drive/MP3'\n",
    "for f in os.listdir(filepath):  \n",
    "    if f not in ['scrape.ipynb','clean_audio.ipynb','.DS_Store','.ipynb_checkpoints']: \n",
    "        if f.split('.')[0] in df_isrc: \n",
    "            sampled.append(f.split('.')[0])\n",
    "#             os.remove(os.path.join(filepath,f))\n"
   ]
  },
  {
   "cell_type": "code",
   "execution_count": 15,
   "metadata": {},
   "outputs": [
    {
     "data": {
      "text/plain": [
       "497"
      ]
     },
     "execution_count": 15,
     "metadata": {},
     "output_type": "execute_result"
    }
   ],
   "source": [
    "len(sampled)"
   ]
  },
  {
   "cell_type": "code",
   "execution_count": 16,
   "metadata": {
    "collapsed": true
   },
   "outputs": [],
   "source": [
    "filepath = '/Volumes/Seagate Backup Plus Drive/mp3'\n",
    "for f in os.listdir(filepath):  \n",
    "    if f not in ['scrape.ipynb','clean_audio.ipynb','.DS_Store','.ipynb_checkpoints']: \n",
    "        if f.split('.')[0] in sampled: \n",
    "#             sampled.append(f.split('.')[0])\n",
    "            os.remove(os.path.join(filepath,f))\n"
   ]
  },
  {
   "cell_type": "markdown",
   "metadata": {
    "collapsed": true
   },
   "source": [
    "## new scraped songs to csv"
   ]
  },
  {
   "cell_type": "code",
   "execution_count": 22,
   "metadata": {
    "collapsed": true
   },
   "outputs": [],
   "source": [
    "df_concat = pd.concat([verified_5k,scrap_10k])"
   ]
  },
  {
   "cell_type": "code",
   "execution_count": 26,
   "metadata": {},
   "outputs": [
    {
     "data": {
      "text/plain": [
       "(16751, 8)"
      ]
     },
     "execution_count": 26,
     "metadata": {},
     "output_type": "execute_result"
    }
   ],
   "source": [
    "df_concat.shape"
   ]
  },
  {
   "cell_type": "code",
   "execution_count": 61,
   "metadata": {
    "collapsed": true
   },
   "outputs": [],
   "source": [
    "#make df of final scraped songs\n",
    "filepath1 = '/Volumes/Seagate Backup Plus Drive/MP3'\n",
    "filepath2 = '/Volumes/Seagate Backup Plus Drive/sample_1000'\n",
    "filepath3 = '/Volumes/Seagate Backup Plus Drive/sample2'\n",
    "\n",
    "f_isrc_id_list_1 = set([f.split('.')[0] for f in os.listdir(filepath1)])\n",
    "f_isrc_id_list_2 = set([f.split('.')[0] for f in os.listdir(filepath2)])\n",
    "f_isrc_id_list_3 = set([f.split('.')[0] for f in os.listdir(filepath3)])\n",
    "\n",
    "df_finalmap3_1 = df_concat.loc[df_concat['ISRC'].isin(f_isrc_id_list_1)]\n",
    "df_finalmap3_2 = df_concat.loc[df_concat['ISRC'].isin(f_isrc_id_list_2)]\n",
    "df_finalmap3_3 = df_concat.loc[df_concat['ISRC'].isin(f_isrc_id_list_3)]\n",
    "df_concat_final = pd.concat([df_finalmap3_1,df_finalmap3_2,df_finalmap3_3])\n",
    "df_concat_final = df_concat_final.drop_duplicates(subset=None, keep='first')\n",
    "df_concat_final = df_concat_final.reset_index(drop=True)"
   ]
  },
  {
   "cell_type": "code",
   "execution_count": 62,
   "metadata": {},
   "outputs": [
    {
     "data": {
      "text/plain": [
       "(14600, 8)"
      ]
     },
     "execution_count": 62,
     "metadata": {},
     "output_type": "execute_result"
    }
   ],
   "source": [
    "df_concat_final.shape"
   ]
  },
  {
   "cell_type": "code",
   "execution_count": 63,
   "metadata": {},
   "outputs": [
    {
     "data": {
      "text/html": [
       "<div>\n",
       "<style>\n",
       "    .dataframe thead tr:only-child th {\n",
       "        text-align: right;\n",
       "    }\n",
       "\n",
       "    .dataframe thead th {\n",
       "        text-align: left;\n",
       "    }\n",
       "\n",
       "    .dataframe tbody tr th {\n",
       "        vertical-align: top;\n",
       "    }\n",
       "</style>\n",
       "<table border=\"1\" class=\"dataframe\">\n",
       "  <thead>\n",
       "    <tr style=\"text-align: right;\">\n",
       "      <th></th>\n",
       "      <th>ARTIST</th>\n",
       "      <th>ISRC</th>\n",
       "      <th>SPOTIFY_ID</th>\n",
       "      <th>TITLE</th>\n",
       "      <th>if_verified</th>\n",
       "      <th>lyrics</th>\n",
       "      <th>song_id</th>\n",
       "      <th>verified_title</th>\n",
       "    </tr>\n",
       "  </thead>\n",
       "  <tbody>\n",
       "    <tr>\n",
       "      <th>0</th>\n",
       "      <td>Yo La Tengo</td>\n",
       "      <td>USMTD0985602</td>\n",
       "      <td>158mw0CsuSHxTVWpMwN2Lp</td>\n",
       "      <td>Avalon or Someone Very Similar</td>\n",
       "      <td>1.0</td>\n",
       "      <td>\\n\\nAvalon, how did these things happen? Avalo...</td>\n",
       "      <td>1369717</td>\n",
       "      <td>Avalon or Someone Very Similar</td>\n",
       "    </tr>\n",
       "    <tr>\n",
       "      <th>1</th>\n",
       "      <td>Smrtdeath</td>\n",
       "      <td>QZANL1773974</td>\n",
       "      <td>4sBj3qUIPBkIMcRVlh6iXI</td>\n",
       "      <td>Let It Bleed</td>\n",
       "      <td>1.0</td>\n",
       "      <td>\\n\\n[Intro]\\nSethany, Sethany, Sethany\\nYeah, ...</td>\n",
       "      <td>3150542</td>\n",
       "      <td>Let It Bleed</td>\n",
       "    </tr>\n",
       "    <tr>\n",
       "      <th>2</th>\n",
       "      <td>The Wurzels</td>\n",
       "      <td>GBAYE7600189</td>\n",
       "      <td>2rnCUXbNsgjiHceaONPnJi</td>\n",
       "      <td>The Blackbird</td>\n",
       "      <td>1.0</td>\n",
       "      <td>\\n\\n[Chorus]\\nWhere be that Blackbird to?\\nI k...</td>\n",
       "      <td>110268</td>\n",
       "      <td>Blackbird</td>\n",
       "    </tr>\n",
       "    <tr>\n",
       "      <th>3</th>\n",
       "      <td>Chynna</td>\n",
       "      <td>USYBL1800845</td>\n",
       "      <td>09H9FCCUpK52C3shLJXhce</td>\n",
       "      <td>Regina George</td>\n",
       "      <td>1.0</td>\n",
       "      <td>\\n\\n[Verse 1]\\nYou niggas is way too neurotic\\...</td>\n",
       "      <td>2848377</td>\n",
       "      <td>Regina George</td>\n",
       "    </tr>\n",
       "    <tr>\n",
       "      <th>4</th>\n",
       "      <td>Parisalexa</td>\n",
       "      <td>GBKPL1807679</td>\n",
       "      <td>1QCXiEpChPbu2WqFskChiU</td>\n",
       "      <td>Hard Way</td>\n",
       "      <td>1.0</td>\n",
       "      <td>\\n\\n[Intro]\\nGuess you found out the hard way\\...</td>\n",
       "      <td>3780171</td>\n",
       "      <td>Hard Way</td>\n",
       "    </tr>\n",
       "  </tbody>\n",
       "</table>\n",
       "</div>"
      ],
      "text/plain": [
       "        ARTIST          ISRC              SPOTIFY_ID  \\\n",
       "0  Yo La Tengo  USMTD0985602  158mw0CsuSHxTVWpMwN2Lp   \n",
       "1    Smrtdeath  QZANL1773974  4sBj3qUIPBkIMcRVlh6iXI   \n",
       "2  The Wurzels  GBAYE7600189  2rnCUXbNsgjiHceaONPnJi   \n",
       "3       Chynna  USYBL1800845  09H9FCCUpK52C3shLJXhce   \n",
       "4   Parisalexa  GBKPL1807679  1QCXiEpChPbu2WqFskChiU   \n",
       "\n",
       "                            TITLE  if_verified  \\\n",
       "0  Avalon or Someone Very Similar          1.0   \n",
       "1                    Let It Bleed          1.0   \n",
       "2                   The Blackbird          1.0   \n",
       "3                   Regina George          1.0   \n",
       "4                        Hard Way          1.0   \n",
       "\n",
       "                                              lyrics  song_id  \\\n",
       "0  \\n\\nAvalon, how did these things happen? Avalo...  1369717   \n",
       "1  \\n\\n[Intro]\\nSethany, Sethany, Sethany\\nYeah, ...  3150542   \n",
       "2  \\n\\n[Chorus]\\nWhere be that Blackbird to?\\nI k...   110268   \n",
       "3  \\n\\n[Verse 1]\\nYou niggas is way too neurotic\\...  2848377   \n",
       "4  \\n\\n[Intro]\\nGuess you found out the hard way\\...  3780171   \n",
       "\n",
       "                   verified_title  \n",
       "0  Avalon or Someone Very Similar  \n",
       "1                    Let It Bleed  \n",
       "2                       Blackbird  \n",
       "3                   Regina George  \n",
       "4                        Hard Way  "
      ]
     },
     "execution_count": 63,
     "metadata": {},
     "output_type": "execute_result"
    }
   ],
   "source": [
    "df_concat_final.head()"
   ]
  },
  {
   "cell_type": "code",
   "execution_count": 64,
   "metadata": {},
   "outputs": [
    {
     "name": "stdout",
     "output_type": "stream",
     "text": [
      "[1589, 9804, 9812, 9941, 9942, 9950, 9975, 9980, 10001, 10011, 10021, 10022, 10052, 10055, 10061, 10185, 10449, 11149, 11400, 13518]\n"
     ]
    }
   ],
   "source": [
    "droplist = []\n",
    "for i in range(df_concat_final.shape[0]):\n",
    "    if df_concat_final.iloc[i]['ARTIST'] == 'BTS' or df_concat_final.iloc[i]['ISRC'] == 'QM4DW1723467':\n",
    "#         print(df_concat_final.iloc[i]['lyrics'])\n",
    "        droplist.append(i)\n",
    "        \n",
    "print(droplist)\n"
   ]
  },
  {
   "cell_type": "code",
   "execution_count": 65,
   "metadata": {
    "collapsed": true
   },
   "outputs": [],
   "source": [
    "df_concat_final = df_concat_final.drop(droplist)"
   ]
  },
  {
   "cell_type": "code",
   "execution_count": 66,
   "metadata": {},
   "outputs": [
    {
     "data": {
      "text/plain": [
       "(14580, 8)"
      ]
     },
     "execution_count": 66,
     "metadata": {},
     "output_type": "execute_result"
    }
   ],
   "source": [
    "df_concat_final.shape"
   ]
  },
  {
   "cell_type": "code",
   "execution_count": 67,
   "metadata": {
    "collapsed": true
   },
   "outputs": [],
   "source": [
    "df_concat_final.to_csv('MP3_14580_nov25.csv',index=False)  #MP3_12057_nov20.csv"
   ]
  },
  {
   "cell_type": "code",
   "execution_count": 2,
   "metadata": {
    "collapsed": true
   },
   "outputs": [],
   "source": [
    "df_concat_final = pd.read_csv('~/Desktop/github/Song_Popularity_Prediction/BenZhang/scrape_audio/MP3_14580_nov25.csv')"
   ]
  },
  {
   "cell_type": "code",
   "execution_count": 6,
   "metadata": {
    "collapsed": true
   },
   "outputs": [],
   "source": [
    "df_isrc = df_concat_final['ISRC'].values.tolist()\n",
    "\n",
    "#remove file not in the df_isrc \n",
    "filepath = '~/Desktop/github/⁨HSP_CNN⁩/⁨HL_output/⁨audio⁩⁩'\n",
    "# filepath = '/Volumes/Seagate Backup Plus Drive/sample2'\n",
    "for f in os.listdir(filepath):  \n",
    "    if f not in ['scrape.ipynb','clean_audio.ipynb','.DS_Store','.ipynb_checkpoints']: \n",
    "        if f.split('.')[0] not in df_isrc: \n",
    "            os.remove(os.path.join(filepath,f))"
   ]
  },
  {
   "cell_type": "markdown",
   "metadata": {},
   "source": [
    "# make ranking file"
   ]
  },
  {
   "cell_type": "code",
   "execution_count": 141,
   "metadata": {},
   "outputs": [
    {
     "data": {
      "text/html": [
       "<div>\n",
       "<style>\n",
       "    .dataframe thead tr:only-child th {\n",
       "        text-align: right;\n",
       "    }\n",
       "\n",
       "    .dataframe thead th {\n",
       "        text-align: left;\n",
       "    }\n",
       "\n",
       "    .dataframe tbody tr th {\n",
       "        vertical-align: top;\n",
       "    }\n",
       "</style>\n",
       "<table border=\"1\" class=\"dataframe\">\n",
       "  <thead>\n",
       "    <tr style=\"text-align: right;\">\n",
       "      <th></th>\n",
       "      <th>ARTIST</th>\n",
       "      <th>ISRC</th>\n",
       "      <th>SPOTIFY_ID</th>\n",
       "      <th>TITLE</th>\n",
       "      <th>lyrics</th>\n",
       "      <th>song_id</th>\n",
       "      <th>producer</th>\n",
       "      <th>number_of_tracks</th>\n",
       "      <th>number_of_albums</th>\n",
       "      <th>number_of_playlists</th>\n",
       "      <th>playlist_followers</th>\n",
       "      <th>highest_song_popularity</th>\n",
       "      <th>average_song_popularity</th>\n",
       "      <th>A_Level_Artist?</th>\n",
       "      <th>B_Level Artist?</th>\n",
       "      <th>max_popularity</th>\n",
       "    </tr>\n",
       "  </thead>\n",
       "  <tbody>\n",
       "    <tr>\n",
       "      <th>0</th>\n",
       "      <td>Yo La Tengo</td>\n",
       "      <td>USMTD0985602</td>\n",
       "      <td>158mw0CsuSHxTVWpMwN2Lp</td>\n",
       "      <td>Avalon or Someone Very Similar</td>\n",
       "      <td>\\n\\nAvalon, how did these things happen? Avalo...</td>\n",
       "      <td>1369717</td>\n",
       "      <td>['Roger Moutenot']</td>\n",
       "      <td>143</td>\n",
       "      <td>40</td>\n",
       "      <td>649</td>\n",
       "      <td>7559126</td>\n",
       "      <td>62</td>\n",
       "      <td>31.550633</td>\n",
       "      <td>0</td>\n",
       "      <td>0</td>\n",
       "      <td>31</td>\n",
       "    </tr>\n",
       "    <tr>\n",
       "      <th>1</th>\n",
       "      <td>Yo La Tengo</td>\n",
       "      <td>USGKX9802104</td>\n",
       "      <td>7iX2vtYJlemPod7080OxTG</td>\n",
       "      <td>Swing For Life</td>\n",
       "      <td>\\n\\nOh, true rider, fasten me\\nI saw a mystery...</td>\n",
       "      <td>1063052</td>\n",
       "      <td>[]</td>\n",
       "      <td>143</td>\n",
       "      <td>40</td>\n",
       "      <td>649</td>\n",
       "      <td>7559126</td>\n",
       "      <td>62</td>\n",
       "      <td>31.550633</td>\n",
       "      <td>0</td>\n",
       "      <td>0</td>\n",
       "      <td>20</td>\n",
       "    </tr>\n",
       "    <tr>\n",
       "      <th>2</th>\n",
       "      <td>Yo La Tengo</td>\n",
       "      <td>USMTD1810576</td>\n",
       "      <td>2YmjVaikl30rmZZzlGTwPE</td>\n",
       "      <td>Ashes</td>\n",
       "      <td>\\n\\nI put spots on a bird of paradise, snake e...</td>\n",
       "      <td>3596137</td>\n",
       "      <td>['Yo La Tengo']</td>\n",
       "      <td>143</td>\n",
       "      <td>40</td>\n",
       "      <td>649</td>\n",
       "      <td>7559126</td>\n",
       "      <td>62</td>\n",
       "      <td>31.550633</td>\n",
       "      <td>0</td>\n",
       "      <td>0</td>\n",
       "      <td>52</td>\n",
       "    </tr>\n",
       "    <tr>\n",
       "      <th>3</th>\n",
       "      <td>Smrtdeath</td>\n",
       "      <td>QZANL1773974</td>\n",
       "      <td>4sBj3qUIPBkIMcRVlh6iXI</td>\n",
       "      <td>Let It Bleed</td>\n",
       "      <td>\\n\\n[Intro]\\nSethany, Sethany, Sethany\\nYeah, ...</td>\n",
       "      <td>3150542</td>\n",
       "      <td>['Taxpurposes']</td>\n",
       "      <td>10</td>\n",
       "      <td>10</td>\n",
       "      <td>30</td>\n",
       "      <td>425030</td>\n",
       "      <td>59</td>\n",
       "      <td>44.394737</td>\n",
       "      <td>0</td>\n",
       "      <td>0</td>\n",
       "      <td>31</td>\n",
       "    </tr>\n",
       "    <tr>\n",
       "      <th>4</th>\n",
       "      <td>Smrtdeath</td>\n",
       "      <td>QZANL1773973</td>\n",
       "      <td>3gjrflTTriqZ9d30uSF4hP</td>\n",
       "      <td>Went &amp; Got Some More</td>\n",
       "      <td>\\n\\n[Hook: Smrtdeath]\\nI just lost some drugs,...</td>\n",
       "      <td>3256462</td>\n",
       "      <td>['Eternal Night', 'Sorry If I Waste Your Time']</td>\n",
       "      <td>10</td>\n",
       "      <td>10</td>\n",
       "      <td>30</td>\n",
       "      <td>425030</td>\n",
       "      <td>59</td>\n",
       "      <td>44.394737</td>\n",
       "      <td>0</td>\n",
       "      <td>0</td>\n",
       "      <td>30</td>\n",
       "    </tr>\n",
       "  </tbody>\n",
       "</table>\n",
       "</div>"
      ],
      "text/plain": [
       "        ARTIST          ISRC              SPOTIFY_ID  \\\n",
       "0  Yo La Tengo  USMTD0985602  158mw0CsuSHxTVWpMwN2Lp   \n",
       "1  Yo La Tengo  USGKX9802104  7iX2vtYJlemPod7080OxTG   \n",
       "2  Yo La Tengo  USMTD1810576  2YmjVaikl30rmZZzlGTwPE   \n",
       "3    Smrtdeath  QZANL1773974  4sBj3qUIPBkIMcRVlh6iXI   \n",
       "4    Smrtdeath  QZANL1773973  3gjrflTTriqZ9d30uSF4hP   \n",
       "\n",
       "                            TITLE  \\\n",
       "0  Avalon or Someone Very Similar   \n",
       "1                  Swing For Life   \n",
       "2                           Ashes   \n",
       "3                    Let It Bleed   \n",
       "4            Went & Got Some More   \n",
       "\n",
       "                                              lyrics  song_id  \\\n",
       "0  \\n\\nAvalon, how did these things happen? Avalo...  1369717   \n",
       "1  \\n\\nOh, true rider, fasten me\\nI saw a mystery...  1063052   \n",
       "2  \\n\\nI put spots on a bird of paradise, snake e...  3596137   \n",
       "3  \\n\\n[Intro]\\nSethany, Sethany, Sethany\\nYeah, ...  3150542   \n",
       "4  \\n\\n[Hook: Smrtdeath]\\nI just lost some drugs,...  3256462   \n",
       "\n",
       "                                          producer  number_of_tracks  \\\n",
       "0                               ['Roger Moutenot']               143   \n",
       "1                                               []               143   \n",
       "2                                  ['Yo La Tengo']               143   \n",
       "3                                  ['Taxpurposes']                10   \n",
       "4  ['Eternal Night', 'Sorry If I Waste Your Time']                10   \n",
       "\n",
       "   number_of_albums  number_of_playlists  playlist_followers  \\\n",
       "0                40                  649             7559126   \n",
       "1                40                  649             7559126   \n",
       "2                40                  649             7559126   \n",
       "3                10                   30              425030   \n",
       "4                10                   30              425030   \n",
       "\n",
       "   highest_song_popularity  average_song_popularity  A_Level_Artist?  \\\n",
       "0                       62                31.550633                0   \n",
       "1                       62                31.550633                0   \n",
       "2                       62                31.550633                0   \n",
       "3                       59                44.394737                0   \n",
       "4                       59                44.394737                0   \n",
       "\n",
       "   B_Level Artist?  max_popularity  \n",
       "0                0              31  \n",
       "1                0              20  \n",
       "2                0              52  \n",
       "3                0              31  \n",
       "4                0              30  "
      ]
     },
     "execution_count": 141,
     "metadata": {},
     "output_type": "execute_result"
    }
   ],
   "source": [
    "df=pd.read_csv('~/Desktop/github/Song_Popularity_Prediction/BenZhang/scrape_audio/Finalized Data 11-25/final_matrix_1125.csv')\n",
    "df.head()"
   ]
  },
  {
   "cell_type": "code",
   "execution_count": 142,
   "metadata": {},
   "outputs": [],
   "source": [
    "df.sort_values(by=['max_popularity', 'average_song_popularity','highest_song_popularity'],\n",
    "               ascending=[False,False,False],inplace=True)\n",
    "df = df.reset_index(drop=True)\n",
    "df['rank'] = df.index + 1"
   ]
  },
  {
   "cell_type": "code",
   "execution_count": 144,
   "metadata": {},
   "outputs": [],
   "source": [
    "df.to_csv('finalranked_matrix_1203.csv',index=False)"
   ]
  },
  {
   "cell_type": "code",
   "execution_count": 156,
   "metadata": {},
   "outputs": [
    {
     "data": {
      "text/plain": [
       "(382, 17)"
      ]
     },
     "execution_count": 156,
     "metadata": {},
     "output_type": "execute_result"
    }
   ],
   "source": [
    "df.loc[df_rank['max_popularity']>75].shape"
   ]
  },
  {
   "cell_type": "code",
   "execution_count": 145,
   "metadata": {
    "collapsed": true
   },
   "outputs": [],
   "source": [
    "df_rank = pd.read_csv('finalranked_matrix_1203.csv')"
   ]
  },
  {
   "cell_type": "code",
   "execution_count": 147,
   "metadata": {},
   "outputs": [],
   "source": [
    "filepath = '/Users/zhangben/Desktop/github/HSP_CNN/HL_output/test'\n",
    "flist=[]\n",
    "for f in os.listdir(filepath):\n",
    "    flist.append(f.split('.')[0])   "
   ]
  },
  {
   "cell_type": "code",
   "execution_count": 155,
   "metadata": {},
   "outputs": [
    {
     "data": {
      "text/plain": [
       "(37, 17)"
      ]
     },
     "execution_count": 155,
     "metadata": {},
     "output_type": "execute_result"
    }
   ],
   "source": [
    "df_rank.loc[(df_rank['ISRC'].isin(flist)) & (df_rank['max_popularity']>75)].shape\n",
    "python  main.py > result.txt"
   ]
  },
  {
   "cell_type": "code",
   "execution_count": 34,
   "metadata": {},
   "outputs": [],
   "source": [
    "\n",
    "# filepath = '/Volumes/Seagate Backup Plus Drive/MP31000'\n",
    "\n",
    "ids = df['ISRC'].values.tolist()\n",
    "\n",
    "for f in os.listdir(filepath):\n",
    "    if f.split('.')[0] not in ids:\n",
    "        os.remove(os.path.join(filepath,f))"
   ]
  },
  {
   "cell_type": "code",
   "execution_count": 60,
   "metadata": {},
   "outputs": [],
   "source": [
    "filepath = '/Users/zhangben/Desktop/github/HSP_CNN/jy_feat'\n",
    "# filepath = '/Volumes/Seagate Backup Plus Drive/MP31000'\n",
    "for folder in os.listdir(filepath):\n",
    "    folderpath = os.path.join(filepath,folder)\n",
    "    if not folder.startswith('.'):\n",
    "        for f in os.listdir(folderpath):\n",
    "            if not f.startswith('.'):\n",
    "    #             print(f)\n",
    "                newname=os.path.join(f.split('.')[0] + '.npy')\n",
    "    #             print(newname)\n",
    "    #             print(folderpath)\n",
    "                os.rename(os.path.join(folderpath,f), os.path.join(folderpath,newname))"
   ]
  },
  {
   "cell_type": "code",
   "execution_count": 71,
   "metadata": {},
   "outputs": [
    {
     "data": {
      "text/plain": [
       "13861"
      ]
     },
     "execution_count": 71,
     "metadata": {},
     "output_type": "execute_result"
    }
   ],
   "source": [
    "df.loc[df['ISRC']=='ARF410500224','rank'].values[0]"
   ]
  },
  {
   "cell_type": "code",
   "execution_count": 72,
   "metadata": {},
   "outputs": [],
   "source": [
    "ids = np.load('/Users/zhangben/Desktop/github/HSP_CNN/train_data/feat.npy')"
   ]
  },
  {
   "cell_type": "code",
   "execution_count": 79,
   "metadata": {},
   "outputs": [
    {
     "name": "stdout",
     "output_type": "stream",
     "text": [
      "1011 128 969\n"
     ]
    }
   ],
   "source": [
    "print(len(ids),len(ids[0]),len(ids[0][0]))"
   ]
  },
  {
   "cell_type": "code",
   "execution_count": 101,
   "metadata": {},
   "outputs": [],
   "source": [
    "import random\n"
   ]
  },
  {
   "cell_type": "code",
   "execution_count": 119,
   "metadata": {},
   "outputs": [],
   "source": [
    "filepath = '/Users/zhangben/Desktop/github/HSP_CNN/HL_output/audio'\n",
    "new = '/Users/zhangben/Desktop/github/HSP_CNN/HL_output/test'\n",
    "map3list = [i for i in os.listdir(filepath)]\n",
    "testlist = random.sample(map3list,k=int(0.1*len(map3list)))\n",
    "for f in testlist:\n",
    "    oldpath = os.path.join(filepath,f)\n",
    "    newpath = os.path.join(new,f)\n",
    "    os.rename(oldpath,newpath)"
   ]
  },
  {
   "cell_type": "code",
   "execution_count": 158,
   "metadata": {
    "collapsed": true
   },
   "outputs": [],
   "source": [
    "import glob"
   ]
  },
  {
   "cell_type": "code",
   "execution_count": 160,
   "metadata": {},
   "outputs": [
    {
     "name": "stdout",
     "output_type": "stream",
     "text": [
      "AU3O01100169.Teeth.The Amenta\n"
     ]
    }
   ],
   "source": [
    "f = '/Users/zhangben/Desktop/github/HSP_CNN/HL_output/test'\n",
    "files = glob.glob('{}/*mp3'.format(f ))\n",
    "\n",
    "for py in files:  \n",
    "    print(py.split('/')[-1][:-4])\n",
    "    break"
   ]
  }
 ],
 "metadata": {
  "kernelspec": {
   "display_name": "Python 3",
   "language": "python",
   "name": "python3"
  },
  "language_info": {
   "codemirror_mode": {
    "name": "ipython",
    "version": 3
   },
   "file_extension": ".py",
   "mimetype": "text/x-python",
   "name": "python",
   "nbconvert_exporter": "python",
   "pygments_lexer": "ipython3",
   "version": "3.6.4"
  }
 },
 "nbformat": 4,
 "nbformat_minor": 2
}
