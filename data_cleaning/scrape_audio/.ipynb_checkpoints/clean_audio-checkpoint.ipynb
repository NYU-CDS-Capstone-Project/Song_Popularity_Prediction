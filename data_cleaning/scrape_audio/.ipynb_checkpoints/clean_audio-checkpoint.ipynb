{
 "cells": [
  {
   "cell_type": "code",
   "execution_count": 1,
   "metadata": {
    "collapsed": true
   },
   "outputs": [],
   "source": [
    "import os\n",
    "import pandas as pd"
   ]
  },
  {
   "cell_type": "code",
   "execution_count": 2,
   "metadata": {},
   "outputs": [
    {
     "data": {
      "text/plain": [
       "(97358, 6)"
      ]
     },
     "execution_count": 2,
     "metadata": {},
     "output_type": "execute_result"
    }
   ],
   "source": [
    "df_all=pd.read_csv('~/Desktop/github/Song_Popularity_Prediction/BenZhang/scrape_audio/df_extracting_tracks.csv')\n",
    "df_all.shape"
   ]
  },
  {
   "cell_type": "code",
   "execution_count": 3,
   "metadata": {
    "collapsed": true
   },
   "outputs": [],
   "source": [
    "df_spotify_id = df_all['SPOTIFY_ID'].values.tolist()\n",
    "df_irsc_id = df_all['ISRC'].values.tolist()"
   ]
  },
  {
   "cell_type": "code",
   "execution_count": 37,
   "metadata": {
    "collapsed": true
   },
   "outputs": [],
   "source": [
    "#remove \n",
    "filepath = '/Volumes/Seagate Backup Plus Drive/mp3'\n",
    "for f in os.listdir(filepath):  \n",
    "    if f not in ['scrape.ipynb','clean_audio.ipynb','.DS_Store','.ipynb_checkpoints']: \n",
    "        if f.split('.')[0] not in df_spotify_id:\n",
    "            os.remove(os.path.join(filepath,f))\n",
    "        else:\n",
    "            lowerbound = 2097152 #2mb\n",
    "            upperbound = 6000000 #6mb little less 6mb\n",
    "            filesize = os.path.getsize(os.path.join(filepath,f))\n",
    "            if filesize > upperbound or filesize < lowerbound:\n",
    "                os.remove(os.path.join(filepath,f))          \n"
   ]
  },
  {
   "cell_type": "code",
   "execution_count": null,
   "metadata": {
    "collapsed": true
   },
   "outputs": [],
   "source": [
    "filepath = '/Volumes/Seagate Backup Plus Drive/mp3'\n",
    "for f in os.listdir(filepath):  \n",
    "    if f not in ['scrape.ipynb','clean_audio.ipynb','.DS_Store','.ipynb_checkpoints']: \n",
    "        if f.split('.')[0] not in df_spotify_id:\n",
    "            os.remove(os.path.join(filepath,f))\n",
    "        else:\n",
    "            lowerbound = 2097152 #2mb\n",
    "            upperbound = 6000000 #6mb little less 6mb\n",
    "            filesize = os.path.getsize(os.path.join(filepath,f))\n",
    "            if filesize > upperbound or filesize < lowerbound:\n",
    "                os.remove(os.path.join(filepath,f))  "
   ]
  }
 ],
 "metadata": {
  "kernelspec": {
   "display_name": "Python 3",
   "language": "python",
   "name": "python3"
  },
  "language_info": {
   "codemirror_mode": {
    "name": "ipython",
    "version": 3
   },
   "file_extension": ".py",
   "mimetype": "text/x-python",
   "name": "python",
   "nbconvert_exporter": "python",
   "pygments_lexer": "ipython3",
   "version": "3.6.4"
  }
 },
 "nbformat": 4,
 "nbformat_minor": 2
}
