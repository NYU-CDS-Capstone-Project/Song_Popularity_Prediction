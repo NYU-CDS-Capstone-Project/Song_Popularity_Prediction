{
 "cells": [
  {
   "cell_type": "code",
   "execution_count": null,
   "metadata": {
    "collapsed": true
   },
   "outputs": [],
   "source": [
    "!pip install langdetect\n",
    "!pip install nltk"
   ]
  },
  {
   "cell_type": "code",
   "execution_count": 26,
   "metadata": {},
   "outputs": [],
   "source": [
    "import pandas as pd\n",
    "import requests\n",
    "import json\n",
    "import os\n",
    "from bs4 import BeautifulSoup\n",
    "import re\n",
    "from queue import Queue\n",
    "from threading import Thread\n",
    "from requests.packages.urllib3.exceptions import InsecureRequestWarning\n",
    "requests.packages.urllib3.disable_warnings(InsecureRequestWarning)\n",
    "\n",
    "#from nltk import wordpunct_tokenize\n",
    "from langdetect import detect\n",
    "from nltk import word_tokenize\n",
    "from nltk.corpus import stopwords\n",
    "import re\n",
    "from difflib import SequenceMatcher"
   ]
  },
  {
   "cell_type": "code",
   "execution_count": 2,
   "metadata": {
    "collapsed": true
   },
   "outputs": [],
   "source": [
    "json1_file = open(os.getcwd() + '/Credentials2.json')\n",
    "json1_str = json1_file.read()\n",
    "credential = json.loads(json1_str)\n",
    "Genius_Token = credential['Genius_API']['Access_Token']"
   ]
  },
  {
   "cell_type": "code",
   "execution_count": 3,
   "metadata": {
    "collapsed": true
   },
   "outputs": [],
   "source": [
    "def request_song_info(song_id,Genius_Token):\n",
    "    base_url = 'https://api.genius.com'\n",
    "    headers = {'Authorization': 'Bearer ' + Genius_Token}\n",
    "    song_url = base_url + '/songs/' + str(song_id)\n",
    "    response = requests.get(song_url, headers = headers)\n",
    "\n",
    "    return response"
   ]
  },
  {
   "cell_type": "code",
   "execution_count": 4,
   "metadata": {
    "collapsed": true
   },
   "outputs": [],
   "source": [
    "def get_song_id(ix,song_title,artist_title,Genius_Token):\n",
    "    \n",
    "    base_url = 'https://api.genius.com'\n",
    "    headers = {'Authorization': 'Bearer ' + Genius_Token}\n",
    "    search_url = base_url + '/search'\n",
    "    data = {'q': str(song_title) + ' ' + str(artist_title)}\n",
    "    response = requests.get(search_url, data = data, headers=headers)\n",
    "\n",
    "    if response.ok == True:\n",
    "        song_info = response.json()\n",
    "        if len(song_info['response']['hits']) != 0:\n",
    "            song_id = song_info['response']['hits'][0]['result']['id']\n",
    "\n",
    "        else:\n",
    "            song_id = 'Not Found'\n",
    "        return (ix,song_id)\n",
    "    else:\n",
    "        return \"Response Error!\"\n",
    "    "
   ]
  },
  {
   "cell_type": "code",
   "execution_count": 5,
   "metadata": {
    "collapsed": true
   },
   "outputs": [],
   "source": [
    "def is_legal_string(test_string):\n",
    "    legal_characters = r'\\w+$'\n",
    "    r = re.compile(legal_characters)\n",
    "    \n",
    "    if re.match(r, test_string):\n",
    "        return 1\n",
    "    else:\n",
    "        return 0"
   ]
  },
  {
   "cell_type": "code",
   "execution_count": 6,
   "metadata": {
    "collapsed": true
   },
   "outputs": [],
   "source": [
    "def scrap_song_url(url):\n",
    "    page = requests.get(url)\n",
    "    html = BeautifulSoup(page.text, 'html.parser')\n",
    "    lyrics = html.find('div', class_='lyrics').get_text()\n",
    "\n",
    "    return lyrics"
   ]
  },
  {
   "cell_type": "code",
   "execution_count": 7,
   "metadata": {
    "collapsed": true
   },
   "outputs": [],
   "source": [
    "def get_lyrics(song_id):\n",
    "    response = request_song_info(song_id,Genius_Token)\n",
    "    if response.ok == True:\n",
    "        info = response.json()\n",
    "        if len(info['response']['song']['url']) != 0:\n",
    "            song_url = info['response']['song']['url']\n",
    "            lyrics = scrap_song_url(song_url)\n",
    "        else:\n",
    "            lyrics = 'Not Found'\n",
    "    else:\n",
    "        return \"Response Error!\"\n",
    "    \n",
    "    \n",
    "    return lyrics"
   ]
  },
  {
   "cell_type": "code",
   "execution_count": 8,
   "metadata": {
    "collapsed": true
   },
   "outputs": [],
   "source": [
    "def get_release_date(song_id):\n",
    "    song_info = request_song_info(song_id,Genius_Token)\n",
    "    song_info = song_info.json()\n",
    "    \n",
    "    return song_info['response']['song']['release_date']"
   ]
  },
  {
   "cell_type": "code",
   "execution_count": 9,
   "metadata": {
    "collapsed": true
   },
   "outputs": [],
   "source": [
    "def similar(a, b):\n",
    "    return SequenceMatcher(None, a, b).ratio()"
   ]
  },
  {
   "cell_type": "code",
   "execution_count": 10,
   "metadata": {
    "collapsed": true
   },
   "outputs": [],
   "source": [
    "tracks = pd.read_csv(r'Clean Data/track_with_artists.csv')"
   ]
  },
  {
   "cell_type": "markdown",
   "metadata": {},
   "source": [
    "    First get song_id from Genius"
   ]
  },
  {
   "cell_type": "code",
   "execution_count": 114,
   "metadata": {
    "collapsed": true
   },
   "outputs": [],
   "source": [
    "result = list()\n",
    "def worker():\n",
    "    while True:\n",
    "        item = q.get()\n",
    "        result.append(get_song_id(item[0],item[1],item[2],Genius_Token))\n",
    "        q.task_done()\n",
    "\n",
    "q = Queue()\n",
    "for i in range(8):\n",
    "    t = Thread(target=worker)\n",
    "    t.daemon = True\n",
    "    t.start()\n",
    "\n",
    "for item in tracks.iterrows():\n",
    "    q.put((item[0],item[1]['TITLE'],item[1]['ARTIST']))\n",
    "\n",
    "q.join() "
   ]
  },
  {
   "cell_type": "code",
   "execution_count": 139,
   "metadata": {
    "collapsed": true
   },
   "outputs": [],
   "source": [
    "result = pd.DataFrame({'ix':[i[0] for i in result],'song_id':[i[1] for i in result]})\n",
    "tracks_with_song_ids = pd.merge(result,tracks,left_on = 'ix',right_index = True, how = 'inner').drop('ix',axis = 1)\n",
    "tracks_with_song_ids.to_csv(r'tracks_with_song_ids.csv',index = False)"
   ]
  },
  {
   "cell_type": "code",
   "execution_count": null,
   "metadata": {
    "collapsed": true
   },
   "outputs": [],
   "source": [
    "#song song_ids are duplicated, drop duplicates\n",
    "song_id_no_duplicates = tracks_with_song_ids[tracks_with_song_ids['song_id'].duplicated() == False]\n",
    "song_id_no_duplicates.to_csv('Clean Data/song_id_no_duplicates.csv',index = False)"
   ]
  },
  {
   "cell_type": "code",
   "execution_count": 168,
   "metadata": {},
   "outputs": [
    {
     "name": "stdout",
     "output_type": "stream",
     "text": [
      "unique song_ids found:286110\n"
     ]
    }
   ],
   "source": [
    "print(\"unique song_ids found:{}\".format(len(song_id_no_duplicates)))"
   ]
  },
  {
   "cell_type": "code",
   "execution_count": 170,
   "metadata": {},
   "outputs": [
    {
     "data": {
      "text/html": [
       "<div>\n",
       "<table border=\"1\" class=\"dataframe\">\n",
       "  <thead>\n",
       "    <tr style=\"text-align: right;\">\n",
       "      <th></th>\n",
       "      <th>song_id</th>\n",
       "      <th>ISRC</th>\n",
       "      <th>SPOTIFY_ID</th>\n",
       "      <th>TITLE</th>\n",
       "      <th>ARTIST</th>\n",
       "    </tr>\n",
       "  </thead>\n",
       "  <tbody>\n",
       "    <tr>\n",
       "      <th>0</th>\n",
       "      <td>3035330</td>\n",
       "      <td>USRC11702155</td>\n",
       "      <td>1j4kHkkpqZRBwE0A4CN4Yv</td>\n",
       "      <td>Dusk Till Dawn - Radio Edit</td>\n",
       "      <td>ZAYN</td>\n",
       "    </tr>\n",
       "    <tr>\n",
       "      <th>1</th>\n",
       "      <td>3646568</td>\n",
       "      <td>USUM71805170</td>\n",
       "      <td>7dt6x5M1jzdTEt8oCbisTK</td>\n",
       "      <td>Better Now</td>\n",
       "      <td>Post Malone</td>\n",
       "    </tr>\n",
       "    <tr>\n",
       "      <th>2</th>\n",
       "      <td>2942139</td>\n",
       "      <td>USUM71710087</td>\n",
       "      <td>7wGoVu4Dady5GV0Sv4UIsx</td>\n",
       "      <td>rockstar</td>\n",
       "      <td>Post Malone</td>\n",
       "    </tr>\n",
       "    <tr>\n",
       "      <th>3</th>\n",
       "      <td>2992529</td>\n",
       "      <td>USSM11706905</td>\n",
       "      <td>0ofbQMrRDsUaVKq2mGLEAb</td>\n",
       "      <td>Havana</td>\n",
       "      <td>Camila Cabello</td>\n",
       "    </tr>\n",
       "    <tr>\n",
       "      <th>4</th>\n",
       "      <td>3188009</td>\n",
       "      <td>USRC11701901</td>\n",
       "      <td>7vGuf3Y35N4wmASOKLUVVU</td>\n",
       "      <td>Silence</td>\n",
       "      <td>Marshmello</td>\n",
       "    </tr>\n",
       "  </tbody>\n",
       "</table>\n",
       "</div>"
      ],
      "text/plain": [
       "   song_id          ISRC              SPOTIFY_ID                        TITLE  \\\n",
       "0  3035330  USRC11702155  1j4kHkkpqZRBwE0A4CN4Yv  Dusk Till Dawn - Radio Edit   \n",
       "1  3646568  USUM71805170  7dt6x5M1jzdTEt8oCbisTK                   Better Now   \n",
       "2  2942139  USUM71710087  7wGoVu4Dady5GV0Sv4UIsx                     rockstar   \n",
       "3  2992529  USSM11706905  0ofbQMrRDsUaVKq2mGLEAb                       Havana   \n",
       "4  3188009  USRC11701901  7vGuf3Y35N4wmASOKLUVVU                      Silence   \n",
       "\n",
       "           ARTIST  \n",
       "0            ZAYN  \n",
       "1     Post Malone  \n",
       "2     Post Malone  \n",
       "3  Camila Cabello  \n",
       "4      Marshmello  "
      ]
     },
     "execution_count": 170,
     "metadata": {},
     "output_type": "execute_result"
    }
   ],
   "source": [
    "song_id_no_duplicates.head()"
   ]
  },
  {
   "cell_type": "markdown",
   "metadata": {},
   "source": [
    "    Validation song_id and song title\n",
    "<p> Use Genius API again to request the song title from song_id and compare with the original title. If the similarity between two titles are less then 0.8, see that as same song titles</p>"
   ]
  },
  {
   "cell_type": "code",
   "execution_count": null,
   "metadata": {
    "collapsed": true
   },
   "outputs": [],
   "source": [
    "verify_list = []\n",
    "for item in song_id_no_duplicates.iterrows():\n",
    "    response = request_song_info(int(item[1]['song_id']),Genius_Token)\n",
    "    if response.ok == True:\n",
    "        verify_list.append(response.json()['response']['song']['title'])\n",
    "    else:\n",
    "        verify_list.append(\"Not Found\")"
   ]
  },
  {
   "cell_type": "code",
   "execution_count": null,
   "metadata": {
    "collapsed": true
   },
   "outputs": [],
   "source": [
    "if len(verify_list) == len(song_id_no_duplicates):\n",
    "    song_id_no_duplicates['verified_title'] = verify_list"
   ]
  },
  {
   "cell_type": "code",
   "execution_count": null,
   "metadata": {
    "collapsed": true
   },
   "outputs": [],
   "source": [
    "song_id_no_duplicates['if_verified'] = song_id_no_duplicates.apply(lambda x: 1 if similar(x['TITLE'],x['verified_title']) >= 0.8 else 0 , axis = 1)"
   ]
  },
  {
   "cell_type": "code",
   "execution_count": null,
   "metadata": {
    "collapsed": true
   },
   "outputs": [],
   "source": [
    "verified_df = song_id_no_duplicates[song_id_no_duplicates['if_verified'] == 1]\n",
    "verified_df.to_csv('verified_song_ids.csv',index=False)"
   ]
  },
  {
   "cell_type": "markdown",
   "metadata": {},
   "source": [
    "    Scrap lyrics by song_ids"
   ]
  },
  {
   "cell_type": "code",
   "execution_count": null,
   "metadata": {
    "collapsed": true
   },
   "outputs": [],
   "source": [
    "result = list()\n",
    "def worker():\n",
    "    while True:\n",
    "        item = q.get()\n",
    "        result.append([item[0],get_lyrics(item[0])])\n",
    "        q.task_done()\n",
    "\n",
    "q = Queue()\n",
    "for i in range(8):\n",
    "    t = Thread(target=worker)\n",
    "    t.daemon = True\n",
    "    t.start()\n",
    "\n",
    "for item in verified_df.iterrows():\n",
    "    q.put(item[1]['song_id'])\n",
    "\n",
    "q.join() "
   ]
  },
  {
   "cell_type": "code",
   "execution_count": null,
   "metadata": {
    "collapsed": true
   },
   "outputs": [],
   "source": [
    "result_lyrics = pd.DataFrame({'song_id':[i[0] for i in result],'lyrics':[i[1] for i in result]})\n",
    "lyrics_full = result_lyrics.merge(verified_df,on='song_id',how='inner')\n",
    "#some lyrics are empty values, drop them\n",
    "lyrics_full = lyrics_full[lyrics_full['lyrics'].isnull() == False]\n",
    "lyrics_full.to_csv(r'lyrics_full.csv',index=False)"
   ]
  },
  {
   "cell_type": "markdown",
   "metadata": {},
   "source": [
    "    There are song non-english lyrics, so we have to filter out only english songs and english lyrics"
   ]
  },
  {
   "cell_type": "code",
   "execution_count": null,
   "metadata": {
    "collapsed": true
   },
   "outputs": [],
   "source": [
    "s = []\n",
    "for item in lyrics_full.iterrows():\n",
    "    cleanString = re.sub('[^A-Za-z0-9]+',' ',item[1]['lyrics'])\n",
    "    if len(cleanString) > 200:   \n",
    "        if detect(cleanString)=='en':\n",
    "            s.append(item[1]['song_id'])"
   ]
  },
  {
   "cell_type": "code",
   "execution_count": null,
   "metadata": {
    "collapsed": true
   },
   "outputs": [],
   "source": [
    "ddf=pd.DataFrame()\n",
    "ddf['song_id']=s\n",
    "english_lyrics =ddf.merge(lyrics_full,on='song_id',how='inner')\n",
    "english_lyrics.to_csv(r'verified_english_lyrics.csv',index=False)"
   ]
  },
  {
   "cell_type": "markdown",
   "metadata": {},
   "source": [
    "    Merge with labels"
   ]
  },
  {
   "cell_type": "code",
   "execution_count": 23,
   "metadata": {
    "collapsed": true
   },
   "outputs": [],
   "source": [
    "df = pd.read_csv(r'verified_english_lyrics.csv')"
   ]
  },
  {
   "cell_type": "code",
   "execution_count": 25,
   "metadata": {},
   "outputs": [
    {
     "name": "stderr",
     "output_type": "stream",
     "text": [
      "/Users/Stella/miniconda3/lib/python3.6/site-packages/IPython/core/interactiveshell.py:2698: DtypeWarning: Columns (2) have mixed types. Specify dtype option on import or set low_memory=False.\n",
      "  interactivity=interactivity, compiler=compiler, result=result)\n"
     ]
    }
   ],
   "source": [
    "label = pd.read_csv(r'Raw Data/max popularity by track.csv')"
   ]
  },
  {
   "cell_type": "code",
   "execution_count": 47,
   "metadata": {
    "collapsed": true
   },
   "outputs": [],
   "source": [
    "temp = label.drop_duplicates('track_external_id')"
   ]
  },
  {
   "cell_type": "code",
   "execution_count": 54,
   "metadata": {
    "collapsed": true
   },
   "outputs": [],
   "source": [
    "df_with_label = df.merge(temp,left_on='ISRC',right_on='track_external_id',how='inner').drop(['track_id','track_external_id'],axis = 1)"
   ]
  },
  {
   "cell_type": "code",
   "execution_count": 11,
   "metadata": {
    "collapsed": true
   },
   "outputs": [],
   "source": [
    "#df_with_label.to_csv(r'verified_english_lyrics_with_label.csv')\n",
    "df = pd.read_csv(r'verified_english_lyrics_with_label.csv')"
   ]
  },
  {
   "cell_type": "code",
   "execution_count": 12,
   "metadata": {},
   "outputs": [
    {
     "data": {
      "text/html": [
       "<div>\n",
       "<table border=\"1\" class=\"dataframe\">\n",
       "  <thead>\n",
       "    <tr style=\"text-align: right;\">\n",
       "      <th></th>\n",
       "      <th>Unnamed: 0</th>\n",
       "      <th>song_id</th>\n",
       "      <th>ISRC</th>\n",
       "      <th>SPOTIFY_ID</th>\n",
       "      <th>TITLE</th>\n",
       "      <th>ARTIST</th>\n",
       "      <th>lyrics</th>\n",
       "      <th>max_popularity</th>\n",
       "    </tr>\n",
       "  </thead>\n",
       "  <tbody>\n",
       "    <tr>\n",
       "      <th>0</th>\n",
       "      <td>0</td>\n",
       "      <td>1065560</td>\n",
       "      <td>CAU117502590</td>\n",
       "      <td>36D5CiNfl2k043KtVHyEOr</td>\n",
       "      <td>I Wouldn't Want to Lose Your Love</td>\n",
       "      <td>April Wine</td>\n",
       "      <td>\\n\\nEasy now, don't let our love go wrong\\nI'd...</td>\n",
       "      <td>21</td>\n",
       "    </tr>\n",
       "    <tr>\n",
       "      <th>1</th>\n",
       "      <td>1</td>\n",
       "      <td>815171</td>\n",
       "      <td>AUSM09600084</td>\n",
       "      <td>4W0nfmA4wtvaRbLaLB4Kx0</td>\n",
       "      <td>Greatest Gift</td>\n",
       "      <td>Tina Arena</td>\n",
       "      <td>\\n\\nI awake to my beating heart\\nYou save my s...</td>\n",
       "      <td>23</td>\n",
       "    </tr>\n",
       "    <tr>\n",
       "      <th>2</th>\n",
       "      <td>2</td>\n",
       "      <td>877836</td>\n",
       "      <td>GBSWE1448094</td>\n",
       "      <td>291NQX66yyvKbWZriNtpVH</td>\n",
       "      <td>Designing Heaven</td>\n",
       "      <td>Heaven 17</td>\n",
       "      <td>\\n\\nHow demanding life can be\\nWith a taste fo...</td>\n",
       "      <td>11</td>\n",
       "    </tr>\n",
       "    <tr>\n",
       "      <th>3</th>\n",
       "      <td>3</td>\n",
       "      <td>1489944</td>\n",
       "      <td>GBAAW9700265</td>\n",
       "      <td>5JAjbnW67TWgPRDERCL1BD</td>\n",
       "      <td>Speed of Light</td>\n",
       "      <td>Teenage Fanclub</td>\n",
       "      <td>\\n\\n[Verse 1]\\nDrive an easy road\\nIf you're l...</td>\n",
       "      <td>24</td>\n",
       "    </tr>\n",
       "    <tr>\n",
       "      <th>4</th>\n",
       "      <td>4</td>\n",
       "      <td>928717</td>\n",
       "      <td>ushm80469236</td>\n",
       "      <td>3sRRy8ScmH2dMjPy9WiVum</td>\n",
       "      <td>Queen of Pain</td>\n",
       "      <td>Devil Doll</td>\n",
       "      <td>\\n\\nI'm the queen of pain, I can make it thund...</td>\n",
       "      <td>26</td>\n",
       "    </tr>\n",
       "  </tbody>\n",
       "</table>\n",
       "</div>"
      ],
      "text/plain": [
       "   Unnamed: 0  song_id          ISRC              SPOTIFY_ID  \\\n",
       "0           0  1065560  CAU117502590  36D5CiNfl2k043KtVHyEOr   \n",
       "1           1   815171  AUSM09600084  4W0nfmA4wtvaRbLaLB4Kx0   \n",
       "2           2   877836  GBSWE1448094  291NQX66yyvKbWZriNtpVH   \n",
       "3           3  1489944  GBAAW9700265  5JAjbnW67TWgPRDERCL1BD   \n",
       "4           4   928717  ushm80469236  3sRRy8ScmH2dMjPy9WiVum   \n",
       "\n",
       "                               TITLE           ARTIST  \\\n",
       "0  I Wouldn't Want to Lose Your Love       April Wine   \n",
       "1                      Greatest Gift       Tina Arena   \n",
       "2                   Designing Heaven        Heaven 17   \n",
       "3                     Speed of Light  Teenage Fanclub   \n",
       "4                      Queen of Pain       Devil Doll   \n",
       "\n",
       "                                              lyrics  max_popularity  \n",
       "0  \\n\\nEasy now, don't let our love go wrong\\nI'd...              21  \n",
       "1  \\n\\nI awake to my beating heart\\nYou save my s...              23  \n",
       "2  \\n\\nHow demanding life can be\\nWith a taste fo...              11  \n",
       "3  \\n\\n[Verse 1]\\nDrive an easy road\\nIf you're l...              24  \n",
       "4  \\n\\nI'm the queen of pain, I can make it thund...              26  "
      ]
     },
     "execution_count": 12,
     "metadata": {},
     "output_type": "execute_result"
    }
   ],
   "source": [
    "df.head()"
   ]
  },
  {
   "cell_type": "code",
   "execution_count": 54,
   "metadata": {
    "collapsed": true
   },
   "outputs": [],
   "source": [
    "def get_producer(song_id):\n",
    "    response = request_song_info(song_id,Genius_Token)\n",
    "    if response.ok == True:\n",
    "        info = response.json()\n",
    "        song_info = info['response']['song']\n",
    "        if 'producer_artists' in song_info.keys():\n",
    "            producer_list = song_info['producer_artists']\n",
    "            result = [prod['name'] for prod in producer_list]\n",
    "        else:\n",
    "            result = 'missing producer info'\n",
    "    else:\n",
    "        result = 'Connection Error'\n",
    "    return result\n",
    "                    "
   ]
  },
  {
   "cell_type": "code",
   "execution_count": 27,
   "metadata": {
    "collapsed": true
   },
   "outputs": [],
   "source": [
    "result = list()\n",
    "\n",
    "for item in df.iterrows():\n",
    "    result.append(get_producer(item[1]['song_id']))"
   ]
  },
  {
   "cell_type": "code",
   "execution_count": 16,
   "metadata": {},
   "outputs": [
    {
     "name": "stderr",
     "output_type": "stream",
     "text": [
      "/Users/Stella/miniconda3/lib/python3.6/site-packages/ipykernel_launcher.py:3: SettingWithCopyWarning: \n",
      "A value is trying to be set on a copy of a slice from a DataFrame.\n",
      "Try using .loc[row_indexer,col_indexer] = value instead\n",
      "\n",
      "See the caveats in the documentation: http://pandas.pydata.org/pandas-docs/stable/indexing.html#indexing-view-versus-copy\n",
      "  This is separate from the ipykernel package so we can avoid doing imports until\n"
     ]
    }
   ],
   "source": [
    "if len(result) == len(df):\n",
    "    df['producer'] = result\n",
    "else:\n",
    "    print(\"lengths don't match, please double check!\")"
   ]
  },
  {
   "cell_type": "code",
   "execution_count": 40,
   "metadata": {},
   "outputs": [
    {
     "data": {
      "text/html": [
       "<div>\n",
       "<table border=\"1\" class=\"dataframe\">\n",
       "  <thead>\n",
       "    <tr style=\"text-align: right;\">\n",
       "      <th></th>\n",
       "      <th>song_id</th>\n",
       "      <th>ISRC</th>\n",
       "      <th>SPOTIFY_ID</th>\n",
       "      <th>TITLE</th>\n",
       "      <th>ARTIST</th>\n",
       "      <th>lyrics</th>\n",
       "      <th>max_popularity</th>\n",
       "      <th>producer</th>\n",
       "    </tr>\n",
       "  </thead>\n",
       "  <tbody>\n",
       "    <tr>\n",
       "      <th>0</th>\n",
       "      <td>1065560</td>\n",
       "      <td>CAU117502590</td>\n",
       "      <td>36D5CiNfl2k043KtVHyEOr</td>\n",
       "      <td>I Wouldn't Want to Lose Your Love</td>\n",
       "      <td>April Wine</td>\n",
       "      <td>\\n\\nEasy now, don't let our love go wrong\\nI'd...</td>\n",
       "      <td>21</td>\n",
       "      <td>[Dino Danelli, Gene Cornish]</td>\n",
       "    </tr>\n",
       "    <tr>\n",
       "      <th>1</th>\n",
       "      <td>815171</td>\n",
       "      <td>AUSM09600084</td>\n",
       "      <td>4W0nfmA4wtvaRbLaLB4Kx0</td>\n",
       "      <td>Greatest Gift</td>\n",
       "      <td>Tina Arena</td>\n",
       "      <td>\\n\\nI awake to my beating heart\\nYou save my s...</td>\n",
       "      <td>23</td>\n",
       "      <td>[]</td>\n",
       "    </tr>\n",
       "    <tr>\n",
       "      <th>2</th>\n",
       "      <td>877836</td>\n",
       "      <td>GBSWE1448094</td>\n",
       "      <td>291NQX66yyvKbWZriNtpVH</td>\n",
       "      <td>Designing Heaven</td>\n",
       "      <td>Heaven 17</td>\n",
       "      <td>\\n\\nHow demanding life can be\\nWith a taste fo...</td>\n",
       "      <td>11</td>\n",
       "      <td>[]</td>\n",
       "    </tr>\n",
       "    <tr>\n",
       "      <th>3</th>\n",
       "      <td>1489944</td>\n",
       "      <td>GBAAW9700265</td>\n",
       "      <td>5JAjbnW67TWgPRDERCL1BD</td>\n",
       "      <td>Speed of Light</td>\n",
       "      <td>Teenage Fanclub</td>\n",
       "      <td>\\n\\n[Verse 1]\\nDrive an easy road\\nIf you're l...</td>\n",
       "      <td>24</td>\n",
       "      <td>[Teenage Fanclub, David Bianco]</td>\n",
       "    </tr>\n",
       "    <tr>\n",
       "      <th>4</th>\n",
       "      <td>928717</td>\n",
       "      <td>ushm80469236</td>\n",
       "      <td>3sRRy8ScmH2dMjPy9WiVum</td>\n",
       "      <td>Queen of Pain</td>\n",
       "      <td>Devil Doll</td>\n",
       "      <td>\\n\\nI'm the queen of pain, I can make it thund...</td>\n",
       "      <td>26</td>\n",
       "      <td>[]</td>\n",
       "    </tr>\n",
       "  </tbody>\n",
       "</table>\n",
       "</div>"
      ],
      "text/plain": [
       "   song_id          ISRC              SPOTIFY_ID  \\\n",
       "0  1065560  CAU117502590  36D5CiNfl2k043KtVHyEOr   \n",
       "1   815171  AUSM09600084  4W0nfmA4wtvaRbLaLB4Kx0   \n",
       "2   877836  GBSWE1448094  291NQX66yyvKbWZriNtpVH   \n",
       "3  1489944  GBAAW9700265  5JAjbnW67TWgPRDERCL1BD   \n",
       "4   928717  ushm80469236  3sRRy8ScmH2dMjPy9WiVum   \n",
       "\n",
       "                               TITLE           ARTIST  \\\n",
       "0  I Wouldn't Want to Lose Your Love       April Wine   \n",
       "1                      Greatest Gift       Tina Arena   \n",
       "2                   Designing Heaven        Heaven 17   \n",
       "3                     Speed of Light  Teenage Fanclub   \n",
       "4                      Queen of Pain       Devil Doll   \n",
       "\n",
       "                                              lyrics  max_popularity  \\\n",
       "0  \\n\\nEasy now, don't let our love go wrong\\nI'd...              21   \n",
       "1  \\n\\nI awake to my beating heart\\nYou save my s...              23   \n",
       "2  \\n\\nHow demanding life can be\\nWith a taste fo...              11   \n",
       "3  \\n\\n[Verse 1]\\nDrive an easy road\\nIf you're l...              24   \n",
       "4  \\n\\nI'm the queen of pain, I can make it thund...              26   \n",
       "\n",
       "                          producer  \n",
       "0     [Dino Danelli, Gene Cornish]  \n",
       "1                               []  \n",
       "2                               []  \n",
       "3  [Teenage Fanclub, David Bianco]  \n",
       "4                               []  "
      ]
     },
     "execution_count": 40,
     "metadata": {},
     "output_type": "execute_result"
    }
   ],
   "source": [
    "df.head()"
   ]
  },
  {
   "cell_type": "code",
   "execution_count": 41,
   "metadata": {
    "collapsed": true
   },
   "outputs": [],
   "source": [
    "df.to_csv(r'verified_english_lyrics_with_producers.csv',index=False)"
   ]
  },
  {
   "cell_type": "markdown",
   "metadata": {
    "collapsed": true
   },
   "source": [
    "    Get SongWriters"
   ]
  },
  {
   "cell_type": "code",
   "execution_count": 57,
   "metadata": {
    "collapsed": true
   },
   "outputs": [],
   "source": [
    "def get_writer(song_id):\n",
    "    response = request_song_info(song_id,Genius_Token)\n",
    "    if response.ok == True:\n",
    "        info = response.json()\n",
    "        song_info = info['response']['song']\n",
    "        if 'writer_artists' in song_info.keys():\n",
    "            writer_list = song_info['writer_artists']\n",
    "            result = [w['name'] for w in writer_list]\n",
    "        else:\n",
    "            result = 'missing writer info'\n",
    "    else:\n",
    "        result = 'Connection Error'\n",
    "    return result\n",
    "                    "
   ]
  },
  {
   "cell_type": "code",
   "execution_count": 10,
   "metadata": {
    "collapsed": true
   },
   "outputs": [],
   "source": [
    "df = pd.read_csv(r'final_matrix.csv')"
   ]
  },
  {
   "cell_type": "code",
   "execution_count": 11,
   "metadata": {},
   "outputs": [
    {
     "data": {
      "text/html": [
       "<div>\n",
       "<table border=\"1\" class=\"dataframe\">\n",
       "  <thead>\n",
       "    <tr style=\"text-align: right;\">\n",
       "      <th></th>\n",
       "      <th>ARTIST</th>\n",
       "      <th>ISRC</th>\n",
       "      <th>SPOTIFY_ID</th>\n",
       "      <th>TITLE</th>\n",
       "      <th>lyrics</th>\n",
       "      <th>song_id</th>\n",
       "      <th>producer</th>\n",
       "      <th>number_of_tracks</th>\n",
       "      <th>number_of_albums</th>\n",
       "      <th>number_of_playlists</th>\n",
       "      <th>...</th>\n",
       "      <th>Metal</th>\n",
       "      <th>Other</th>\n",
       "      <th>Pop</th>\n",
       "      <th>R&amp;B</th>\n",
       "      <th>Reggae</th>\n",
       "      <th>Rock/Alt</th>\n",
       "      <th>Rock/Alt/Pop</th>\n",
       "      <th>Singer-Songwriter</th>\n",
       "      <th>genre_missing</th>\n",
       "      <th>Explicit</th>\n",
       "    </tr>\n",
       "  </thead>\n",
       "  <tbody>\n",
       "    <tr>\n",
       "      <th>0</th>\n",
       "      <td>Yo La Tengo</td>\n",
       "      <td>USMTD0985602</td>\n",
       "      <td>158mw0CsuSHxTVWpMwN2Lp</td>\n",
       "      <td>Avalon or Someone Very Similar</td>\n",
       "      <td>\\n\\nAvalon, how did these things happen? Avalo...</td>\n",
       "      <td>1369717</td>\n",
       "      <td>['Roger Moutenot']</td>\n",
       "      <td>143</td>\n",
       "      <td>40</td>\n",
       "      <td>649</td>\n",
       "      <td>...</td>\n",
       "      <td>0</td>\n",
       "      <td>1</td>\n",
       "      <td>1</td>\n",
       "      <td>0</td>\n",
       "      <td>0</td>\n",
       "      <td>1</td>\n",
       "      <td>0</td>\n",
       "      <td>0</td>\n",
       "      <td>0</td>\n",
       "      <td>0</td>\n",
       "    </tr>\n",
       "    <tr>\n",
       "      <th>1</th>\n",
       "      <td>Yo La Tengo</td>\n",
       "      <td>USGKX9802104</td>\n",
       "      <td>7iX2vtYJlemPod7080OxTG</td>\n",
       "      <td>Swing For Life</td>\n",
       "      <td>\\n\\nOh, true rider, fasten me\\nI saw a mystery...</td>\n",
       "      <td>1063052</td>\n",
       "      <td>[]</td>\n",
       "      <td>143</td>\n",
       "      <td>40</td>\n",
       "      <td>649</td>\n",
       "      <td>...</td>\n",
       "      <td>0</td>\n",
       "      <td>1</td>\n",
       "      <td>1</td>\n",
       "      <td>0</td>\n",
       "      <td>0</td>\n",
       "      <td>1</td>\n",
       "      <td>0</td>\n",
       "      <td>0</td>\n",
       "      <td>0</td>\n",
       "      <td>0</td>\n",
       "    </tr>\n",
       "    <tr>\n",
       "      <th>2</th>\n",
       "      <td>Yo La Tengo</td>\n",
       "      <td>USMTD1810576</td>\n",
       "      <td>2YmjVaikl30rmZZzlGTwPE</td>\n",
       "      <td>Ashes</td>\n",
       "      <td>\\n\\nI put spots on a bird of paradise, snake e...</td>\n",
       "      <td>3596137</td>\n",
       "      <td>['Yo La Tengo']</td>\n",
       "      <td>143</td>\n",
       "      <td>40</td>\n",
       "      <td>649</td>\n",
       "      <td>...</td>\n",
       "      <td>0</td>\n",
       "      <td>1</td>\n",
       "      <td>1</td>\n",
       "      <td>0</td>\n",
       "      <td>0</td>\n",
       "      <td>1</td>\n",
       "      <td>0</td>\n",
       "      <td>0</td>\n",
       "      <td>0</td>\n",
       "      <td>0</td>\n",
       "    </tr>\n",
       "    <tr>\n",
       "      <th>3</th>\n",
       "      <td>Smrtdeath</td>\n",
       "      <td>QZANL1773974</td>\n",
       "      <td>4sBj3qUIPBkIMcRVlh6iXI</td>\n",
       "      <td>Let It Bleed</td>\n",
       "      <td>\\n\\n[Intro]\\nSethany, Sethany, Sethany\\nYeah, ...</td>\n",
       "      <td>3150542</td>\n",
       "      <td>['Taxpurposes']</td>\n",
       "      <td>10</td>\n",
       "      <td>10</td>\n",
       "      <td>30</td>\n",
       "      <td>...</td>\n",
       "      <td>0</td>\n",
       "      <td>0</td>\n",
       "      <td>0</td>\n",
       "      <td>0</td>\n",
       "      <td>0</td>\n",
       "      <td>0</td>\n",
       "      <td>0</td>\n",
       "      <td>0</td>\n",
       "      <td>0</td>\n",
       "      <td>1</td>\n",
       "    </tr>\n",
       "    <tr>\n",
       "      <th>4</th>\n",
       "      <td>Smrtdeath</td>\n",
       "      <td>QZANL1773973</td>\n",
       "      <td>3gjrflTTriqZ9d30uSF4hP</td>\n",
       "      <td>Went &amp; Got Some More</td>\n",
       "      <td>\\n\\n[Hook: Smrtdeath]\\nI just lost some drugs,...</td>\n",
       "      <td>3256462</td>\n",
       "      <td>['Eternal Night', 'Sorry If I Waste Your Time']</td>\n",
       "      <td>10</td>\n",
       "      <td>10</td>\n",
       "      <td>30</td>\n",
       "      <td>...</td>\n",
       "      <td>0</td>\n",
       "      <td>0</td>\n",
       "      <td>0</td>\n",
       "      <td>0</td>\n",
       "      <td>0</td>\n",
       "      <td>0</td>\n",
       "      <td>0</td>\n",
       "      <td>0</td>\n",
       "      <td>0</td>\n",
       "      <td>1</td>\n",
       "    </tr>\n",
       "  </tbody>\n",
       "</table>\n",
       "<p>5 rows × 37 columns</p>\n",
       "</div>"
      ],
      "text/plain": [
       "        ARTIST          ISRC              SPOTIFY_ID  \\\n",
       "0  Yo La Tengo  USMTD0985602  158mw0CsuSHxTVWpMwN2Lp   \n",
       "1  Yo La Tengo  USGKX9802104  7iX2vtYJlemPod7080OxTG   \n",
       "2  Yo La Tengo  USMTD1810576  2YmjVaikl30rmZZzlGTwPE   \n",
       "3    Smrtdeath  QZANL1773974  4sBj3qUIPBkIMcRVlh6iXI   \n",
       "4    Smrtdeath  QZANL1773973  3gjrflTTriqZ9d30uSF4hP   \n",
       "\n",
       "                            TITLE  \\\n",
       "0  Avalon or Someone Very Similar   \n",
       "1                  Swing For Life   \n",
       "2                           Ashes   \n",
       "3                    Let It Bleed   \n",
       "4            Went & Got Some More   \n",
       "\n",
       "                                              lyrics  song_id  \\\n",
       "0  \\n\\nAvalon, how did these things happen? Avalo...  1369717   \n",
       "1  \\n\\nOh, true rider, fasten me\\nI saw a mystery...  1063052   \n",
       "2  \\n\\nI put spots on a bird of paradise, snake e...  3596137   \n",
       "3  \\n\\n[Intro]\\nSethany, Sethany, Sethany\\nYeah, ...  3150542   \n",
       "4  \\n\\n[Hook: Smrtdeath]\\nI just lost some drugs,...  3256462   \n",
       "\n",
       "                                          producer  number_of_tracks  \\\n",
       "0                               ['Roger Moutenot']               143   \n",
       "1                                               []               143   \n",
       "2                                  ['Yo La Tengo']               143   \n",
       "3                                  ['Taxpurposes']                10   \n",
       "4  ['Eternal Night', 'Sorry If I Waste Your Time']                10   \n",
       "\n",
       "   number_of_albums  number_of_playlists    ...     Metal  Other  Pop  R&B  \\\n",
       "0                40                  649    ...         0      1    1    0   \n",
       "1                40                  649    ...         0      1    1    0   \n",
       "2                40                  649    ...         0      1    1    0   \n",
       "3                10                   30    ...         0      0    0    0   \n",
       "4                10                   30    ...         0      0    0    0   \n",
       "\n",
       "   Reggae  Rock/Alt  Rock/Alt/Pop  Singer-Songwriter  genre_missing  Explicit  \n",
       "0       0         1             0                  0              0         0  \n",
       "1       0         1             0                  0              0         0  \n",
       "2       0         1             0                  0              0         0  \n",
       "3       0         0             0                  0              0         1  \n",
       "4       0         0             0                  0              0         1  \n",
       "\n",
       "[5 rows x 37 columns]"
      ]
     },
     "execution_count": 11,
     "metadata": {},
     "output_type": "execute_result"
    }
   ],
   "source": [
    "df.head()"
   ]
  },
  {
   "cell_type": "code",
   "execution_count": 18,
   "metadata": {
    "collapsed": true
   },
   "outputs": [],
   "source": [
    "result = list()\n",
    "\n",
    "for item in df.iterrows():\n",
    "    result.append(get_writer(item[1]['song_id']))"
   ]
  },
  {
   "cell_type": "code",
   "execution_count": 19,
   "metadata": {
    "collapsed": true
   },
   "outputs": [],
   "source": [
    "if len(df) == len(result):\n",
    "    df['writer'] = result\n",
    "else:\n",
    "    print('lengths not match, please double check')"
   ]
  },
  {
   "cell_type": "code",
   "execution_count": 22,
   "metadata": {
    "collapsed": true
   },
   "outputs": [],
   "source": [
    "df.to_csv(r'final_matrix_with_writers.csv',index=False)"
   ]
  },
  {
   "cell_type": "markdown",
   "metadata": {
    "collapsed": true
   },
   "source": [
    "    Scrape lyrics for popular tracks(a-artists' tracks)"
   ]
  },
  {
   "cell_type": "code",
   "execution_count": 10,
   "metadata": {
    "collapsed": true
   },
   "outputs": [],
   "source": [
    "folder_path = '/'.join(os.getcwd().split('/')[:-1]) + '/Clean Data/'\n",
    "a_tracks = pd.read_csv(folder_path + 'a-artitss_tracks.csv')"
   ]
  },
  {
   "cell_type": "code",
   "execution_count": 13,
   "metadata": {},
   "outputs": [
    {
     "data": {
      "text/html": [
       "<div>\n",
       "<table border=\"1\" class=\"dataframe\">\n",
       "  <thead>\n",
       "    <tr style=\"text-align: right;\">\n",
       "      <th></th>\n",
       "      <th>ISRC</th>\n",
       "      <th>SPOTIFY_ID</th>\n",
       "      <th>TITLE</th>\n",
       "      <th>ARTIST</th>\n",
       "      <th>TEMPO</th>\n",
       "      <th>ENERGY</th>\n",
       "      <th>DANCE</th>\n",
       "      <th>LOUD</th>\n",
       "      <th>VALENCE</th>\n",
       "      <th>ACOUSTIC</th>\n",
       "      <th>SPEECHINESS</th>\n",
       "      <th>INSTRUMENTALNESS</th>\n",
       "      <th>KEY</th>\n",
       "      <th>LIVENESS</th>\n",
       "      <th>TIME_SIGNATURE</th>\n",
       "      <th>MODE</th>\n",
       "      <th>POP</th>\n",
       "      <th>Seconds</th>\n",
       "      <th>Lean-Back</th>\n",
       "    </tr>\n",
       "  </thead>\n",
       "  <tbody>\n",
       "    <tr>\n",
       "      <th>0</th>\n",
       "      <td>USCM51800207</td>\n",
       "      <td>0h1W19pS59KtEd7aDzF58i</td>\n",
       "      <td>In My Feelings</td>\n",
       "      <td>Drake</td>\n",
       "      <td>91.022</td>\n",
       "      <td>0.619</td>\n",
       "      <td>0.833</td>\n",
       "      <td>-5.822</td>\n",
       "      <td>0.366</td>\n",
       "      <td>0.0496</td>\n",
       "      <td>0.0971</td>\n",
       "      <td>0.000087</td>\n",
       "      <td>8</td>\n",
       "      <td>0.300</td>\n",
       "      <td>4</td>\n",
       "      <td>1</td>\n",
       "      <td>100</td>\n",
       "      <td>217925</td>\n",
       "      <td>0</td>\n",
       "    </tr>\n",
       "    <tr>\n",
       "      <th>1</th>\n",
       "      <td>USCM51800078</td>\n",
       "      <td>7liAO2OqrFMVvM7oiLo0m0</td>\n",
       "      <td>Nice For What</td>\n",
       "      <td>Drake</td>\n",
       "      <td>186.885</td>\n",
       "      <td>0.899</td>\n",
       "      <td>0.603</td>\n",
       "      <td>-6.558</td>\n",
       "      <td>0.813</td>\n",
       "      <td>0.1050</td>\n",
       "      <td>0.1410</td>\n",
       "      <td>0.000431</td>\n",
       "      <td>8</td>\n",
       "      <td>0.106</td>\n",
       "      <td>4</td>\n",
       "      <td>1</td>\n",
       "      <td>100</td>\n",
       "      <td>210925</td>\n",
       "      <td>0</td>\n",
       "    </tr>\n",
       "    <tr>\n",
       "      <th>2</th>\n",
       "      <td>USCM51800005</td>\n",
       "      <td>61T2H6w0ggQdhCvVegLl99</td>\n",
       "      <td>God's Plan</td>\n",
       "      <td>Drake</td>\n",
       "      <td>77.175</td>\n",
       "      <td>0.451</td>\n",
       "      <td>0.758</td>\n",
       "      <td>-9.454</td>\n",
       "      <td>0.353</td>\n",
       "      <td>0.0273</td>\n",
       "      <td>0.1040</td>\n",
       "      <td>0.000095</td>\n",
       "      <td>7</td>\n",
       "      <td>0.566</td>\n",
       "      <td>4</td>\n",
       "      <td>1</td>\n",
       "      <td>100</td>\n",
       "      <td>198960</td>\n",
       "      <td>0</td>\n",
       "    </tr>\n",
       "    <tr>\n",
       "      <th>3</th>\n",
       "      <td>USCM51800004</td>\n",
       "      <td>6T8cJz5lAqGer9GUHGyelE</td>\n",
       "      <td>God's Plan</td>\n",
       "      <td>Drake</td>\n",
       "      <td>77.179</td>\n",
       "      <td>0.448</td>\n",
       "      <td>0.755</td>\n",
       "      <td>-9.587</td>\n",
       "      <td>0.318</td>\n",
       "      <td>0.0283</td>\n",
       "      <td>0.1070</td>\n",
       "      <td>0.000033</td>\n",
       "      <td>7</td>\n",
       "      <td>0.514</td>\n",
       "      <td>4</td>\n",
       "      <td>1</td>\n",
       "      <td>100</td>\n",
       "      <td>198960</td>\n",
       "      <td>0</td>\n",
       "    </tr>\n",
       "    <tr>\n",
       "      <th>4</th>\n",
       "      <td>USCM51800077</td>\n",
       "      <td>1cTZMwcBJT0Ka3UJPXOeeN</td>\n",
       "      <td>Nice For What</td>\n",
       "      <td>Drake</td>\n",
       "      <td>93.350</td>\n",
       "      <td>0.913</td>\n",
       "      <td>0.567</td>\n",
       "      <td>-6.471</td>\n",
       "      <td>0.792</td>\n",
       "      <td>0.0934</td>\n",
       "      <td>0.0736</td>\n",
       "      <td>0.000124</td>\n",
       "      <td>8</td>\n",
       "      <td>0.114</td>\n",
       "      <td>4</td>\n",
       "      <td>1</td>\n",
       "      <td>100</td>\n",
       "      <td>210925</td>\n",
       "      <td>0</td>\n",
       "    </tr>\n",
       "  </tbody>\n",
       "</table>\n",
       "</div>"
      ],
      "text/plain": [
       "           ISRC              SPOTIFY_ID           TITLE ARTIST    TEMPO  \\\n",
       "0  USCM51800207  0h1W19pS59KtEd7aDzF58i  In My Feelings  Drake   91.022   \n",
       "1  USCM51800078  7liAO2OqrFMVvM7oiLo0m0   Nice For What  Drake  186.885   \n",
       "2  USCM51800005  61T2H6w0ggQdhCvVegLl99      God's Plan  Drake   77.175   \n",
       "3  USCM51800004  6T8cJz5lAqGer9GUHGyelE      God's Plan  Drake   77.179   \n",
       "4  USCM51800077  1cTZMwcBJT0Ka3UJPXOeeN   Nice For What  Drake   93.350   \n",
       "\n",
       "   ENERGY  DANCE   LOUD  VALENCE  ACOUSTIC  SPEECHINESS  INSTRUMENTALNESS  \\\n",
       "0   0.619  0.833 -5.822    0.366    0.0496       0.0971          0.000087   \n",
       "1   0.899  0.603 -6.558    0.813    0.1050       0.1410          0.000431   \n",
       "2   0.451  0.758 -9.454    0.353    0.0273       0.1040          0.000095   \n",
       "3   0.448  0.755 -9.587    0.318    0.0283       0.1070          0.000033   \n",
       "4   0.913  0.567 -6.471    0.792    0.0934       0.0736          0.000124   \n",
       "\n",
       "   KEY  LIVENESS  TIME_SIGNATURE  MODE  POP  Seconds  Lean-Back  \n",
       "0    8     0.300               4     1  100   217925          0  \n",
       "1    8     0.106               4     1  100   210925          0  \n",
       "2    7     0.566               4     1  100   198960          0  \n",
       "3    7     0.514               4     1  100   198960          0  \n",
       "4    8     0.114               4     1  100   210925          0  "
      ]
     },
     "execution_count": 13,
     "metadata": {},
     "output_type": "execute_result"
    }
   ],
   "source": [
    "a_tracks.head()"
   ]
  },
  {
   "cell_type": "code",
   "execution_count": 14,
   "metadata": {
    "collapsed": true
   },
   "outputs": [],
   "source": [
    "result = list()\n",
    "\n",
    "for item in a_tracks.iterrows():\n",
    "    result.append(get_song_id(item[0],item[1]['TITLE'],item[1]['ARTIST'],Genius_Token))"
   ]
  },
  {
   "cell_type": "code",
   "execution_count": 17,
   "metadata": {
    "collapsed": true
   },
   "outputs": [],
   "source": [
    "if len(result) == len(a_tracks):\n",
    "    a_tracks['song_id'] = [item[1] for item in result]"
   ]
  },
  {
   "cell_type": "code",
   "execution_count": 19,
   "metadata": {},
   "outputs": [],
   "source": [
    "a_tracks = a_tracks[a_tracks['song_id'] != 'Not Found']"
   ]
  },
  {
   "cell_type": "code",
   "execution_count": 20,
   "metadata": {
    "collapsed": true
   },
   "outputs": [],
   "source": [
    "verify_list = []\n",
    "\n",
    "for item in a_tracks.iterrows():\n",
    "    response = request_song_info(int(item[1]['song_id']),Genius_Token)\n",
    "    if response.ok == True:\n",
    "        verify_list.append(response.json()['response']['song']['title'])\n",
    "    else:\n",
    "        verify_list.append(\"Not Found\")"
   ]
  },
  {
   "cell_type": "code",
   "execution_count": 21,
   "metadata": {},
   "outputs": [
    {
     "name": "stderr",
     "output_type": "stream",
     "text": [
      "/Users/Stella/miniconda3/lib/python3.6/site-packages/ipykernel_launcher.py:2: SettingWithCopyWarning: \n",
      "A value is trying to be set on a copy of a slice from a DataFrame.\n",
      "Try using .loc[row_indexer,col_indexer] = value instead\n",
      "\n",
      "See the caveats in the documentation: http://pandas.pydata.org/pandas-docs/stable/indexing.html#indexing-view-versus-copy\n",
      "  \n"
     ]
    }
   ],
   "source": [
    "if len(verify_list) == len(a_tracks):\n",
    "    a_tracks['verify_title'] = verify_list"
   ]
  },
  {
   "cell_type": "code",
   "execution_count": 27,
   "metadata": {},
   "outputs": [
    {
     "name": "stderr",
     "output_type": "stream",
     "text": [
      "/Users/Stella/miniconda3/lib/python3.6/site-packages/ipykernel_launcher.py:1: SettingWithCopyWarning: \n",
      "A value is trying to be set on a copy of a slice from a DataFrame.\n",
      "Try using .loc[row_indexer,col_indexer] = value instead\n",
      "\n",
      "See the caveats in the documentation: http://pandas.pydata.org/pandas-docs/stable/indexing.html#indexing-view-versus-copy\n",
      "  \"\"\"Entry point for launching an IPython kernel.\n"
     ]
    }
   ],
   "source": [
    "a_tracks['if_verified'] =  a_tracks.apply(lambda x: 1 if similar(x['TITLE'],x['verify_title']) >= 0.8 else 0 , axis = 1)"
   ]
  },
  {
   "cell_type": "code",
   "execution_count": 28,
   "metadata": {},
   "outputs": [
    {
     "data": {
      "text/plain": [
       "1    200\n",
       "0     69\n",
       "Name: if_verified, dtype: int64"
      ]
     },
     "execution_count": 28,
     "metadata": {},
     "output_type": "execute_result"
    }
   ],
   "source": [
    "a_tracks['if_verified'].value_counts()"
   ]
  },
  {
   "cell_type": "code",
   "execution_count": 30,
   "metadata": {},
   "outputs": [
    {
     "data": {
      "text/html": [
       "<div>\n",
       "<table border=\"1\" class=\"dataframe\">\n",
       "  <thead>\n",
       "    <tr style=\"text-align: right;\">\n",
       "      <th></th>\n",
       "      <th>TITLE</th>\n",
       "      <th>verify_title</th>\n",
       "    </tr>\n",
       "  </thead>\n",
       "  <tbody>\n",
       "    <tr>\n",
       "      <th>7</th>\n",
       "      <td>River (feat. Ed Sheeran)</td>\n",
       "      <td>Eminem - River (feat. Ed Sheeran) [Deutsche Üb...</td>\n",
       "    </tr>\n",
       "    <tr>\n",
       "      <th>8</th>\n",
       "      <td>River (feat. Ed Sheeran)</td>\n",
       "      <td>Eminem - River (feat. Ed Sheeran) [Deutsche Üb...</td>\n",
       "    </tr>\n",
       "    <tr>\n",
       "      <th>16</th>\n",
       "      <td>Friends (with BloodPopÂ®)</td>\n",
       "      <td>OVO Sound Radio Episode 54 Tracklist</td>\n",
       "    </tr>\n",
       "    <tr>\n",
       "      <th>18</th>\n",
       "      <td>Mi Gente (feat. BeyoncÃ©)</td>\n",
       "      <td>Mi Gente (Beyoncé Remix)</td>\n",
       "    </tr>\n",
       "    <tr>\n",
       "      <th>19</th>\n",
       "      <td>Bed (feat. Ariana Grande)</td>\n",
       "      <td>New Music Friday 6/15/2018</td>\n",
       "    </tr>\n",
       "    <tr>\n",
       "      <th>20</th>\n",
       "      <td>All The Stars (with SZA)</td>\n",
       "      <td>Kendrick Lamar &amp; SZA - All The Stars (Tradução)</td>\n",
       "    </tr>\n",
       "    <tr>\n",
       "      <th>21</th>\n",
       "      <td>Bed (feat. Ariana Grande)</td>\n",
       "      <td>New Music Friday 6/15/2018</td>\n",
       "    </tr>\n",
       "    <tr>\n",
       "      <th>22</th>\n",
       "      <td>All The Stars (with SZA)</td>\n",
       "      <td>Kendrick Lamar &amp; SZA - All The Stars (Tradução)</td>\n",
       "    </tr>\n",
       "    <tr>\n",
       "      <th>42</th>\n",
       "      <td>Watch (feat. Lil Uzi Vert &amp; Kanye West)</td>\n",
       "      <td>New Music Friday 5/4/18</td>\n",
       "    </tr>\n",
       "    <tr>\n",
       "      <th>43</th>\n",
       "      <td>Watch (feat. Lil Uzi Vert &amp; Kanye West)</td>\n",
       "      <td>New Music Friday 5/4/18</td>\n",
       "    </tr>\n",
       "    <tr>\n",
       "      <th>52</th>\n",
       "      <td>Walk On Water (feat. BeyoncÃ©)</td>\n",
       "      <td>Eminem – Walk on Water (feat. Beyoncé) [Deutsc...</td>\n",
       "    </tr>\n",
       "    <tr>\n",
       "      <th>53</th>\n",
       "      <td>Walk On Water (feat. BeyoncÃ©)</td>\n",
       "      <td>Eminem – Walk on Water (feat. Beyoncé) [Deutsc...</td>\n",
       "    </tr>\n",
       "    <tr>\n",
       "      <th>79</th>\n",
       "      <td>Big Shot (with Travis Scott)</td>\n",
       "      <td>Big Shot</td>\n",
       "    </tr>\n",
       "    <tr>\n",
       "      <th>80</th>\n",
       "      <td>Big Shot (with Travis Scott)</td>\n",
       "      <td>Big Shot</td>\n",
       "    </tr>\n",
       "    <tr>\n",
       "      <th>82</th>\n",
       "      <td>the light is coming (feat. Nicki Minaj)</td>\n",
       "      <td>New Music Friday 6/22/2018</td>\n",
       "    </tr>\n",
       "    <tr>\n",
       "      <th>83</th>\n",
       "      <td>the light is coming (feat. Nicki Minaj)</td>\n",
       "      <td>New Music Friday 6/22/2018</td>\n",
       "    </tr>\n",
       "    <tr>\n",
       "      <th>92</th>\n",
       "      <td>Rich Sex (feat. Lil Wayne)</td>\n",
       "      <td>New Music Friday 6/15/2018</td>\n",
       "    </tr>\n",
       "    <tr>\n",
       "      <th>93</th>\n",
       "      <td>Rich Sex (feat. Lil Wayne)</td>\n",
       "      <td>New Music Friday 6/15/2018</td>\n",
       "    </tr>\n",
       "    <tr>\n",
       "      <th>96</th>\n",
       "      <td>Like Home (feat. Alicia Keys)</td>\n",
       "      <td>Eminem - Like Home ft. Alicia Keys (Türkçe Çev...</td>\n",
       "    </tr>\n",
       "    <tr>\n",
       "      <th>99</th>\n",
       "      <td>Talk Up (feat. Jay-Z)</td>\n",
       "      <td>OVO Sound Radio Episode 65 Tracklist</td>\n",
       "    </tr>\n",
       "    <tr>\n",
       "      <th>100</th>\n",
       "      <td>Talk Up (feat. Jay-Z)</td>\n",
       "      <td>OVO Sound Radio Episode 65 Tracklist</td>\n",
       "    </tr>\n",
       "    <tr>\n",
       "      <th>101</th>\n",
       "      <td>Bad Husband (feat. X Ambassadors)</td>\n",
       "      <td>My Top 15 Favorite Songs of 2017</td>\n",
       "    </tr>\n",
       "    <tr>\n",
       "      <th>102</th>\n",
       "      <td>Bad Husband (feat. X Ambassadors)</td>\n",
       "      <td>My Top 15 Favorite Songs of 2017</td>\n",
       "    </tr>\n",
       "    <tr>\n",
       "      <th>103</th>\n",
       "      <td>Chloraseptic (feat. 2 Chainz &amp; Phresher) - Remix</td>\n",
       "      <td>New Music Friday 1/12/18</td>\n",
       "    </tr>\n",
       "    <tr>\n",
       "      <th>107</th>\n",
       "      <td>Tragic Endings (feat. Skylar Grey)</td>\n",
       "      <td>Tragic Endings</td>\n",
       "    </tr>\n",
       "    <tr>\n",
       "      <th>108</th>\n",
       "      <td>Nowhere Fast (feat. Kehlani)</td>\n",
       "      <td>New Music Friday 3/23/18</td>\n",
       "    </tr>\n",
       "    <tr>\n",
       "      <th>109</th>\n",
       "      <td>Tragic Endings (feat. Skylar Grey)</td>\n",
       "      <td>Tragic Endings</td>\n",
       "    </tr>\n",
       "    <tr>\n",
       "      <th>110</th>\n",
       "      <td>Nowhere Fast (feat. Kehlani)</td>\n",
       "      <td>New Music Friday 3/23/18</td>\n",
       "    </tr>\n",
       "    <tr>\n",
       "      <th>112</th>\n",
       "      <td>Cuando TÃº Quieras</td>\n",
       "      <td>Sencillos del Mes de Mayo 2018</td>\n",
       "    </tr>\n",
       "    <tr>\n",
       "      <th>113</th>\n",
       "      <td>I Donâ€™t Know Why</td>\n",
       "      <td>Billy Sim</td>\n",
       "    </tr>\n",
       "    <tr>\n",
       "      <th>...</th>\n",
       "      <td>...</td>\n",
       "      <td>...</td>\n",
       "    </tr>\n",
       "    <tr>\n",
       "      <th>162</th>\n",
       "      <td>New Rules - Acoustic</td>\n",
       "      <td>New Rules (Piano Acoustic) [Live]</td>\n",
       "    </tr>\n",
       "    <tr>\n",
       "      <th>164</th>\n",
       "      <td>Castle on the Hill - Throttle Remix</td>\n",
       "      <td>Finnegan's Wake (Chap. 2.3)</td>\n",
       "    </tr>\n",
       "    <tr>\n",
       "      <th>165</th>\n",
       "      <td>Shape of You - Yxng Bane Remix</td>\n",
       "      <td>Shape Of You (Shaded Remix)</td>\n",
       "    </tr>\n",
       "    <tr>\n",
       "      <th>179</th>\n",
       "      <td>Perfect - Robin Schulz Remix</td>\n",
       "      <td>Top Tracks of 2016 - Global</td>\n",
       "    </tr>\n",
       "    <tr>\n",
       "      <th>185</th>\n",
       "      <td>Thunder (With K.Flay) - Official Remix</td>\n",
       "      <td>Imagine Dragons [Discography]</td>\n",
       "    </tr>\n",
       "    <tr>\n",
       "      <th>188</th>\n",
       "      <td>Tears Dry On Their Own - Acoustic</td>\n",
       "      <td>Finnegan's Wake (Chap. 1.6)</td>\n",
       "    </tr>\n",
       "    <tr>\n",
       "      <th>190</th>\n",
       "      <td>Friends (with BloodPopÂ® &amp; Julia Michaels) - R...</td>\n",
       "      <td>My Top Spotify Songs 2017</td>\n",
       "    </tr>\n",
       "    <tr>\n",
       "      <th>194</th>\n",
       "      <td>Finesse (James Hype Remix) [feat. Cardi B]</td>\n",
       "      <td>2018 haywoodindahood Listening Log</td>\n",
       "    </tr>\n",
       "    <tr>\n",
       "      <th>197</th>\n",
       "      <td>Happier - Cazzette Remix</td>\n",
       "      <td>L17</td>\n",
       "    </tr>\n",
       "    <tr>\n",
       "      <th>215</th>\n",
       "      <td>Mi Gente - Steve Aoki Remix</td>\n",
       "      <td>New Music Friday 9/29/17</td>\n",
       "    </tr>\n",
       "    <tr>\n",
       "      <th>216</th>\n",
       "      <td>Mi Gente - Steve Aoki Remix</td>\n",
       "      <td>New Music Friday 9/29/17</td>\n",
       "    </tr>\n",
       "    <tr>\n",
       "      <th>223</th>\n",
       "      <td>IDGAF (Rich Brian &amp; Diablo Remix)</td>\n",
       "      <td>IDGAF (Diablo &amp; Rich Brian Remix)</td>\n",
       "    </tr>\n",
       "    <tr>\n",
       "      <th>224</th>\n",
       "      <td>IDGAF (feat. Saweetie)</td>\n",
       "      <td>IDGAF (Remix)</td>\n",
       "    </tr>\n",
       "    <tr>\n",
       "      <th>226</th>\n",
       "      <td>IDGAF - Radio Edit</td>\n",
       "      <td>2018 haywoodindahood Listening Log</td>\n",
       "    </tr>\n",
       "    <tr>\n",
       "      <th>236</th>\n",
       "      <td>Mi Gente - Dillon Francis Remix</td>\n",
       "      <td>I Like It (Dillon Francis Remix)</td>\n",
       "    </tr>\n",
       "    <tr>\n",
       "      <th>238</th>\n",
       "      <td>Mi Gente - Dillon Francis Remix</td>\n",
       "      <td>I Like It (Dillon Francis Remix)</td>\n",
       "    </tr>\n",
       "    <tr>\n",
       "      <th>248</th>\n",
       "      <td>Drunk in Luv</td>\n",
       "      <td>Genius Picks: Songs 2014</td>\n",
       "    </tr>\n",
       "    <tr>\n",
       "      <th>249</th>\n",
       "      <td>After Dark (feat. Static Major &amp;amp; Ty Dolla ...</td>\n",
       "      <td>Genius Picks: Songs 2014</td>\n",
       "    </tr>\n",
       "    <tr>\n",
       "      <th>259</th>\n",
       "      <td>Like Home (Alicia Keys)</td>\n",
       "      <td>Eminem - Like Home ft. Alicia Keys (Türkçe Çev...</td>\n",
       "    </tr>\n",
       "    <tr>\n",
       "      <th>264</th>\n",
       "      <td>Without Me - Radio Edit</td>\n",
       "      <td>If I Had (Radio Edit)</td>\n",
       "    </tr>\n",
       "    <tr>\n",
       "      <th>269</th>\n",
       "      <td>When I'm Gone - Instrumental</td>\n",
       "      <td>9 Year Old Rapper (Shit On You Eminem D12 Remix)</td>\n",
       "    </tr>\n",
       "    <tr>\n",
       "      <th>273</th>\n",
       "      <td>Love Never Felt so Good - DM RED ZONE MIX</td>\n",
       "      <td>Love Never Felt So Good (DM Red Zone Mix)</td>\n",
       "    </tr>\n",
       "    <tr>\n",
       "      <th>276</th>\n",
       "      <td>Best Thing I Never Had - Billionaire Remix</td>\n",
       "      <td>Jay Z on The Breakfast Club (Power 105.1)</td>\n",
       "    </tr>\n",
       "    <tr>\n",
       "      <th>284</th>\n",
       "      <td>Be Me</td>\n",
       "      <td>SCP-2137-2 raps</td>\n",
       "    </tr>\n",
       "    <tr>\n",
       "      <th>285</th>\n",
       "      <td>Blow Your Mind (Mwah) - Night Moves Remix</td>\n",
       "      <td>New Music Friday 10/21/16</td>\n",
       "    </tr>\n",
       "    <tr>\n",
       "      <th>293</th>\n",
       "      <td>We Found Love - Extended Version</td>\n",
       "      <td>Almost Every Album I've Listened To</td>\n",
       "    </tr>\n",
       "    <tr>\n",
       "      <th>294</th>\n",
       "      <td>Childhood - from the Warner Bros. film, Free W...</td>\n",
       "      <td>The Marriage Plot</td>\n",
       "    </tr>\n",
       "    <tr>\n",
       "      <th>295</th>\n",
       "      <td>Taking My Ball - Album Version (Edited)</td>\n",
       "      <td>Eminem vs Canibus: \"The most theatrical emcee ...</td>\n",
       "    </tr>\n",
       "    <tr>\n",
       "      <th>298</th>\n",
       "      <td>Finesse (Remix) (feat. Cardi B)</td>\n",
       "      <td>New Music Friday 1/5/18</td>\n",
       "    </tr>\n",
       "    <tr>\n",
       "      <th>299</th>\n",
       "      <td>Currency - Featuring Lil Wayne &amp; Rick Ross</td>\n",
       "      <td>Currency</td>\n",
       "    </tr>\n",
       "  </tbody>\n",
       "</table>\n",
       "<p>69 rows × 2 columns</p>\n",
       "</div>"
      ],
      "text/plain": [
       "                                                 TITLE  \\\n",
       "7                             River (feat. Ed Sheeran)   \n",
       "8                             River (feat. Ed Sheeran)   \n",
       "16                           Friends (with BloodPopÂ®)   \n",
       "18                           Mi Gente (feat. BeyoncÃ©)   \n",
       "19                           Bed (feat. Ariana Grande)   \n",
       "20                            All The Stars (with SZA)   \n",
       "21                           Bed (feat. Ariana Grande)   \n",
       "22                            All The Stars (with SZA)   \n",
       "42             Watch (feat. Lil Uzi Vert & Kanye West)   \n",
       "43             Watch (feat. Lil Uzi Vert & Kanye West)   \n",
       "52                      Walk On Water (feat. BeyoncÃ©)   \n",
       "53                      Walk On Water (feat. BeyoncÃ©)   \n",
       "79                        Big Shot (with Travis Scott)   \n",
       "80                        Big Shot (with Travis Scott)   \n",
       "82             the light is coming (feat. Nicki Minaj)   \n",
       "83             the light is coming (feat. Nicki Minaj)   \n",
       "92                          Rich Sex (feat. Lil Wayne)   \n",
       "93                          Rich Sex (feat. Lil Wayne)   \n",
       "96                       Like Home (feat. Alicia Keys)   \n",
       "99                               Talk Up (feat. Jay-Z)   \n",
       "100                              Talk Up (feat. Jay-Z)   \n",
       "101                  Bad Husband (feat. X Ambassadors)   \n",
       "102                  Bad Husband (feat. X Ambassadors)   \n",
       "103   Chloraseptic (feat. 2 Chainz & Phresher) - Remix   \n",
       "107                 Tragic Endings (feat. Skylar Grey)   \n",
       "108                       Nowhere Fast (feat. Kehlani)   \n",
       "109                 Tragic Endings (feat. Skylar Grey)   \n",
       "110                       Nowhere Fast (feat. Kehlani)   \n",
       "112                                 Cuando TÃº Quieras   \n",
       "113                                 I Donâ€™t Know Why   \n",
       "..                                                 ...   \n",
       "162                               New Rules - Acoustic   \n",
       "164                Castle on the Hill - Throttle Remix   \n",
       "165                     Shape of You - Yxng Bane Remix   \n",
       "179                       Perfect - Robin Schulz Remix   \n",
       "185             Thunder (With K.Flay) - Official Remix   \n",
       "188                  Tears Dry On Their Own - Acoustic   \n",
       "190  Friends (with BloodPopÂ® & Julia Michaels) - R...   \n",
       "194         Finesse (James Hype Remix) [feat. Cardi B]   \n",
       "197                           Happier - Cazzette Remix   \n",
       "215                        Mi Gente - Steve Aoki Remix   \n",
       "216                        Mi Gente - Steve Aoki Remix   \n",
       "223                  IDGAF (Rich Brian & Diablo Remix)   \n",
       "224                             IDGAF (feat. Saweetie)   \n",
       "226                                 IDGAF - Radio Edit   \n",
       "236                    Mi Gente - Dillon Francis Remix   \n",
       "238                    Mi Gente - Dillon Francis Remix   \n",
       "248                                       Drunk in Luv   \n",
       "249  After Dark (feat. Static Major &amp; Ty Dolla ...   \n",
       "259                            Like Home (Alicia Keys)   \n",
       "264                            Without Me - Radio Edit   \n",
       "269                       When I'm Gone - Instrumental   \n",
       "273          Love Never Felt so Good - DM RED ZONE MIX   \n",
       "276         Best Thing I Never Had - Billionaire Remix   \n",
       "284                                              Be Me   \n",
       "285          Blow Your Mind (Mwah) - Night Moves Remix   \n",
       "293                   We Found Love - Extended Version   \n",
       "294  Childhood - from the Warner Bros. film, Free W...   \n",
       "295            Taking My Ball - Album Version (Edited)   \n",
       "298                    Finesse (Remix) (feat. Cardi B)   \n",
       "299         Currency - Featuring Lil Wayne & Rick Ross   \n",
       "\n",
       "                                          verify_title  \n",
       "7    Eminem - River (feat. Ed Sheeran) [Deutsche Üb...  \n",
       "8    Eminem - River (feat. Ed Sheeran) [Deutsche Üb...  \n",
       "16                OVO Sound Radio Episode 54 Tracklist  \n",
       "18                            Mi Gente (Beyoncé Remix)  \n",
       "19                          New Music Friday 6/15/2018  \n",
       "20     Kendrick Lamar & SZA - All The Stars (Tradução)  \n",
       "21                          New Music Friday 6/15/2018  \n",
       "22     Kendrick Lamar & SZA - All The Stars (Tradução)  \n",
       "42                             New Music Friday 5/4/18  \n",
       "43                             New Music Friday 5/4/18  \n",
       "52   Eminem – Walk on Water (feat. Beyoncé) [Deutsc...  \n",
       "53   Eminem – Walk on Water (feat. Beyoncé) [Deutsc...  \n",
       "79                                            Big Shot  \n",
       "80                                            Big Shot  \n",
       "82                          New Music Friday 6/22/2018  \n",
       "83                          New Music Friday 6/22/2018  \n",
       "92                          New Music Friday 6/15/2018  \n",
       "93                          New Music Friday 6/15/2018  \n",
       "96   Eminem - Like Home ft. Alicia Keys (Türkçe Çev...  \n",
       "99                OVO Sound Radio Episode 65 Tracklist  \n",
       "100               OVO Sound Radio Episode 65 Tracklist  \n",
       "101                   My Top 15 Favorite Songs of 2017  \n",
       "102                   My Top 15 Favorite Songs of 2017  \n",
       "103                           New Music Friday 1/12/18  \n",
       "107                                     Tragic Endings  \n",
       "108                           New Music Friday 3/23/18  \n",
       "109                                     Tragic Endings  \n",
       "110                           New Music Friday 3/23/18  \n",
       "112                     Sencillos del Mes de Mayo 2018  \n",
       "113                                          Billy Sim  \n",
       "..                                                 ...  \n",
       "162                  New Rules (Piano Acoustic) [Live]  \n",
       "164                        Finnegan's Wake (Chap. 2.3)  \n",
       "165                        Shape Of You (Shaded Remix)  \n",
       "179                        Top Tracks of 2016 - Global  \n",
       "185                      Imagine Dragons [Discography]  \n",
       "188                        Finnegan's Wake (Chap. 1.6)  \n",
       "190                          My Top Spotify Songs 2017  \n",
       "194                 2018 haywoodindahood Listening Log  \n",
       "197                                                L17  \n",
       "215                           New Music Friday 9/29/17  \n",
       "216                           New Music Friday 9/29/17  \n",
       "223                  IDGAF (Diablo & Rich Brian Remix)  \n",
       "224                                      IDGAF (Remix)  \n",
       "226                 2018 haywoodindahood Listening Log  \n",
       "236                   I Like It (Dillon Francis Remix)  \n",
       "238                   I Like It (Dillon Francis Remix)  \n",
       "248                           Genius Picks: Songs 2014  \n",
       "249                           Genius Picks: Songs 2014  \n",
       "259  Eminem - Like Home ft. Alicia Keys (Türkçe Çev...  \n",
       "264                              If I Had (Radio Edit)  \n",
       "269   9 Year Old Rapper (Shit On You Eminem D12 Remix)  \n",
       "273          Love Never Felt So Good (DM Red Zone Mix)  \n",
       "276          Jay Z on The Breakfast Club (Power 105.1)  \n",
       "284                                    SCP-2137-2 raps  \n",
       "285                          New Music Friday 10/21/16  \n",
       "293                Almost Every Album I've Listened To  \n",
       "294                                  The Marriage Plot  \n",
       "295  Eminem vs Canibus: \"The most theatrical emcee ...  \n",
       "298                            New Music Friday 1/5/18  \n",
       "299                                           Currency  \n",
       "\n",
       "[69 rows x 2 columns]"
      ]
     },
     "execution_count": 30,
     "metadata": {},
     "output_type": "execute_result"
    }
   ],
   "source": [
    "a_tracks[a_tracks['if_verified'] == 0][['TITLE','verify_title']]"
   ]
  },
  {
   "cell_type": "code",
   "execution_count": 36,
   "metadata": {
    "collapsed": true
   },
   "outputs": [],
   "source": [
    "idx_list = [16,19,21,42,43,82,83,92,93,99,100,101,102,103,108,110,112,113,117,132,155,138,151,162,164,179,185,188,190,194,197,215,216,226,236,238,248,249,264,269,276,284,285,293,294,295,298]"
   ]
  },
  {
   "cell_type": "code",
   "execution_count": 37,
   "metadata": {},
   "outputs": [],
   "source": [
    "a_tracks = a_tracks[~a_tracks.index.isin(idx_list)]"
   ]
  },
  {
   "cell_type": "code",
   "execution_count": 41,
   "metadata": {},
   "outputs": [],
   "source": [
    "a_tracks = a_tracks[['ISRC', 'SPOTIFY_ID', 'TITLE', 'ARTIST','song_id','POP']]"
   ]
  },
  {
   "cell_type": "code",
   "execution_count": 42,
   "metadata": {},
   "outputs": [
    {
     "data": {
      "text/html": [
       "<div>\n",
       "<table border=\"1\" class=\"dataframe\">\n",
       "  <thead>\n",
       "    <tr style=\"text-align: right;\">\n",
       "      <th></th>\n",
       "      <th>ISRC</th>\n",
       "      <th>SPOTIFY_ID</th>\n",
       "      <th>TITLE</th>\n",
       "      <th>ARTIST</th>\n",
       "      <th>song_id</th>\n",
       "      <th>POP</th>\n",
       "    </tr>\n",
       "  </thead>\n",
       "  <tbody>\n",
       "    <tr>\n",
       "      <th>0</th>\n",
       "      <td>USCM51800207</td>\n",
       "      <td>0h1W19pS59KtEd7aDzF58i</td>\n",
       "      <td>In My Feelings</td>\n",
       "      <td>Drake</td>\n",
       "      <td>3807759</td>\n",
       "      <td>100</td>\n",
       "    </tr>\n",
       "    <tr>\n",
       "      <th>1</th>\n",
       "      <td>USCM51800078</td>\n",
       "      <td>7liAO2OqrFMVvM7oiLo0m0</td>\n",
       "      <td>Nice For What</td>\n",
       "      <td>Drake</td>\n",
       "      <td>3580132</td>\n",
       "      <td>100</td>\n",
       "    </tr>\n",
       "    <tr>\n",
       "      <th>2</th>\n",
       "      <td>USCM51800005</td>\n",
       "      <td>61T2H6w0ggQdhCvVegLl99</td>\n",
       "      <td>God's Plan</td>\n",
       "      <td>Drake</td>\n",
       "      <td>3315890</td>\n",
       "      <td>100</td>\n",
       "    </tr>\n",
       "    <tr>\n",
       "      <th>3</th>\n",
       "      <td>USCM51800004</td>\n",
       "      <td>6T8cJz5lAqGer9GUHGyelE</td>\n",
       "      <td>God's Plan</td>\n",
       "      <td>Drake</td>\n",
       "      <td>3315890</td>\n",
       "      <td>100</td>\n",
       "    </tr>\n",
       "    <tr>\n",
       "      <th>4</th>\n",
       "      <td>USCM51800077</td>\n",
       "      <td>1cTZMwcBJT0Ka3UJPXOeeN</td>\n",
       "      <td>Nice For What</td>\n",
       "      <td>Drake</td>\n",
       "      <td>3580132</td>\n",
       "      <td>100</td>\n",
       "    </tr>\n",
       "  </tbody>\n",
       "</table>\n",
       "</div>"
      ],
      "text/plain": [
       "           ISRC              SPOTIFY_ID           TITLE ARTIST  song_id  POP\n",
       "0  USCM51800207  0h1W19pS59KtEd7aDzF58i  In My Feelings  Drake  3807759  100\n",
       "1  USCM51800078  7liAO2OqrFMVvM7oiLo0m0   Nice For What  Drake  3580132  100\n",
       "2  USCM51800005  61T2H6w0ggQdhCvVegLl99      God's Plan  Drake  3315890  100\n",
       "3  USCM51800004  6T8cJz5lAqGer9GUHGyelE      God's Plan  Drake  3315890  100\n",
       "4  USCM51800077  1cTZMwcBJT0Ka3UJPXOeeN   Nice For What  Drake  3580132  100"
      ]
     },
     "execution_count": 42,
     "metadata": {},
     "output_type": "execute_result"
    }
   ],
   "source": [
    "a_tracks.head()"
   ]
  },
  {
   "cell_type": "code",
   "execution_count": 45,
   "metadata": {},
   "outputs": [],
   "source": [
    "lyrics_list = []\n",
    "\n",
    "for item in a_tracks.iterrows():\n",
    "    lyrics_list.append(get_lyrics(item[1]['song_id']))"
   ]
  },
  {
   "cell_type": "code",
   "execution_count": 46,
   "metadata": {
    "collapsed": true
   },
   "outputs": [],
   "source": [
    "if len(lyrics_list) == len(a_tracks):\n",
    "    a_tracks['lyrics'] = lyrics_list"
   ]
  },
  {
   "cell_type": "code",
   "execution_count": 50,
   "metadata": {},
   "outputs": [],
   "source": [
    "a_tracks = a_tracks[a_tracks['song_id'].duplicated() == False]"
   ]
  },
  {
   "cell_type": "code",
   "execution_count": 52,
   "metadata": {},
   "outputs": [
    {
     "data": {
      "text/html": [
       "<div>\n",
       "<table border=\"1\" class=\"dataframe\">\n",
       "  <thead>\n",
       "    <tr style=\"text-align: right;\">\n",
       "      <th></th>\n",
       "      <th>ISRC</th>\n",
       "      <th>SPOTIFY_ID</th>\n",
       "      <th>TITLE</th>\n",
       "      <th>ARTIST</th>\n",
       "      <th>song_id</th>\n",
       "      <th>POP</th>\n",
       "      <th>lyrics</th>\n",
       "    </tr>\n",
       "  </thead>\n",
       "  <tbody>\n",
       "    <tr>\n",
       "      <th>0</th>\n",
       "      <td>USCM51800207</td>\n",
       "      <td>0h1W19pS59KtEd7aDzF58i</td>\n",
       "      <td>In My Feelings</td>\n",
       "      <td>Drake</td>\n",
       "      <td>3807759</td>\n",
       "      <td>100</td>\n",
       "      <td>\\n\\n[Intro: Drake]\\nTrap, TrapMoneyBenny\\nThis...</td>\n",
       "    </tr>\n",
       "    <tr>\n",
       "      <th>1</th>\n",
       "      <td>USCM51800078</td>\n",
       "      <td>7liAO2OqrFMVvM7oiLo0m0</td>\n",
       "      <td>Nice For What</td>\n",
       "      <td>Drake</td>\n",
       "      <td>3580132</td>\n",
       "      <td>100</td>\n",
       "      <td>\\n\\n[Intro: Big Freedia]\\nI wanna know who mot...</td>\n",
       "    </tr>\n",
       "    <tr>\n",
       "      <th>2</th>\n",
       "      <td>USCM51800005</td>\n",
       "      <td>61T2H6w0ggQdhCvVegLl99</td>\n",
       "      <td>God's Plan</td>\n",
       "      <td>Drake</td>\n",
       "      <td>3315890</td>\n",
       "      <td>100</td>\n",
       "      <td>\\n\\n[Intro]\\nYeah, they wishin' and wishin' an...</td>\n",
       "    </tr>\n",
       "    <tr>\n",
       "      <th>7</th>\n",
       "      <td>USUM71713011</td>\n",
       "      <td>6ZMbykUu07aL2Drx988zAq</td>\n",
       "      <td>River (feat. Ed Sheeran)</td>\n",
       "      <td>Eminem</td>\n",
       "      <td>3384370</td>\n",
       "      <td>98</td>\n",
       "      <td>\\n\\n[Refrain: Ed Sheeran]\\nIch bin ein Lügner ...</td>\n",
       "    </tr>\n",
       "    <tr>\n",
       "      <th>9</th>\n",
       "      <td>USUM71805289</td>\n",
       "      <td>5SxkdsY1ufZzoq9iXceLw9</td>\n",
       "      <td>no tears left to cry</td>\n",
       "      <td>Ariana Grande</td>\n",
       "      <td>3649172</td>\n",
       "      <td>98</td>\n",
       "      <td>\\n\\n[Intro]\\nRight now, I'm in a state of mind...</td>\n",
       "    </tr>\n",
       "  </tbody>\n",
       "</table>\n",
       "</div>"
      ],
      "text/plain": [
       "           ISRC              SPOTIFY_ID                     TITLE  \\\n",
       "0  USCM51800207  0h1W19pS59KtEd7aDzF58i            In My Feelings   \n",
       "1  USCM51800078  7liAO2OqrFMVvM7oiLo0m0             Nice For What   \n",
       "2  USCM51800005  61T2H6w0ggQdhCvVegLl99                God's Plan   \n",
       "7  USUM71713011  6ZMbykUu07aL2Drx988zAq  River (feat. Ed Sheeran)   \n",
       "9  USUM71805289  5SxkdsY1ufZzoq9iXceLw9      no tears left to cry   \n",
       "\n",
       "          ARTIST  song_id  POP  \\\n",
       "0          Drake  3807759  100   \n",
       "1          Drake  3580132  100   \n",
       "2          Drake  3315890  100   \n",
       "7         Eminem  3384370   98   \n",
       "9  Ariana Grande  3649172   98   \n",
       "\n",
       "                                              lyrics  \n",
       "0  \\n\\n[Intro: Drake]\\nTrap, TrapMoneyBenny\\nThis...  \n",
       "1  \\n\\n[Intro: Big Freedia]\\nI wanna know who mot...  \n",
       "2  \\n\\n[Intro]\\nYeah, they wishin' and wishin' an...  \n",
       "7  \\n\\n[Refrain: Ed Sheeran]\\nIch bin ein Lügner ...  \n",
       "9  \\n\\n[Intro]\\nRight now, I'm in a state of mind...  "
      ]
     },
     "execution_count": 52,
     "metadata": {},
     "output_type": "execute_result"
    }
   ],
   "source": [
    "a_tracks.head()"
   ]
  },
  {
   "cell_type": "code",
   "execution_count": 55,
   "metadata": {},
   "outputs": [],
   "source": [
    "producer_list = []\n",
    "\n",
    "for item in a_tracks.iterrows():\n",
    "    producer_list.append(get_producer(item[1]['song_id']))"
   ]
  },
  {
   "cell_type": "code",
   "execution_count": 56,
   "metadata": {
    "collapsed": true
   },
   "outputs": [],
   "source": [
    "if len(producer_list) == len(a_tracks):\n",
    "    a_tracks['producer'] = producer_list"
   ]
  },
  {
   "cell_type": "code",
   "execution_count": 58,
   "metadata": {
    "collapsed": true
   },
   "outputs": [],
   "source": [
    "writer_list = []\n",
    "\n",
    "for item in a_tracks.iterrows():\n",
    "    writer_list.append(get_writer(item[1]['song_id']))"
   ]
  },
  {
   "cell_type": "code",
   "execution_count": 59,
   "metadata": {
    "collapsed": true
   },
   "outputs": [],
   "source": [
    "if len(writer_list) == len(a_tracks):\n",
    "    a_tracks['writer'] = writer_list"
   ]
  },
  {
   "cell_type": "code",
   "execution_count": 64,
   "metadata": {},
   "outputs": [],
   "source": [
    "a_tracks.to_csv(folder_path + '/a_tracks.csv',index=False)"
   ]
  },
  {
   "cell_type": "code",
   "execution_count": null,
   "metadata": {
    "collapsed": true
   },
   "outputs": [],
   "source": []
  }
 ],
 "metadata": {
  "kernelspec": {
   "display_name": "Python 3",
   "language": "python",
   "name": "python3"
  },
  "language_info": {
   "codemirror_mode": {
    "name": "ipython",
    "version": 3
   },
   "file_extension": ".py",
   "mimetype": "text/x-python",
   "name": "python",
   "nbconvert_exporter": "python",
   "pygments_lexer": "ipython3",
   "version": "3.6.0"
  }
 },
 "nbformat": 4,
 "nbformat_minor": 2
}
