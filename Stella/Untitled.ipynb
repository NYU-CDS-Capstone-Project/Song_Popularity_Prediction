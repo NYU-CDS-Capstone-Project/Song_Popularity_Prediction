{
 "cells": [
  {
   "cell_type": "code",
   "execution_count": 1,
   "metadata": {
    "collapsed": true
   },
   "outputs": [],
   "source": [
    "import pandas as pd\n",
    "import os\n",
    "from ast import literal_eval"
   ]
  },
  {
   "cell_type": "code",
   "execution_count": 31,
   "metadata": {},
   "outputs": [],
   "source": [
    "df = pd.read_csv(r'song_info_with_isrc.csv')"
   ]
  },
  {
   "cell_type": "code",
   "execution_count": 35,
   "metadata": {},
   "outputs": [],
   "source": [
    "df['update_info'] = df['update_info'].apply(lambda x: literal_eval(x))"
   ]
  },
  {
   "cell_type": "code",
   "execution_count": 44,
   "metadata": {
    "collapsed": true
   },
   "outputs": [],
   "source": [
    "def generate_features(line,feature):\n",
    "    result = line[feature]\n",
    "    if line[feature] is None:\n",
    "        return \"NA\"\n",
    "    else:\n",
    "        if len(line[feature])== 0:\n",
    "            return \"NA\"\n",
    "        else:\n",
    "            return result\n",
    "    \n",
    "        "
   ]
  },
  {
   "cell_type": "code",
   "execution_count": 45,
   "metadata": {},
   "outputs": [],
   "source": [
    "df['recording_location'] = df['update_info'].apply(lambda x: generate_features(x,'recording_location'))"
   ]
  },
  {
   "cell_type": "code",
   "execution_count": 46,
   "metadata": {
    "collapsed": true
   },
   "outputs": [],
   "source": [
    "df['writer_artists'] = df['update_info'].apply(lambda x: generate_features(x,'writer_artists'))\n",
    "df['producer_artists'] = df['update_info'].apply(lambda x: generate_features(x,'producer_artists'))\n",
    "df['release_date'] = df['update_info'].apply(lambda x: generate_features(x,'release_date'))"
   ]
  },
  {
   "cell_type": "code",
   "execution_count": 48,
   "metadata": {},
   "outputs": [],
   "source": [
    "df = df.drop('update_info',axis = 1)"
   ]
  },
  {
   "cell_type": "code",
   "execution_count": 49,
   "metadata": {
    "collapsed": true
   },
   "outputs": [],
   "source": [
    "df.to_csv(r'song_info_with_isrc_updated.csv',index = False)"
   ]
  },
  {
   "cell_type": "code",
   "execution_count": 56,
   "metadata": {},
   "outputs": [
    {
     "data": {
      "text/plain": [
       "[{'api_path': '/artists/334215',\n",
       "  'header_image_url': 'https://images.genius.com/fc09c2fdd2b3b02853bf573cc241ebd4.512x512x1.jpg',\n",
       "  'id': 334215,\n",
       "  'image_url': 'https://images.genius.com/fc09c2fdd2b3b02853bf573cc241ebd4.512x512x1.jpg',\n",
       "  'is_meme_verified': False,\n",
       "  'is_verified': False,\n",
       "  'name': 'David Garcia',\n",
       "  'url': 'https://genius.com/artists/David-garcia'},\n",
       " {'api_path': '/artists/223523',\n",
       "  'header_image_url': 'https://images.genius.com/1fe6c018c0dc1e1c9206e7a011b3dafc.1000x333x1.jpg',\n",
       "  'id': 223523,\n",
       "  'image_url': 'https://images.genius.com/275ee7b8b2354429949232d41f19e675.1000x1000x1.jpg',\n",
       "  'is_meme_verified': False,\n",
       "  'is_verified': False,\n",
       "  'name': 'Tommee Profitt',\n",
       "  'url': 'https://genius.com/artists/Tommee-profitt'}]"
      ]
     },
     "execution_count": 56,
     "metadata": {},
     "output_type": "execute_result"
    }
   ],
   "source": [
    "df.iloc[4].producer_artists"
   ]
  },
  {
   "cell_type": "code",
   "execution_count": null,
   "metadata": {
    "collapsed": true
   },
   "outputs": [],
   "source": []
  }
 ],
 "metadata": {
  "kernelspec": {
   "display_name": "Python 3",
   "language": "python",
   "name": "python3"
  },
  "language_info": {
   "codemirror_mode": {
    "name": "ipython",
    "version": 3
   },
   "file_extension": ".py",
   "mimetype": "text/x-python",
   "name": "python",
   "nbconvert_exporter": "python",
   "pygments_lexer": "ipython3",
   "version": "3.6.0"
  }
 },
 "nbformat": 4,
 "nbformat_minor": 2
}
