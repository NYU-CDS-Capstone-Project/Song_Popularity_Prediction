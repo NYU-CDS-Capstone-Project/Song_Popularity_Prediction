{
 "cells": [
  {
   "cell_type": "code",
   "execution_count": 119,
   "metadata": {
    "collapsed": true
   },
   "outputs": [],
   "source": [
    "import pandas as pd\n",
    "import pandas as pd\n",
    "import requests\n",
    "import json\n",
    "import os\n",
    "from bs4 import BeautifulSoup\n",
    "import re\n",
    "from queue import Queue\n",
    "from threading import Thread\n",
    "from requests.packages.urllib3.exceptions import InsecureRequestWarning\n",
    "requests.packages.urllib3.disable_warnings(InsecureRequestWarning)\n",
    "from difflib import SequenceMatcher"
   ]
  },
  {
   "cell_type": "code",
   "execution_count": 73,
   "metadata": {},
   "outputs": [],
   "source": [
    "json1_file = open(os.getcwd() + '/Code/Credentials2.json')\n",
    "json1_str = json1_file.read()\n",
    "credential = json.loads(json1_str)\n",
    "Genius_Token = credential['Genius_API']['Access_Token']"
   ]
  },
  {
   "cell_type": "code",
   "execution_count": 120,
   "metadata": {
    "collapsed": true
   },
   "outputs": [],
   "source": [
    "def similar(a, b):\n",
    "    return SequenceMatcher(None, a, b).ratio()\n"
   ]
  },
  {
   "cell_type": "code",
   "execution_count": 99,
   "metadata": {
    "collapsed": true
   },
   "outputs": [],
   "source": [
    "def get_song_id(ix,song_title,artist_title,Genius_Token):\n",
    "    \n",
    "    base_url = 'https://api.genius.com'\n",
    "    headers = {'Authorization': 'Bearer ' + Genius_Token}\n",
    "    search_url = base_url + '/search'\n",
    "    data = {'q': str(song_title) + ' ' + str(artist_title)}\n",
    "    response = requests.get(search_url, data = data, headers=headers)\n",
    "\n",
    "    if response.ok == True:\n",
    "        song_info = response.json()\n",
    "        if len(song_info['response']['hits']) != 0:\n",
    "            song_id = song_info['response']['hits'][0]['result']['id']\n",
    "\n",
    "        else:\n",
    "            song_id = 'Not Found'\n",
    "        return (ix,song_id)\n",
    "    else:\n",
    "        return \"Response Error!\"\n",
    "    "
   ]
  },
  {
   "cell_type": "code",
   "execution_count": 74,
   "metadata": {
    "collapsed": true
   },
   "outputs": [],
   "source": [
    "def request_song_info(song_id,Genius_Token):\n",
    "    base_url = 'https://api.genius.com'\n",
    "    headers = {'Authorization': 'Bearer ' + Genius_Token}\n",
    "    song_url = base_url + '/songs/' + str(song_id)\n",
    "    response = requests.get(song_url, headers = headers)\n",
    "\n",
    "    return response"
   ]
  },
  {
   "cell_type": "code",
   "execution_count": 5,
   "metadata": {},
   "outputs": [
    {
     "name": "stderr",
     "output_type": "stream",
     "text": [
      "/Users/Stella/miniconda3/lib/python3.6/site-packages/IPython/core/interactiveshell.py:2698: DtypeWarning: Columns (0) have mixed types. Specify dtype option on import or set low_memory=False.\n",
      "  interactivity=interactivity, compiler=compiler, result=result)\n"
     ]
    }
   ],
   "source": [
    "df = pd.read_csv(r'Clean Data/lyrics.csv')\n",
    "audio = pd.read_csv(r'Clean Data/MP3_12057_nov20.csv')"
   ]
  },
  {
   "cell_type": "code",
   "execution_count": 65,
   "metadata": {},
   "outputs": [],
   "source": [
    "df['song_id'] = df['song_id'].apply(lambda x: int(x) if x != 'Not Found' else x)"
   ]
  },
  {
   "cell_type": "code",
   "execution_count": 68,
   "metadata": {},
   "outputs": [],
   "source": [
    "merged = audio.merge(df,on='song_id',how='left')"
   ]
  },
  {
   "cell_type": "code",
   "execution_count": 84,
   "metadata": {},
   "outputs": [],
   "source": [
    "verify_list = []\n",
    "for item in merged.iterrows():\n",
    "    response = request_song_info(int(item[1]['song_id']),Genius_Token)\n",
    "    if response.ok == True:\n",
    "        verify_list.append(response.json()['response']['song']['title'])\n",
    "    else:\n",
    "        verify_list.append(\"Not Found\")"
   ]
  },
  {
   "cell_type": "code",
   "execution_count": 118,
   "metadata": {},
   "outputs": [],
   "source": [
    "if len(verify_list) == len(merged):\n",
    "    merged['verified_title'] = verify_list\n"
   ]
  },
  {
   "cell_type": "code",
   "execution_count": 112,
   "metadata": {},
   "outputs": [],
   "source": [
    "merged['if_verified'] = merged.apply(lambda x: 1 if similar(x['TITLE'],x['verified_title']) >= 0.8 else 0 , axis = 1)"
   ]
  },
  {
   "cell_type": "code",
   "execution_count": 113,
   "metadata": {},
   "outputs": [
    {
     "data": {
      "text/plain": [
       "0    6486\n",
       "1    5571\n",
       "Name: if_verified, dtype: int64"
      ]
     },
     "execution_count": 113,
     "metadata": {},
     "output_type": "execute_result"
    }
   ],
   "source": [
    "merged['if_verified'].value_counts()"
   ]
  },
  {
   "cell_type": "code",
   "execution_count": 115,
   "metadata": {},
   "outputs": [],
   "source": [
    "verified_lyrics = merged[merged['if_verified'] == 1]"
   ]
  },
  {
   "cell_type": "code",
   "execution_count": 117,
   "metadata": {},
   "outputs": [],
   "source": [
    "verified_lyrics.to_csv(r'verified_lyrics.csv',index=False)"
   ]
  },
  {
   "cell_type": "code",
   "execution_count": null,
   "metadata": {
    "collapsed": true
   },
   "outputs": [],
   "source": []
  }
 ],
 "metadata": {
  "kernelspec": {
   "display_name": "Python 3",
   "language": "python",
   "name": "python3"
  },
  "language_info": {
   "codemirror_mode": {
    "name": "ipython",
    "version": 3
   },
   "file_extension": ".py",
   "mimetype": "text/x-python",
   "name": "python",
   "nbconvert_exporter": "python",
   "pygments_lexer": "ipython3",
   "version": "3.6.0"
  }
 },
 "nbformat": 4,
 "nbformat_minor": 2
}
