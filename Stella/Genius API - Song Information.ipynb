{
 "cells": [
  {
   "cell_type": "code",
   "execution_count": 1,
   "metadata": {
    "collapsed": true
   },
   "outputs": [],
   "source": [
    "import pandas as pd\n",
    "import requests\n",
    "import json\n",
    "import os\n",
    "from bs4 import BeautifulSoup\n",
    "import re\n",
    "import numpy as np\n",
    "from ast import literal_eval\n",
    "from queue import Queue\n",
    "from threading import Thread\n",
    "from requests.packages.urllib3.exceptions import InsecureRequestWarning\n",
    "requests.packages.urllib3.disable_warnings(InsecureRequestWarning)"
   ]
  },
  {
   "cell_type": "code",
   "execution_count": 2,
   "metadata": {
    "collapsed": true
   },
   "outputs": [],
   "source": [
    "json1_file = open(os.getcwd() + '/credentials.json')\n",
    "json1_str = json1_file.read()\n",
    "credential = json.loads(json1_str)\n",
    "Genius_Token = credential['Genius_API']['Access_Token']"
   ]
  },
  {
   "cell_type": "code",
   "execution_count": 3,
   "metadata": {},
   "outputs": [
    {
     "name": "stderr",
     "output_type": "stream",
     "text": [
      "/Users/Stella/miniconda3/lib/python3.6/site-packages/IPython/core/interactiveshell.py:2698: DtypeWarning: Columns (0) have mixed types. Specify dtype option on import or set low_memory=False.\n",
      "  interactivity=interactivity, compiler=compiler, result=result)\n"
     ]
    }
   ],
   "source": [
    "tracks_with_song_ids = pd.read_csv(r'song_id_no_duplicates.csv')"
   ]
  },
  {
   "cell_type": "code",
   "execution_count": 4,
   "metadata": {},
   "outputs": [
    {
     "data": {
      "text/plain": [
       "False"
      ]
     },
     "execution_count": 4,
     "metadata": {},
     "output_type": "execute_result"
    }
   ],
   "source": [
    "tracks_with_song_ids['song_id'].duplicated().any()"
   ]
  },
  {
   "cell_type": "code",
   "execution_count": 3,
   "metadata": {
    "collapsed": true
   },
   "outputs": [],
   "source": [
    "def request_song_info(song_id,Genius_Token):\n",
    "    base_url = 'https://api.genius.com'\n",
    "    headers = {'Authorization': 'Bearer ' + Genius_Token}\n",
    "    song_url = base_url + '/songs/' + str(song_id)\n",
    "    response = requests.get(song_url, headers = headers,verify=False)\n",
    "\n",
    "    return response"
   ]
  },
  {
   "cell_type": "code",
   "execution_count": 5,
   "metadata": {
    "collapsed": true
   },
   "outputs": [],
   "source": [
    "def save_song_info(song_id):\n",
    "    response = request_song_info(song_id,Genius_Token)\n",
    "    if response.ok == True:\n",
    "        song_info = response.json()\n",
    "        return song_info\n",
    "    else:\n",
    "        return \"Not Found\"\n",
    "        "
   ]
  },
  {
   "cell_type": "code",
   "execution_count": 6,
   "metadata": {
    "collapsed": true
   },
   "outputs": [],
   "source": [
    "def worker():\n",
    "    while True:\n",
    "        item = q.get()\n",
    "        if save_song_info(item[0]) is not None:\n",
    "            result.append([item[0],save_song_info(item[0])])\n",
    "            q.task_done()"
   ]
  },
  {
   "cell_type": "code",
   "execution_count": null,
   "metadata": {
    "collapsed": true
   },
   "outputs": [],
   "source": [
    "result = list()\n",
    "q = Queue()\n",
    "\n",
    "for i in range(8):\n",
    "    t = Thread(target=worker)\n",
    "    t.daemon = True\n",
    "    t.start()\n",
    "\n",
    "for item in tracks_with_song_ids.iterrows():\n",
    "    q.put([item[1]['song_id']])\n",
    "    \n",
    "q.join() \n",
    "\n"
   ]
  },
  {
   "cell_type": "code",
   "execution_count": null,
   "metadata": {
    "collapsed": true
   },
   "outputs": [],
   "source": [
    "df = pd.DataFrame(columns = {\"song_id\":[i[0] for i in result],\"song_info\":[i[1] for i in result]})\n",
    "df_dedupe = df[df['song_id'].duplicated() == False]\n",
    "df_dedupe.to_csv(r'Complete Song Info(Genius).csv',index = False)"
   ]
  },
  {
   "cell_type": "code",
   "execution_count": 26,
   "metadata": {
    "collapsed": true
   },
   "outputs": [],
   "source": [
    "def update_keys(line):\n",
    "    result = dict()\n",
    "    keep_attributes = ['recording_location','producer_artists','release_date','writer_artists']\n",
    "    for key in keep_attributes:\n",
    "        if key in line.keys():\n",
    "            result[key] = line[key]\n",
    "            \n",
    "    return result"
   ]
  },
  {
   "cell_type": "code",
   "execution_count": 39,
   "metadata": {
    "collapsed": true
   },
   "outputs": [],
   "source": [
    "df['song_info'] = df['song_info'].apply(lambda x: literal_eval(x) if len(x) != 0 else \"Not Found\")"
   ]
  },
  {
   "cell_type": "code",
   "execution_count": 40,
   "metadata": {
    "collapsed": true
   },
   "outputs": [],
   "source": [
    "df['update_info'] = df['song_info'].apply(lambda x: update_keys(x))"
   ]
  },
  {
   "cell_type": "code",
   "execution_count": 78,
   "metadata": {},
   "outputs": [
    {
     "data": {
      "text/plain": [
       "False"
      ]
     },
     "execution_count": 78,
     "metadata": {},
     "output_type": "execute_result"
    }
   ],
   "source": [
    "df['song_id'].duplicated().any()"
   ]
  },
  {
   "cell_type": "code",
   "execution_count": null,
   "metadata": {
    "collapsed": true
   },
   "outputs": [],
   "source": [
    "df.to_csv('update_info.csv',index = False)"
   ]
  },
  {
   "cell_type": "code",
   "execution_count": null,
   "metadata": {
    "collapsed": true
   },
   "outputs": [],
   "source": []
  },
  {
   "cell_type": "code",
   "execution_count": null,
   "metadata": {
    "collapsed": true
   },
   "outputs": [],
   "source": []
  }
 ],
 "metadata": {
  "kernelspec": {
   "display_name": "Python 3",
   "language": "python",
   "name": "python3"
  },
  "language_info": {
   "codemirror_mode": {
    "name": "ipython",
    "version": 3
   },
   "file_extension": ".py",
   "mimetype": "text/x-python",
   "name": "python",
   "nbconvert_exporter": "python",
   "pygments_lexer": "ipython3",
   "version": "3.6.0"
  }
 },
 "nbformat": 4,
 "nbformat_minor": 2
}
