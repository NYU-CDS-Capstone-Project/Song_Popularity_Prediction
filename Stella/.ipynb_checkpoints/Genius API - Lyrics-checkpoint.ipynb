{
 "cells": [
  {
   "cell_type": "code",
   "execution_count": 1,
   "metadata": {
    "collapsed": true
   },
   "outputs": [],
   "source": [
    "import pandas as pd\n",
    "import requests\n",
    "import json\n",
    "import os\n",
    "from bs4 import BeautifulSoup\n",
    "import re\n",
    "import numpy as np\n",
    "from queue import Queue\n",
    "from threading import Thread\n",
    "from requests.packages.urllib3.exceptions import InsecureRequestWarning\n",
    "requests.packages.urllib3.disable_warnings(InsecureRequestWarning)"
   ]
  },
  {
   "cell_type": "code",
   "execution_count": 2,
   "metadata": {
    "collapsed": true
   },
   "outputs": [],
   "source": [
    "json1_file = open(os.getcwd() + '/credentials.json')\n",
    "json1_str = json1_file.read()\n",
    "credential = json.loads(json1_str)\n",
    "Genius_Token = credential['Genius_API']['Access_Token']"
   ]
  },
  {
   "cell_type": "code",
   "execution_count": 3,
   "metadata": {
    "collapsed": true
   },
   "outputs": [],
   "source": [
    "def request_song_info(song_id,Genius_Token):\n",
    "    base_url = 'https://api.genius.com'\n",
    "    headers = {'Authorization': 'Bearer ' + Genius_Token}\n",
    "    song_url = base_url + '/songs/' + str(song_id)\n",
    "    response = requests.get(song_url, headers = headers)\n",
    "\n",
    "    return response"
   ]
  },
  {
   "cell_type": "code",
   "execution_count": 4,
   "metadata": {
    "collapsed": true
   },
   "outputs": [],
   "source": [
    "def get_song_id(ix,song_title,artist_title,Genius_Token):\n",
    "    \n",
    "    base_url = 'https://api.genius.com'\n",
    "    headers = {'Authorization': 'Bearer ' + Genius_Token}\n",
    "    search_url = base_url + '/search'\n",
    "    data = {'q': str(song_title) + ' ' + str(artist_title)}\n",
    "    response = requests.get(search_url, data = data, headers=headers)\n",
    "\n",
    "    if response.ok == True:\n",
    "        song_info = response.json()\n",
    "        if len(song_info['response']['hits']) != 0:\n",
    "            song_id = song_info['response']['hits'][0]['result']['id']\n",
    "\n",
    "        else:\n",
    "            song_id = 'Not Found'\n",
    "        return (ix,song_id)\n",
    "    else:\n",
    "        return \"Response Error!\"\n",
    "    "
   ]
  },
  {
   "cell_type": "code",
   "execution_count": 5,
   "metadata": {
    "collapsed": true
   },
   "outputs": [],
   "source": [
    "def is_legal_string(test_string):\n",
    "    legal_characters = r'\\w+$'\n",
    "    r = re.compile(legal_characters)\n",
    "    \n",
    "    if re.match(r, test_string):\n",
    "        return 1\n",
    "    else:\n",
    "        return 0"
   ]
  },
  {
   "cell_type": "code",
   "execution_count": 6,
   "metadata": {
    "collapsed": true
   },
   "outputs": [],
   "source": [
    "def scrap_song_url(url):\n",
    "    page = requests.get(url)\n",
    "    html = BeautifulSoup(page.text, 'html.parser')\n",
    "    if html.find('div', class_='lyrics') is None:\n",
    "        lyrics = \"Not Found\"\n",
    "    else:\n",
    "        lyrics = html.find('div', class_='lyrics').get_text()\n",
    "\n",
    "    return lyrics"
   ]
  },
  {
   "cell_type": "code",
   "execution_count": 7,
   "metadata": {
    "collapsed": true
   },
   "outputs": [],
   "source": [
    "def get_lyrics(song_id):\n",
    "    response = request_song_info(song_id,Genius_Token)\n",
    "    if response.ok == True:\n",
    "        info = response.json()\n",
    "        if info['response']['song']['url'] is not None:\n",
    "            song_url = info['response']['song']['url']\n",
    "            lyrics = scrap_song_url(song_url)\n",
    "    else:\n",
    "        return \"Response Error!\"\n",
    "    \n",
    "    \n",
    "    return lyrics"
   ]
  },
  {
   "cell_type": "code",
   "execution_count": 10,
   "metadata": {
    "collapsed": true
   },
   "outputs": [],
   "source": [
    "def id_worker():\n",
    "    while True:\n",
    "        item = q.get()\n",
    "        if len(get_lyrics(item[0])) != 0:\n",
    "            song_id_result.append([item[0],get_lyrics(item[0])])\n",
    "            q.task_done()\n",
    "        else:\n",
    "            False"
   ]
  },
  {
   "cell_type": "code",
   "execution_count": 10,
   "metadata": {
    "collapsed": true
   },
   "outputs": [],
   "source": [
    "tracks = pd.read_csv(r'Clean Data/track_with_artists.csv')"
   ]
  },
  {
   "cell_type": "code",
   "execution_count": 114,
   "metadata": {
    "collapsed": true
   },
   "outputs": [],
   "source": [
    "song_id_result = list()\n",
    "q = Queue()\n",
    "\n",
    "for i in range(8):\n",
    "    t = Thread(target=id_worker)\n",
    "    t.daemon = True\n",
    "    t.start()\n",
    "\n",
    "for item in tracks.iterrows():\n",
    "    q.put((item[0],item[1]['TITLE'],item[1]['ARTIST']))\n",
    "\n",
    "q.join() "
   ]
  },
  {
   "cell_type": "code",
   "execution_count": 139,
   "metadata": {
    "collapsed": true
   },
   "outputs": [],
   "source": [
    "song_id_result = pd.DataFrame({'ix':[i[0] for i in result],'song_id':[i[1] for i in result]})\n",
    "tracks_with_song_ids = pd.merge(result,tracks,left_on = 'ix',right_index = True, how = 'inner').drop('ix',axis = 1)"
   ]
  },
  {
   "cell_type": "code",
   "execution_count": 141,
   "metadata": {
    "collapsed": true
   },
   "outputs": [],
   "source": [
    "tracks_with_song_ids.to_csv(r'tracks_with_song_ids.csv',index = False)"
   ]
  },
  {
   "cell_type": "code",
   "execution_count": 164,
   "metadata": {
    "collapsed": true
   },
   "outputs": [],
   "source": [
    "song_id_no_duplicates = tracks_with_song_ids[tracks_with_song_ids['song_id'].duplicated() == False]\n",
    "#song_id_no_duplicates.to_csv('Clean Data/song_id_no_duplicates.csv',index = False)"
   ]
  },
  {
   "cell_type": "code",
   "execution_count": 165,
   "metadata": {
    "collapsed": true
   },
   "outputs": [],
   "source": [
    "song_id_duplicates = tracks_with_song_ids[tracks_with_song_ids['song_id'].duplicated() == True]\n",
    "#song_id_duplicates.to_csv('Clean Data/song_id_duplicates.csv',index = False)"
   ]
  },
  {
   "cell_type": "code",
   "execution_count": 10,
   "metadata": {},
   "outputs": [
    {
     "name": "stdout",
     "output_type": "stream",
     "text": [
      "unique song_ids found:286110\n"
     ]
    }
   ],
   "source": [
    "print(\"unique song_ids found:{}\".format(len(song_id_no_duplicates)))"
   ]
  },
  {
   "cell_type": "code",
   "execution_count": 22,
   "metadata": {
    "collapsed": true
   },
   "outputs": [],
   "source": [
    "chunk1,chunk2,chunk3,chunk4,chunk5,chunk6,chunk7,chunk8,chunk9,chunk10 = np.array_split(song_id_no_duplicates, 10)\n",
    "chunk_list = [chunk1,chunk2,chunk3,chunk4,chunk5,chunk6,chunk7,chunk8,chunk9,chunk10]"
   ]
  },
  {
   "cell_type": "code",
   "execution_count": 11,
   "metadata": {
    "collapsed": true
   },
   "outputs": [],
   "source": [
    "def lyrics_worker():\n",
    "    while True:\n",
    "        item = q.get()\n",
    "        if len(get_lyrics(item[0])) != 0:\n",
    "            result.append([item[0],get_lyrics(item[0])])\n",
    "            q.task_done()\n",
    "        else:\n",
    "            False"
   ]
  },
  {
   "cell_type": "code",
   "execution_count": null,
   "metadata": {
    "collapsed": true,
    "scrolled": true
   },
   "outputs": [],
   "source": [
    "lyrics_df = pd.DataFrame()\n",
    "for chunk in chunk_list:\n",
    "    result = list()\n",
    "    q = Queue()\n",
    "    for i in range(16):\n",
    "        t = Thread(target=lyrics_worker)\n",
    "        t.daemon = True\n",
    "        t.start()\n",
    "\n",
    "    for item in remain_song_id.iterrows():\n",
    "        q.put([item[1]['song_id']])\n",
    "\n",
    "    q.join() \n",
    "    \n",
    "    df = pd.DataFrame({'song_id':[i[0] for i in result],'lyrics':[i[1] for i in result]})\n",
    "    lyrics_df = lyrics_df.append(df,ignore_index = True)\n",
    "    df.to_csv(r'Lyrics/{}_lyrics.csv'.format(chunk),index = False)"
   ]
  },
  {
   "cell_type": "code",
   "execution_count": 82,
   "metadata": {
    "collapsed": true
   },
   "outputs": [],
   "source": [
    "# lyrics_folder = os.getcwd() + '/Lyrics'\n",
    "# lyrics_df = pd.DataFrame()\n",
    "# for f in os.listdir(lyrics_folder):\n",
    "#     if f.split('.')[1] == 'csv':\n",
    "#         df = pd.read_csv(lyrics_folder + '/' + f)\n",
    "#         lyrics_df = lyrics_df.append(df,ignore_index = True)"
   ]
  },
  {
   "cell_type": "code",
   "execution_count": 114,
   "metadata": {
    "collapsed": true
   },
   "outputs": [],
   "source": [
    "lyrics_df_dedupe = lyrics_df[lyrics_df['song_id'].duplicated() == False]"
   ]
  },
  {
   "cell_type": "code",
   "execution_count": 122,
   "metadata": {
    "collapsed": true
   },
   "outputs": [],
   "source": [
    "lyrics_df_dedupe.to_csv('lyrics_deduped.csv',index = False)"
   ]
  },
  {
   "cell_type": "code",
   "execution_count": 131,
   "metadata": {},
   "outputs": [
    {
     "data": {
      "text/plain": [
       "(231786, 2)"
      ]
     },
     "execution_count": 131,
     "metadata": {},
     "output_type": "execute_result"
    }
   ],
   "source": [
    "lyrics_df_dedupe.shape"
   ]
  },
  {
   "cell_type": "code",
   "execution_count": 124,
   "metadata": {
    "collapsed": true
   },
   "outputs": [],
   "source": [
    "remain_song_id = song_id_no_duplicates[~song_id_no_duplicates['song_id'].isin(list(lyrics_df_dedupe['song_id']))]"
   ]
  },
  {
   "cell_type": "code",
   "execution_count": 136,
   "metadata": {
    "collapsed": true
   },
   "outputs": [],
   "source": [
    "remain_song_id = remain_song_id[remain_song_id['song_id'].duplicated() == False]"
   ]
  },
  {
   "cell_type": "code",
   "execution_count": 145,
   "metadata": {
    "collapsed": true
   },
   "outputs": [],
   "source": [
    "remain_song_id.to_csv('song_id_left.csv',index = False)"
   ]
  },
  {
   "cell_type": "code",
   "execution_count": null,
   "metadata": {
    "collapsed": true
   },
   "outputs": [],
   "source": []
  }
 ],
 "metadata": {
  "kernelspec": {
   "display_name": "Python 3",
   "language": "python",
   "name": "python3"
  },
  "language_info": {
   "codemirror_mode": {
    "name": "ipython",
    "version": 3
   },
   "file_extension": ".py",
   "mimetype": "text/x-python",
   "name": "python",
   "nbconvert_exporter": "python",
   "pygments_lexer": "ipython3",
   "version": "3.6.0"
  }
 },
 "nbformat": 4,
 "nbformat_minor": 2
}
