{
 "cells": [
  {
   "cell_type": "code",
   "execution_count": 1,
   "metadata": {
    "collapsed": true
   },
   "outputs": [],
   "source": [
    "import pandas as pd\n",
    "import os\n",
    "import matplotlib.pyplot as plt\n",
    "import seaborn as sns\n",
    "%matplotlib inline"
   ]
  },
  {
   "cell_type": "code",
   "execution_count": 2,
   "metadata": {
    "collapsed": true
   },
   "outputs": [],
   "source": [
    "file_path = os.getcwd()+ '/Raw Data/'"
   ]
  },
  {
   "cell_type": "markdown",
   "metadata": {},
   "source": [
    "    Read all raw files"
   ]
  },
  {
   "cell_type": "code",
   "execution_count": 3,
   "metadata": {
    "collapsed": true
   },
   "outputs": [],
   "source": [
    "W = pd.ExcelFile(file_path + 'a_level_artists.xlsx')\n",
    "artists = W.parse('full_result_188795846')"
   ]
  },
  {
   "cell_type": "code",
   "execution_count": 4,
   "metadata": {},
   "outputs": [
    {
     "data": {
      "text/plain": [
       "Index(['artist_id', 'artist_name', 'number_of_tracks', 'number_of_albums',\n",
       "       'number_of_playlists', 'playlist_followers', 'highest_song_popularity',\n",
       "       'average_song_popularity', 'A_Level_Artist?', 'B_Level Artist?'],\n",
       "      dtype='object')"
      ]
     },
     "execution_count": 4,
     "metadata": {},
     "output_type": "execute_result"
    }
   ],
   "source": [
    "artists.columns"
   ]
  },
  {
   "cell_type": "code",
   "execution_count": 4,
   "metadata": {
    "collapsed": true
   },
   "outputs": [],
   "source": [
    "A_artists = artists[artists['A_Level_Artist?'] == 1]"
   ]
  },
  {
   "cell_type": "code",
   "execution_count": 6,
   "metadata": {},
   "outputs": [
    {
     "data": {
      "text/html": [
       "<div>\n",
       "<table border=\"1\" class=\"dataframe\">\n",
       "  <thead>\n",
       "    <tr style=\"text-align: right;\">\n",
       "      <th></th>\n",
       "      <th>artist_id</th>\n",
       "      <th>artist_name</th>\n",
       "      <th>number_of_tracks</th>\n",
       "      <th>number_of_albums</th>\n",
       "      <th>number_of_playlists</th>\n",
       "      <th>playlist_followers</th>\n",
       "      <th>highest_song_popularity</th>\n",
       "      <th>average_song_popularity</th>\n",
       "      <th>A_Level_Artist?</th>\n",
       "      <th>B_Level Artist?</th>\n",
       "    </tr>\n",
       "  </thead>\n",
       "  <tbody>\n",
       "    <tr>\n",
       "      <th>0</th>\n",
       "      <td>3TVXtAsR1Inumwj472S9r4</td>\n",
       "      <td>Drake</td>\n",
       "      <td>263</td>\n",
       "      <td>255</td>\n",
       "      <td>39875</td>\n",
       "      <td>710070329</td>\n",
       "      <td>100</td>\n",
       "      <td>55.859119</td>\n",
       "      <td>1</td>\n",
       "      <td>0</td>\n",
       "    </tr>\n",
       "    <tr>\n",
       "      <th>4</th>\n",
       "      <td>0Y5tJX1MQlPlqiwlOH1tJY</td>\n",
       "      <td>Travis Scott</td>\n",
       "      <td>122</td>\n",
       "      <td>107</td>\n",
       "      <td>16642</td>\n",
       "      <td>299194507</td>\n",
       "      <td>97</td>\n",
       "      <td>68.611220</td>\n",
       "      <td>1</td>\n",
       "      <td>0</td>\n",
       "    </tr>\n",
       "    <tr>\n",
       "      <th>10</th>\n",
       "      <td>1vyhD5VmyZ7KMfW5gqLgo5</td>\n",
       "      <td>J Balvin</td>\n",
       "      <td>142</td>\n",
       "      <td>134</td>\n",
       "      <td>16011</td>\n",
       "      <td>327344171</td>\n",
       "      <td>96</td>\n",
       "      <td>60.313959</td>\n",
       "      <td>1</td>\n",
       "      <td>0</td>\n",
       "    </tr>\n",
       "    <tr>\n",
       "      <th>19</th>\n",
       "      <td>53XhwfbYqKCa1cC15pYq2q</td>\n",
       "      <td>Imagine Dragons</td>\n",
       "      <td>96</td>\n",
       "      <td>103</td>\n",
       "      <td>17862</td>\n",
       "      <td>320824561</td>\n",
       "      <td>94</td>\n",
       "      <td>46.249152</td>\n",
       "      <td>1</td>\n",
       "      <td>0</td>\n",
       "    </tr>\n",
       "    <tr>\n",
       "      <th>20</th>\n",
       "      <td>66CXWjxzNUsdJxJ2JdwvnR</td>\n",
       "      <td>Ariana Grande</td>\n",
       "      <td>90</td>\n",
       "      <td>111</td>\n",
       "      <td>16909</td>\n",
       "      <td>299851278</td>\n",
       "      <td>94</td>\n",
       "      <td>56.758209</td>\n",
       "      <td>1</td>\n",
       "      <td>0</td>\n",
       "    </tr>\n",
       "    <tr>\n",
       "      <th>21</th>\n",
       "      <td>6M2wZ9GZgrQXHCFfjv46we</td>\n",
       "      <td>Dua Lipa</td>\n",
       "      <td>53</td>\n",
       "      <td>63</td>\n",
       "      <td>13891</td>\n",
       "      <td>239489536</td>\n",
       "      <td>94</td>\n",
       "      <td>75.759802</td>\n",
       "      <td>1</td>\n",
       "      <td>0</td>\n",
       "    </tr>\n",
       "    <tr>\n",
       "      <th>23</th>\n",
       "      <td>7dGJo4pcD2V6oG8kP0tJRR</td>\n",
       "      <td>Eminem</td>\n",
       "      <td>323</td>\n",
       "      <td>218</td>\n",
       "      <td>17834</td>\n",
       "      <td>272021225</td>\n",
       "      <td>93</td>\n",
       "      <td>51.362384</td>\n",
       "      <td>1</td>\n",
       "      <td>0</td>\n",
       "    </tr>\n",
       "    <tr>\n",
       "      <th>34</th>\n",
       "      <td>1r4hJ1h58CWwUQe3MxPuau</td>\n",
       "      <td>Maluma</td>\n",
       "      <td>154</td>\n",
       "      <td>148</td>\n",
       "      <td>13455</td>\n",
       "      <td>354259729</td>\n",
       "      <td>91</td>\n",
       "      <td>56.624961</td>\n",
       "      <td>1</td>\n",
       "      <td>0</td>\n",
       "    </tr>\n",
       "    <tr>\n",
       "      <th>46</th>\n",
       "      <td>3fMbdgg4jU18AjLCKBhRSm</td>\n",
       "      <td>Michael Jackson</td>\n",
       "      <td>389</td>\n",
       "      <td>245</td>\n",
       "      <td>13343</td>\n",
       "      <td>218339308</td>\n",
       "      <td>89</td>\n",
       "      <td>54.587846</td>\n",
       "      <td>1</td>\n",
       "      <td>0</td>\n",
       "    </tr>\n",
       "    <tr>\n",
       "      <th>50</th>\n",
       "      <td>6eUKZXaKkcviH0Ku9w2n3V</td>\n",
       "      <td>Ed Sheeran</td>\n",
       "      <td>168</td>\n",
       "      <td>143</td>\n",
       "      <td>29212</td>\n",
       "      <td>462977981</td>\n",
       "      <td>89</td>\n",
       "      <td>70.555718</td>\n",
       "      <td>1</td>\n",
       "      <td>0</td>\n",
       "    </tr>\n",
       "    <tr>\n",
       "      <th>58</th>\n",
       "      <td>0hCNtLu0JehylgoiP8L4Gh</td>\n",
       "      <td>Nicki Minaj</td>\n",
       "      <td>279</td>\n",
       "      <td>347</td>\n",
       "      <td>26391</td>\n",
       "      <td>247279912</td>\n",
       "      <td>88</td>\n",
       "      <td>50.480615</td>\n",
       "      <td>1</td>\n",
       "      <td>0</td>\n",
       "    </tr>\n",
       "    <tr>\n",
       "      <th>81</th>\n",
       "      <td>2YZyLoL8N0Wb9xBt1NhZWg</td>\n",
       "      <td>Kendrick Lamar</td>\n",
       "      <td>271</td>\n",
       "      <td>207</td>\n",
       "      <td>25364</td>\n",
       "      <td>200140262</td>\n",
       "      <td>86</td>\n",
       "      <td>51.816929</td>\n",
       "      <td>1</td>\n",
       "      <td>0</td>\n",
       "    </tr>\n",
       "    <tr>\n",
       "      <th>82</th>\n",
       "      <td>6vWDO969PvNqNYHIOW5v0m</td>\n",
       "      <td>BeyoncÃ©</td>\n",
       "      <td>238</td>\n",
       "      <td>175</td>\n",
       "      <td>21596</td>\n",
       "      <td>200043788</td>\n",
       "      <td>86</td>\n",
       "      <td>60.715779</td>\n",
       "      <td>1</td>\n",
       "      <td>0</td>\n",
       "    </tr>\n",
       "    <tr>\n",
       "      <th>93</th>\n",
       "      <td>4gzpq5DPGxSnKTe4SA8HAU</td>\n",
       "      <td>Coldplay</td>\n",
       "      <td>226</td>\n",
       "      <td>209</td>\n",
       "      <td>23831</td>\n",
       "      <td>232834552</td>\n",
       "      <td>85</td>\n",
       "      <td>69.092471</td>\n",
       "      <td>1</td>\n",
       "      <td>0</td>\n",
       "    </tr>\n",
       "    <tr>\n",
       "      <th>102</th>\n",
       "      <td>0du5cEVh5yTK9QJze8zA0C</td>\n",
       "      <td>Bruno Mars</td>\n",
       "      <td>91</td>\n",
       "      <td>172</td>\n",
       "      <td>25533</td>\n",
       "      <td>219021214</td>\n",
       "      <td>85</td>\n",
       "      <td>71.127018</td>\n",
       "      <td>1</td>\n",
       "      <td>0</td>\n",
       "    </tr>\n",
       "    <tr>\n",
       "      <th>155</th>\n",
       "      <td>1uNFoZAHBGtllmzznpCI3s</td>\n",
       "      <td>Justin Bieber</td>\n",
       "      <td>133</td>\n",
       "      <td>181</td>\n",
       "      <td>30268</td>\n",
       "      <td>221766692</td>\n",
       "      <td>83</td>\n",
       "      <td>52.530113</td>\n",
       "      <td>1</td>\n",
       "      <td>0</td>\n",
       "    </tr>\n",
       "    <tr>\n",
       "      <th>219</th>\n",
       "      <td>5pKCCKE2ajJHZ9KAiaK11H</td>\n",
       "      <td>Rihanna</td>\n",
       "      <td>233</td>\n",
       "      <td>304</td>\n",
       "      <td>34633</td>\n",
       "      <td>222322529</td>\n",
       "      <td>81</td>\n",
       "      <td>51.488217</td>\n",
       "      <td>1</td>\n",
       "      <td>0</td>\n",
       "    </tr>\n",
       "    <tr>\n",
       "      <th>263</th>\n",
       "      <td>55Aa2cqylxrFIXC767Z865</td>\n",
       "      <td>Lil Wayne</td>\n",
       "      <td>750</td>\n",
       "      <td>570</td>\n",
       "      <td>22729</td>\n",
       "      <td>234637745</td>\n",
       "      <td>80</td>\n",
       "      <td>46.047163</td>\n",
       "      <td>1</td>\n",
       "      <td>0</td>\n",
       "    </tr>\n",
       "  </tbody>\n",
       "</table>\n",
       "</div>"
      ],
      "text/plain": [
       "                  artist_id      artist_name  number_of_tracks  \\\n",
       "0    3TVXtAsR1Inumwj472S9r4            Drake               263   \n",
       "4    0Y5tJX1MQlPlqiwlOH1tJY     Travis Scott               122   \n",
       "10   1vyhD5VmyZ7KMfW5gqLgo5         J Balvin               142   \n",
       "19   53XhwfbYqKCa1cC15pYq2q  Imagine Dragons                96   \n",
       "20   66CXWjxzNUsdJxJ2JdwvnR    Ariana Grande                90   \n",
       "21   6M2wZ9GZgrQXHCFfjv46we         Dua Lipa                53   \n",
       "23   7dGJo4pcD2V6oG8kP0tJRR           Eminem               323   \n",
       "34   1r4hJ1h58CWwUQe3MxPuau           Maluma               154   \n",
       "46   3fMbdgg4jU18AjLCKBhRSm  Michael Jackson               389   \n",
       "50   6eUKZXaKkcviH0Ku9w2n3V       Ed Sheeran               168   \n",
       "58   0hCNtLu0JehylgoiP8L4Gh      Nicki Minaj               279   \n",
       "81   2YZyLoL8N0Wb9xBt1NhZWg   Kendrick Lamar               271   \n",
       "82   6vWDO969PvNqNYHIOW5v0m         BeyoncÃ©               238   \n",
       "93   4gzpq5DPGxSnKTe4SA8HAU         Coldplay               226   \n",
       "102  0du5cEVh5yTK9QJze8zA0C       Bruno Mars                91   \n",
       "155  1uNFoZAHBGtllmzznpCI3s    Justin Bieber               133   \n",
       "219  5pKCCKE2ajJHZ9KAiaK11H          Rihanna               233   \n",
       "263  55Aa2cqylxrFIXC767Z865        Lil Wayne               750   \n",
       "\n",
       "     number_of_albums  number_of_playlists  playlist_followers  \\\n",
       "0                 255                39875           710070329   \n",
       "4                 107                16642           299194507   \n",
       "10                134                16011           327344171   \n",
       "19                103                17862           320824561   \n",
       "20                111                16909           299851278   \n",
       "21                 63                13891           239489536   \n",
       "23                218                17834           272021225   \n",
       "34                148                13455           354259729   \n",
       "46                245                13343           218339308   \n",
       "50                143                29212           462977981   \n",
       "58                347                26391           247279912   \n",
       "81                207                25364           200140262   \n",
       "82                175                21596           200043788   \n",
       "93                209                23831           232834552   \n",
       "102               172                25533           219021214   \n",
       "155               181                30268           221766692   \n",
       "219               304                34633           222322529   \n",
       "263               570                22729           234637745   \n",
       "\n",
       "     highest_song_popularity  average_song_popularity  A_Level_Artist?  \\\n",
       "0                        100                55.859119                1   \n",
       "4                         97                68.611220                1   \n",
       "10                        96                60.313959                1   \n",
       "19                        94                46.249152                1   \n",
       "20                        94                56.758209                1   \n",
       "21                        94                75.759802                1   \n",
       "23                        93                51.362384                1   \n",
       "34                        91                56.624961                1   \n",
       "46                        89                54.587846                1   \n",
       "50                        89                70.555718                1   \n",
       "58                        88                50.480615                1   \n",
       "81                        86                51.816929                1   \n",
       "82                        86                60.715779                1   \n",
       "93                        85                69.092471                1   \n",
       "102                       85                71.127018                1   \n",
       "155                       83                52.530113                1   \n",
       "219                       81                51.488217                1   \n",
       "263                       80                46.047163                1   \n",
       "\n",
       "     B_Level Artist?  \n",
       "0                  0  \n",
       "4                  0  \n",
       "10                 0  \n",
       "19                 0  \n",
       "20                 0  \n",
       "21                 0  \n",
       "23                 0  \n",
       "34                 0  \n",
       "46                 0  \n",
       "50                 0  \n",
       "58                 0  \n",
       "81                 0  \n",
       "82                 0  \n",
       "93                 0  \n",
       "102                0  \n",
       "155                0  \n",
       "219                0  \n",
       "263                0  "
      ]
     },
     "execution_count": 6,
     "metadata": {},
     "output_type": "execute_result"
    }
   ],
   "source": [
    "A_artists"
   ]
  },
  {
   "cell_type": "code",
   "execution_count": 114,
   "metadata": {},
   "outputs": [
    {
     "name": "stderr",
     "output_type": "stream",
     "text": [
      "/Users/Stella/miniconda3/lib/python3.6/site-packages/IPython/core/interactiveshell.py:2698: DtypeWarning: Columns (2) have mixed types. Specify dtype option on import or set low_memory=False.\n",
      "  interactivity=interactivity, compiler=compiler, result=result)\n"
     ]
    }
   ],
   "source": [
    "popularity_score = pd.read_csv(file_path + '/max popularity by track.csv')"
   ]
  },
  {
   "cell_type": "code",
   "execution_count": 8,
   "metadata": {},
   "outputs": [
    {
     "data": {
      "text/html": [
       "<div>\n",
       "<table border=\"1\" class=\"dataframe\">\n",
       "  <thead>\n",
       "    <tr style=\"text-align: right;\">\n",
       "      <th></th>\n",
       "      <th>track_id</th>\n",
       "      <th>track_external_id</th>\n",
       "      <th>max_popularity</th>\n",
       "    </tr>\n",
       "  </thead>\n",
       "  <tbody>\n",
       "    <tr>\n",
       "      <th>0</th>\n",
       "      <td>3iI3pi9bAFrDW74UxyzMJ0</td>\n",
       "      <td>DEC611100411</td>\n",
       "      <td>30</td>\n",
       "    </tr>\n",
       "    <tr>\n",
       "      <th>1</th>\n",
       "      <td>7FPXqN2DDiG5JASUjEi8Ua</td>\n",
       "      <td>ARG991022790</td>\n",
       "      <td>13</td>\n",
       "    </tr>\n",
       "    <tr>\n",
       "      <th>2</th>\n",
       "      <td>1SHeg1buNhS90Uak8gsx9A</td>\n",
       "      <td>ARW251100615</td>\n",
       "      <td>27</td>\n",
       "    </tr>\n",
       "    <tr>\n",
       "      <th>3</th>\n",
       "      <td>6b5rCLd1UslE8cU1pfk4d0</td>\n",
       "      <td>ATN261562301</td>\n",
       "      <td>39</td>\n",
       "    </tr>\n",
       "    <tr>\n",
       "      <th>4</th>\n",
       "      <td>3Q85163sbHgeXmnQUCbkQk</td>\n",
       "      <td>BEB018070417</td>\n",
       "      <td>5</td>\n",
       "    </tr>\n",
       "  </tbody>\n",
       "</table>\n",
       "</div>"
      ],
      "text/plain": [
       "                 track_id track_external_id max_popularity\n",
       "0  3iI3pi9bAFrDW74UxyzMJ0      DEC611100411             30\n",
       "1  7FPXqN2DDiG5JASUjEi8Ua      ARG991022790             13\n",
       "2  1SHeg1buNhS90Uak8gsx9A      ARW251100615             27\n",
       "3  6b5rCLd1UslE8cU1pfk4d0      ATN261562301             39\n",
       "4  3Q85163sbHgeXmnQUCbkQk      BEB018070417              5"
      ]
     },
     "execution_count": 8,
     "metadata": {},
     "output_type": "execute_result"
    }
   ],
   "source": [
    "popularity_score.head()"
   ]
  },
  {
   "cell_type": "code",
   "execution_count": 9,
   "metadata": {
    "collapsed": true
   },
   "outputs": [],
   "source": [
    "W = pd.ExcelFile(file_path + 'spotify_competitor_tracks-updated_sep14.xlsx')\n",
    "audio_feature = W.parse('spotify_competitor_tracks')"
   ]
  },
  {
   "cell_type": "code",
   "execution_count": 21,
   "metadata": {},
   "outputs": [
    {
     "data": {
      "text/plain": [
       "(616631, 19)"
      ]
     },
     "execution_count": 21,
     "metadata": {},
     "output_type": "execute_result"
    }
   ],
   "source": [
    "audio_feature.shape"
   ]
  },
  {
   "cell_type": "code",
   "execution_count": 23,
   "metadata": {
    "collapsed": true
   },
   "outputs": [],
   "source": [
    "audio_feature = audio_feature.drop_duplicates()"
   ]
  },
  {
   "cell_type": "code",
   "execution_count": 40,
   "metadata": {},
   "outputs": [
    {
     "data": {
      "text/plain": [
       "(616580, 19)"
      ]
     },
     "execution_count": 40,
     "metadata": {},
     "output_type": "execute_result"
    }
   ],
   "source": [
    "audio_feature.shape"
   ]
  },
  {
   "cell_type": "code",
   "execution_count": 46,
   "metadata": {
    "collapsed": true
   },
   "outputs": [],
   "source": [
    "audio_feature_dedup = audio_feature[audio_feature['ISRC'].duplicated() == False]"
   ]
  },
  {
   "cell_type": "code",
   "execution_count": 47,
   "metadata": {},
   "outputs": [
    {
     "data": {
      "text/plain": [
       "(616566, 19)"
      ]
     },
     "execution_count": 47,
     "metadata": {},
     "output_type": "execute_result"
    }
   ],
   "source": [
    "audio_feature_dedup.shape"
   ]
  },
  {
   "cell_type": "code",
   "execution_count": 50,
   "metadata": {
    "collapsed": true
   },
   "outputs": [],
   "source": [
    "audio_feature_dedup.to_csv(r'Clean Data/audio_features.csv')"
   ]
  },
  {
   "cell_type": "markdown",
   "metadata": {
    "collapsed": true
   },
   "source": [
    "    Merge tracks with artists"
   ]
  },
  {
   "cell_type": "code",
   "execution_count": 52,
   "metadata": {},
   "outputs": [
    {
     "data": {
      "text/plain": [
       "False"
      ]
     },
     "execution_count": 52,
     "metadata": {},
     "output_type": "execute_result"
    }
   ],
   "source": [
    "A_artists['artist_name'].duplicated().any()"
   ]
  },
  {
   "cell_type": "code",
   "execution_count": 56,
   "metadata": {
    "collapsed": true
   },
   "outputs": [],
   "source": [
    "A_artists_songs = audio_feature_dedup[['ISRC','SPOTIFY_ID','TITLE','ARTIST']].merge(A_artists[['artist_name']],left_on = ['ARTIST'],right_on='artist_name',how = 'inner').drop(['artist_name'],axis = 1)"
   ]
  },
  {
   "cell_type": "code",
   "execution_count": 57,
   "metadata": {
    "collapsed": true
   },
   "outputs": [],
   "source": [
    "full_tracks = audio_feature_dedup[~audio_feature_dedup['ISRC'].isin(A_artists_songs['ISRC'])]"
   ]
  },
  {
   "cell_type": "code",
   "execution_count": 60,
   "metadata": {},
   "outputs": [
    {
     "data": {
      "text/html": [
       "<div>\n",
       "<table border=\"1\" class=\"dataframe\">\n",
       "  <thead>\n",
       "    <tr style=\"text-align: right;\">\n",
       "      <th></th>\n",
       "      <th>ISRC</th>\n",
       "      <th>SPOTIFY_ID</th>\n",
       "      <th>TITLE</th>\n",
       "      <th>ARTIST</th>\n",
       "      <th>TEMPO</th>\n",
       "      <th>ENERGY</th>\n",
       "      <th>DANCE</th>\n",
       "      <th>LOUD</th>\n",
       "      <th>VALENCE</th>\n",
       "      <th>ACOUSTIC</th>\n",
       "      <th>SPEECHINESS</th>\n",
       "      <th>INSTRUMENTALNESS</th>\n",
       "      <th>KEY</th>\n",
       "      <th>LIVENESS</th>\n",
       "      <th>TIME_SIGNATURE</th>\n",
       "      <th>MODE</th>\n",
       "      <th>POP</th>\n",
       "      <th>Seconds</th>\n",
       "      <th>Lean-Back</th>\n",
       "    </tr>\n",
       "  </thead>\n",
       "  <tbody>\n",
       "    <tr>\n",
       "      <th>1</th>\n",
       "      <td>USUM71710097</td>\n",
       "      <td>29VZKgZvAjFRxxBnctjqOn</td>\n",
       "      <td>rockstar</td>\n",
       "      <td>Post Malone</td>\n",
       "      <td>159.706</td>\n",
       "      <td>0.503</td>\n",
       "      <td>0.552</td>\n",
       "      <td>-6.759</td>\n",
       "      <td>0.141</td>\n",
       "      <td>0.138</td>\n",
       "      <td>0.1450</td>\n",
       "      <td>0.000555</td>\n",
       "      <td>5</td>\n",
       "      <td>0.1430</td>\n",
       "      <td>4</td>\n",
       "      <td>0</td>\n",
       "      <td>100</td>\n",
       "      <td>218480</td>\n",
       "      <td>0</td>\n",
       "    </tr>\n",
       "    <tr>\n",
       "      <th>2</th>\n",
       "      <td>USUM71805184</td>\n",
       "      <td>3AISCGqWZmb6UPxoYrXaA9</td>\n",
       "      <td>Better Now</td>\n",
       "      <td>Post Malone</td>\n",
       "      <td>145.051</td>\n",
       "      <td>0.579</td>\n",
       "      <td>0.686</td>\n",
       "      <td>-5.813</td>\n",
       "      <td>0.352</td>\n",
       "      <td>0.334</td>\n",
       "      <td>0.0442</td>\n",
       "      <td>0.000000</td>\n",
       "      <td>10</td>\n",
       "      <td>0.1350</td>\n",
       "      <td>4</td>\n",
       "      <td>1</td>\n",
       "      <td>100</td>\n",
       "      <td>231266</td>\n",
       "      <td>0</td>\n",
       "    </tr>\n",
       "    <tr>\n",
       "      <th>5</th>\n",
       "      <td>GBARL1800368</td>\n",
       "      <td>7ef4DlsgrMEH11cDZd32M6</td>\n",
       "      <td>One Kiss (with Dua Lipa)</td>\n",
       "      <td>Calvin Harris</td>\n",
       "      <td>123.994</td>\n",
       "      <td>0.862</td>\n",
       "      <td>0.791</td>\n",
       "      <td>-3.240</td>\n",
       "      <td>0.592</td>\n",
       "      <td>0.037</td>\n",
       "      <td>0.1100</td>\n",
       "      <td>0.000022</td>\n",
       "      <td>9</td>\n",
       "      <td>0.0814</td>\n",
       "      <td>4</td>\n",
       "      <td>0</td>\n",
       "      <td>100</td>\n",
       "      <td>214846</td>\n",
       "      <td>0</td>\n",
       "    </tr>\n",
       "    <tr>\n",
       "      <th>9</th>\n",
       "      <td>USSM11706905</td>\n",
       "      <td>0ofbQMrRDsUaVKq2mGLEAb</td>\n",
       "      <td>Havana</td>\n",
       "      <td>Camila Cabello</td>\n",
       "      <td>104.992</td>\n",
       "      <td>0.517</td>\n",
       "      <td>0.768</td>\n",
       "      <td>-4.323</td>\n",
       "      <td>0.418</td>\n",
       "      <td>0.186</td>\n",
       "      <td>0.0312</td>\n",
       "      <td>0.000038</td>\n",
       "      <td>7</td>\n",
       "      <td>0.1040</td>\n",
       "      <td>4</td>\n",
       "      <td>0</td>\n",
       "      <td>100</td>\n",
       "      <td>216896</td>\n",
       "      <td>0</td>\n",
       "    </tr>\n",
       "    <tr>\n",
       "      <th>10</th>\n",
       "      <td>USUG11800208</td>\n",
       "      <td>3ee8Jmje8o58CHK66QrVC2</td>\n",
       "      <td>SAD!</td>\n",
       "      <td>XXXTENTACION</td>\n",
       "      <td>75.023</td>\n",
       "      <td>0.613</td>\n",
       "      <td>0.740</td>\n",
       "      <td>-4.880</td>\n",
       "      <td>0.473</td>\n",
       "      <td>0.258</td>\n",
       "      <td>0.1450</td>\n",
       "      <td>0.003720</td>\n",
       "      <td>8</td>\n",
       "      <td>0.1230</td>\n",
       "      <td>4</td>\n",
       "      <td>1</td>\n",
       "      <td>100</td>\n",
       "      <td>166605</td>\n",
       "      <td>0</td>\n",
       "    </tr>\n",
       "  </tbody>\n",
       "</table>\n",
       "</div>"
      ],
      "text/plain": [
       "            ISRC              SPOTIFY_ID                     TITLE  \\\n",
       "1   USUM71710097  29VZKgZvAjFRxxBnctjqOn                  rockstar   \n",
       "2   USUM71805184  3AISCGqWZmb6UPxoYrXaA9                Better Now   \n",
       "5   GBARL1800368  7ef4DlsgrMEH11cDZd32M6  One Kiss (with Dua Lipa)   \n",
       "9   USSM11706905  0ofbQMrRDsUaVKq2mGLEAb                    Havana   \n",
       "10  USUG11800208  3ee8Jmje8o58CHK66QrVC2                      SAD!   \n",
       "\n",
       "            ARTIST    TEMPO  ENERGY  DANCE   LOUD  VALENCE  ACOUSTIC  \\\n",
       "1      Post Malone  159.706   0.503  0.552 -6.759    0.141     0.138   \n",
       "2      Post Malone  145.051   0.579  0.686 -5.813    0.352     0.334   \n",
       "5    Calvin Harris  123.994   0.862  0.791 -3.240    0.592     0.037   \n",
       "9   Camila Cabello  104.992   0.517  0.768 -4.323    0.418     0.186   \n",
       "10    XXXTENTACION   75.023   0.613  0.740 -4.880    0.473     0.258   \n",
       "\n",
       "    SPEECHINESS  INSTRUMENTALNESS  KEY  LIVENESS  TIME_SIGNATURE  MODE  POP  \\\n",
       "1        0.1450          0.000555    5    0.1430               4     0  100   \n",
       "2        0.0442          0.000000   10    0.1350               4     1  100   \n",
       "5        0.1100          0.000022    9    0.0814               4     0  100   \n",
       "9        0.0312          0.000038    7    0.1040               4     0  100   \n",
       "10       0.1450          0.003720    8    0.1230               4     1  100   \n",
       "\n",
       "    Seconds  Lean-Back  \n",
       "1    218480          0  \n",
       "2    231266          0  \n",
       "5    214846          0  \n",
       "9    216896          0  \n",
       "10   166605          0  "
      ]
     },
     "execution_count": 60,
     "metadata": {},
     "output_type": "execute_result"
    }
   ],
   "source": [
    "full_tracks.head()"
   ]
  },
  {
   "cell_type": "code",
   "execution_count": 124,
   "metadata": {},
   "outputs": [
    {
     "data": {
      "text/plain": [
       "(616263, 19)"
      ]
     },
     "execution_count": 124,
     "metadata": {},
     "output_type": "execute_result"
    }
   ],
   "source": [
    "full_tracks.shape"
   ]
  },
  {
   "cell_type": "markdown",
   "metadata": {},
   "source": [
    "    Merge tracks with pop scores"
   ]
  },
  {
   "cell_type": "code",
   "execution_count": 70,
   "metadata": {
    "collapsed": true
   },
   "outputs": [],
   "source": [
    "popularity_score = popularity_score[popularity_score['track_id'] != 'artist']"
   ]
  },
  {
   "cell_type": "code",
   "execution_count": 88,
   "metadata": {
    "collapsed": true
   },
   "outputs": [],
   "source": [
    "popularity_score['max_popularity'] = popularity_score['max_popularity'].apply(lambda x: int(x))"
   ]
  },
  {
   "cell_type": "code",
   "execution_count": 92,
   "metadata": {
    "collapsed": true
   },
   "outputs": [],
   "source": [
    "popularity_score = popularity_score.sort_values(by='max_popularity',ascending = False)"
   ]
  },
  {
   "cell_type": "code",
   "execution_count": 94,
   "metadata": {
    "collapsed": true
   },
   "outputs": [],
   "source": [
    "popularity_score_dedup = popularity_score[popularity_score['track_id'].duplicated() == False]"
   ]
  },
  {
   "cell_type": "code",
   "execution_count": 100,
   "metadata": {
    "collapsed": true
   },
   "outputs": [],
   "source": [
    "full_data = popularity_score_dedup.merge(full_tracks, left_on = 'track_id', right_on = 'SPOTIFY_ID', how = 'inner')"
   ]
  },
  {
   "cell_type": "code",
   "execution_count": 123,
   "metadata": {},
   "outputs": [
    {
     "data": {
      "text/plain": [
       "(612405, 22)"
      ]
     },
     "execution_count": 123,
     "metadata": {},
     "output_type": "execute_result"
    }
   ],
   "source": [
    "full_data.shape"
   ]
  },
  {
   "cell_type": "code",
   "execution_count": 142,
   "metadata": {},
   "outputs": [
    {
     "data": {
      "text/plain": [
       "<matplotlib.axes._subplots.AxesSubplot at 0x18ffb0f60>"
      ]
     },
     "execution_count": 142,
     "metadata": {},
     "output_type": "execute_result"
    },
    {
     "data": {
      "image/png": "[encoded data removed]",
      "text/plain": [
       "<matplotlib.figure.Figure at 0x181dd3d30>"
      ]
     },
     "metadata": {},
     "output_type": "display_data"
    }
   ],
   "source": [
    "sns.distplot(full_data['max_popularity'], hist=True, kde=False, \n",
    "             bins=40, color = 'blue',\n",
    "             hist_kws={'edgecolor':'black'})"
   ]
  },
  {
   "cell_type": "code",
   "execution_count": 151,
   "metadata": {
    "collapsed": true
   },
   "outputs": [],
   "source": [
    "full_data[['ISRC','SPOTIFY_ID','TITLE','ARTIST']].to_csv('Clean Data/track_with_artists.csv',index = False)"
   ]
  },
  {
   "cell_type": "code",
   "execution_count": null,
   "metadata": {
    "collapsed": true
   },
   "outputs": [],
   "source": []
  }
 ],
 "metadata": {
  "kernelspec": {
   "display_name": "Python 3",
   "language": "python",
   "name": "python3"
  },
  "language_info": {
   "codemirror_mode": {
    "name": "ipython",
    "version": 3
   },
   "file_extension": ".py",
   "mimetype": "text/x-python",
   "name": "python",
   "nbconvert_exporter": "python",
   "pygments_lexer": "ipython3",
   "version": "3.6.4"
  }
 },
 "nbformat": 4,
 "nbformat_minor": 2
}
